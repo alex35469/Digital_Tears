{
 "cells": [
  {
   "cell_type": "markdown",
   "metadata": {
    "collapsed": true
   },
   "source": [
    "# 03 - Interactive Viz\n",
    "\n",
    "## Deadline\n",
    "\n",
    "Wednesday November 8th, 2017 at 11:59PM\n",
    "\n",
    "## Important Notes\n",
    "\n",
    "- Make sure you push on GitHub your Notebook with all the cells already evaluated\n",
    "- Note that maps do not render in a standard Github environment : you should export them to HTML and link them in your notebook.\n",
    "- Remember that `.csv` is not the only data format. Though they might require additional processing, some formats provide better encoding support.\n",
    "- Don't forget to add a textual description of your thought process, the assumptions you made, and the solution you plan to implement!\n",
    "- Please write all your comments in English, and use meaningful variable names in your code\n",
    "\n",
    "## Background\n",
    "\n",
    "In this homework we will be exploring interactive visualization, which is a key ingredient of many successful data visualizations (especially when it comes to infographics).\n",
    "\n",
    "Unemployment rates are major economic metrics and a matter of concern for governments around the world. Though its definition may seem straightforward at first glance (usually defined as the number of unemployed people divided by the active population), it can be tricky to define consistently. For example, one must define what exactly unemployed means : looking for a job ? Having declared their unemployment ? Currently without a job ? Should students or recent graduates be included ? We could also wonder what the active population is : everyone in an age category (e.g. `16-64`) ? Anyone interested by finding a job ? Though these questions may seem subtle, they can have a large impact on the interpretation of the results : `3%` unemployment doesn't mean much if we don't know who is included in this percentage. \n",
    "\n",
    "In this homework you will be dealing with two different datasets from the statistics offices of the European commission ([eurostat](http://ec.europa.eu/eurostat/data/database)) and the Swiss Confederation ([amstat](https://www.amstat.ch)). They provide a variety of datasets with plenty of information on many different statistics and demographics at their respective scales. Unfortunately, as is often the case is data analysis, these websites are not always straightforward to navigate. They may include a lot of obscure categories, not always be translated into your native language, have strange link structures, â€¦ Navigating this complexity is part of a data scientists' job : you will have to use a few tricks to get the right data for this homework.\n",
    "\n",
    "For the visualization part, install [Folium](https://github.com/python-visualization/folium) (*HINT*: it is not available in your standard Anaconda environment, therefore search on the Web how to install it easily!). Folium's `README` comes with very clear examples, and links to their own iPython Notebooks -- make good use of this information. For your own convenience, in this same directory you can already find two `.topojson` files, containing the geo-coordinates of \n",
    "\n",
    "- European countries (*liberal definition of EU*) (`topojson/europe.topojson.json`, [source](https://github.com/leakyMirror/map-of-europe))\n",
    "- Swiss cantons (`topojson/ch-cantons.topojson.json`) \n",
    "\n",
    "These will be used as an overlay on the Folium maps.\n",
    "\n",
    "## Assignment\n",
    "\n",
    "1. Go to the [eurostat](http://ec.europa.eu/eurostat/data/database) website and try to find a dataset that includes the european unemployment rates at a recent date.\n",
    "\n",
    "   Use this data to build a [Choropleth map](https://en.wikipedia.org/wiki/Choropleth_map) which shows the unemployment rate in Europe at a country level. Think about [the colors you use](https://carto.com/academy/courses/intermediate-design/choose-colors-1/), how you decided to [split the intervals into data classes](http://gisgeography.com/choropleth-maps-data-classification/) or which interactions you could add in order to make the visualization intuitive and expressive. Compare Switzerland's unemployment rate to that of the rest of Europe.\n",
    "\n",
    "2. Go to the [amstat](https://www.amstat.ch) website to find a dataset that includes the unemployment rates in Switzerland at a recent date.\n",
    "\n",
    "   > *HINT* Go to the `details` tab to find the raw data you need. If you do not speak French, German or Italian, think of using free translation services to navigate your way through. \n",
    "\n",
    "   Use this data to build another Choropleth map, this time showing the unemployment rate at the level of swiss cantons. Again, try to make the map as expressive as possible, and comment on the trends you observe.\n",
    "\n",
    "   The Swiss Confederation defines the rates you have just plotted as the number of people looking for a job divided by the size of the active population (scaled by 100). This is surely a valid choice, but as we discussed one could argue for a different categorization.\n",
    "\n",
    "   Copy the map you have just created, but this time don't count in your statistics people who already have a job and are looking for a new one. How do your observations change ? You can repeat this with different choices of categories to see how selecting different metrics can lead to different interpretations of the same data.\n",
    "\n",
    "3. Use the [amstat](https://www.amstat.ch) website again to find a dataset that includes the unemployment rates in Switzerland at recent date, this time making a distinction between *Swiss* and *foreign* workers.\n",
    "\n",
    "   The Economic Secretary (SECO) releases [a monthly report](https://www.seco.admin.ch/seco/fr/home/Arbeit/Arbeitslosenversicherung/arbeitslosenzahlen.html) on the state of the employment market. In the latest report (September 2017), it is noted that there is a discrepancy between the unemployment rates for *foreign* (`5.1%`) and *Swiss* (`2.2%`) workers. \n",
    "\n",
    "   Show the difference in unemployment rates between the two categories in each canton on a Choropleth map (*hint* The easy way is to show two separate maps, but can you think of something better ?). Where are the differences most visible ? Why do you think that is ?\n",
    "\n",
    "   Now let's refine the analysis by adding the differences between age groups. As you may have guessed it is nearly impossible to plot so many variables on a map. Make a bar plot, which is a better suited visualization tool for this type of multivariate data.\n",
    "\n",
    "4. *BONUS*: using the map you have just built, and the geographical information contained in it, could you give a *rough estimate* of the difference in unemployment rates between the areas divided by the [RÃ¶stigraben](https://en.wikipedia.org/wiki/R%C3%B6stigraben)?\n"
   ]
  },
  {
   "cell_type": "markdown",
   "metadata": {},
   "source": [
    "## Preliminary work"
   ]
  },
  {
   "cell_type": "code",
   "execution_count": 1,
   "metadata": {
    "collapsed": true
   },
   "outputs": [],
   "source": [
    "#Import libraries\n",
    "import os\n",
    "import pandas as pd\n",
    "import json\n",
    "import folium\n",
    "import numpy as np\n",
    "%matplotlib inline"
   ]
  },
  {
   "cell_type": "markdown",
   "metadata": {},
   "source": [
    "# Task 1 : Europe unemployment"
   ]
  },
  {
   "cell_type": "markdown",
   "metadata": {},
   "source": [
    "In task 1 by unemployment we considered the people currently without work during the reference week, and available to start work within the next two weeks (more info  [here](http://ec.europa.eu/eurostat/statistics-explained/index.php/Glossary:Unemployment)).\n",
    "\n",
    "\n",
    "\n",
    "Beginning by reading the .tsv data into a DataFrame"
   ]
  },
  {
   "cell_type": "code",
   "execution_count": 2,
   "metadata": {},
   "outputs": [
    {
     "data": {
      "text/html": [
       "<div>\n",
       "<style>\n",
       "    .dataframe thead tr:only-child th {\n",
       "        text-align: right;\n",
       "    }\n",
       "\n",
       "    .dataframe thead th {\n",
       "        text-align: left;\n",
       "    }\n",
       "\n",
       "    .dataframe tbody tr th {\n",
       "        vertical-align: top;\n",
       "    }\n",
       "</style>\n",
       "<table border=\"1\" class=\"dataframe\">\n",
       "  <thead>\n",
       "    <tr style=\"text-align: right;\">\n",
       "      <th></th>\n",
       "      <th>s_adj,age,unit,sex,geo\\time</th>\n",
       "      <th>2017M09</th>\n",
       "      <th>2017M08</th>\n",
       "      <th>2017M07</th>\n",
       "      <th>2017M06</th>\n",
       "      <th>2017M05</th>\n",
       "      <th>2017M04</th>\n",
       "      <th>2017M03</th>\n",
       "      <th>2017M02</th>\n",
       "      <th>2017M01</th>\n",
       "      <th>...</th>\n",
       "      <th>1983M10</th>\n",
       "      <th>1983M09</th>\n",
       "      <th>1983M08</th>\n",
       "      <th>1983M07</th>\n",
       "      <th>1983M06</th>\n",
       "      <th>1983M05</th>\n",
       "      <th>1983M04</th>\n",
       "      <th>1983M03</th>\n",
       "      <th>1983M02</th>\n",
       "      <th>1983M01</th>\n",
       "    </tr>\n",
       "  </thead>\n",
       "  <tbody>\n",
       "    <tr>\n",
       "      <th>0</th>\n",
       "      <td>NSA,TOTAL,PC_ACT,F,AT</td>\n",
       "      <td>:</td>\n",
       "      <td>5.2</td>\n",
       "      <td>4.4</td>\n",
       "      <td>4.9</td>\n",
       "      <td>5.1</td>\n",
       "      <td>4.7</td>\n",
       "      <td>5.4</td>\n",
       "      <td>4.9</td>\n",
       "      <td>5.3</td>\n",
       "      <td>...</td>\n",
       "      <td>:</td>\n",
       "      <td>:</td>\n",
       "      <td>:</td>\n",
       "      <td>:</td>\n",
       "      <td>:</td>\n",
       "      <td>:</td>\n",
       "      <td>:</td>\n",
       "      <td>:</td>\n",
       "      <td>:</td>\n",
       "      <td>:</td>\n",
       "    </tr>\n",
       "    <tr>\n",
       "      <th>1</th>\n",
       "      <td>NSA,TOTAL,PC_ACT,F,BE</td>\n",
       "      <td>:</td>\n",
       "      <td>7.7</td>\n",
       "      <td>7.6</td>\n",
       "      <td>6.8</td>\n",
       "      <td>6.9</td>\n",
       "      <td>7.4</td>\n",
       "      <td>8.0</td>\n",
       "      <td>8.2</td>\n",
       "      <td>7.8 b</td>\n",
       "      <td>...</td>\n",
       "      <td>:</td>\n",
       "      <td>:</td>\n",
       "      <td>:</td>\n",
       "      <td>:</td>\n",
       "      <td>:</td>\n",
       "      <td>:</td>\n",
       "      <td>:</td>\n",
       "      <td>:</td>\n",
       "      <td>:</td>\n",
       "      <td>:</td>\n",
       "    </tr>\n",
       "    <tr>\n",
       "      <th>2</th>\n",
       "      <td>NSA,TOTAL,PC_ACT,F,BG</td>\n",
       "      <td>:</td>\n",
       "      <td>5.3</td>\n",
       "      <td>5.3</td>\n",
       "      <td>5.3</td>\n",
       "      <td>5.6</td>\n",
       "      <td>6.2</td>\n",
       "      <td>6.8</td>\n",
       "      <td>7.1</td>\n",
       "      <td>7.0</td>\n",
       "      <td>...</td>\n",
       "      <td>:</td>\n",
       "      <td>:</td>\n",
       "      <td>:</td>\n",
       "      <td>:</td>\n",
       "      <td>:</td>\n",
       "      <td>:</td>\n",
       "      <td>:</td>\n",
       "      <td>:</td>\n",
       "      <td>:</td>\n",
       "      <td>:</td>\n",
       "    </tr>\n",
       "  </tbody>\n",
       "</table>\n",
       "<p>3 rows × 418 columns</p>\n",
       "</div>"
      ],
      "text/plain": [
       "  s_adj,age,unit,sex,geo\\time 2017M09  2017M08  2017M07  2017M06  2017M05   \\\n",
       "0       NSA,TOTAL,PC_ACT,F,AT       :      5.2      4.4      4.9      5.1    \n",
       "1       NSA,TOTAL,PC_ACT,F,BE       :      7.7      7.6      6.8      6.9    \n",
       "2       NSA,TOTAL,PC_ACT,F,BG       :      5.3      5.3      5.3      5.6    \n",
       "\n",
       "  2017M04  2017M03  2017M02  2017M01    ...   1983M10  1983M09  1983M08   \\\n",
       "0     4.7      5.4      4.9      5.3    ...         :        :        :    \n",
       "1     7.4      8.0      8.2     7.8 b   ...         :        :        :    \n",
       "2     6.2      6.8      7.1      7.0    ...         :        :        :    \n",
       "\n",
       "  1983M07  1983M06  1983M05  1983M04  1983M03  1983M02  1983M01  \n",
       "0       :        :        :        :        :        :       :   \n",
       "1       :        :        :        :        :        :       :   \n",
       "2       :        :        :        :        :        :       :   \n",
       "\n",
       "[3 rows x 418 columns]"
      ]
     },
     "execution_count": 2,
     "metadata": {},
     "output_type": "execute_result"
    }
   ],
   "source": [
    "urate_eur_month = r'une_rt_m.tsv'\n",
    "\n",
    "urate_eur_month_df = pd.read_table(urate_eur_month)\n",
    "urate_eur_month_df.head(3)"
   ]
  },
  {
   "cell_type": "markdown",
   "metadata": {},
   "source": [
    "For the composition of our map, we only choose a fraction of the unemployment rate data: the country names with their respective unemployment values for the month of June 2017. \n",
    "The data is seasonally averaged, exprimed in percentage of the active population (float)."
   ]
  },
  {
   "cell_type": "code",
   "execution_count": 3,
   "metadata": {
    "collapsed": true
   },
   "outputs": [],
   "source": [
    "europe_rate = urate_eur_month_df[urate_eur_month_df['s_adj,age,unit,sex,geo\\\\time'].str.startswith('SA,TOTAL,PC_ACT,T')]\n",
    "europe_rate = europe_rate[['s_adj,age,unit,sex,geo\\\\time','2017M06 ']]\n",
    "europe_rate.columns = ['Code','Rate']\n",
    "europe_rate['Rate']= europe_rate['Rate'].astype(float)"
   ]
  },
  {
   "cell_type": "markdown",
   "metadata": {},
   "source": [
    "Cleaning the names :"
   ]
  },
  {
   "cell_type": "code",
   "execution_count": 4,
   "metadata": {
    "collapsed": true
   },
   "outputs": [],
   "source": [
    "def clean_code(cname):\n",
    "    cname = cname.replace('SA,TOTAL,PC_ACT,T,','')\n",
    "    return cname    "
   ]
  },
  {
   "cell_type": "code",
   "execution_count": 5,
   "metadata": {
    "collapsed": true
   },
   "outputs": [],
   "source": [
    "europe_rate['Code'] = europe_rate['Code'].map(clean_code)"
   ]
  },
  {
   "cell_type": "code",
   "execution_count": 6,
   "metadata": {
    "collapsed": true
   },
   "outputs": [],
   "source": [
    "europe_rate = europe_rate.reset_index(drop=True)[['Code','Rate']]"
   ]
  },
  {
   "cell_type": "code",
   "execution_count": 7,
   "metadata": {
    "collapsed": true
   },
   "outputs": [],
   "source": [
    "#interesting_data.to_csv('EU_countries_2017_06.csv',encoding='UTF-8',index=False)"
   ]
  },
  {
   "cell_type": "markdown",
   "metadata": {},
   "source": [
    "Now we filter the country data, eliminating the useless countries :"
   ]
  },
  {
   "cell_type": "code",
   "execution_count": 8,
   "metadata": {},
   "outputs": [
    {
     "data": {
      "text/html": [
       "<div>\n",
       "<style>\n",
       "    .dataframe thead tr:only-child th {\n",
       "        text-align: right;\n",
       "    }\n",
       "\n",
       "    .dataframe thead th {\n",
       "        text-align: left;\n",
       "    }\n",
       "\n",
       "    .dataframe tbody tr th {\n",
       "        vertical-align: top;\n",
       "    }\n",
       "</style>\n",
       "<table border=\"1\" class=\"dataframe\">\n",
       "  <thead>\n",
       "    <tr style=\"text-align: right;\">\n",
       "      <th></th>\n",
       "      <th>Code</th>\n",
       "      <th>Rate</th>\n",
       "    </tr>\n",
       "  </thead>\n",
       "  <tbody>\n",
       "    <tr>\n",
       "      <th>0</th>\n",
       "      <td>AT</td>\n",
       "      <td>5.3</td>\n",
       "    </tr>\n",
       "    <tr>\n",
       "      <th>1</th>\n",
       "      <td>BE</td>\n",
       "      <td>7.2</td>\n",
       "    </tr>\n",
       "    <tr>\n",
       "      <th>2</th>\n",
       "      <td>BG</td>\n",
       "      <td>6.2</td>\n",
       "    </tr>\n",
       "    <tr>\n",
       "      <th>3</th>\n",
       "      <td>CY</td>\n",
       "      <td>10.9</td>\n",
       "    </tr>\n",
       "    <tr>\n",
       "      <th>4</th>\n",
       "      <td>CZ</td>\n",
       "      <td>2.9</td>\n",
       "    </tr>\n",
       "  </tbody>\n",
       "</table>\n",
       "</div>"
      ],
      "text/plain": [
       "  Code  Rate\n",
       "0   AT   5.3\n",
       "1   BE   7.2\n",
       "2   BG   6.2\n",
       "3   CY  10.9\n",
       "4   CZ   2.9"
      ]
     },
     "execution_count": 8,
     "metadata": {},
     "output_type": "execute_result"
    }
   ],
   "source": [
    "filter_eur= europe_rate['Code'].str.startswith(('EU','EA','US','JP')).map(lambda x : not x)\n",
    "europe_rate = europe_rate[filter_eur]\n",
    "europe_rate.head()"
   ]
  },
  {
   "cell_type": "markdown",
   "metadata": {},
   "source": [
    "We load here the geojson file"
   ]
  },
  {
   "cell_type": "code",
   "execution_count": 9,
   "metadata": {
    "collapsed": true
   },
   "outputs": [],
   "source": [
    "europe_countries_path = r'./geojson/europe.geojson.json'\n",
    "geo_json_europe = json.load(open(europe_countries_path))"
   ]
  },
  {
   "cell_type": "markdown",
   "metadata": {},
   "source": [
    "Before starting with the Europe map, we will just render the full names of the countries on our Dataframe. To proceed, we are helped by the glossary of the country codes on eurostat website : http://ec.europa.eu/eurostat/statistics-explained/index.php/Glossary:Country_codes"
   ]
  },
  {
   "cell_type": "code",
   "execution_count": 10,
   "metadata": {},
   "outputs": [
    {
     "data": {
      "text/html": [
       "<div>\n",
       "<style>\n",
       "    .dataframe thead tr:only-child th {\n",
       "        text-align: right;\n",
       "    }\n",
       "\n",
       "    .dataframe thead th {\n",
       "        text-align: left;\n",
       "    }\n",
       "\n",
       "    .dataframe tbody tr th {\n",
       "        vertical-align: top;\n",
       "    }\n",
       "</style>\n",
       "<table border=\"1\" class=\"dataframe\">\n",
       "  <thead>\n",
       "    <tr style=\"text-align: right;\">\n",
       "      <th></th>\n",
       "      <th>Code</th>\n",
       "      <th>Rate</th>\n",
       "      <th>Country</th>\n",
       "    </tr>\n",
       "  </thead>\n",
       "  <tbody>\n",
       "    <tr>\n",
       "      <th>0</th>\n",
       "      <td>AT</td>\n",
       "      <td>5.3</td>\n",
       "      <td>Austria</td>\n",
       "    </tr>\n",
       "    <tr>\n",
       "      <th>1</th>\n",
       "      <td>BE</td>\n",
       "      <td>7.2</td>\n",
       "      <td>Belgium</td>\n",
       "    </tr>\n",
       "    <tr>\n",
       "      <th>2</th>\n",
       "      <td>BG</td>\n",
       "      <td>6.2</td>\n",
       "      <td>Bulgaria</td>\n",
       "    </tr>\n",
       "    <tr>\n",
       "      <th>3</th>\n",
       "      <td>CY</td>\n",
       "      <td>10.9</td>\n",
       "      <td>Cyprus</td>\n",
       "    </tr>\n",
       "    <tr>\n",
       "      <th>4</th>\n",
       "      <td>CZ</td>\n",
       "      <td>2.9</td>\n",
       "      <td>Czech Republic</td>\n",
       "    </tr>\n",
       "  </tbody>\n",
       "</table>\n",
       "</div>"
      ],
      "text/plain": [
       "  Code  Rate         Country\n",
       "0   AT   5.3         Austria\n",
       "1   BE   7.2         Belgium\n",
       "2   BG   6.2        Bulgaria\n",
       "3   CY  10.9          Cyprus\n",
       "4   CZ   2.9  Czech Republic"
      ]
     },
     "execution_count": 10,
     "metadata": {},
     "output_type": "execute_result"
    }
   ],
   "source": [
    "\n",
    "#We create a map from the ISO2 to the full country names \n",
    "full_countries_mapper = {geo_json_europe['features'][i]['properties']['ISO2'] : geo_json_europe['features'][i]['properties']['NAME'] for i in range(len(geo_json_europe['features']))}\n",
    "\n",
    "\n",
    "#Handeling special cases\n",
    "full_countries_mapper[\"EL\"] = \"Greece\"\n",
    "full_countries_mapper[\"UK\"] = \"United Kingdom\"\n",
    "\n",
    "europe_rate['Country'] = europe_rate['Code'].map(lambda c : full_countries_mapper[c])\n",
    "europe_rate.head()"
   ]
  },
  {
   "cell_type": "markdown",
   "metadata": {},
   "source": [
    "We choosed the city of Radom, Poland, as the center of our Europe map."
   ]
  },
  {
   "cell_type": "code",
   "execution_count": 11,
   "metadata": {
    "collapsed": true
   },
   "outputs": [],
   "source": [
    "radom = [51.4172,21.1562]\n",
    "europe = folium.Map(radom, tiles='cartodbpositron', zoom_start=4)"
   ]
  },
  {
   "cell_type": "markdown",
   "metadata": {},
   "source": [
    "We can now define a Choropleth representation on the Europe map with the unemployment data obtained before."
   ]
  },
  {
   "cell_type": "code",
   "execution_count": 12,
   "metadata": {
    "collapsed": true,
    "scrolled": false
   },
   "outputs": [],
   "source": [
    "europe.choropleth(\n",
    "    geo_data=geo_json_europe,\n",
    "    data=europe_rate,\n",
    "    columns=['Country','Rate'],\n",
    "    key_on='feature.properties.NAME',\n",
    "    fill_color='OrRd',\n",
    "    fill_opacity=0.7,\n",
    "    line_opacity=0.2,\n",
    "    legend_name='Percentage of active population that is unemployed (%)',\n",
    ")\n",
    "\n",
    "europe.save(\"Europe_Unemployement_rate.html\")"
   ]
  },
  {
   "cell_type": "markdown",
   "metadata": {},
   "source": [
    "The countries in the south of Europe hav more unemployement than the others. We also clearly see two outliers in Europe, namely Spain and Greece where the economy is pretty bad."
   ]
  },
  {
   "cell_type": "markdown",
   "metadata": {},
   "source": [
    "The countries from which we couldn't retrieve the data are in the lightest color of orange and are the following ones:"
   ]
  },
  {
   "cell_type": "code",
   "execution_count": 13,
   "metadata": {},
   "outputs": [
    {
     "data": {
      "text/plain": [
       "{'Albania',\n",
       " 'Andorra',\n",
       " 'Armenia',\n",
       " 'Azerbaijan',\n",
       " 'Belarus',\n",
       " 'Bosnia and Herzegovina',\n",
       " 'Faroe Islands',\n",
       " 'Georgia',\n",
       " 'Holy See (Vatican City)',\n",
       " 'Israel',\n",
       " 'Liechtenstein',\n",
       " 'Monaco',\n",
       " 'Montenegro',\n",
       " 'Republic of Moldova',\n",
       " 'Russia',\n",
       " 'San Marino',\n",
       " 'Serbia',\n",
       " 'Switzerland',\n",
       " 'The former Yugoslav Republic of Macedonia',\n",
       " 'Ukraine'}"
      ]
     },
     "execution_count": 13,
     "metadata": {},
     "output_type": "execute_result"
    }
   ],
   "source": [
    "set(full_countries_mapper.values()) - set(europe_rate['Country'])"
   ]
  },
  {
   "cell_type": "code",
   "execution_count": null,
   "metadata": {
    "collapsed": true
   },
   "outputs": [],
   "source": []
  },
  {
   "cell_type": "markdown",
   "metadata": {},
   "source": [
    "# Task 2 : Swiss unemployment\n",
    "\n",
    "\n",
    "For the two following tasks, we considered unemployment as \"taux de chômage\" in [amstat](https://www.amstat.ch), meaning it only count the people that are unemployed, not the people that are working and also seeking for a job. This choice because we considered that it was more representative of the term unemployment. For us a job seeker is not an unemployed person"
   ]
  },
  {
   "cell_type": "code",
   "execution_count": 14,
   "metadata": {
    "collapsed": true
   },
   "outputs": [],
   "source": [
    "swiss_all_rate = pd.read_excel('un_rate_ch.xlsx')"
   ]
  },
  {
   "cell_type": "markdown",
   "metadata": {},
   "source": [
    "Here is a dict that maps the cantons' names in french to their code"
   ]
  },
  {
   "cell_type": "code",
   "execution_count": 15,
   "metadata": {
    "collapsed": true
   },
   "outputs": [],
   "source": [
    "cantons_map = {\n",
    "    'Zurich' : 'ZH',\n",
    "    'Berne' : 'BE',\n",
    "    'Lucerne' : 'LU',\n",
    "    'Uri' : 'UR',\n",
    "    'Schwyz' : 'SZ',\n",
    "    'Obwald' : 'OW',\n",
    "    'Nidwald' : 'NW',\n",
    "    'Glaris' : 'GL',\n",
    "    'Zoug' : 'ZG',\n",
    "    'Fribourg' : 'FR',\n",
    "    'Soleure' : 'SO',\n",
    "    'Bâle-Ville' : 'BS',\n",
    "    'Bâle-Campagne' : 'BL',\n",
    "    'Schaffhouse' : 'SH',\n",
    "    'Appenzell Rhodes-Extérieures' : 'AR',\n",
    "    'Appenzell Rhodes-Intérieures' : 'AI',\n",
    "    'St-Gall' : 'SG',\n",
    "    'Grisons' : 'GR',\n",
    "    'Argovie' : 'AG',\n",
    "    'Thurgovie' : 'TG',\n",
    "    'Tessin' : 'TI',\n",
    "    'Vaud' : 'VD',\n",
    "    'Valais': 'VS',\n",
    "    'Neuchâtel' : 'NE',\n",
    "    'Genève' : 'GE',\n",
    "    'Jura' : 'JU'\n",
    "}"
   ]
  },
  {
   "cell_type": "code",
   "execution_count": 16,
   "metadata": {},
   "outputs": [
    {
     "data": {
      "text/html": [
       "<div>\n",
       "<style>\n",
       "    .dataframe thead tr:only-child th {\n",
       "        text-align: right;\n",
       "    }\n",
       "\n",
       "    .dataframe thead th {\n",
       "        text-align: left;\n",
       "    }\n",
       "\n",
       "    .dataframe tbody tr th {\n",
       "        vertical-align: top;\n",
       "    }\n",
       "</style>\n",
       "<table border=\"1\" class=\"dataframe\">\n",
       "  <thead>\n",
       "    <tr style=\"text-align: right;\">\n",
       "      <th></th>\n",
       "      <th>Canton</th>\n",
       "      <th>Rate</th>\n",
       "      <th>Code</th>\n",
       "    </tr>\n",
       "  </thead>\n",
       "  <tbody>\n",
       "    <tr>\n",
       "      <th>0</th>\n",
       "      <td>Zurich</td>\n",
       "      <td>3.3</td>\n",
       "      <td>ZH</td>\n",
       "    </tr>\n",
       "    <tr>\n",
       "      <th>1</th>\n",
       "      <td>Berne</td>\n",
       "      <td>2.4</td>\n",
       "      <td>BE</td>\n",
       "    </tr>\n",
       "    <tr>\n",
       "      <th>2</th>\n",
       "      <td>Lucerne</td>\n",
       "      <td>1.7</td>\n",
       "      <td>LU</td>\n",
       "    </tr>\n",
       "    <tr>\n",
       "      <th>3</th>\n",
       "      <td>Uri</td>\n",
       "      <td>0.6</td>\n",
       "      <td>UR</td>\n",
       "    </tr>\n",
       "    <tr>\n",
       "      <th>4</th>\n",
       "      <td>Schwyz</td>\n",
       "      <td>1.7</td>\n",
       "      <td>SZ</td>\n",
       "    </tr>\n",
       "  </tbody>\n",
       "</table>\n",
       "</div>"
      ],
      "text/plain": [
       "    Canton  Rate Code\n",
       "0   Zurich   3.3   ZH\n",
       "1    Berne   2.4   BE\n",
       "2  Lucerne   1.7   LU\n",
       "3      Uri   0.6   UR\n",
       "4   Schwyz   1.7   SZ"
      ]
     },
     "execution_count": 16,
     "metadata": {},
     "output_type": "execute_result"
    }
   ],
   "source": [
    "swiss_all_rate = swiss_all_rate.iloc[:,[0,18]]\n",
    "swiss_all_rate = swiss_all_rate.drop([0,1,2,29])\n",
    "swiss_all_rate = swiss_all_rate.reset_index(drop=True)\n",
    "swiss_all_rate.columns = ['Canton','Rate']\n",
    "swiss_all_rate['Rate'] = swiss_all_rate['Rate'].astype(float)\n",
    "swiss_all_rate['Code'] = swiss_all_rate['Canton'].map(lambda c : cantons_map[c])\n",
    "swiss_all_rate.head()"
   ]
  },
  {
   "cell_type": "code",
   "execution_count": 17,
   "metadata": {
    "collapsed": true
   },
   "outputs": [],
   "source": [
    "swiss_cantons_path = r'./topojson/ch-cantons.topojson.json'\n",
    "swiss_cantons_topo = json.load(open(swiss_cantons_path))"
   ]
  },
  {
   "cell_type": "markdown",
   "metadata": {},
   "source": [
    "Creating the Switzerland map"
   ]
  },
  {
   "cell_type": "code",
   "execution_count": 18,
   "metadata": {
    "collapsed": true
   },
   "outputs": [],
   "source": [
    "ch = [46.8, 8.3]\n",
    "switzerland_all = folium.Map(ch, tiles='cartodbpositron', zoom_start=8)"
   ]
  },
  {
   "cell_type": "code",
   "execution_count": 19,
   "metadata": {
    "collapsed": true
   },
   "outputs": [],
   "source": [
    "switzerland_all.choropleth(\n",
    "    geo_data=swiss_cantons_topo,\n",
    "    data=swiss_all_rate,\n",
    "    columns=['Code','Rate'],\n",
    "    key_on='id',\n",
    "    fill_color='OrRd',\n",
    "    fill_opacity=0.7,\n",
    "    line_opacity=0.2,\n",
    "    legend_name='Percentage of active population that is unemployed (%)',\n",
    "    topojson='objects.cantons'\n",
    ")\n",
    "switzerland_all.save(\"Switerland_Unemployment_rate.html\")"
   ]
  },
  {
   "cell_type": "markdown",
   "metadata": {},
   "source": [
    "We see that the unemployment rate is higher for french speaking part of Switzerland, most cantons that are west of the Röstigraben have an rate of at least 3.7%"
   ]
  },
  {
   "cell_type": "code",
   "execution_count": 20,
   "metadata": {
    "collapsed": true
   },
   "outputs": [],
   "source": [
    "#to save\n",
    "#map_osm.save('/tmp/map.html')"
   ]
  },
  {
   "cell_type": "markdown",
   "metadata": {},
   "source": [
    "# Task 3: Swiss vs. foreigners"
   ]
  },
  {
   "cell_type": "markdown",
   "metadata": {},
   "source": [
    "We get the data that we download in amstat website, "
   ]
  },
  {
   "cell_type": "code",
   "execution_count": 21,
   "metadata": {
    "collapsed": true
   },
   "outputs": [],
   "source": [
    "swiss_by_nat_path = 'taux_chomage_nationalite.xlsx'\n",
    "swiss_by_nat_rate = pd.read_excel(swiss_by_nat_path, header=0)[0:-1]"
   ]
  },
  {
   "cell_type": "markdown",
   "metadata": {},
   "source": [
    "Putting the code for each canton (Geneve -> GE, Vaud -> VD, ...)"
   ]
  },
  {
   "cell_type": "code",
   "execution_count": 22,
   "metadata": {
    "collapsed": true
   },
   "outputs": [],
   "source": [
    "swiss_by_nat_rate['Code'] = swiss_by_nat_rate['Canton'].map(lambda c: cantons_map[c])"
   ]
  },
  {
   "cell_type": "markdown",
   "metadata": {},
   "source": [
    "Getting two dataframes, one for each kind of nationality"
   ]
  },
  {
   "cell_type": "code",
   "execution_count": 23,
   "metadata": {
    "collapsed": true
   },
   "outputs": [],
   "source": [
    "swiss_by_nat_rate_gb = swiss_by_nat_rate.groupby(by=['Nationalité'])\n",
    "foreigners_rate = swiss_by_nat_rate_gb.get_group('Etrangers')\n",
    "swiss_rate = swiss_by_nat_rate_gb.get_group('Suisses')"
   ]
  },
  {
   "cell_type": "code",
   "execution_count": 24,
   "metadata": {
    "collapsed": true
   },
   "outputs": [],
   "source": [
    "switzerland_foreigners = folium.Map(ch, tiles='cartodbpositron', zoom_start=8)\n",
    "switzerland_swiss = folium.Map(ch, tiles='cartodbpositron', zoom_start=8)"
   ]
  },
  {
   "cell_type": "markdown",
   "metadata": {},
   "source": [
    "We want to use the same scale for both maps, so that we can compare them. Therefore we create this list which goes from the minimum value of the swiss rate, and the maximum value of the foreigners rate."
   ]
  },
  {
   "cell_type": "code",
   "execution_count": 25,
   "metadata": {
    "collapsed": true
   },
   "outputs": [],
   "source": [
    "scale = list(np.linspace(swiss_rate['Taux de chômage'].min(), foreigners_rate['Taux de chômage'].max(), 6))"
   ]
  },
  {
   "cell_type": "code",
   "execution_count": 26,
   "metadata": {
    "collapsed": true
   },
   "outputs": [],
   "source": [
    "switzerland_foreigners.choropleth(\n",
    "    geo_data=swiss_cantons_topo,\n",
    "    data=foreigners_rate,\n",
    "    columns=['Code', 'Taux de chômage'],\n",
    "    key_on='id',    \n",
    "    fill_color='OrRd',\n",
    "    fill_opacity=0.7,\n",
    "    line_opacity=0.2,\n",
    "    legend_name='Percentage of foreign population that is unemployed (%)',\n",
    "    threshold_scale=scale,\n",
    "    topojson='objects.cantons'\n",
    ")\n",
    "\n",
    "switzerland_foreigners.save(\"Switzerland_foreigners_Unemployment_rate.html\")"
   ]
  },
  {
   "cell_type": "code",
   "execution_count": 27,
   "metadata": {
    "collapsed": true
   },
   "outputs": [],
   "source": [
    "switzerland_swiss.choropleth(\n",
    "    geo_data=swiss_cantons_topo,\n",
    "    data=swiss_rate,\n",
    "    columns=['Code', 'Taux de chômage'],\n",
    "    key_on='id',    \n",
    "    fill_color='OrRd',\n",
    "    fill_opacity=0.7,\n",
    "    line_opacity=0.2,\n",
    "    legend_name='Percentage of swiss population that is unemployed (%)',\n",
    "    threshold_scale=scale,\n",
    "    topojson='objects.cantons'\n",
    ")\n",
    "\n",
    "switzerland_swiss#.save(\"Switzerland_swiss_Unemployment_rate.html\")"
   ]
  },
  {
   "cell_type": "markdown",
   "metadata": {},
   "source": [
    "From both of the two maps, we can conclude that the german part of switzerland has a better ratio regarding both the foreigners and the swiss.\n",
    "\n",
    "\n",
    "\n",
    "However, we reckon that it's not very easy to compare the two maps. Therefore, we decided to show the data into another shape. Bellow, we plot for each canton two bars representing in blue the ratio of unemployment foreigners and in orange the swiss one."
   ]
  },
  {
   "cell_type": "code",
   "execution_count": 28,
   "metadata": {
    "scrolled": false
   },
   "outputs": [
    {
     "data": {
      "text/plain": [
       "<matplotlib.axes._subplots.AxesSubplot at 0x1194d6710>"
      ]
     },
     "execution_count": 28,
     "metadata": {},
     "output_type": "execute_result"
    },
    {
     "data": {
      "image/png": "[encoded data removed]",
      "text/plain": [
       "<matplotlib.figure.Figure at 0x119513160>"
      ]
     },
     "metadata": {},
     "output_type": "display_data"
    }
   ],
   "source": [
    "swiss_by_nat_rate.pivot(index=\"Canton\", columns=\"Nationalité\", values=\"Taux de chômage\").plot.bar(figsize=(20, 10), title = \"Unemployment rate of Switzerland, cantons against foreigners and swiss (in %)\")"
   ]
  },
  {
   "cell_type": "markdown",
   "metadata": {},
   "source": [
    "The advantage here is that, even though we loose the geographical feeling, we can easily see that there is no canton for which the unemployement rate is lower for foreigners. We can also clearly see the extrem cases: Genva's canton is quite fair whereas Jura is less well-balanced.\n",
    "\n",
    "Based on what we just said about Jura and Geneva, we found interessting to compare the proportion between foreigners and swiss people. To be simple, which canton would be the \"fairest\" in therms of hiring foreigners. Here, to keep the geographical feeling, we show the result on a choropleth map"
   ]
  },
  {
   "cell_type": "code",
   "execution_count": 29,
   "metadata": {
    "collapsed": true
   },
   "outputs": [],
   "source": [
    "rate_compare = swiss_rate.reset_index()[[\"Canton\",\"Code\"]]\n",
    "rate_compare[\"compare\"] = foreigners_rate.reset_index()['Taux de chômage'] / (swiss_rate.reset_index()['Taux de chômage']+ foreigners_rate.reset_index()['Taux de chômage'])"
   ]
  },
  {
   "cell_type": "code",
   "execution_count": 30,
   "metadata": {
    "collapsed": true
   },
   "outputs": [],
   "source": [
    "switzerland_compare = folium.Map(ch, tiles='cartodbpositron', zoom_start=8)\n",
    "\n",
    "switzerland_compare.choropleth(\n",
    "    geo_data=swiss_cantons_topo,\n",
    "    data=rate_compare,\n",
    "    columns=['Code', 'compare'],\n",
    "    key_on='id',    \n",
    "    fill_color='OrRd',\n",
    "    fill_opacity=0.7,\n",
    "    line_opacity=0.2,\n",
    "    legend_name='factor between the rates of unemployed foreigners and swiss ',\n",
    "    topojson='objects.cantons'\n",
    ")\n",
    "\n",
    "switzerland_compare.save(\"Switzerland_compare.html\")"
   ]
  },
  {
   "cell_type": "markdown",
   "metadata": {},
   "source": [
    "This is clearly a new point of view, indeed now inner canton (Uri, Obwald, Nidwald, etc... ) are shown in darker shade of red which means the foreigners have higher unemployement rate compare to the overall unemployement in that canton"
   ]
  },
  {
   "cell_type": "markdown",
   "metadata": {},
   "source": [
    "As above, we selected on [amstat](https://www.amstat.ch), the unemployement level but this time by selecting the age classes. "
   ]
  },
  {
   "cell_type": "code",
   "execution_count": 31,
   "metadata": {
    "collapsed": true
   },
   "outputs": [],
   "source": [
    "unemp_swiss_age = pd.read_excel(\"./taux_chomage_age.xlsx\", names=[\"cantons\",\"ages\",\"unemployement_rate\"])\n",
    "unemp_swiss_age = unemp_swiss_age.pivot(index=\"cantons\", columns=\"ages\", values=\"unemployement_rate\")"
   ]
  },
  {
   "cell_type": "code",
   "execution_count": 32,
   "metadata": {},
   "outputs": [
    {
     "data": {
      "text/html": [
       "<div>\n",
       "<style>\n",
       "    .dataframe thead tr:only-child th {\n",
       "        text-align: right;\n",
       "    }\n",
       "\n",
       "    .dataframe thead th {\n",
       "        text-align: left;\n",
       "    }\n",
       "\n",
       "    .dataframe tbody tr th {\n",
       "        vertical-align: top;\n",
       "    }\n",
       "</style>\n",
       "<table border=\"1\" class=\"dataframe\">\n",
       "  <thead>\n",
       "    <tr style=\"text-align: right;\">\n",
       "      <th>ages</th>\n",
       "      <th>15-24 ans</th>\n",
       "      <th>25-49 ans</th>\n",
       "      <th>50 ans et plus</th>\n",
       "    </tr>\n",
       "    <tr>\n",
       "      <th>cantons</th>\n",
       "      <th></th>\n",
       "      <th></th>\n",
       "      <th></th>\n",
       "    </tr>\n",
       "  </thead>\n",
       "  <tbody>\n",
       "    <tr>\n",
       "      <th>Appenzell Rhodes-Extérieures</th>\n",
       "      <td>1.5</td>\n",
       "      <td>1.7</td>\n",
       "      <td>1.8</td>\n",
       "    </tr>\n",
       "    <tr>\n",
       "      <th>Appenzell Rhodes-Intérieures</th>\n",
       "      <td>1.0</td>\n",
       "      <td>0.5</td>\n",
       "      <td>0.9</td>\n",
       "    </tr>\n",
       "    <tr>\n",
       "      <th>Argovie</th>\n",
       "      <td>3.3</td>\n",
       "      <td>3.0</td>\n",
       "      <td>2.7</td>\n",
       "    </tr>\n",
       "  </tbody>\n",
       "</table>\n",
       "</div>"
      ],
      "text/plain": [
       "ages                          15-24 ans  25-49 ans  50 ans et plus\n",
       "cantons                                                           \n",
       "Appenzell Rhodes-Extérieures        1.5        1.7             1.8\n",
       "Appenzell Rhodes-Intérieures        1.0        0.5             0.9\n",
       "Argovie                             3.3        3.0             2.7"
      ]
     },
     "execution_count": 32,
     "metadata": {},
     "output_type": "execute_result"
    }
   ],
   "source": [
    "unemp_swiss_age.head(3)"
   ]
  },
  {
   "cell_type": "code",
   "execution_count": 33,
   "metadata": {},
   "outputs": [
    {
     "data": {
      "text/plain": [
       "<matplotlib.axes._subplots.AxesSubplot at 0x11d61b898>"
      ]
     },
     "execution_count": 33,
     "metadata": {},
     "output_type": "execute_result"
    },
    {
     "data": {
      "image/png": "[encoded data removed]",
      "text/plain": [
       "<matplotlib.figure.Figure at 0x11d5fcdd8>"
      ]
     },
     "metadata": {},
     "output_type": "display_data"
    }
   ],
   "source": [
    "unemp_swiss_age.plot.bar(figsize=(20, 10))"
   ]
  },
  {
   "cell_type": "markdown",
   "metadata": {},
   "source": [
    "We see that on average the older the better. However, we can see some atypical cases: Geneva's canton has a higher rate for people of 25-49 years old; Appenzell Rhodes Extérieures has a totally reversed rate."
   ]
  }
 ],
 "metadata": {
  "kernelspec": {
   "display_name": "Python [default]",
   "language": "python",
   "name": "python3"
  },
  "language_info": {
   "codemirror_mode": {
    "name": "ipython",
    "version": 3
   },
   "file_extension": ".py",
   "mimetype": "text/x-python",
   "name": "python",
   "nbconvert_exporter": "python",
   "pygments_lexer": "ipython3",
   "version": "3.5.4"
  }
 },
 "nbformat": 4,
 "nbformat_minor": 2
}
