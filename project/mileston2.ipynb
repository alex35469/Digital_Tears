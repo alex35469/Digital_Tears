{
 "cells": [
  {
   "cell_type": "markdown",
   "metadata": {},
   "source": [
    "# ADA Project : Milestone 2 Notebook"
   ]
  },
  {
   "cell_type": "markdown",
   "metadata": {},
   "source": [
    "In this notebook, we will introduce you to the dataset that we chose by locally importing a part of in, and store it in a dataframe. Hence, we will be able to have an insight on the work that we will perform on the full dataset."
   ]
  },
  {
   "cell_type": "code",
   "execution_count": 565,
   "metadata": {
    "collapsed": true
   },
   "outputs": [],
   "source": [
    "import json\n",
    "import re\n",
    "from pyspark.sql import *\n",
    "from pyspark import SparkContext, SQLContext"
   ]
  },
  {
   "cell_type": "markdown",
   "metadata": {},
   "source": [
    "## 1. Twitter dataset data collection, from cluster to dataframe\n",
    "\n",
    "In this section, we will make some operation with the help of Spark, to access, filter and export the useful tweets from the cluster to our computer."
   ]
  },
  {
   "cell_type": "markdown",
   "metadata": {},
   "source": [
    "### A few words about what we noticed for our dataset \n",
    "\n",
    "First, the twitter dataset starts from year 2012.\n",
    "In the date section, the hour has been scaled, so that the tweet time is always relative to GMT+00. This will be of use when we will relate tweet dates and times with the Wikipedia dataframe."
   ]
  },
  {
   "cell_type": "markdown",
   "metadata": {},
   "source": [
    "### 1.1 Filtering the useful tweets\n",
    "\n",
    "We start by declaring the Spark Context in order to make the link with the cluster. With Spark installed locally, we are able to query the cluster directly in the notebook."
   ]
  },
  {
   "cell_type": "code",
   "execution_count": 566,
   "metadata": {
    "collapsed": true
   },
   "outputs": [],
   "source": [
    "sc = SparkContext()"
   ]
  },
  {
   "cell_type": "code",
   "execution_count": 567,
   "metadata": {
    "collapsed": true
   },
   "outputs": [],
   "source": [
    "text_file = sc.textFile(\"hdfs:///datasets/tweets-leon\")"
   ]
  },
  {
   "cell_type": "markdown",
   "metadata": {},
   "source": [
    "The idea of our filter is that we want to work with data that is already highly focused on our subject : terrorist  attacks. For the Milestone 2, we implemented a filter that considered different languages. Following the feedback from the TAs, we decided to stick with only English as the language of the tweets and the keywords, to go back to a **more simple, but more precise filter**. When a tweet is passed through the filter, we will compute the tweet score depending on its content and, if the score is high enough, select the tweet to be part of our dataframe. "
   ]
  },
  {
   "cell_type": "markdown",
   "metadata": {},
   "source": [
    "**We define below a few helper functions that will be used for our inition filter :** \n",
    "\n"
   ]
  },
  {
   "cell_type": "markdown",
   "metadata": {},
   "source": [
    "This function is the heart of the filter. Five lists are detailed, representing words of different importance. "
   ]
  },
  {
   "cell_type": "code",
   "execution_count": 568,
   "metadata": {
    "collapsed": true
   },
   "outputs": [],
   "source": [
    "def words_to_match():\n",
    "    \n",
    "\n",
    "    language = 'en'\n",
    "    \n",
    "    t1 = ['terror attack', 'terrorist attack','suicide bombing','mass shooting']\n",
    "\n",
    "\n",
    "\n",
    "    t2 = ['suicide bomber','car bombing','drone bombing','mass execution','improvised explosive device','truck bomb','grenade attack','train bombing']\n",
    "\n",
    "\n",
    "    t3 = [' ied', 'hijacking','genocide','bomb attack','vehicule attack','assasination','terrorism','weapon','knife','assault rifle','dead','deaths','died','injured','kill','plant','drive-by shooting','hostage','execution']\n",
    "\n",
    "\n",
    "    hashtag = ['#prayfor','#terrorism','#terrorists','#terrorattack']\n",
    "\n",
    "    malus_list = ['years ago','year ago', 'months ago','month ago','anniversary']\n",
    "    \n",
    "    l = [t1,t2,t3,hashtag,malus_list]\n",
    "    \n",
    "    return l"
   ]
  },
  {
   "cell_type": "markdown",
   "metadata": {},
   "source": [
    "The below function computes the importance of a tweet by assigning specific weights to every tweet. The assignment is done by iterating on all interesting words, looking whether they occur in the tweet content. According to the word's affiliation to one of the lists, different weight are incremented. If the total weight of the tweet reaches the threshold value (here 1.0), the filter returns True."
   ]
  },
  {
   "cell_type": "code",
   "execution_count": 569,
   "metadata": {
    "collapsed": true
   },
   "outputs": [],
   "source": [
    "def is_interesting(content,l):\n",
    "    \n",
    "    content = content.lower()\n",
    "    \n",
    "    lang = content[:2]\n",
    "    \n",
    "    \n",
    "    weight=0.0\n",
    "    \n",
    "    \n",
    "    \n",
    "    for w in l[0]:\n",
    "        if w in content:\n",
    "            weight+=1.0\n",
    "\n",
    "    for w in l[1]:\n",
    "        if w in content:\n",
    "            weight+=0.9\n",
    "\n",
    "    for w in l[2]:\n",
    "        if w in content:\n",
    "            weight+=0.1\n",
    "             \n",
    "    for w in l[3]:\n",
    "        if w in content:\n",
    "            weight+=0.7\n",
    "            \n",
    "            \n",
    "    for w in l[3]:\n",
    "        if w in content:\n",
    "            weight-=0.5\n",
    "    \n",
    "    return (weight >= 1)\n",
    "    "
   ]
  },
  {
   "cell_type": "markdown",
   "metadata": {},
   "source": [
    "We declare the variable `bds` to be the three filtering dictionnaries. It will serve as an input of our filtering function."
   ]
  },
  {
   "cell_type": "code",
   "execution_count": 570,
   "metadata": {
    "collapsed": true
   },
   "outputs": [],
   "source": [
    "bds = words_to_match()"
   ]
  },
  {
   "cell_type": "markdown",
   "metadata": {},
   "source": [
    "Next, we actually call spark by filtering the data in the cluster with our filter, to then take a subset of defined size. We proceed to write it to a text file for later use."
   ]
  },
  {
   "cell_type": "code",
   "execution_count": 10,
   "metadata": {
    "collapsed": true
   },
   "outputs": [],
   "source": [
    "terrorism = text_file.filter(lambda t: is_interesting(t,bds)).take(10)"
   ]
  },
  {
   "cell_type": "code",
   "execution_count": 30,
   "metadata": {
    "collapsed": true
   },
   "outputs": [],
   "source": [
    "file_t = open('tweets_terror3.txt','w')\n",
    "for item in terrorism:\n",
    "    file_t.write(\"%s\\n\" % item)"
   ]
  },
  {
   "cell_type": "code",
   "execution_count": 21,
   "metadata": {},
   "outputs": [
    {
     "data": {
      "text/plain": [
       "['fr\\t345963978092072960\\tSat Jun 15 18:00:14 +0000 2013\\tKazdaliMaaradj\\tPakistan: un double-attentat à la bombe à Quetta (sud-ouest) fait au moins 23 morts (nouveau bilan des autorités locales)',\n",
       " 'en\\t345964011382259712\\tSat Jun 15 18:00:22 +0000 2013\\tSumairaALi4\\t#BLA needs to be targetted in INDIA and UK. ISI should get in motion as were in 80s #JudicialTerrorism',\n",
       " 'en\\t345964045007978497\\tSat Jun 15 18:00:30 +0000 2013\\tMonotheist_\\tUnrest in Baluchistan. BLA terrorism there. Baluch demand justice. Foreign and local intelligence are involved. No one dares to anyone',\n",
       " 'es\\t345964057632837632\\tSat Jun 15 18:00:33 +0000 2013\\texodo3013\\t@akatsuky1000 quien ayudo a librar al pueblo de Libia del terrorista #1 en el mundo Omar K  que masacraba a su pueblo con aviones de guerra',\n",
       " 'es\\t345964070274482176\\tSat Jun 15 18:00:36 +0000 2013\\tCesar_Soto_16\\tCon Los Terroristas - Alianza Metal 1°H: http://t.co/SDT9qzSVHz vía @YouTube']"
      ]
     },
     "execution_count": 21,
     "metadata": {},
     "output_type": "execute_result"
    }
   ],
   "source": [
    "terrorism[:5]"
   ]
  },
  {
   "cell_type": "markdown",
   "metadata": {},
   "source": [
    "### Handling the filtered tweets\n",
    "\n",
    "#### Some issues we encountered:\n",
    "\n",
    "1)    Tweets can countain retweet so many times the same tweet can appear with a retweet identification: RT @<username>\n",
    "    - Resolved by adding Frequency parameter for tweet that has been retweet \n",
    "    - Even tough we separeted the tweet from the retweet some of the tweets appears many time without the Retweet identification. It is still important to distinguish them and not count them many times since we reckon that simply copying a message or retweeting a message has less significance than creating it.\n",
    "    \n",
    "2)    Even if we remove the retweet, some tweets are still the same but have not the same length which can lead to count separetly the same tweet\n",
    "    - Resolved by putting a fixed max length to all tweet\n",
    "    - Or by testing if a string is in another (Complicated solution not adopted)\n",
    "\n",
    "3) Even tough 2) : seems that some tweets are still the same except for an http// lin. \n",
    "    - Partially solved by removing the http// field \n",
    "    - Or solved by sorting and considering that tweets beginning with the same MAX_LENGTH number of letters are the same\n",
    "    \n",
    "  4) Now still some tweets look the same except they have different #tags or some letters change example: \n",
    "  \n",
    "    1) #journals #news - Catherine Ashton's strong condemnation of terrorist attack on Camp Liber  #Salisbury #google #heal\n",
    "    \n",
    "    2)#journals #news - Catherine Ashton's strong condemnation of terrorist attack on Camp Liberty #AP #BBC #reuters #wor\n",
    "\n",
    "    We consider to not count them the same because the author was more imply and not just simply copy cutting the tweet"
   ]
  },
  {
   "cell_type": "code",
   "execution_count": 571,
   "metadata": {
    "collapsed": true
   },
   "outputs": [],
   "source": [
    "import pandas as pd\n",
    "from dateutil.parser import parse\n",
    "import csv"
   ]
  },
  {
   "cell_type": "code",
   "execution_count": 572,
   "metadata": {
    "collapsed": true
   },
   "outputs": [],
   "source": [
    "# Read the filtered tweets from the .txt files\n",
    "tweets_raw = pd.read_csv(delimiter=\"\\t\",filepath_or_buffer='tweets_terr.txt', names=[\"lan\",\"id\",\"date\", \"user_name\", \"content\"],encoding='utf-8',quoting=csv.QUOTE_NONE)"
   ]
  },
  {
   "cell_type": "code",
   "execution_count": 573,
   "metadata": {},
   "outputs": [
    {
     "data": {
      "text/html": [
       "<div>\n",
       "<style>\n",
       "    .dataframe thead tr:only-child th {\n",
       "        text-align: right;\n",
       "    }\n",
       "\n",
       "    .dataframe thead th {\n",
       "        text-align: left;\n",
       "    }\n",
       "\n",
       "    .dataframe tbody tr th {\n",
       "        vertical-align: top;\n",
       "    }\n",
       "</style>\n",
       "<table border=\"1\" class=\"dataframe\">\n",
       "  <thead>\n",
       "    <tr style=\"text-align: right;\">\n",
       "      <th></th>\n",
       "      <th>lan</th>\n",
       "      <th>id</th>\n",
       "      <th>date</th>\n",
       "      <th>user_name</th>\n",
       "      <th>content</th>\n",
       "    </tr>\n",
       "  </thead>\n",
       "  <tbody>\n",
       "    <tr>\n",
       "      <th>0</th>\n",
       "      <td>en</td>\n",
       "      <td>3.459658e+17</td>\n",
       "      <td>Sat Jun 15 18:07:17 +0000 2013</td>\n",
       "      <td>SangyeH</td>\n",
       "      <td>RT @AnnieSage: Unbelievable.... @thinkprogress...</td>\n",
       "    </tr>\n",
       "    <tr>\n",
       "      <th>1</th>\n",
       "      <td>en</td>\n",
       "      <td>3.459658e+17</td>\n",
       "      <td>Sat Jun 15 18:07:27 +0000 2013</td>\n",
       "      <td>SR_Brant</td>\n",
       "      <td>RT @AnnieSage: Unbelievable.... @thinkprogress...</td>\n",
       "    </tr>\n",
       "    <tr>\n",
       "      <th>2</th>\n",
       "      <td>en</td>\n",
       "      <td>3.459683e+17</td>\n",
       "      <td>Sat Jun 15 18:17:35 +0000 2013</td>\n",
       "      <td>kiraababee</td>\n",
       "      <td>RT @SweaterGawd: I cum faster than the fbi dur...</td>\n",
       "    </tr>\n",
       "    <tr>\n",
       "      <th>3</th>\n",
       "      <td>en</td>\n",
       "      <td>3.459687e+17</td>\n",
       "      <td>Sat Jun 15 18:19:07 +0000 2013</td>\n",
       "      <td>drgauravn85</td>\n",
       "      <td>@asma_rehman02 even your feeder USA is agreed ...</td>\n",
       "    </tr>\n",
       "    <tr>\n",
       "      <th>4</th>\n",
       "      <td>en</td>\n",
       "      <td>3.459700e+17</td>\n",
       "      <td>Sat Jun 15 18:24:06 +0000 2013</td>\n",
       "      <td>WatchTVChannels</td>\n",
       "      <td>Quetta Carnage: 23 killed in terrorist attacks...</td>\n",
       "    </tr>\n",
       "  </tbody>\n",
       "</table>\n",
       "</div>"
      ],
      "text/plain": [
       "  lan            id                            date        user_name  \\\n",
       "0  en  3.459658e+17  Sat Jun 15 18:07:17 +0000 2013          SangyeH   \n",
       "1  en  3.459658e+17  Sat Jun 15 18:07:27 +0000 2013         SR_Brant   \n",
       "2  en  3.459683e+17  Sat Jun 15 18:17:35 +0000 2013       kiraababee   \n",
       "3  en  3.459687e+17  Sat Jun 15 18:19:07 +0000 2013      drgauravn85   \n",
       "4  en  3.459700e+17  Sat Jun 15 18:24:06 +0000 2013  WatchTVChannels   \n",
       "\n",
       "                                             content  \n",
       "0  RT @AnnieSage: Unbelievable.... @thinkprogress...  \n",
       "1  RT @AnnieSage: Unbelievable.... @thinkprogress...  \n",
       "2  RT @SweaterGawd: I cum faster than the fbi dur...  \n",
       "3  @asma_rehman02 even your feeder USA is agreed ...  \n",
       "4  Quetta Carnage: 23 killed in terrorist attacks...  "
      ]
     },
     "execution_count": 573,
     "metadata": {},
     "output_type": "execute_result"
    }
   ],
   "source": [
    "tweets_raw.head(5)"
   ]
  },
  {
   "cell_type": "markdown",
   "metadata": {},
   "source": [
    "In this project, the id and user name of the tweet is useless, we keep therefore only the language, the date and the content of the tweet."
   ]
  },
  {
   "cell_type": "code",
   "execution_count": 574,
   "metadata": {
    "collapsed": true
   },
   "outputs": [],
   "source": [
    "tweets_raw = tweets_raw.drop(axis= 1, labels=  [\"id\", \"user_name\"])\n",
    "tweets_raw = tweets_raw.dropna()"
   ]
  },
  {
   "cell_type": "markdown",
   "metadata": {},
   "source": [
    "The date countained in the tweets has been translated into `GMT` 0. So we do not have to worry about translating the date and can directly standarize with the dateutil.parser"
   ]
  },
  {
   "cell_type": "code",
   "execution_count": 575,
   "metadata": {},
   "outputs": [],
   "source": [
    "#We parse the date to have a uniform \n",
    "tweets_raw[\"date\"] = tweets_raw[\"date\"].apply(lambda d: parse(d))"
   ]
  },
  {
   "cell_type": "code",
   "execution_count": 576,
   "metadata": {
    "collapsed": true
   },
   "outputs": [],
   "source": [
    "tweets = tweets_raw.copy()\n",
    "tweets[\"retweet\"] =  tweets[\"content\"].map(lambda s : s[0:4] == \"RT @\") #Is it a retweet?"
   ]
  },
  {
   "cell_type": "markdown",
   "metadata": {},
   "source": [
    "Here, we need to normalize our tweet to handle 1) and 2)"
   ]
  },
  {
   "cell_type": "code",
   "execution_count": 577,
   "metadata": {
    "collapsed": true
   },
   "outputs": [],
   "source": [
    "def remove_http(t):\n",
    "    content = t.split()\n",
    "    for w in content:\n",
    "        \n",
    "        if \"http\" in w:\n",
    "            content.remove(w)\n",
    "    return \" \".join(content)\n",
    "\n",
    "\n",
    "\n",
    "# Maximum length that we allowed to have in oder to not have different tweet\n",
    "\n",
    "MAX_LEN = 140 - 15 - 10  # Limit of a tweet minus the maximum user name \n",
    "                         # and other charachter added when a retweet is created\n",
    "\n",
    "\n",
    "def remove_retweet_and_cut(t):\n",
    "    \"\"\"\n",
    "    Function that remove the RT @ in front of a tweet if it has been detected as a retweet, \n",
    "    And cut the tweet according to the MAX_LEN parameter\n",
    "    \"\"\"\n",
    "    \n",
    "    \n",
    "    if(t[\"retweet\"]):\n",
    "        return ' '.join(t[\"content\"].split()[2:])[0:MAX_LEN]\n",
    "    else :\n",
    "        return t[\"content\"][0:MAX_LEN]\n",
    "    \n",
    "\n",
    "    \n",
    "#Apply the functions we just created\n",
    "tweets[\"content\"] = tweets[\"content\"].map(remove_http)\n",
    "tweets[\"content\"] =  tweets.apply(remove_retweet_and_cut, axis = 1)\n",
    "\n",
    "\n",
    "#------------------------- Handling the frequency of a tweet ---------------------\n",
    "\n",
    "\n",
    "# We create a dict to map the content and the frequency that a tweet with the same content occur.\n",
    "freq_dict = dict(tweets.groupby(\"content\")[\"lan\"].count())\n",
    "\n",
    "\n",
    "tweets = tweets.drop_duplicates(subset=\"content\")\n",
    "\n",
    "\n",
    "tweets[\"frequency\"] = tweets[\"content\"].map(lambda c : freq_dict[c])"
   ]
  },
  {
   "cell_type": "markdown",
   "metadata": {},
   "source": [
    "We end up with a nice dataframe of the filtered tweets with the frequency of each tweets "
   ]
  },
  {
   "cell_type": "code",
   "execution_count": 578,
   "metadata": {},
   "outputs": [
    {
     "data": {
      "text/html": [
       "<div>\n",
       "<style>\n",
       "    .dataframe thead tr:only-child th {\n",
       "        text-align: right;\n",
       "    }\n",
       "\n",
       "    .dataframe thead th {\n",
       "        text-align: left;\n",
       "    }\n",
       "\n",
       "    .dataframe tbody tr th {\n",
       "        vertical-align: top;\n",
       "    }\n",
       "</style>\n",
       "<table border=\"1\" class=\"dataframe\">\n",
       "  <thead>\n",
       "    <tr style=\"text-align: right;\">\n",
       "      <th></th>\n",
       "      <th>lan</th>\n",
       "      <th>date</th>\n",
       "      <th>content</th>\n",
       "      <th>retweet</th>\n",
       "      <th>frequency</th>\n",
       "    </tr>\n",
       "  </thead>\n",
       "  <tbody>\n",
       "    <tr>\n",
       "      <th>423016</th>\n",
       "      <td>en</td>\n",
       "      <td>2015-01-12 00:36:17+00:00</td>\n",
       "      <td>2,000 civilians killed in a terrorist attack i...</td>\n",
       "      <td>True</td>\n",
       "      <td>3006</td>\n",
       "    </tr>\n",
       "    <tr>\n",
       "      <th>352</th>\n",
       "      <td>en</td>\n",
       "      <td>2012-12-17 03:29:35+00:00</td>\n",
       "      <td>Here they are - all SIXTY-ONE mass shootings i...</td>\n",
       "      <td>True</td>\n",
       "      <td>1585</td>\n",
       "    </tr>\n",
       "    <tr>\n",
       "      <th>361528</th>\n",
       "      <td>en</td>\n",
       "      <td>2014-12-17 20:14:55+00:00</td>\n",
       "      <td>Just heard about the terrorist attack, my hear...</td>\n",
       "      <td>True</td>\n",
       "      <td>1330</td>\n",
       "    </tr>\n",
       "    <tr>\n",
       "      <th>418277</th>\n",
       "      <td>en</td>\n",
       "      <td>2015-01-11 14:01:14+00:00</td>\n",
       "      <td>Chanting &amp;amp; applause in Paris as huge crowd...</td>\n",
       "      <td>True</td>\n",
       "      <td>1242</td>\n",
       "    </tr>\n",
       "    <tr>\n",
       "      <th>256112</th>\n",
       "      <td>en</td>\n",
       "      <td>2013-09-25 17:17:29+00:00</td>\n",
       "      <td>In 1962, the US government planned terrorist a...</td>\n",
       "      <td>True</td>\n",
       "      <td>1218</td>\n",
       "    </tr>\n",
       "  </tbody>\n",
       "</table>\n",
       "</div>"
      ],
      "text/plain": [
       "       lan                      date  \\\n",
       "423016  en 2015-01-12 00:36:17+00:00   \n",
       "352     en 2012-12-17 03:29:35+00:00   \n",
       "361528  en 2014-12-17 20:14:55+00:00   \n",
       "418277  en 2015-01-11 14:01:14+00:00   \n",
       "256112  en 2013-09-25 17:17:29+00:00   \n",
       "\n",
       "                                                  content  retweet  frequency  \n",
       "423016  2,000 civilians killed in a terrorist attack i...     True       3006  \n",
       "352     Here they are - all SIXTY-ONE mass shootings i...     True       1585  \n",
       "361528  Just heard about the terrorist attack, my hear...     True       1330  \n",
       "418277  Chanting &amp; applause in Paris as huge crowd...     True       1242  \n",
       "256112  In 1962, the US government planned terrorist a...     True       1218  "
      ]
     },
     "execution_count": 578,
     "metadata": {},
     "output_type": "execute_result"
    }
   ],
   "source": [
    "tweets.sort_values(by=\"frequency\", ascending=False).head()"
   ]
  },
  {
   "cell_type": "code",
   "execution_count": 579,
   "metadata": {},
   "outputs": [
    {
     "data": {
      "text/html": [
       "<div>\n",
       "<style>\n",
       "    .dataframe thead tr:only-child th {\n",
       "        text-align: right;\n",
       "    }\n",
       "\n",
       "    .dataframe thead th {\n",
       "        text-align: left;\n",
       "    }\n",
       "\n",
       "    .dataframe tbody tr th {\n",
       "        vertical-align: top;\n",
       "    }\n",
       "</style>\n",
       "<table border=\"1\" class=\"dataframe\">\n",
       "  <thead>\n",
       "    <tr style=\"text-align: right;\">\n",
       "      <th></th>\n",
       "      <th>lan</th>\n",
       "      <th>date</th>\n",
       "      <th>content</th>\n",
       "      <th>retweet</th>\n",
       "      <th>frequency</th>\n",
       "    </tr>\n",
       "  </thead>\n",
       "  <tbody>\n",
       "    <tr>\n",
       "      <th>548846</th>\n",
       "      <td>en</td>\n",
       "      <td>2016-01-31 23:34:22+00:00</td>\n",
       "      <td>Where is the West's compassion &amp;amp; condemnat...</td>\n",
       "      <td>False</td>\n",
       "      <td>1</td>\n",
       "    </tr>\n",
       "    <tr>\n",
       "      <th>291143</th>\n",
       "      <td>en</td>\n",
       "      <td>2013-12-29 09:23:08+00:00</td>\n",
       "      <td>#journals #news - Catherine Ashton's strong co...</td>\n",
       "      <td>False</td>\n",
       "      <td>1</td>\n",
       "    </tr>\n",
       "    <tr>\n",
       "      <th>291144</th>\n",
       "      <td>en</td>\n",
       "      <td>2013-12-29 09:23:11+00:00</td>\n",
       "      <td>#journals #news - Catherine Ashton's strong co...</td>\n",
       "      <td>False</td>\n",
       "      <td>1</td>\n",
       "    </tr>\n",
       "    <tr>\n",
       "      <th>291145</th>\n",
       "      <td>en</td>\n",
       "      <td>2013-12-29 09:23:21+00:00</td>\n",
       "      <td>#journals #news - Catherine Ashton's strong co...</td>\n",
       "      <td>False</td>\n",
       "      <td>1</td>\n",
       "    </tr>\n",
       "    <tr>\n",
       "      <th>291146</th>\n",
       "      <td>en</td>\n",
       "      <td>2013-12-29 09:24:40+00:00</td>\n",
       "      <td>Catherine Ashton's strong condemnation of terr...</td>\n",
       "      <td>False</td>\n",
       "      <td>1</td>\n",
       "    </tr>\n",
       "  </tbody>\n",
       "</table>\n",
       "</div>"
      ],
      "text/plain": [
       "       lan                      date  \\\n",
       "548846  en 2016-01-31 23:34:22+00:00   \n",
       "291143  en 2013-12-29 09:23:08+00:00   \n",
       "291144  en 2013-12-29 09:23:11+00:00   \n",
       "291145  en 2013-12-29 09:23:21+00:00   \n",
       "291146  en 2013-12-29 09:24:40+00:00   \n",
       "\n",
       "                                                  content  retweet  frequency  \n",
       "548846  Where is the West's compassion &amp; condemnat...    False          1  \n",
       "291143  #journals #news - Catherine Ashton's strong co...    False          1  \n",
       "291144  #journals #news - Catherine Ashton's strong co...    False          1  \n",
       "291145  #journals #news - Catherine Ashton's strong co...    False          1  \n",
       "291146  Catherine Ashton's strong condemnation of terr...    False          1  "
      ]
     },
     "execution_count": 579,
     "metadata": {},
     "output_type": "execute_result"
    }
   ],
   "source": [
    "#Here are the single tweets\n",
    "tweets.sort_values(by=\"frequency\", ascending=True).head()"
   ]
  },
  {
   "cell_type": "markdown",
   "metadata": {},
   "source": [
    "We see below that the ratio of retweet is consequent. \n",
    "Indeed, roughly 1/3 of our filtered tweets have been retweeted."
   ]
  },
  {
   "cell_type": "code",
   "execution_count": 580,
   "metadata": {},
   "outputs": [
    {
     "data": {
      "text/plain": [
       "0.30570021327850488"
      ]
     },
     "execution_count": 580,
     "metadata": {},
     "output_type": "execute_result"
    }
   ],
   "source": [
    "tweets[\"retweet\"].sum()/len(tweets.retweet)"
   ]
  },
  {
   "cell_type": "code",
   "execution_count": 581,
   "metadata": {
    "collapsed": true
   },
   "outputs": [],
   "source": [
    "grp_tweet = tweets.groupby(\"lan\")"
   ]
  },
  {
   "cell_type": "code",
   "execution_count": 582,
   "metadata": {},
   "outputs": [
    {
     "data": {
      "text/plain": [
       "lan\n",
       "de      1028\n",
       "en    320770\n",
       "es      1045\n",
       "fr       699\n",
       "it       850\n",
       "nl      1473\n",
       "Name: content, dtype: int64"
      ]
     },
     "execution_count": 582,
     "metadata": {},
     "output_type": "execute_result"
    }
   ],
   "source": [
    "grp_tweet[\"content\"].count()"
   ]
  },
  {
   "cell_type": "markdown",
   "metadata": {},
   "source": [
    "We see that, not surprisingly, we have more english tweets than the other languages. Indeed english is the most common widespread language and spanish the second one."
   ]
  },
  {
   "cell_type": "code",
   "execution_count": 587,
   "metadata": {
    "collapsed": true
   },
   "outputs": [],
   "source": [
    "tweets = tweets.drop(axis= 1, labels=  [\"lan\"])\n",
    "tweets.to_csv(\"dataframe_terror.csv\", index=False)"
   ]
  },
  {
   "cell_type": "markdown",
   "metadata": {},
   "source": [
    "## 2. Data from Wikipedia"
   ]
  },
  {
   "cell_type": "markdown",
   "metadata": {},
   "source": [
    "In this part we scrape data from Wikipedia. We want to access the tables that register the terror attacks that happened at some point in the past. There are some Wikipedia articles (such as https://en.wikipedia.org/wiki/List_of_terrorist_incidents_in_January-June_2011) that do exactly that. The data is presented as tables, and all the articles that we need present data in this form."
   ]
  },
  {
   "cell_type": "code",
   "execution_count": 597,
   "metadata": {
    "collapsed": true
   },
   "outputs": [],
   "source": [
    "import requests\n",
    "import pandas as pd\n",
    "from bs4 import BeautifulSoup\n",
    "%matplotlib inline"
   ]
  },
  {
   "cell_type": "code",
   "execution_count": 598,
   "metadata": {
    "collapsed": true
   },
   "outputs": [],
   "source": [
    "from datetime import date\n",
    "import re"
   ]
  },
  {
   "cell_type": "code",
   "execution_count": 599,
   "metadata": {
    "collapsed": true
   },
   "outputs": [],
   "source": [
    "# Simple map of month name to its number\n",
    "month_to_int = {\n",
    "    'January': 1,\n",
    "    'February': 2,\n",
    "    'March': 3,\n",
    "    'April': 4,\n",
    "    'May': 5,\n",
    "    'June': 6,\n",
    "    'July': 7,\n",
    "    'August': 8,\n",
    "    'September': 9,\n",
    "    'October': 10,\n",
    "    'November': 11,\n",
    "    'December': 12\n",
    "}\n",
    "\n",
    "# Reversed map\n",
    "int_to_month = {i: m for m, i in month_to_int.items()}"
   ]
  },
  {
   "cell_type": "code",
   "execution_count": 600,
   "metadata": {
    "collapsed": true
   },
   "outputs": [],
   "source": [
    "# The wikipedia URL that every article has in common\n",
    "base_url = 'https://en.wikipedia.org/wiki/List_of_terrorist_incidents_in_'"
   ]
  },
  {
   "cell_type": "markdown",
   "metadata": {},
   "source": [
    "We show all the articles that we are going to use to find the data"
   ]
  },
  {
   "cell_type": "code",
   "execution_count": 601,
   "metadata": {},
   "outputs": [
    {
     "data": {
      "text/plain": [
       "['February_2015',\n",
       " 'November_2015',\n",
       " 'May_2017',\n",
       " 'February_2017',\n",
       " 'September_2017',\n",
       " 'June_2015',\n",
       " 'October_2016',\n",
       " 'October_2017',\n",
       " 'December_2015',\n",
       " 'January-June_2011',\n",
       " 'May_2015',\n",
       " 'July-December_2013',\n",
       " 'January_2015',\n",
       " 'March_2016',\n",
       " 'November_2017',\n",
       " 'January-June_2013',\n",
       " 'July-December_2011',\n",
       " 'July_2016',\n",
       " 'February_2016',\n",
       " 'December_2017',\n",
       " 'July-December_2012',\n",
       " 'October_2015',\n",
       " 'January-June_2012',\n",
       " 'July_2017',\n",
       " 'April_2015',\n",
       " 'August_2017',\n",
       " 'June_2016',\n",
       " 'May_2016',\n",
       " 'November_2016',\n",
       " 'June_2017',\n",
       " 'August_2015',\n",
       " 'March_2015',\n",
       " 'January_2016',\n",
       " 'July-December_2014',\n",
       " 'July_2015',\n",
       " 'March_2017',\n",
       " 'August_2016',\n",
       " 'September_2016',\n",
       " 'January-June_2014',\n",
       " 'April_2016',\n",
       " 'September_2015',\n",
       " 'December_2016',\n",
       " 'January_2017',\n",
       " 'April_2017']"
      ]
     },
     "execution_count": 601,
     "metadata": {},
     "output_type": "execute_result"
    }
   ],
   "source": [
    "# All specific end of the wikipedia URL, along with the corresponding month numbers of the article\n",
    "times = {}\n",
    "\n",
    "for year in range(2011, 2015):\n",
    "    # For years 2011 to 2014, the articles appear biyearly\n",
    "    times.update({'January-June_' + str(year): list(range(1, 7))})\n",
    "    times.update({'July-December_' + str(year): list(range(7, 13))})\n",
    "    \n",
    "for year in range(2015, 2018):\n",
    "    # For years 2015 to 2017, the articles appear monthly\n",
    "    for month, int_ in month_to_int.items():\n",
    "        times.update({month + '_' + str(year): [int_]})\n",
    "        \n",
    "list(times.keys())\n"
   ]
  },
  {
   "cell_type": "code",
   "execution_count": 602,
   "metadata": {
    "collapsed": true
   },
   "outputs": [],
   "source": [
    "def to_int(s):\n",
    "    '''Returns the first integer found in s'''\n",
    "    i = re.findall('\\d+', s)\n",
    "    return int(i[0]) if len(i) > 0 else float('NaN')"
   ]
  },
  {
   "cell_type": "code",
   "execution_count": 603,
   "metadata": {
    "collapsed": true
   },
   "outputs": [],
   "source": [
    "def to_date(s, year):\n",
    "    '''Returns a date from the datetime library from a string like \\'January 1\\''''\n",
    "    l = s.split(' ')\n",
    "    return date(to_int(year), month_to_int[l[0]], to_int(l[1]))"
   ]
  },
  {
   "cell_type": "code",
   "execution_count": 686,
   "metadata": {
    "collapsed": true
   },
   "outputs": [],
   "source": [
    "def wiki_table_to_df(end_url, month_range, base_url=base_url):\n",
    "    '''Creates a dataframe from the tables available in the wikipedia page'''\n",
    "    print('Scraping for', end_url)\n",
    "    r = requests.get(base_url + end_url) # Get request\n",
    "    soup = BeautifulSoup(r.text, 'lxml') # Parse HTML\n",
    "    wiki_tables = soup.findAll('table', {'class': 'wikitable sortable'}) # Get tables from the wikipedia page\n",
    "\n",
    "    table = []\n",
    "\n",
    "    for month_int, wiki_table in zip(month_range, wiki_tables):\n",
    "        for row in wiki_table.findAll('tr'):\n",
    "            elems = row.findAll('td') \n",
    "            if len(elems) != 0:\n",
    "                interesting = [elem.text for elem in elems[:5]]\n",
    "                 # First element is the day of the month, but we add the name of the month as well in front of it\n",
    "                interesting[0] = int_to_month[month_int] + ' ' + interesting[0]\n",
    "                table.append(interesting)\n",
    "                \n",
    "    df = pd.DataFrame(table, columns=['date', 'type', 'deaths', 'injuries', 'location'])\n",
    "    df.date = df.date.apply(lambda s: to_date(s, end_url[-4:])) # Translate the date with the year defined by the end_url arg\n",
    "    df.deaths = df.deaths.apply(to_int) # Map death number to int\n",
    "    df.injuries = df.injuries.apply(to_int) # Map injuries number to int\n",
    "    \n",
    "    return df"
   ]
  },
  {
   "cell_type": "code",
   "execution_count": 718,
   "metadata": {},
   "outputs": [
    {
     "name": "stdout",
     "output_type": "stream",
     "text": [
      "Scraping for February_2015\n",
      "Scraping for November_2015\n",
      "Scraping for May_2017\n",
      "Scraping for February_2017\n",
      "Scraping for September_2017\n",
      "Scraping for June_2015\n",
      "Scraping for October_2016\n",
      "Scraping for October_2017\n",
      "Scraping for December_2015\n",
      "Scraping for January-June_2011\n",
      "Scraping for May_2015\n",
      "Scraping for July-December_2013\n",
      "Scraping for January_2015\n",
      "Scraping for March_2016\n",
      "Scraping for November_2017\n",
      "Scraping for January-June_2013\n",
      "Scraping for July-December_2011\n",
      "Scraping for July_2016\n",
      "Scraping for February_2016\n",
      "Scraping for December_2017\n",
      "Scraping for July-December_2012\n",
      "Scraping for October_2015\n",
      "Scraping for January-June_2012\n",
      "Scraping for July_2017\n",
      "Scraping for April_2015\n",
      "Scraping for August_2017\n",
      "Scraping for June_2016\n",
      "Scraping for May_2016\n",
      "Scraping for November_2016\n",
      "Scraping for June_2017\n",
      "Scraping for August_2015\n",
      "Scraping for March_2015\n",
      "Scraping for January_2016\n",
      "Scraping for July-December_2014\n",
      "Scraping for July_2015\n",
      "Scraping for March_2017\n",
      "Scraping for August_2016\n",
      "Scraping for September_2016\n",
      "Scraping for January-June_2014\n",
      "Scraping for April_2016\n",
      "Scraping for September_2015\n",
      "Scraping for December_2016\n",
      "Scraping for January_2017\n",
      "Scraping for April_2017\n",
      "We have 4697 registered attacks from January 1st, 2011 up to today (November 28th, 2017)\n"
     ]
    }
   ],
   "source": [
    "dfs = []\n",
    "\n",
    "# Get a DataFrame for every article from 2011 to 2017\n",
    "for time, month_range in times.items():\n",
    "    dfs.append(wiki_table_to_df(time, month_range))\n",
    "    \n",
    "df = pd.concat(dfs)\n",
    "print('We have {} registered attacks from January 1st, 2011 up to today (November 28th, 2017)'.format(df.shape[0]))"
   ]
  },
  {
   "cell_type": "markdown",
   "metadata": {},
   "source": [
    "Here is what some of the entries of the final result look like"
   ]
  },
  {
   "cell_type": "code",
   "execution_count": 719,
   "metadata": {},
   "outputs": [
    {
     "data": {
      "text/html": [
       "<div>\n",
       "<style>\n",
       "    .dataframe thead tr:only-child th {\n",
       "        text-align: right;\n",
       "    }\n",
       "\n",
       "    .dataframe thead th {\n",
       "        text-align: left;\n",
       "    }\n",
       "\n",
       "    .dataframe tbody tr th {\n",
       "        vertical-align: top;\n",
       "    }\n",
       "</style>\n",
       "<table border=\"1\" class=\"dataframe\">\n",
       "  <thead>\n",
       "    <tr style=\"text-align: right;\">\n",
       "      <th></th>\n",
       "      <th>date</th>\n",
       "      <th>type</th>\n",
       "      <th>deaths</th>\n",
       "      <th>injuries</th>\n",
       "      <th>location</th>\n",
       "    </tr>\n",
       "  </thead>\n",
       "  <tbody>\n",
       "    <tr>\n",
       "      <th>0</th>\n",
       "      <td>2015-02-03</td>\n",
       "      <td>Melee Attack</td>\n",
       "      <td>0.0</td>\n",
       "      <td>3.0</td>\n",
       "      <td>Nice, France</td>\n",
       "    </tr>\n",
       "    <tr>\n",
       "      <th>41</th>\n",
       "      <td>2015-11-24</td>\n",
       "      <td>Vehicular assault</td>\n",
       "      <td>0.0</td>\n",
       "      <td>4.0</td>\n",
       "      <td>Kfar Tapuach, West Bank</td>\n",
       "    </tr>\n",
       "    <tr>\n",
       "      <th>16</th>\n",
       "      <td>2015-05-20</td>\n",
       "      <td>Vehicular assault</td>\n",
       "      <td>0.0</td>\n",
       "      <td>2.0</td>\n",
       "      <td>East Jerusalem</td>\n",
       "    </tr>\n",
       "    <tr>\n",
       "      <th>98</th>\n",
       "      <td>2017-04-29</td>\n",
       "      <td>Arson</td>\n",
       "      <td>1.0</td>\n",
       "      <td>0.0</td>\n",
       "      <td>Davao City, Philippines</td>\n",
       "    </tr>\n",
       "  </tbody>\n",
       "</table>\n",
       "</div>"
      ],
      "text/plain": [
       "          date               type  deaths  injuries                 location\n",
       "0   2015-02-03       Melee Attack     0.0       3.0             Nice, France\n",
       "41  2015-11-24  Vehicular assault     0.0       4.0  Kfar Tapuach, West Bank\n",
       "16  2015-05-20  Vehicular assault     0.0       2.0           East Jerusalem\n",
       "98  2017-04-29              Arson     1.0       0.0  Davao City, Philippines"
      ]
     },
     "execution_count": 719,
     "metadata": {},
     "output_type": "execute_result"
    }
   ],
   "source": [
    "df.iloc[[0, 56, 1033, -1]]"
   ]
  },
  {
   "cell_type": "markdown",
   "metadata": {},
   "source": [
    "Finally, we want to separate the location into a city, and a country, if applicable. This separation will be very useful for the matching of the attacks with our tweet dataset. To do so, we define some helper function :"
   ]
  },
  {
   "cell_type": "code",
   "execution_count": 720,
   "metadata": {
    "collapsed": true
   },
   "outputs": [],
   "source": [
    "def get_city(location):\n",
    "    if ',' in location :\n",
    "        city = location.split(', ',1)[0]\n",
    "        return city\n",
    "    else : \n",
    "        return \"Unknown\"\n",
    "    \n",
    "def get_country(location):\n",
    "    if ',' in location :\n",
    "        country = location.split(', ')[-1]\n",
    "        return country\n",
    "    else : \n",
    "        return location\n",
    "\n",
    "\n",
    "words_to_remove_1 = ['near', 'and', 'other', 'cities', 'between','b','at','least','of','old','in','de','various']\n",
    "words_to_remove_2 = ['district', 'province', 'region','outskirts','department','state','central','east','far','north','village','heights','cercle','junction','hills','city','island','state','agency','lake','route','south','town']\n",
    "signs_to_remove = [',', '\"','/','(',')']\n",
    "#aussi enlever les numeros\n",
    "\n",
    "\n",
    "#liste des mots a GARDER : si ca contient un de ces mots, garder toute la string\n",
    "to_keep_with_all = ['abu','al','del','beit','beni','bir','el','ein','las','la','les','los','new','san','tel','tal']"
   ]
  },
  {
   "cell_type": "code",
   "execution_count": 705,
   "metadata": {},
   "outputs": [],
   "source": [
    "def is_long(x):\n",
    "    l = len(x.split())\n",
    "    \n",
    "    if l>1:\n",
    "        return x\n",
    "    else: \n",
    "        return float('NaN')\n",
    "\n",
    "#```df['city'].map(is_long).dropna().sort_values().to_frame().drop_duplicates('city').to_csv('different_cities.csv',index = False)\n",
    "\n",
    "# if ville_connue in df['city] -> replace"
   ]
  },
  {
   "cell_type": "code",
   "execution_count": 721,
   "metadata": {},
   "outputs": [],
   "source": [
    "\n",
    "df['city'] = df['location'].map(get_city)\n",
    "df['country'] = df['location'].map(get_country)\n",
    "df[\"type\"] = df[\"type\"].fillna(\"UnkownType\")\n",
    "df = df.drop(axis= 1, labels=  [\"location\"])\n",
    "df.to_csv('attacks.csv', index = False)"
   ]
  },
  {
   "cell_type": "markdown",
   "metadata": {},
   "source": [
    "We now have a useful and clean dataset of all terrorist attacks listed on wikipedia. The next step will be to analyze this data first on its own, and then coupled with the twitter dataset that we defined before."
   ]
  },
  {
   "cell_type": "markdown",
   "metadata": {},
   "source": [
    "## 3. Making sense of the Data"
   ]
  },
  {
   "cell_type": "markdown",
   "metadata": {},
   "source": [
    "In this section, we will detail our analysis in an attempt to answer to the fundamental questions of our project : which part of the world is more hit by terrorist events, and how can we compare the real impacts (deaths, injured) of such attacks with the reaction on the social media sphere (number of tweets, relevance on attacks).\n",
    "\n",
    "As explained a few cells below next to the corresponding code, we will **focus on a time period between January 2011 and January 2016** (which is the timestamps of the oldest and most recent tweets in the database) for the rest of our analysis. The results, displays and analysis will therefore be related to this specific time period of **five years**. This period is according to us long enough to advance certain hypothesis, and it has also been marked by the rise and fall of many different terrorist groups that shaped a big part of the geopolitics of today.\n"
   ]
  },
  {
   "cell_type": "markdown",
   "metadata": {},
   "source": [
    "### 3.1 Create new DataFrame with Tweets and Wiki data"
   ]
  },
  {
   "cell_type": "markdown",
   "metadata": {},
   "source": [
    "Create DF : **date, attack type, city, country, real impact, deads, injured, social impact, number of tweets**"
   ]
  },
  {
   "cell_type": "markdown",
   "metadata": {},
   "source": [
    "### 3.2 Plot the attacks in a map"
   ]
  },
  {
   "cell_type": "markdown",
   "metadata": {},
   "source": [
    "- highlight the real impacts and the social impact TODO\n",
    "- folium ? ideally, map with circles for real impact, and (also circle ?) for social impacts TODO"
   ]
  },
  {
   "cell_type": "markdown",
   "metadata": {},
   "source": [
    "### 3.3 Other graphs/info"
   ]
  },
  {
   "cell_type": "markdown",
   "metadata": {},
   "source": [
    "\n",
    "- number of attacks/deaths by country (only taken from **Wikipedia dataset**) KINDA DONE\n",
    "- ranking of the most liked/ignored attack (just divide social impact by real impact) TODO\n",
    "- same but with country (aggregate social and total impact from before (more relevant than previous point) TODO\n",
    "- maybe see the rise of ISIS ? find by keyword (ISIS) and check with the timeline (graph ISIS claimed vs time, **Wikipedia dataset**)\n",
    "- all the #prayfor : list the different towns\n",
    "- finally, see the fading of reactions over time \n"
   ]
  },
  {
   "cell_type": "markdown",
   "metadata": {},
   "source": [
    "#### Reloading the Wikipedia  and tweets DataFrames"
   ]
  },
  {
   "cell_type": "code",
   "execution_count": 733,
   "metadata": {},
   "outputs": [
    {
     "data": {
      "text/html": [
       "<div>\n",
       "<style>\n",
       "    .dataframe thead tr:only-child th {\n",
       "        text-align: right;\n",
       "    }\n",
       "\n",
       "    .dataframe thead th {\n",
       "        text-align: left;\n",
       "    }\n",
       "\n",
       "    .dataframe tbody tr th {\n",
       "        vertical-align: top;\n",
       "    }\n",
       "</style>\n",
       "<table border=\"1\" class=\"dataframe\">\n",
       "  <thead>\n",
       "    <tr style=\"text-align: right;\">\n",
       "      <th></th>\n",
       "      <th>date</th>\n",
       "      <th>type</th>\n",
       "      <th>deaths</th>\n",
       "      <th>injuries</th>\n",
       "      <th>city</th>\n",
       "      <th>country</th>\n",
       "    </tr>\n",
       "  </thead>\n",
       "  <tbody>\n",
       "    <tr>\n",
       "      <th>0</th>\n",
       "      <td>2015-02-03</td>\n",
       "      <td>Melee Attack</td>\n",
       "      <td>0.0</td>\n",
       "      <td>3.0</td>\n",
       "      <td>Nice</td>\n",
       "      <td>France</td>\n",
       "    </tr>\n",
       "    <tr>\n",
       "      <th>1</th>\n",
       "      <td>2015-02-04</td>\n",
       "      <td>Mass shooting</td>\n",
       "      <td>91.0</td>\n",
       "      <td>500.0</td>\n",
       "      <td>Fotokol</td>\n",
       "      <td>Cameroon</td>\n",
       "    </tr>\n",
       "    <tr>\n",
       "      <th>2</th>\n",
       "      <td>2015-02-06</td>\n",
       "      <td>Shooting</td>\n",
       "      <td>5.0</td>\n",
       "      <td>17.0</td>\n",
       "      <td>Bosso and Diffa</td>\n",
       "      <td>Niger</td>\n",
       "    </tr>\n",
       "    <tr>\n",
       "      <th>3</th>\n",
       "      <td>2015-02-10</td>\n",
       "      <td>Artillery</td>\n",
       "      <td>7.0</td>\n",
       "      <td>26.0</td>\n",
       "      <td>Kramatorsk</td>\n",
       "      <td>Ukraine</td>\n",
       "    </tr>\n",
       "    <tr>\n",
       "      <th>4</th>\n",
       "      <td>2015-02-12</td>\n",
       "      <td>Beheading</td>\n",
       "      <td>21.0</td>\n",
       "      <td>21.0</td>\n",
       "      <td>Unknown</td>\n",
       "      <td>Libya</td>\n",
       "    </tr>\n",
       "  </tbody>\n",
       "</table>\n",
       "</div>"
      ],
      "text/plain": [
       "        date           type  deaths  injuries             city   country\n",
       "0 2015-02-03   Melee Attack     0.0       3.0             Nice    France\n",
       "1 2015-02-04  Mass shooting    91.0     500.0          Fotokol  Cameroon\n",
       "2 2015-02-06       Shooting     5.0      17.0  Bosso and Diffa     Niger\n",
       "3 2015-02-10      Artillery     7.0      26.0       Kramatorsk   Ukraine\n",
       "4 2015-02-12      Beheading    21.0      21.0          Unknown     Libya"
      ]
     },
     "execution_count": 733,
     "metadata": {},
     "output_type": "execute_result"
    }
   ],
   "source": [
    "tweets = pd.read_csv(\"dataframe_terror.csv\", parse_dates=[0])\n",
    "terror = pd.read_csv('attacks.csv', parse_dates=[0])\n",
    "\n",
    "#terror = pd.read_csv('attacks.csv',encoding = \"ISO-8859-1\")\n",
    "#terror = terror.drop(['Unnamed: 0','index'],axis=1)\n",
    "#terror.head()\n",
    "terror.head()"
   ]
  },
  {
   "cell_type": "markdown",
   "metadata": {},
   "source": [
    "We also want to fix our time interval to be the same as the one of our tweets database. Therefore, we fix it to be from January 1st, 2011 to January 31st, 2016 :"
   ]
  },
  {
   "cell_type": "code",
   "execution_count": 728,
   "metadata": {},
   "outputs": [],
   "source": [
    "min_date = max(tweets.date.min(), terror.date.min())\n",
    "max_date = min(tweets.date.max(), terror.date.max())\n",
    "\n",
    "terror = terror[(terror[\"date\"]>min_date) & (terror[\"date\"]<max_date )]\n",
    "tweets = tweets[(tweets[\"date\"]>min_date) & (tweets[\"date\"]<max_date )]"
   ]
  },
  {
   "cell_type": "markdown",
   "metadata": {},
   "source": [
    "### 3.3.2 Safety ranking"
   ]
  },
  {
   "cell_type": "code",
   "execution_count": 729,
   "metadata": {
    "collapsed": true
   },
   "outputs": [],
   "source": [
    "import matplotlib.pyplot as plt\n",
    "import seaborn as sns\n",
    "    \n",
    "    \n",
    "    \n",
    "def bar_plot(data, title, y, x='', rotation=0, sort=False, ascending=True):\n",
    "    fig, ax = plt.subplots()\n",
    "    ax.set_title(title, fontsize=15, fontweight='bold')\n",
    "    if sort:\n",
    "        ax = sns.barplot(data.sort_values([y], ascending=ascending)[y].keys(), data.sort_values([y], ascending=ascending)[y], ax=ax)\n",
    "    else:\n",
    "        ax = sns.barplot(data[y].keys(), data[y], ax=ax)\n",
    "    locs, labels = plt.xticks()\n",
    "    ax.set(xlabel=x, ylabel=y)\n",
    "    plt.setp(labels, rotation=rotation)\n",
    "    plt.show()\n",
    "    \n",
    "\n"
   ]
  },
  {
   "cell_type": "markdown",
   "metadata": {},
   "source": [
    "We will now perform a ranking of the most unsafe cities and countries. By doing so, we hope to highlight the parts of the world where terrorism can be an everyday worry."
   ]
  },
  {
   "cell_type": "code",
   "execution_count": 731,
   "metadata": {},
   "outputs": [],
   "source": [
    "#ranking['city'] = ranking['location'].map(get_city)\n",
    "#ranking['country'] = ranking['location'].map(get_country)\n",
    "#ranking.head()  "
   ]
  },
  {
   "cell_type": "markdown",
   "metadata": {},
   "source": [
    "**We will now classify every city according to their number of terror attacks, and casualties :**\n",
    "\n",
    "To do so, we will create a DataFrame containing cities and their respective rankings by number of events, and casualties."
   ]
  },
  {
   "cell_type": "code",
   "execution_count": 735,
   "metadata": {},
   "outputs": [
    {
     "data": {
      "text/html": [
       "<div>\n",
       "<style>\n",
       "    .dataframe thead tr:only-child th {\n",
       "        text-align: right;\n",
       "    }\n",
       "\n",
       "    .dataframe thead th {\n",
       "        text-align: left;\n",
       "    }\n",
       "\n",
       "    .dataframe tbody tr th {\n",
       "        vertical-align: top;\n",
       "    }\n",
       "</style>\n",
       "<table border=\"1\" class=\"dataframe\">\n",
       "  <thead>\n",
       "    <tr style=\"text-align: right;\">\n",
       "      <th></th>\n",
       "      <th>events</th>\n",
       "      <th>rank_event</th>\n",
       "      <th>casualties</th>\n",
       "      <th>rank_casualties</th>\n",
       "    </tr>\n",
       "    <tr>\n",
       "      <th>city</th>\n",
       "      <th></th>\n",
       "      <th></th>\n",
       "      <th></th>\n",
       "      <th></th>\n",
       "    </tr>\n",
       "  </thead>\n",
       "  <tbody>\n",
       "    <tr>\n",
       "      <th>Baghdad</th>\n",
       "      <td>358</td>\n",
       "      <td>1</td>\n",
       "      <td>3402.0</td>\n",
       "      <td>2</td>\n",
       "    </tr>\n",
       "    <tr>\n",
       "      <th>Mogadishu</th>\n",
       "      <td>116</td>\n",
       "      <td>3</td>\n",
       "      <td>1440.0</td>\n",
       "      <td>5</td>\n",
       "    </tr>\n",
       "    <tr>\n",
       "      <th>Mosul</th>\n",
       "      <td>112</td>\n",
       "      <td>4</td>\n",
       "      <td>3400.0</td>\n",
       "      <td>3</td>\n",
       "    </tr>\n",
       "    <tr>\n",
       "      <th>Kabul</th>\n",
       "      <td>107</td>\n",
       "      <td>5</td>\n",
       "      <td>1344.0</td>\n",
       "      <td>6</td>\n",
       "    </tr>\n",
       "    <tr>\n",
       "      <th>Maiduguri</th>\n",
       "      <td>63</td>\n",
       "      <td>6</td>\n",
       "      <td>1026.0</td>\n",
       "      <td>7</td>\n",
       "    </tr>\n",
       "    <tr>\n",
       "      <th>Peshawar</th>\n",
       "      <td>52</td>\n",
       "      <td>7</td>\n",
       "      <td>907.0</td>\n",
       "      <td>8</td>\n",
       "    </tr>\n",
       "    <tr>\n",
       "      <th>Quetta</th>\n",
       "      <td>43</td>\n",
       "      <td>8</td>\n",
       "      <td>593.0</td>\n",
       "      <td>12</td>\n",
       "    </tr>\n",
       "    <tr>\n",
       "      <th>Karachi</th>\n",
       "      <td>38</td>\n",
       "      <td>9</td>\n",
       "      <td>355.0</td>\n",
       "      <td>19</td>\n",
       "    </tr>\n",
       "    <tr>\n",
       "      <th>Arish</th>\n",
       "      <td>36</td>\n",
       "      <td>10</td>\n",
       "      <td>125.0</td>\n",
       "      <td>61</td>\n",
       "    </tr>\n",
       "    <tr>\n",
       "      <th>Aden</th>\n",
       "      <td>35</td>\n",
       "      <td>11</td>\n",
       "      <td>458.0</td>\n",
       "      <td>14</td>\n",
       "    </tr>\n",
       "    <tr>\n",
       "      <th>Kirkuk</th>\n",
       "      <td>34</td>\n",
       "      <td>12</td>\n",
       "      <td>359.0</td>\n",
       "      <td>17</td>\n",
       "    </tr>\n",
       "    <tr>\n",
       "      <th>Damascus</th>\n",
       "      <td>34</td>\n",
       "      <td>13</td>\n",
       "      <td>825.0</td>\n",
       "      <td>9</td>\n",
       "    </tr>\n",
       "    <tr>\n",
       "      <th>Aleppo</th>\n",
       "      <td>32</td>\n",
       "      <td>14</td>\n",
       "      <td>687.0</td>\n",
       "      <td>10</td>\n",
       "    </tr>\n",
       "    <tr>\n",
       "      <th>Borno State</th>\n",
       "      <td>28</td>\n",
       "      <td>15</td>\n",
       "      <td>303.0</td>\n",
       "      <td>23</td>\n",
       "    </tr>\n",
       "    <tr>\n",
       "      <th>Benghazi</th>\n",
       "      <td>25</td>\n",
       "      <td>16</td>\n",
       "      <td>124.0</td>\n",
       "      <td>63</td>\n",
       "    </tr>\n",
       "    <tr>\n",
       "      <th>Jalalabad</th>\n",
       "      <td>25</td>\n",
       "      <td>17</td>\n",
       "      <td>221.0</td>\n",
       "      <td>34</td>\n",
       "    </tr>\n",
       "    <tr>\n",
       "      <th>Kandahar</th>\n",
       "      <td>24</td>\n",
       "      <td>18</td>\n",
       "      <td>296.0</td>\n",
       "      <td>24</td>\n",
       "    </tr>\n",
       "    <tr>\n",
       "      <th>Jerusalem</th>\n",
       "      <td>24</td>\n",
       "      <td>19</td>\n",
       "      <td>17.0</td>\n",
       "      <td>413</td>\n",
       "    </tr>\n",
       "    <tr>\n",
       "      <th>Ramadi</th>\n",
       "      <td>22</td>\n",
       "      <td>20</td>\n",
       "      <td>371.0</td>\n",
       "      <td>16</td>\n",
       "    </tr>\n",
       "  </tbody>\n",
       "</table>\n",
       "</div>"
      ],
      "text/plain": [
       "             events  rank_event  casualties  rank_casualties\n",
       "city                                                        \n",
       "Baghdad         358           1      3402.0                2\n",
       "Mogadishu       116           3      1440.0                5\n",
       "Mosul           112           4      3400.0                3\n",
       "Kabul           107           5      1344.0                6\n",
       "Maiduguri        63           6      1026.0                7\n",
       "Peshawar         52           7       907.0                8\n",
       "Quetta           43           8       593.0               12\n",
       "Karachi          38           9       355.0               19\n",
       "Arish            36          10       125.0               61\n",
       "Aden             35          11       458.0               14\n",
       "Kirkuk           34          12       359.0               17\n",
       "Damascus         34          13       825.0                9\n",
       "Aleppo           32          14       687.0               10\n",
       "Borno State      28          15       303.0               23\n",
       "Benghazi         25          16       124.0               63\n",
       "Jalalabad        25          17       221.0               34\n",
       "Kandahar         24          18       296.0               24\n",
       "Jerusalem        24          19        17.0              413\n",
       "Ramadi           22          20       371.0               16"
      ]
     },
     "execution_count": 735,
     "metadata": {},
     "output_type": "execute_result"
    }
   ],
   "source": [
    "most_dangerous_cities = terror.groupby('city')['city'].count().sort_values(ascending=False)\n",
    "most_dangerous_cities2 = terror.groupby('city').sum()['deaths'].dropna().sort_values(ascending=False)\n",
    "\n",
    "cities = most_dangerous_cities.to_frame()\n",
    "cities.columns = ['events']\n",
    "cities['rank_event'] = range(1,len(cities.index)+1)\n",
    "cities = cities.reset_index()\n",
    "cities2 = most_dangerous_cities2.to_frame()\n",
    "cities2.columns = ['casualties']\n",
    "cities2['rank_casualties'] = range(1,len(cities2.index)+1)\n",
    "cities2 = cities2.reset_index()\n",
    "mg = cities.merge(cities2, on='city').iloc[:20] # We select the cities that are the most affected\n",
    "mg = mg.set_index('city')\n",
    "mg = mg.drop('Unknown') # drop the events with no city in the wikipedia database\n",
    "mg\n",
    "\n",
    "# attention iraq != across iraq"
   ]
  },
  {
   "cell_type": "markdown",
   "metadata": {},
   "source": [
    "As a result, **Baghdad** the most dangerous place on earth in terms of number of terror attacks, and second in terms of casualties. With 358 attacks during the studient period, it is more than three times more than the second most hit city, Mogadishu.\n",
    "\n",
    "Our study period goes from January 2011 to January 2016, which makes it around **one attack every five days**.\n",
    "\n",
    "Even though Baghdad has been covered by the Western Media during the Iraqi war with the intervention of the USA, one might be surprised by the other members of the most hit cities, such as Maiduguri, Quetta, Peshawar."
   ]
  },
  {
   "cell_type": "code",
   "execution_count": 736,
   "metadata": {},
   "outputs": [
    {
     "data": {
      "image/png": "[encoded data removed]",
      "text/plain": [
       "<matplotlib.figure.Figure at 0x1a5a1efeb8>"
      ]
     },
     "metadata": {},
     "output_type": "display_data"
    }
   ],
   "source": [
    "bar_plot(mg,'Most dangerous cities by number of events', 'events', rotation=90, sort=True, ascending=False)"
   ]
  },
  {
   "cell_type": "markdown",
   "metadata": {},
   "source": [
    "**The number of events is for sure significant, but to complete our viewpoint, we will plot the same ranking by number of casualties :**"
   ]
  },
  {
   "cell_type": "code",
   "execution_count": 737,
   "metadata": {},
   "outputs": [
    {
     "data": {
      "image/png": "[encoded data removed]",
      "text/plain": [
       "<matplotlib.figure.Figure at 0x1a3df40b70>"
      ]
     },
     "metadata": {},
     "output_type": "display_data"
    }
   ],
   "source": [
    "bar_plot(mg,'Most dangerous cities by casualties', 'casualties', rotation=90, sort=True, ascending=False)"
   ]
  },
  {
   "cell_type": "markdown",
   "metadata": {},
   "source": [
    "Mosul registered 109 events, for a death toll of 3396 : an attack makes on average more than 30 victims, a sad finding of the every-day reality that happens far-away from our safe houses !"
   ]
  },
  {
   "cell_type": "code",
   "execution_count": 683,
   "metadata": {},
   "outputs": [],
   "source": [
    "most_dangerous_countries = terror.groupby('country')['country'].count().sort_values(ascending=False)\n",
    "most_dangerous_countries2 = terror.groupby('country').sum()['deaths'].dropna().sort_values(ascending=False)\n",
    "\n",
    "countries = most_dangerous_countries.to_frame()\n",
    "countries.columns = ['events']\n",
    "countries['rank_event'] = range(1,len(countries.index)+1)\n",
    "countries = countries.reset_index()\n",
    "countries2 = most_dangerous_countries2.to_frame()\n",
    "countries2.columns = ['casualties']\n",
    "countries2['rank_casualties'] = range(1,len(countries2.index)+1)\n",
    "countries2 = countries2.reset_index()\n",
    "mgc = countries.merge(countries2, on='country') # We select the cities that are the most affected\n",
    "mgc = mgc.set_index('country')"
   ]
  },
  {
   "cell_type": "markdown",
   "metadata": {},
   "source": [
    "Iraq tops the list, and to illustrate the gap between the first few countries and the others, we will now introduce our final plot for this section, the rank by percentage of casualties :"
   ]
  },
  {
   "cell_type": "code",
   "execution_count": 670,
   "metadata": {},
   "outputs": [
    {
     "data": {
      "image/png": "[encoded data removed]",
      "text/plain": [
       "<matplotlib.figure.Figure at 0x12b6c2a20>"
      ]
     },
     "metadata": {},
     "output_type": "display_data"
    }
   ],
   "source": [
    "total_cas = mgc['casualties'].sum()\n",
    "mgc['per_casualties']=mgc['casualties'].map(lambda x: 100*x/total_cas)\n",
    "\n",
    "s = mgc.iloc[:6]['per_casualties'].sum()\n",
    "others = 100-s\n",
    "percentage = mgc['per_casualties'].iloc[:6].append(pd.Series({'Rest of the world':others}))\n",
    "percentage.rename(\"\").plot.pie(figsize=(8,8), title='Percentage of victims of terrorism by country')\n",
    "plt.show()"
   ]
  },
  {
   "cell_type": "markdown",
   "metadata": {},
   "source": [
    "In this astonishing ranking, we can highlight two important facts :\n",
    "\n",
    "- The first **6 countries** of the list gather **more than 70%** of all deaths by terror attacks, and the other 30% are shared between all the other (around 200) countries.  \n",
    "- The first European country in the list is France in 33th position. We can already imagine, before analyzing the social impact of those attacks, that this country has seen a much bigger social impact on the reactions to attacks, than most of the first 30 most hit countries."
   ]
  },
  {
   "cell_type": "markdown",
   "metadata": {},
   "source": [
    "### 3.3.3 Rise of ISIS\n",
    "Avec la partie 3.2 et 3.3, on devrait avoir assez d'info a leur montrer ! \n",
    "\n",
    "Et si on galère niveau temps, on se replie sur displayer des trucs sur le dataset wikipedia !"
   ]
  },
  {
   "cell_type": "markdown",
   "metadata": {},
   "source": [
    "## 4. Do the report"
   ]
  },
  {
   "cell_type": "code",
   "execution_count": null,
   "metadata": {
    "collapsed": true
   },
   "outputs": [],
   "source": []
  }
 ],
 "metadata": {
  "kernelspec": {
   "display_name": "Python [default]",
   "language": "python",
   "name": "python3"
  },
  "language_info": {
   "codemirror_mode": {
    "name": "ipython",
    "version": 3
   },
   "file_extension": ".py",
   "mimetype": "text/x-python",
   "name": "python",
   "nbconvert_exporter": "python",
   "pygments_lexer": "ipython3",
   "version": "3.6.1"
  }
 },
 "nbformat": 4,
 "nbformat_minor": 2
}
