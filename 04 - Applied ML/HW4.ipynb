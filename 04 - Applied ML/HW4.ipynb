{
 "cells": [
  {
   "cell_type": "markdown",
   "metadata": {},
   "source": [
    "## Deadline\n",
    "\n",
    "Wednesday, November 22, 2017, 11:59PM\n",
    "\n",
    "## Important notes\n",
    "\n",
    "- When you push your Notebook to GitHub, all the cells must already have been evaluated.\n",
    "- Don't forget to add a textual description of your thought process and of any assumptions you've made.\n",
    "- Please write all your comments in English, and use meaningful variable names in your code.\n",
    "\n",
    "## Question 1: Propensity score matching\n",
    "\n",
    "In this exercise, you will apply [propensity score matching](http://www.stewartschultz.com/statistics/books/Design%20of%20observational%20studies.pdf), which we discussed in lecture 5 (\"Observational studies\"), in order to draw conclusions from an observational study.\n",
    "\n",
    "We will work with a by-now classic dataset from Robert LaLonde's study \"[Evaluating the Econometric Evaluations of Training Programs](http://people.hbs.edu/nashraf/LaLonde_1986.pdf)\" (1986).\n",
    "The study investigated the effect of a job training program (\"National Supported Work Demonstration\") on the real earnings of an individual, a couple of years after completion of the program.\n",
    "Your task is to determine the effectiveness of the \"treatment\" represented by the job training program.\n",
    "\n",
    "#### Dataset description\n",
    "\n",
    "- `treat`: 1 if the subject participated in the job training program, 0 otherwise\n",
    "- `age`: the subject's age\n",
    "- `educ`: years of education\n",
    "- `race`: categorical variable with three possible values: Black, Hispanic, or White\n",
    "- `married`: 1 if the subject was married at the time of the training program, 0 otherwise\n",
    "- `nodegree`: 1 if the subject has earned no school degree, 0 otherwise\n",
    "- `re74`: real earnings in 1974 (pre-treatment)\n",
    "- `re75`: real earnings in 1975 (pre-treatment)\n",
    "- `re78`: real earnings in 1978 (outcome)\n",
    "\n",
    "If you want to brush up your knowledge on propensity scores and observational studies, we highly recommend Rosenbaum's excellent book on the [\"Design of Observational Studies\"](http://www.stewartschultz.com/statistics/books/Design%20of%20observational%20studies.pdf). Even just reading the first chapter (18 pages) will help you a lot.\n",
    "\n",
    "#### 1. A naive analysis\n",
    "\n",
    "Compare the distribution of the outcome variable (`re78`) between the two groups, using plots and numbers.\n",
    "To summarize and compare the distributions, you may use the techniques we discussed in lectures 4 (\"Read the stats carefully\") and 6 (\"Data visualization\").\n",
    "\n",
    "What might a naive \"researcher\" conclude from this superficial analysis?\n",
    "\n",
    "#### 2. A closer look at the data\n",
    "\n",
    "You're not naive, of course (and even if you are, you've learned certain things in ADA), so you aren't content with a superficial analysis such as the above.\n",
    "You're aware of the dangers of observational studies, so you take a closer look at the data before jumping to conclusions.\n",
    "\n",
    "For each feature in the dataset, compare its distribution in the treated group with its distribution in the control group, using plots and numbers.\n",
    "As above, you may use the techniques we discussed in class for summarizing and comparing the distributions.\n",
    "\n",
    "What do you observe?\n",
    "Describe what your observations mean for the conclusions drawn by the naive \"researcher\" from his superficial analysis.\n",
    "\n",
    "#### 3. A propensity score model\n",
    "\n",
    "Use logistic regression to estimate propensity scores for all points in the dataset.\n",
    "You may use `sklearn` to fit the logistic regression model and apply it to each data point to obtain propensity scores:\n",
    "\n",
    "```python\n",
    "from sklearn import linear_model\n",
    "logistic = linear_model.LogisticRegression()\n",
    "```\n",
    "\n",
    "Recall that the propensity score of a data point represents its probability of receiving the treatment, based on its pre-treatment features (in this case, age, education, pre-treatment income, etc.).\n",
    "To brush up on propensity scores, you may read chapter 3.3 of the above-cited book by Rosenbaum or [this article](https://drive.google.com/file/d/0B4jctQY-uqhzTlpBaTBJRTJFVFE/view).\n",
    "\n",
    "Note: you do not need a train/test split here. Train and apply the model on the entire dataset. If you're wondering why this is the right thing to do in this situation, recall that the propensity score model is not used in order to make predictions about unseen data. Its sole purpose is to balance the dataset across treatment groups.\n",
    "(See p. 74 of Rosenbaum's book for an explanation why slight overfitting is even good for propensity scores.\n",
    "If you want even more information, read [this article](https://drive.google.com/file/d/0B4jctQY-uqhzTlpBaTBJRTJFVFE/view).)\n",
    "\n",
    "#### 4. Balancing the dataset via matching\n",
    "\n",
    "Use the propensity scores to match each data point from the treated group with exactly one data point from the control group, while ensuring that each data point from the control group is matched with at most one data point from the treated group.\n",
    "(Hint: you may explore the `networkx` package in Python for predefined matching functions.)\n",
    "\n",
    "Your matching should maximize the similarity between matched subjects, as captured by their propensity scores.\n",
    "In other words, the sum (over all matched pairs) of absolute propensity-score differences between the two matched subjects should be minimized.\n",
    "\n",
    "After matching, you have as many treated as you have control subjects.\n",
    "Compare the outcomes (`re78`) between the two groups (treated and control).\n",
    "\n",
    "Also, compare again the feature-value distributions between the two groups, as you've done in part 2 above, but now only for the matched subjects.\n",
    "What do you observe?\n",
    "Are you closer to being able to draw valid conclusions now than you were before?\n",
    "\n",
    "\n",
    "#### 5. Balancing the groups further\n",
    "\n",
    "Based on your comparison of feature-value distributions from part 4, are you fully satisfied with your matching?\n",
    "Would you say your dataset is sufficiently balanced?\n",
    "If not, in what ways could the \"balanced\" dataset you have obtained still not allow you to draw valid conclusions?\n",
    "\n",
    "Improve your matching by explicitly making sure that you match only subjects that have the same value for the problematic feature.\n",
    "Argue with numbers and plots that the two groups (treated and control) are now better balanced than after part 4.\n",
    "\n",
    "\n",
    "#### 6. A less naive analysis\n",
    "\n",
    "Compare the outcomes (`re78`) between treated and control subjects, as you've done in part 1, but now only for the matched dataset you've obtained from part 5.\n",
    "What do you conclude about the effectiveness of the job training program?\n",
    "\n",
    "\n",
    "___\n",
    "\n",
    "## Question 2: Applied ML\n",
    "\n",
    "We are going to build a classifier of news to directly assign them to 20 news categories. Note that the pipeline that you will build in this exercise could be of great help during your project if you plan to work with text!\n",
    "\n",
    "1. Load the 20newsgroup dataset. It is, again, a classic dataset that can directly be loaded using sklearn ([link](http://scikit-learn.org/stable/datasets/twenty_newsgroups.html)).  \n",
    "[TF-IDF](https://en.wikipedia.org/wiki/Tf%E2%80%93idf), short for term frequencyâ€“inverse document frequency, is of great help when if comes to compute textual features. Indeed, it gives more importance to terms that are more specific to the considered articles (TF) but reduces the importance of terms that are very frequent in the entire corpus (IDF). Compute TF-IDF features for every article using [TfidfVectorizer](http://scikit-learn.org/stable/modules/generated/sklearn.feature_extraction.text.TfidfVectorizer.html). Then, split your dataset into a training, a testing and a validation set (10% for validation and 10% for testing). Each observation should be paired with its corresponding label (the article category).\n",
    "\n",
    "\n",
    "2. Train a random forest on your training set. Try to fine-tune the parameters of your predictor on your validation set using a simple grid search on the number of estimator \"n_estimators\" and the max depth of the trees \"max_depth\". Then, display a confusion matrix of your classification pipeline. Lastly, once you assessed your model, inspect the `feature_importances_` attribute of your random forest and discuss the obtained results.\n",
    "\n"
   ]
  },
  {
   "cell_type": "code",
   "execution_count": 1,
   "metadata": {
    "collapsed": true
   },
   "outputs": [],
   "source": [
    "import pandas as pd\n",
    "import numpy as np\n",
    "import matplotlib.pyplot as plt\n",
    "from scipy import stats\n",
    "from sklearn.linear_model import LinearRegression, LogisticRegression\n",
    "from sklearn.preprocessing import OneHotEncoder\n",
    "from pandas.plotting import scatter_matrix\n",
    "from sklearn.model_selection import cross_val_predict\n",
    "from sklearn.model_selection import cross_val_score\n",
    "import seaborn as sns\n",
    "import networkx as nx\n",
    "sns.set(color_codes=True)\n",
    "%matplotlib inline"
   ]
  },
  {
   "cell_type": "code",
   "execution_count": 2,
   "metadata": {
    "collapsed": true
   },
   "outputs": [],
   "source": [
    "df = pd.read_csv('lalonde.csv')"
   ]
  },
  {
   "cell_type": "code",
   "execution_count": 3,
   "metadata": {
    "collapsed": true
   },
   "outputs": [],
   "source": [
    "def bar_plot(x, y, title='', xlabel='', ylabel='', rotation=0):\n",
    "    fig, ax = plt.subplots(figsize=(10, 7))\n",
    "    ax.set_title(title, fontsize=15, fontweight='bold')\n",
    "    ax = sns.barplot(x, y, ax=ax, palette='Set1')\n",
    "    locs, labels = plt.xticks()\n",
    "    ax.set(xlabel=xlabel, ylabel=ylabel)\n",
    "    plt.setp(labels, rotation=rotation)\n",
    "    plt.show()"
   ]
  },
  {
   "cell_type": "markdown",
   "metadata": {},
   "source": [
    "# Question 1\n",
    "#### 1. Naive analysis"
   ]
  },
  {
   "cell_type": "code",
   "execution_count": 4,
   "metadata": {},
   "outputs": [
    {
     "data": {
      "text/html": [
       "<div>\n",
       "<style>\n",
       "    .dataframe thead tr:only-child th {\n",
       "        text-align: right;\n",
       "    }\n",
       "\n",
       "    .dataframe thead th {\n",
       "        text-align: left;\n",
       "    }\n",
       "\n",
       "    .dataframe tbody tr th {\n",
       "        vertical-align: top;\n",
       "    }\n",
       "</style>\n",
       "<table border=\"1\" class=\"dataframe\">\n",
       "  <thead>\n",
       "    <tr>\n",
       "      <th></th>\n",
       "      <th colspan=\"8\" halign=\"left\">re78</th>\n",
       "    </tr>\n",
       "    <tr>\n",
       "      <th></th>\n",
       "      <th>count</th>\n",
       "      <th>mean</th>\n",
       "      <th>std</th>\n",
       "      <th>min</th>\n",
       "      <th>25%</th>\n",
       "      <th>50%</th>\n",
       "      <th>75%</th>\n",
       "      <th>max</th>\n",
       "    </tr>\n",
       "    <tr>\n",
       "      <th>treat</th>\n",
       "      <th></th>\n",
       "      <th></th>\n",
       "      <th></th>\n",
       "      <th></th>\n",
       "      <th></th>\n",
       "      <th></th>\n",
       "      <th></th>\n",
       "      <th></th>\n",
       "    </tr>\n",
       "  </thead>\n",
       "  <tbody>\n",
       "    <tr>\n",
       "      <th>0</th>\n",
       "      <td>429.0</td>\n",
       "      <td>6984.169742</td>\n",
       "      <td>7294.161791</td>\n",
       "      <td>0.0</td>\n",
       "      <td>220.1813</td>\n",
       "      <td>4975.505</td>\n",
       "      <td>11688.820</td>\n",
       "      <td>25564.67</td>\n",
       "    </tr>\n",
       "    <tr>\n",
       "      <th>1</th>\n",
       "      <td>185.0</td>\n",
       "      <td>6349.143530</td>\n",
       "      <td>7867.402218</td>\n",
       "      <td>0.0</td>\n",
       "      <td>485.2298</td>\n",
       "      <td>4232.309</td>\n",
       "      <td>9642.999</td>\n",
       "      <td>60307.93</td>\n",
       "    </tr>\n",
       "  </tbody>\n",
       "</table>\n",
       "</div>"
      ],
      "text/plain": [
       "        re78                                                                \\\n",
       "       count         mean          std  min       25%       50%        75%   \n",
       "treat                                                                        \n",
       "0      429.0  6984.169742  7294.161791  0.0  220.1813  4975.505  11688.820   \n",
       "1      185.0  6349.143530  7867.402218  0.0  485.2298  4232.309   9642.999   \n",
       "\n",
       "                 \n",
       "            max  \n",
       "treat            \n",
       "0      25564.67  \n",
       "1      60307.93  "
      ]
     },
     "execution_count": 4,
     "metadata": {},
     "output_type": "execute_result"
    }
   ],
   "source": [
    "data = pd.read_csv(\"./lalonde.csv\")\n",
    "grouped_treated = data[[\"treat\", \"re78\"]].groupby(by=\"treat\")\n",
    "grouped_treated.describe()"
   ]
  },
  {
   "cell_type": "markdown",
   "metadata": {},
   "source": [
    "Very naively we can think that the treatment dosen't help to have better outcome (Except for the 25% quartiles and the max)"
   ]
  },
  {
   "cell_type": "code",
   "execution_count": 5,
   "metadata": {
    "collapsed": true
   },
   "outputs": [],
   "source": [
    "treated = grouped_treated.get_group(1)[\"re78\"]\n",
    "untreated = grouped_treated.get_group(0)[\"re78\"]"
   ]
  },
  {
   "cell_type": "code",
   "execution_count": 6,
   "metadata": {},
   "outputs": [
    {
     "data": {
      "text/plain": [
       "<matplotlib.axes._subplots.AxesSubplot at 0x28292f9ccc0>"
      ]
     },
     "execution_count": 6,
     "metadata": {},
     "output_type": "execute_result"
    },
    {
     "data": {
      "image/png": "[encoded data removed]",
      "text/plain": [
       "<matplotlib.figure.Figure at 0x28292facbe0>"
      ]
     },
     "metadata": {},
     "output_type": "display_data"
    }
   ],
   "source": [
    "sns.distplot(list(treated), kde=False, fit=stats.expon )"
   ]
  },
  {
   "cell_type": "code",
   "execution_count": 7,
   "metadata": {},
   "outputs": [
    {
     "data": {
      "text/plain": [
       "<matplotlib.axes._subplots.AxesSubplot at 0x28295103160>"
      ]
     },
     "execution_count": 7,
     "metadata": {},
     "output_type": "execute_result"
    },
    {
     "data": {
      "image/png": "[encoded data removed]",
      "text/plain": [
       "<matplotlib.figure.Figure at 0x282952744e0>"
      ]
     },
     "metadata": {},
     "output_type": "display_data"
    }
   ],
   "source": [
    "sns.distplot(list(untreated), kde=False, fit=stats.expon)"
   ]
  },
  {
   "cell_type": "markdown",
   "metadata": {},
   "source": [
    "#### 2. A closer look at the data\n",
    "\n",
    "In the previous part, we didn't sepreate the distribution between the treated group and the controle group. Thus, let us now compare the distribution between those two groups."
   ]
  },
  {
   "cell_type": "code",
   "execution_count": 8,
   "metadata": {
    "collapsed": true
   },
   "outputs": [],
   "source": [
    "grouped = data.groupby(\"treat\")\n",
    "treated = grouped.get_group(1)\n",
    "controlled = grouped.get_group(0)"
   ]
  },
  {
   "cell_type": "code",
   "execution_count": 9,
   "metadata": {},
   "outputs": [
    {
     "data": {
      "text/html": [
       "<div>\n",
       "<style>\n",
       "    .dataframe thead tr:only-child th {\n",
       "        text-align: right;\n",
       "    }\n",
       "\n",
       "    .dataframe thead th {\n",
       "        text-align: left;\n",
       "    }\n",
       "\n",
       "    .dataframe tbody tr th {\n",
       "        vertical-align: top;\n",
       "    }\n",
       "</style>\n",
       "<table border=\"1\" class=\"dataframe\">\n",
       "  <thead>\n",
       "    <tr style=\"text-align: right;\">\n",
       "      <th></th>\n",
       "      <th>black</th>\n",
       "      <th>hispan</th>\n",
       "      <th>married</th>\n",
       "      <th>nodegree</th>\n",
       "    </tr>\n",
       "    <tr>\n",
       "      <th>treat</th>\n",
       "      <th></th>\n",
       "      <th></th>\n",
       "      <th></th>\n",
       "      <th></th>\n",
       "    </tr>\n",
       "  </thead>\n",
       "  <tbody>\n",
       "    <tr>\n",
       "      <th>0</th>\n",
       "      <td>20.279720</td>\n",
       "      <td>14.219114</td>\n",
       "      <td>51.282051</td>\n",
       "      <td>59.673660</td>\n",
       "    </tr>\n",
       "    <tr>\n",
       "      <th>1</th>\n",
       "      <td>84.324324</td>\n",
       "      <td>5.945946</td>\n",
       "      <td>18.918919</td>\n",
       "      <td>70.810811</td>\n",
       "    </tr>\n",
       "  </tbody>\n",
       "</table>\n",
       "</div>"
      ],
      "text/plain": [
       "           black     hispan    married   nodegree\n",
       "treat                                            \n",
       "0      20.279720  14.219114  51.282051  59.673660\n",
       "1      84.324324   5.945946  18.918919  70.810811"
      ]
     },
     "execution_count": 9,
     "metadata": {},
     "output_type": "execute_result"
    }
   ],
   "source": [
    "binary_features = (grouped[\"black\", \"hispan\", \"married\",\"nodegree\"].sum()/grouped[\"black\", \"hispan\", \"married\", \"nodegree\"].count())*100\n",
    "binary_features"
   ]
  },
  {
   "cell_type": "markdown",
   "metadata": {},
   "source": [
    "We see directly, if we group by treated presonne that there are several unbalanced features. Indeed, the above table showed use the percentage of black, hispanic and married peaple. There are only 20% of people who were black and didn't particpate to the job training for 84% of where black and participate to the job training. For the hispan people we have roughly 10% less for the treatment than for whose for the none treament which is quiete acceptable. And for the married feature, here it's also unbalenced. (See the bar plots bellow)"
   ]
  },
  {
   "cell_type": "code",
   "execution_count": 10,
   "metadata": {},
   "outputs": [
    {
     "data": {
      "text/plain": [
       "<matplotlib.text.Text at 0x282954f30b8>"
      ]
     },
     "execution_count": 10,
     "metadata": {},
     "output_type": "execute_result"
    },
    {
     "data": {
      "image/png": "[encoded data removed]",
      "text/plain": [
       "<matplotlib.figure.Figure at 0x282953a8dd8>"
      ]
     },
     "metadata": {},
     "output_type": "display_data"
    }
   ],
   "source": [
    "fig, (ax1, ax2, ax3, ax4) = plt.subplots(nrows=1, ncols=4, sharex=True, sharey=False )\n",
    "\n",
    "binary_features[\"black\"].plot.bar(figsize = (15,8), ax = ax1)\n",
    "binary_features[\"hispan\"].plot.bar(figsize = (15,8), ax = ax2)\n",
    "binary_features[\"married\"].plot.bar(figsize = (15,8), ax = ax3)\n",
    "binary_features[\"nodegree\"].plot.bar(figsize = (15,8), ax = ax4)\n",
    "\n",
    "ax1.set_ylim(0,100)\n",
    "ax2.set_ylim(0,100)\n",
    "ax3.set_ylim(0,100)\n",
    "ax4.set_ylim(0,100)\n",
    "\n",
    "ax1.set_ylabel(\"Percentage of black people\", size=15)\n",
    "ax2.set_ylabel(\"Percentage of hispannic people\", size=15)\n",
    "ax3.set_ylabel(\"Percentage of married people\", size=15)\n",
    "ax4.set_ylabel(\"Percentage of people not having a school degree\", size=15)\n",
    "\n"
   ]
  },
  {
   "cell_type": "code",
   "execution_count": 11,
   "metadata": {},
   "outputs": [
    {
     "data": {
      "text/plain": [
       "<matplotlib.axes._subplots.AxesSubplot at 0x2829560d278>"
      ]
     },
     "execution_count": 11,
     "metadata": {},
     "output_type": "execute_result"
    },
    {
     "data": {
      "image/png": "[encoded data removed]",
      "text/plain": [
       "<matplotlib.figure.Figure at 0x282955af8d0>"
      ]
     },
     "metadata": {},
     "output_type": "display_data"
    }
   ],
   "source": [
    "fig, axes = plt.subplots(nrows=1, ncols=2, sharex=False, sharey=True )\n",
    "\n",
    "axes[0].set_xlabel(\"number of people\", size=15)\n",
    "axes[1].set_xlabel(\"number of people\", size=15)\n",
    "\n",
    "treated[\"age\"].plot.hist(alpha = 0.5, ax =  axes[0], figsize=(15,8), label =\"Treated\", legend='upper right')\n",
    "controlled[\"age\"].plot.hist(alpha = 0.5, ax = axes[0], figsize=(15,8), label =\"Untreated\", legend='upper right')\n",
    "\n",
    "treated[\"educ\"].plot.hist(alpha = 0.5, ax = axes[1], figsize=(15,8), label =\"Treated\", legend='upper right')\n",
    "controlled[\"educ\"].plot.hist(alpha = 0.5, ax = axes[1], figsize=(15,8), label =\"Untreated\", legend='upper right')\n",
    "\n",
    "\n"
   ]
  },
  {
   "cell_type": "markdown",
   "metadata": {},
   "source": [
    "From the two graphs above, we can see that the distribution follows the same pattern, but the frequency of people having received the treatment are much higher than untreated. This is obviously explained by knowing the there is more samples of untreated people than treated people.\n",
    "\n",
    "\n",
    "Let's now take a look of the people's income features"
   ]
  },
  {
   "cell_type": "code",
   "execution_count": 12,
   "metadata": {},
   "outputs": [
    {
     "data": {
      "text/plain": [
       "<matplotlib.axes._subplots.AxesSubplot at 0x2829581c1d0>"
      ]
     },
     "execution_count": 12,
     "metadata": {},
     "output_type": "execute_result"
    },
    {
     "data": {
      "image/png": "[encoded data removed]",
      "text/plain": [
       "<matplotlib.figure.Figure at 0x28295729630>"
      ]
     },
     "metadata": {},
     "output_type": "display_data"
    }
   ],
   "source": [
    "fig, axes = plt.subplots(nrows=1, ncols=3, sharex=True, sharey=True )\n",
    "\n",
    "axes[0].set_xlabel(\"Income\", size=15)\n",
    "axes[1].set_xlabel(\"Income\", size=15)\n",
    "axes[2].set_xlabel(\"Income\", size=15)\n",
    "\n",
    "treated[\"re74\"].plot.hist(alpha = 0.5, ax =  axes[0], figsize=(15,8), label =\"Treated\", legend='upper right', title=\"Income of year 74\")\n",
    "controlled[\"re74\"].plot.hist(alpha = 0.5, ax = axes[0], figsize=(15,8), label =\"Untreated\", legend='upper right', title=\"Income of year 74\")\n",
    "\n",
    "treated[\"re75\"].plot.hist(alpha = 0.5, ax = axes[1], figsize=(15,8), label =\"Treated\", legend='upper right', title=\"Income of year 75\")\n",
    "controlled[\"re75\"].plot.hist(alpha = 0.5, ax = axes[1], figsize=(15,8), label =\"Unreated\", legend='upper right', title=\"Income of year 75\")\n",
    "\n",
    "treated[\"re78\"].plot.hist(alpha = 0.5, ax = axes[2], figsize=(15,8), label =\"Treated\", legend='upper right', title=\"Income of year 78\")\n",
    "controlled[\"re78\"].plot.hist(alpha = 0.5, ax = axes[2], figsize=(15,8), label =\"Unreated\", legend='upper right', title=\"Income of year 78\")"
   ]
  },
  {
   "cell_type": "markdown",
   "metadata": {},
   "source": [
    "Me see clearly that in year 78 the income of the people that particpate to the experiment raise significantly, for both the treated and untreated group. We are tempted to say that the outliers for the Treated people in 74, 75 are the same one in 78 and that the training was effectively usefull."
   ]
  },
  {
   "cell_type": "markdown",
   "metadata": {},
   "source": [
    "#### 3."
   ]
  },
  {
   "cell_type": "code",
   "execution_count": 13,
   "metadata": {
    "collapsed": true
   },
   "outputs": [],
   "source": [
    "df['race'] = 'white'\n",
    "df.loc[df.black == 1, 'race'] = 'black'\n",
    "df.loc[df.hispan == 1, 'race'] = 'hispanic'\n",
    "df = df.drop(['black', 'hispan'], axis=1)"
   ]
  },
  {
   "cell_type": "markdown",
   "metadata": {},
   "source": [
    "We will do the regression for every column below, i.e. the age, the education, the race, the marital status, and the degree status"
   ]
  },
  {
   "cell_type": "code",
   "execution_count": 14,
   "metadata": {
    "collapsed": true
   },
   "outputs": [],
   "source": [
    "feature_cols = ['age', 'educ', 'race', 'married', 'nodegree']\n",
    "X = pd.get_dummies(df[feature_cols], columns=['race'])\n",
    "y = df['treat']"
   ]
  },
  {
   "cell_type": "code",
   "execution_count": 15,
   "metadata": {},
   "outputs": [
    {
     "data": {
      "text/plain": [
       "LogisticRegression(C=1.0, class_weight=None, dual=False, fit_intercept=True,\n",
       "          intercept_scaling=1, max_iter=100, multi_class='ovr', n_jobs=1,\n",
       "          penalty='l2', random_state=None, solver='liblinear', tol=0.0001,\n",
       "          verbose=0, warm_start=False)"
      ]
     },
     "execution_count": 15,
     "metadata": {},
     "output_type": "execute_result"
    }
   ],
   "source": [
    "logistic = LogisticRegression()\n",
    "logistic.fit(X, y)"
   ]
  },
  {
   "cell_type": "markdown",
   "metadata": {},
   "source": [
    "Here is the percentage of correct prediction"
   ]
  },
  {
   "cell_type": "code",
   "execution_count": 16,
   "metadata": {},
   "outputs": [
    {
     "name": "stdout",
     "output_type": "stream",
     "text": [
      "82.25%\n"
     ]
    }
   ],
   "source": [
    "print('{:.2f}%'.format((1 - np.count_nonzero(np.array(y) - logistic.predict(X)) / len(y)) * 100))"
   ]
  },
  {
   "cell_type": "code",
   "execution_count": 17,
   "metadata": {},
   "outputs": [
    {
     "data": {
      "image/png": "[encoded data removed]",
      "text/plain": [
       "<matplotlib.figure.Figure at 0x282961dc860>"
      ]
     },
     "metadata": {},
     "output_type": "display_data"
    }
   ],
   "source": [
    "dfp = df.copy() # p stands for propensity\n",
    "dfp['prop'] = logistic.predict_proba(X)[:,1]\n",
    "sns.violinplot(x=dfp.treat, y=dfp.prop, data=dfp)\n",
    "sns.plt.show()"
   ]
  },
  {
   "cell_type": "markdown",
   "metadata": {},
   "source": [
    "#### 4."
   ]
  },
  {
   "cell_type": "markdown",
   "metadata": {},
   "source": [
    "We compute a bipartite graph of `networkx` library, putting the ids of the treated group on one side and the ids of the untreated group on the other side"
   ]
  },
  {
   "cell_type": "code",
   "execution_count": 18,
   "metadata": {},
   "outputs": [],
   "source": [
    "B = nx.Graph()\n",
    "\n",
    "treatp = dfp[dfp.treat.astype(bool)].reset_index()\n",
    "ntreatp = dfp[~dfp.treat.astype(bool)].reset_index()\n",
    "\n",
    "B.add_nodes_from(treatp.id, bipartite=0)\n",
    "B.add_nodes_from(ntreatp.id, bipartite=1)\n",
    "\n",
    "for i, id1 in treatp.id.iteritems():\n",
    "    for j, id2 in ntreatp.id.iteritems():\n",
    "        w = -abs(treatp.iloc[i].prop - ntreatp.iloc[j].prop)\n",
    "        B.add_edge(id1, id2, weight=w)"
   ]
  },
  {
   "cell_type": "code",
   "execution_count": 19,
   "metadata": {
    "collapsed": true
   },
   "outputs": [],
   "source": [
    "matching = nx.max_weight_matching(B, True)"
   ]
  },
  {
   "cell_type": "markdown",
   "metadata": {},
   "source": [
    "Printing the 10 first matched elements"
   ]
  },
  {
   "cell_type": "code",
   "execution_count": 20,
   "metadata": {},
   "outputs": [
    {
     "name": "stdout",
     "output_type": "stream",
     "text": [
      "  id1   |   p1  ->   p2  |   id2   |   diff\n",
      "--------|----------------|---------|--------\n",
      "PSID425 | 0.115 -> 0.676 |   NSW36 | (0.561)\n",
      "PSID423 | 0.706 -> 0.706 |  NSW164 | (0.000)\n",
      "PSID411 | 0.706 -> 0.706 |   NSW25 | (0.000)\n",
      "PSID401 | 0.706 -> 0.706 |  NSW171 | (0.000)\n",
      "PSID398 | 0.678 -> 0.678 |   NSW43 | (0.000)\n",
      "PSID392 | 0.706 -> 0.706 |   NSW31 | (0.000)\n",
      "PSID389 | 0.719 -> 0.719 |   NSW53 | (0.000)\n",
      "PSID388 | 0.720 -> 0.720 |  NSW105 | (0.000)\n",
      "PSID386 | 0.646 -> 0.646 |  NSW120 | (0.000)\n",
      "PSID381 | 0.661 -> 0.720 |  NSW132 | (0.059)\n"
     ]
    }
   ],
   "source": [
    "print('  id1   |   p1  ->   p2  |   id2   |   diff')\n",
    "print('--------|----------------|---------|--------')\n",
    "for k, v in list(matching.items())[::2][:10]:\n",
    "    pk = list(dfp[dfp.id == k].prop)[0]\n",
    "    pv = list(dfp[dfp.id == v].prop)[0]\n",
    "    dp = abs(pk - pv)\n",
    "    print('{:>7} | {:.3f} -> {:.3f} | {:>7} | ({:.3f})'.format(k, pk, pv, v, dp))"
   ]
  },
  {
   "cell_type": "code",
   "execution_count": 21,
   "metadata": {
    "collapsed": true
   },
   "outputs": [],
   "source": [
    "df_matched = df[[df.iloc[j].id in matching for j in range(df.shape[0])]]"
   ]
  },
  {
   "cell_type": "code",
   "execution_count": 22,
   "metadata": {
    "collapsed": true
   },
   "outputs": [],
   "source": [
    "X_matched = pd.get_dummies(df_matched[feature_cols], columns=['race'])\n",
    "y_matched = df_matched['treat']"
   ]
  },
  {
   "cell_type": "code",
   "execution_count": 23,
   "metadata": {},
   "outputs": [
    {
     "data": {
      "text/plain": [
       "LogisticRegression(C=1.0, class_weight=None, dual=False, fit_intercept=True,\n",
       "          intercept_scaling=1, max_iter=100, multi_class='ovr', n_jobs=1,\n",
       "          penalty='l2', random_state=None, solver='liblinear', tol=0.0001,\n",
       "          verbose=0, warm_start=False)"
      ]
     },
     "execution_count": 23,
     "metadata": {},
     "output_type": "execute_result"
    }
   ],
   "source": [
    "logistic_matched = LogisticRegression()\n",
    "logistic_matched.fit(X_matched, y_matched)"
   ]
  },
  {
   "cell_type": "code",
   "execution_count": 24,
   "metadata": {
    "scrolled": true
   },
   "outputs": [
    {
     "data": {
      "image/png": "[encoded data removed]",
      "text/plain": [
       "<matplotlib.figure.Figure at 0x28295293ef0>"
      ]
     },
     "metadata": {},
     "output_type": "display_data"
    }
   ],
   "source": [
    "dfp_matched = df_matched.copy()\n",
    "dfp_matched['prop'] = logistic_matched.predict_proba(X_matched)[:,1]\n",
    "sns.violinplot(x=dfp_matched.treat, y=dfp_matched.prop, data=dfp_matched)\n",
    "sns.plt.show()"
   ]
  },
  {
   "cell_type": "markdown",
   "metadata": {},
   "source": [
    "We see that this is more balanced compared to the first violin plot"
   ]
  }
 ],
 "metadata": {
  "kernelspec": {
   "display_name": "Python 3",
   "language": "python",
   "name": "python3"
  },
  "language_info": {
   "codemirror_mode": {
    "name": "ipython",
    "version": 3
   },
   "file_extension": ".py",
   "mimetype": "text/x-python",
   "name": "python",
   "nbconvert_exporter": "python",
   "pygments_lexer": "ipython3",
   "version": "3.6.1"
  }
 },
 "nbformat": 4,
 "nbformat_minor": 2
}
