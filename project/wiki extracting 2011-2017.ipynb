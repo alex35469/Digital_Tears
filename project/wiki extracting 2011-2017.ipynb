{
 "cells": [
  {
   "cell_type": "code",
   "execution_count": 2,
   "metadata": {
    "collapsed": true
   },
   "outputs": [],
   "source": [
    "import requests\n",
    "import pandas as pd\n",
    "from bs4 import BeautifulSoup\n",
    "%matplotlib inline"
   ]
  },
  {
   "cell_type": "code",
   "execution_count": 3,
   "metadata": {
    "collapsed": true
   },
   "outputs": [],
   "source": [
    "from datetime import date\n",
    "import re"
   ]
  },
  {
   "cell_type": "code",
   "execution_count": 4,
   "metadata": {
    "collapsed": true
   },
   "outputs": [],
   "source": [
    "# Simple map of month name to its number\n",
    "month_to_int = {\n",
    "    'January': 1,\n",
    "    'February': 2,\n",
    "    'March': 3,\n",
    "    'April': 4,\n",
    "    'May': 5,\n",
    "    'June': 6,\n",
    "    'July': 7,\n",
    "    'August': 8,\n",
    "    'September': 9,\n",
    "    'October': 10,\n",
    "    'November': 11,\n",
    "    'December': 12\n",
    "}\n",
    "\n",
    "# Reversed map\n",
    "int_to_month = {i: m for m, i in month_to_int.items()}"
   ]
  },
  {
   "cell_type": "code",
   "execution_count": 5,
   "metadata": {
    "collapsed": true
   },
   "outputs": [],
   "source": [
    "# The wikipedia URL that every article has in common\n",
    "base_url = 'https://en.wikipedia.org/wiki/List_of_terrorist_incidents_in_'"
   ]
  },
  {
   "cell_type": "code",
   "execution_count": 6,
   "metadata": {},
   "outputs": [
    {
     "data": {
      "text/plain": [
       "{'April_2015': [4],\n",
       " 'April_2016': [4],\n",
       " 'April_2017': [4],\n",
       " 'August_2015': [8],\n",
       " 'August_2016': [8],\n",
       " 'August_2017': [8],\n",
       " 'December_2015': [12],\n",
       " 'December_2016': [12],\n",
       " 'December_2017': [12],\n",
       " 'February_2015': [2],\n",
       " 'February_2016': [2],\n",
       " 'February_2017': [2],\n",
       " 'January-June_2011': [1, 2, 3, 4, 5, 6],\n",
       " 'January-June_2012': [1, 2, 3, 4, 5, 6],\n",
       " 'January-June_2013': [1, 2, 3, 4, 5, 6],\n",
       " 'January-June_2014': [1, 2, 3, 4, 5, 6],\n",
       " 'January_2015': [1],\n",
       " 'January_2016': [1],\n",
       " 'January_2017': [1],\n",
       " 'July-December_2011': [7, 8, 9, 10, 11, 12],\n",
       " 'July-December_2012': [7, 8, 9, 10, 11, 12],\n",
       " 'July-December_2013': [7, 8, 9, 10, 11, 12],\n",
       " 'July-December_2014': [7, 8, 9, 10, 11, 12],\n",
       " 'July_2015': [7],\n",
       " 'July_2016': [7],\n",
       " 'July_2017': [7],\n",
       " 'June_2015': [6],\n",
       " 'June_2016': [6],\n",
       " 'June_2017': [6],\n",
       " 'March_2015': [3],\n",
       " 'March_2016': [3],\n",
       " 'March_2017': [3],\n",
       " 'May_2015': [5],\n",
       " 'May_2016': [5],\n",
       " 'May_2017': [5],\n",
       " 'November_2015': [11],\n",
       " 'November_2016': [11],\n",
       " 'November_2017': [11],\n",
       " 'October_2015': [10],\n",
       " 'October_2016': [10],\n",
       " 'October_2017': [10],\n",
       " 'September_2015': [9],\n",
       " 'September_2016': [9],\n",
       " 'September_2017': [9]}"
      ]
     },
     "execution_count": 6,
     "metadata": {},
     "output_type": "execute_result"
    }
   ],
   "source": [
    "# All specific end of the wikipedia URL, along with the corresponding month numbers of the article\n",
    "times = {}\n",
    "\n",
    "for year in range(2011, 2015):\n",
    "    # For years 2011 to 2014, the articles appear biyearly\n",
    "    times.update({'January-June_' + str(year): list(range(1, 7))})\n",
    "    times.update({'July-December_' + str(year): list(range(7, 13))})\n",
    "    \n",
    "for year in range(2015, 2018):\n",
    "    # For years 2015 to 2017, the articles appear monthly\n",
    "    for month, int_ in month_to_int.items():\n",
    "        times.update({month + '_' + str(year): [int_]})\n",
    "        \n",
    "times"
   ]
  },
  {
   "cell_type": "code",
   "execution_count": 7,
   "metadata": {
    "collapsed": true
   },
   "outputs": [],
   "source": [
    "def to_int(s):\n",
    "    '''Returns the first integer found in s'''\n",
    "    i = re.findall('\\d+', s)\n",
    "    return int(i[0]) if len(i) > 0 else float('NaN')"
   ]
  },
  {
   "cell_type": "code",
   "execution_count": 8,
   "metadata": {
    "collapsed": true
   },
   "outputs": [],
   "source": [
    "def to_date(s, year):\n",
    "    '''Returns a date from the datetime library from a string like \\'January 1\\''''\n",
    "    l = s.split(' ')\n",
    "    return date(to_int(year), month_to_int[l[0]], to_int(l[1]))"
   ]
  },
  {
   "cell_type": "code",
   "execution_count": 9,
   "metadata": {
    "collapsed": true
   },
   "outputs": [],
   "source": [
    "def wiki_table_to_df(end_url, month_range, base_url=base_url):\n",
    "    print(end_url)\n",
    "    r = requests.get(base_url + end_url) # Get request\n",
    "    soup = BeautifulSoup(r.text, 'lxml') # Parse HTML\n",
    "    wiki_tables = soup.findAll('table', {'class': 'wikitable sortable'}) # Get tables from the wikipedia page\n",
    "\n",
    "    table = []\n",
    "\n",
    "    for month_int, wiki_table in zip(month_range, wiki_tables):\n",
    "        for row in wiki_table.findAll('tr'):\n",
    "            elems = row.findAll('td') \n",
    "            if len(elems) != 0:\n",
    "                interesting = [elem.text for elem in elems[:5]]\n",
    "                 # First element is the day of the month, but we add the name of the month as well in front of it\n",
    "                interesting[0] = int_to_month[month_int] + ' ' + interesting[0]\n",
    "                table.append(interesting)\n",
    "                \n",
    "    df = pd.DataFrame(table, columns=['date', 'type', 'deaths', 'injuries', 'location'])\n",
    "    df.date = df.date.apply(lambda s: to_date(s, end_url[-4:])) # Translate the date with the year defined by the end_url arg\n",
    "    df.deaths = df.deaths.apply(to_int) # Map death number to int\n",
    "    df.injuries = df.injuries.apply(to_int) # Map injuries number to int\n",
    "    \n",
    "    return df"
   ]
  },
  {
   "cell_type": "code",
   "execution_count": 10,
   "metadata": {},
   "outputs": [
    {
     "name": "stdout",
     "output_type": "stream",
     "text": [
      "January-June_2011\n",
      "July-December_2011\n",
      "January-June_2012\n",
      "July-December_2012\n",
      "January-June_2013\n",
      "July-December_2013\n",
      "January-June_2014\n",
      "July-December_2014\n",
      "January_2015\n",
      "February_2015\n",
      "March_2015\n",
      "April_2015\n",
      "May_2015\n",
      "June_2015\n",
      "July_2015\n",
      "August_2015\n",
      "September_2015\n",
      "October_2015\n",
      "November_2015\n",
      "December_2015\n",
      "January_2016\n",
      "February_2016\n",
      "March_2016\n",
      "April_2016\n",
      "May_2016\n",
      "June_2016\n",
      "July_2016\n",
      "August_2016\n",
      "September_2016\n",
      "October_2016\n",
      "November_2016\n",
      "December_2016\n",
      "January_2017\n",
      "February_2017\n",
      "March_2017\n",
      "April_2017\n",
      "May_2017\n",
      "June_2017\n",
      "July_2017\n",
      "August_2017\n",
      "September_2017\n",
      "October_2017\n",
      "November_2017\n",
      "December_2017\n"
     ]
    }
   ],
   "source": [
    "dfs = []\n",
    "\n",
    "# Get a DataFrame for every article from 2011 to 2017\n",
    "for time, month_range in times.items():\n",
    "    dfs.append(wiki_table_to_df(time, month_range))\n",
    "    \n",
    "df = pd.concat(dfs)"
   ]
  },
  {
   "cell_type": "code",
   "execution_count": 11,
   "metadata": {
    "collapsed": true
   },
   "outputs": [],
   "source": [
    "# Reindex and save\n",
    "df.reset_index().to_csv('attacks.csv')"
   ]
  },
  {
   "cell_type": "code",
   "execution_count": 29,
   "metadata": {},
   "outputs": [],
   "source": [
    "a = {1: ['a', 'b'], 2: ['c', 'd']}\n",
    "b = {1: 'e', 2: 'f'}\n",
    "\n",
    "for k, v in b.items():\n",
    "    a[k].append(v)"
   ]
  },
  {
   "cell_type": "code",
   "execution_count": 30,
   "metadata": {},
   "outputs": [
    {
     "data": {
      "text/plain": [
       "{1: ['a', 'b', 'e'], 2: ['c', 'd', 'f']}"
      ]
     },
     "execution_count": 30,
     "metadata": {},
     "output_type": "execute_result"
    }
   ],
   "source": [
    "a"
   ]
  },
  {
   "cell_type": "code",
   "execution_count": 32,
   "metadata": {
    "collapsed": true
   },
   "outputs": [],
   "source": [
    "a[3] = ['r']"
   ]
  },
  {
   "cell_type": "code",
   "execution_count": 33,
   "metadata": {},
   "outputs": [
    {
     "data": {
      "text/plain": [
       "{1: ['a', 'b', 'e'], 2: ['c', 'd', 'f'], 3: ['r']}"
      ]
     },
     "execution_count": 33,
     "metadata": {},
     "output_type": "execute_result"
    }
   ],
   "source": [
    "a"
   ]
  },
  {
   "cell_type": "code",
   "execution_count": 36,
   "metadata": {},
   "outputs": [],
   "source": [
    "a, b = {}, {}"
   ]
  }
 ],
 "metadata": {
  "kernelspec": {
   "display_name": "Python 3",
   "language": "python",
   "name": "python3"
  },
  "language_info": {
   "codemirror_mode": {
    "name": "ipython",
    "version": 3
   },
   "file_extension": ".py",
   "mimetype": "text/x-python",
   "name": "python",
   "nbconvert_exporter": "python",
   "pygments_lexer": "ipython3",
   "version": "3.6.1"
  }
 },
 "nbformat": 4,
 "nbformat_minor": 2
}
