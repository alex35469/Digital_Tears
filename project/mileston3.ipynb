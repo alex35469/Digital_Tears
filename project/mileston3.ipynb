{
 "cells": [
  {
   "cell_type": "markdown",
   "metadata": {},
   "source": [
    "## Important: to  view the maps of the notebook (section 3), please follow this link :\n",
    "http://nbviewer.jupyter.org/github/dav1248/ada_perons/blob/master/project/mileston3.ipynb"
   ]
  },
  {
   "cell_type": "markdown",
   "metadata": {},
   "source": [
    "# ADA Project : Milestone 3 Notebook"
   ]
  },
  {
   "cell_type": "markdown",
   "metadata": {},
   "source": [
    "In this notebook, we will introduce you to the dataset that we chose by locally importing a part of in, and store it in a dataframe. Hence, we will be able to have an insight on the work that we will perform on the full dataset."
   ]
  },
  {
   "cell_type": "code",
   "execution_count": null,
   "metadata": {
    "collapsed": true
   },
   "outputs": [],
   "source": [
    "import json\n",
    "import re\n",
    "import numpy as np\n",
    "import pandas as pd\n",
    "from datetime import date, timedelta\n",
    "import requests\n",
    "from bs4 import BeautifulSoup\n",
    "from dateutil.parser import parse\n",
    "import csv\n",
    "import folium\n",
    "from pyspark.sql import *\n",
    "from pyspark import SparkContext, SQLContext\n",
    "%matplotlib inline"
   ]
  },
  {
   "cell_type": "markdown",
   "metadata": {},
   "source": [
    "## 1. Twitter dataset data collection, from cluster to dataframe\n",
    "\n",
    "In this section, we will make some operation with the help of Spark, to access, filter and export the useful tweets from the cluster to our computer."
   ]
  },
  {
   "cell_type": "markdown",
   "metadata": {},
   "source": [
    "### A few words about what we noticed for our dataset \n",
    "\n",
    "First, the twitter dataset starts from year 2012.\n",
    "In the date section, the hour has been scaled, so that the tweet time is always relative to GMT+00. This will be of use when we will relate tweet dates and times with the Wikipedia dataframe."
   ]
  },
  {
   "cell_type": "markdown",
   "metadata": {},
   "source": [
    "### 1.1 Filtering the useful tweets\n",
    "\n",
    "We start by declaring the Spark Context in order to make the link with the cluster. With Spark installed locally, we are able to query the cluster directly in the notebook."
   ]
  },
  {
   "cell_type": "code",
   "execution_count": 8,
   "metadata": {
    "collapsed": true
   },
   "outputs": [],
   "source": [
    "sc = SparkContext()"
   ]
  },
  {
   "cell_type": "code",
   "execution_count": 9,
   "metadata": {
    "collapsed": true
   },
   "outputs": [],
   "source": [
    "text_file = sc.textFile(\"hdfs:///datasets/tweets-leon\")"
   ]
  },
  {
   "cell_type": "markdown",
   "metadata": {},
   "source": [
    "The idea of our filter is that we want to work with data that is already highly focused on our subject : terrorist  attacks. For the Milestone 2, we implemented a filter that considered different languages. Following the feedback from the TAs, we decided to stick with only English as the language of the tweets and the keywords, to go back to a **more simple, but more precise filter**. When a tweet is passed through the filter, we will compute the tweet score depending on its content and, if the score is high enough, select the tweet to be part of our dataframe. "
   ]
  },
  {
   "cell_type": "markdown",
   "metadata": {},
   "source": [
    "**We define below a few helper functions that will be used for our inition filter :** \n",
    "\n"
   ]
  },
  {
   "cell_type": "markdown",
   "metadata": {},
   "source": [
    "This function is the heart of the filter. Five lists are detailed, representing words of different importance. "
   ]
  },
  {
   "cell_type": "code",
   "execution_count": 10,
   "metadata": {
    "collapsed": true
   },
   "outputs": [],
   "source": [
    "def words_to_match():\n",
    "    \n",
    "\n",
    "    language = 'en'\n",
    "    \n",
    "    t1 = ['terror attack', 'terrorist attack','suicide bombing','mass shooting']\n",
    "\n",
    "\n",
    "\n",
    "    t2 = ['suicide bomber','car bombing','drone bombing','mass execution','improvised explosive device','truck bomb','grenade attack','train bombing']\n",
    "\n",
    "\n",
    "    t3 = [' ied', 'hijacking','genocide','bomb attack','vehicule attack','assasination','terrorism','weapon','knife','assault rifle','dead','deaths','died','injured','kill','plant','drive-by shooting','hostage','execution']\n",
    "\n",
    "\n",
    "    hashtag = ['#prayfor','#terrorism','#terrorists','#terrorattack']\n",
    "\n",
    "    malus_list = ['years ago','year ago', 'months ago','month ago','anniversary']\n",
    "    \n",
    "    l = [t1,t2,t3,hashtag,malus_list]\n",
    "    \n",
    "    return l"
   ]
  },
  {
   "cell_type": "markdown",
   "metadata": {},
   "source": [
    "The below function computes the importance of a tweet by assigning specific weights to every tweet. The assignment is done by iterating on all interesting words, looking whether they occur in the tweet content. According to the word's affiliation to one of the lists, different weight are incremented. If the total weight of the tweet reaches the threshold value (here 1.0), the filter returns True."
   ]
  },
  {
   "cell_type": "code",
   "execution_count": 11,
   "metadata": {
    "collapsed": true
   },
   "outputs": [],
   "source": [
    "def is_interesting(content,l):\n",
    "    \n",
    "    content = content.lower()\n",
    "    \n",
    "    lang = content[:2]\n",
    "    \n",
    "    \n",
    "    weight=0.0\n",
    "    \n",
    "    \n",
    "    \n",
    "    for w in l[0]:\n",
    "        if w in content:\n",
    "            weight+=1.0\n",
    "\n",
    "    for w in l[1]:\n",
    "        if w in content:\n",
    "            weight+=0.9\n",
    "\n",
    "    for w in l[2]:\n",
    "        if w in content:\n",
    "            weight+=0.1\n",
    "             \n",
    "    for w in l[3]:\n",
    "        if w in content:\n",
    "            weight+=0.7\n",
    "            \n",
    "            \n",
    "    for w in l[3]:\n",
    "        if w in content:\n",
    "            weight-=0.5\n",
    "    \n",
    "    return (weight >= 1)\n",
    "    "
   ]
  },
  {
   "cell_type": "markdown",
   "metadata": {},
   "source": [
    "We declare the variable `bds` to be the three filtering dictionnaries. It will serve as an input of our filtering function."
   ]
  },
  {
   "cell_type": "code",
   "execution_count": 12,
   "metadata": {
    "collapsed": true
   },
   "outputs": [],
   "source": [
    "bds = words_to_match()"
   ]
  },
  {
   "cell_type": "markdown",
   "metadata": {},
   "source": [
    "Next, we actually call spark by filtering the data in the cluster with our filter, to then take a subset of defined size. We proceed to write it to a text file for later use."
   ]
  },
  {
   "cell_type": "code",
   "execution_count": 13,
   "metadata": {
    "collapsed": true
   },
   "outputs": [],
   "source": [
    "terrorism = text_file.filter(lambda t: is_interesting(t,bds)).take(10)"
   ]
  },
  {
   "cell_type": "code",
   "execution_count": 14,
   "metadata": {
    "collapsed": true
   },
   "outputs": [],
   "source": [
    "file_t = open('tweets_terror3.txt','w')\n",
    "for item in terrorism:\n",
    "    file_t.write(\"%s\\n\" % item)"
   ]
  },
  {
   "cell_type": "code",
   "execution_count": 15,
   "metadata": {},
   "outputs": [
    {
     "data": {
      "text/plain": [
       "['en\\t345965752198762497\\tSat Jun 15 18:07:17 +0000 2013\\tSangyeH\\tRT @AnnieSage: Unbelievable.... @thinkprogress: In the 6 months since Newtown, there have been FOURTEEN mass shootings http://t.co/yfClLGdx…',\n",
       " 'en\\t345965794213117952\\tSat Jun 15 18:07:27 +0000 2013\\tSR_Brant\\tRT @AnnieSage: Unbelievable.... @thinkprogress: In the 6 months since Newtown, there have been FOURTEEN mass shootings http://t.co/yfClLGdx…',\n",
       " 'en\\t345968344391884800\\tSat Jun 15 18:17:35 +0000 2013\\tkiraababee\\tRT @SweaterGawd: I cum faster than the fbi during a terrorist attack - 😳 shoulda kept that to yourself homie',\n",
       " 'en\\t345968730020384768\\tSat Jun 15 18:19:07 +0000 2013\\tdrgauravn85\\t@asma_rehman02 even your feeder USA is agreed your role in terrorist attacks',\n",
       " 'en\\t345969984171823104\\tSat Jun 15 18:24:06 +0000 2013\\tWatchTVChannels\\tQuetta Carnage: 23 killed in terrorist attacks http://t.co/CZm3wp7kki http://t.co/FLreqkpteK']"
      ]
     },
     "execution_count": 15,
     "metadata": {},
     "output_type": "execute_result"
    }
   ],
   "source": [
    "terrorism[:5]"
   ]
  },
  {
   "cell_type": "markdown",
   "metadata": {},
   "source": [
    "### 1.2 Handling the filtered tweets\n",
    "\n",
    "#### Some issues we encountered:\n",
    "\n",
    "1)    Tweets can countain retweet so many times the same tweet can appear with a retweet identification: `RT @<username>`\n",
    "    - Resolved by adding Frequency parameter for tweet that has been retweet \n",
    "    - Even tough we separeted the tweet from the retweet some of the tweets appears many time without the Retweet identification. It is still important to distinguish them and not count them many times since we reckon that simply copying a message or retweeting a message has less significance than creating it.\n",
    "    \n",
    "2)    Even if we remove the retweet, some tweets are still the same but have not the same length which can lead to count separetly the same tweet\n",
    "    - Resolved by putting a fixed max length to all tweet\n",
    "    - Or by testing if a string is in another (Complicated solution not adopted)"
   ]
  },
  {
   "cell_type": "code",
   "execution_count": 17,
   "metadata": {
    "collapsed": true
   },
   "outputs": [],
   "source": [
    "# Read the filtered tweets from the .txt files\n",
    "tweets_raw = pd.read_csv(delimiter=\"\\t\",filepath_or_buffer='tweets_terr.txt', names=[\"lan\",\"id\",\"date\", \"user_name\", \"content\"],encoding='utf-8',quoting=csv.QUOTE_NONE)"
   ]
  },
  {
   "cell_type": "code",
   "execution_count": 18,
   "metadata": {},
   "outputs": [
    {
     "data": {
      "text/html": [
       "<div>\n",
       "<style>\n",
       "    .dataframe thead tr:only-child th {\n",
       "        text-align: right;\n",
       "    }\n",
       "\n",
       "    .dataframe thead th {\n",
       "        text-align: left;\n",
       "    }\n",
       "\n",
       "    .dataframe tbody tr th {\n",
       "        vertical-align: top;\n",
       "    }\n",
       "</style>\n",
       "<table border=\"1\" class=\"dataframe\">\n",
       "  <thead>\n",
       "    <tr style=\"text-align: right;\">\n",
       "      <th></th>\n",
       "      <th>lan</th>\n",
       "      <th>id</th>\n",
       "      <th>date</th>\n",
       "      <th>user_name</th>\n",
       "      <th>content</th>\n",
       "    </tr>\n",
       "  </thead>\n",
       "  <tbody>\n",
       "    <tr>\n",
       "      <th>0</th>\n",
       "      <td>en</td>\n",
       "      <td>3.459658e+17</td>\n",
       "      <td>Sat Jun 15 18:07:17 +0000 2013</td>\n",
       "      <td>SangyeH</td>\n",
       "      <td>RT @AnnieSage: Unbelievable.... @thinkprogress...</td>\n",
       "    </tr>\n",
       "    <tr>\n",
       "      <th>1</th>\n",
       "      <td>en</td>\n",
       "      <td>3.459658e+17</td>\n",
       "      <td>Sat Jun 15 18:07:27 +0000 2013</td>\n",
       "      <td>SR_Brant</td>\n",
       "      <td>RT @AnnieSage: Unbelievable.... @thinkprogress...</td>\n",
       "    </tr>\n",
       "    <tr>\n",
       "      <th>2</th>\n",
       "      <td>en</td>\n",
       "      <td>3.459683e+17</td>\n",
       "      <td>Sat Jun 15 18:17:35 +0000 2013</td>\n",
       "      <td>kiraababee</td>\n",
       "      <td>RT @SweaterGawd: I cum faster than the fbi dur...</td>\n",
       "    </tr>\n",
       "    <tr>\n",
       "      <th>3</th>\n",
       "      <td>en</td>\n",
       "      <td>3.459687e+17</td>\n",
       "      <td>Sat Jun 15 18:19:07 +0000 2013</td>\n",
       "      <td>drgauravn85</td>\n",
       "      <td>@asma_rehman02 even your feeder USA is agreed ...</td>\n",
       "    </tr>\n",
       "    <tr>\n",
       "      <th>4</th>\n",
       "      <td>en</td>\n",
       "      <td>3.459700e+17</td>\n",
       "      <td>Sat Jun 15 18:24:06 +0000 2013</td>\n",
       "      <td>WatchTVChannels</td>\n",
       "      <td>Quetta Carnage: 23 killed in terrorist attacks...</td>\n",
       "    </tr>\n",
       "  </tbody>\n",
       "</table>\n",
       "</div>"
      ],
      "text/plain": [
       "  lan            id                            date        user_name  \\\n",
       "0  en  3.459658e+17  Sat Jun 15 18:07:17 +0000 2013          SangyeH   \n",
       "1  en  3.459658e+17  Sat Jun 15 18:07:27 +0000 2013         SR_Brant   \n",
       "2  en  3.459683e+17  Sat Jun 15 18:17:35 +0000 2013       kiraababee   \n",
       "3  en  3.459687e+17  Sat Jun 15 18:19:07 +0000 2013      drgauravn85   \n",
       "4  en  3.459700e+17  Sat Jun 15 18:24:06 +0000 2013  WatchTVChannels   \n",
       "\n",
       "                                             content  \n",
       "0  RT @AnnieSage: Unbelievable.... @thinkprogress...  \n",
       "1  RT @AnnieSage: Unbelievable.... @thinkprogress...  \n",
       "2  RT @SweaterGawd: I cum faster than the fbi dur...  \n",
       "3  @asma_rehman02 even your feeder USA is agreed ...  \n",
       "4  Quetta Carnage: 23 killed in terrorist attacks...  "
      ]
     },
     "execution_count": 18,
     "metadata": {},
     "output_type": "execute_result"
    }
   ],
   "source": [
    "tweets_raw.head(5)"
   ]
  },
  {
   "cell_type": "markdown",
   "metadata": {},
   "source": [
    "In this project, the id and user name of the tweet is useless, we keep therefore only the language, the date and the content of the tweet."
   ]
  },
  {
   "cell_type": "code",
   "execution_count": 19,
   "metadata": {
    "collapsed": true
   },
   "outputs": [],
   "source": [
    "tweets_raw = tweets_raw.drop(axis= 1, labels=  [\"id\", \"user_name\"])\n",
    "tweets_raw = tweets_raw.dropna()"
   ]
  },
  {
   "cell_type": "markdown",
   "metadata": {},
   "source": [
    "The date countained in the tweets has been translated into `GMT` 0. So we do not have to worry about translating the date and can directly standarize with the dateutil.parser"
   ]
  },
  {
   "cell_type": "code",
   "execution_count": 20,
   "metadata": {
    "collapsed": true
   },
   "outputs": [],
   "source": [
    "#We parse the date to have a uniform \n",
    "tweets_raw[\"date\"] = tweets_raw[\"date\"].apply(lambda d: parse(d, ignoretz = True))"
   ]
  },
  {
   "cell_type": "code",
   "execution_count": 21,
   "metadata": {
    "collapsed": true
   },
   "outputs": [],
   "source": [
    "tweets = tweets_raw.copy()\n",
    "tweets[\"retweet\"] =  tweets[\"content\"].map(lambda s : s[0:4] == \"RT @\") #Is it a retweet?"
   ]
  },
  {
   "cell_type": "markdown",
   "metadata": {},
   "source": [
    "Here, we need to normalize our tweet to handle 1) and 2)"
   ]
  },
  {
   "cell_type": "code",
   "execution_count": 22,
   "metadata": {
    "collapsed": true
   },
   "outputs": [],
   "source": [
    "def remove_http(t):\n",
    "    content = t.split()\n",
    "    for w in content:\n",
    "        \n",
    "        if \"http\" in w:\n",
    "            content.remove(w)\n",
    "    return \" \".join(content)\n",
    "\n",
    "\n",
    "\n",
    "# Maximum length that we allowed to have in oder to not have different tweet\n",
    "\n",
    "MAX_LEN = 140 - 15 - 10  # Limit of a tweet minus the maximum user name \n",
    "                         # and other charachter added when a retweet is created\n",
    "\n",
    "\n",
    "def remove_retweet_and_cut(t):\n",
    "    \"\"\"\n",
    "    Function that remove the RT @ in front of a tweet if it has been detected as a retweet, \n",
    "    And cut the tweet according to the MAX_LEN parameter\n",
    "    \"\"\"\n",
    "    \n",
    "    \n",
    "    if(t[\"retweet\"]): # We take advantage to uniform the tweets by the lower() function\n",
    "        return ' '.join(t[\"content\"].split()[2:])[0:MAX_LEN].lower()\n",
    "    else :\n",
    "        return t[\"content\"][0:MAX_LEN].lower()\n",
    "    \n",
    "\n",
    "    \n",
    "#Apply the functions we just created\n",
    "tweets[\"content\"] = tweets[\"content\"].map(remove_http)\n",
    "tweets[\"content\"] =  tweets.apply(remove_retweet_and_cut, axis = 1)\n",
    "\n",
    "\n",
    "#------------------------- Handling the frequency of a tweet ---------------------\n",
    "\n",
    "\n",
    "# We create a dict to map the content and the frequency that a tweet with the same content occur.\n",
    "freq_dict = dict(tweets.groupby(\"content\")[\"lan\"].count())\n",
    "\n",
    "\n",
    "tweets = tweets.drop_duplicates(subset=\"content\")\n",
    "\n",
    "\n",
    "tweets[\"frequency\"] = tweets[\"content\"].map(lambda c : freq_dict[c])"
   ]
  },
  {
   "cell_type": "markdown",
   "metadata": {},
   "source": [
    "We end up with a nice dataframe of the filtered tweets with the frequency of each tweets "
   ]
  },
  {
   "cell_type": "code",
   "execution_count": 23,
   "metadata": {},
   "outputs": [
    {
     "data": {
      "text/html": [
       "<div>\n",
       "<style>\n",
       "    .dataframe thead tr:only-child th {\n",
       "        text-align: right;\n",
       "    }\n",
       "\n",
       "    .dataframe thead th {\n",
       "        text-align: left;\n",
       "    }\n",
       "\n",
       "    .dataframe tbody tr th {\n",
       "        vertical-align: top;\n",
       "    }\n",
       "</style>\n",
       "<table border=\"1\" class=\"dataframe\">\n",
       "  <thead>\n",
       "    <tr style=\"text-align: right;\">\n",
       "      <th></th>\n",
       "      <th>lan</th>\n",
       "      <th>date</th>\n",
       "      <th>content</th>\n",
       "      <th>retweet</th>\n",
       "      <th>frequency</th>\n",
       "    </tr>\n",
       "  </thead>\n",
       "  <tbody>\n",
       "    <tr>\n",
       "      <th>423016</th>\n",
       "      <td>en</td>\n",
       "      <td>2015-01-12 00:36:17</td>\n",
       "      <td>2,000 civilians killed in a terrorist attack i...</td>\n",
       "      <td>True</td>\n",
       "      <td>3006</td>\n",
       "    </tr>\n",
       "    <tr>\n",
       "      <th>352</th>\n",
       "      <td>en</td>\n",
       "      <td>2012-12-17 03:29:35</td>\n",
       "      <td>here they are - all sixty-one mass shootings i...</td>\n",
       "      <td>True</td>\n",
       "      <td>1585</td>\n",
       "    </tr>\n",
       "    <tr>\n",
       "      <th>361528</th>\n",
       "      <td>en</td>\n",
       "      <td>2014-12-17 20:14:55</td>\n",
       "      <td>just heard about the terrorist attack, my hear...</td>\n",
       "      <td>True</td>\n",
       "      <td>1330</td>\n",
       "    </tr>\n",
       "    <tr>\n",
       "      <th>418277</th>\n",
       "      <td>en</td>\n",
       "      <td>2015-01-11 14:01:14</td>\n",
       "      <td>chanting &amp;amp; applause in paris as huge crowd...</td>\n",
       "      <td>True</td>\n",
       "      <td>1242</td>\n",
       "    </tr>\n",
       "    <tr>\n",
       "      <th>256112</th>\n",
       "      <td>en</td>\n",
       "      <td>2013-09-25 17:17:29</td>\n",
       "      <td>in 1962, the us government planned terrorist a...</td>\n",
       "      <td>True</td>\n",
       "      <td>1218</td>\n",
       "    </tr>\n",
       "  </tbody>\n",
       "</table>\n",
       "</div>"
      ],
      "text/plain": [
       "       lan                date  \\\n",
       "423016  en 2015-01-12 00:36:17   \n",
       "352     en 2012-12-17 03:29:35   \n",
       "361528  en 2014-12-17 20:14:55   \n",
       "418277  en 2015-01-11 14:01:14   \n",
       "256112  en 2013-09-25 17:17:29   \n",
       "\n",
       "                                                  content  retweet  frequency  \n",
       "423016  2,000 civilians killed in a terrorist attack i...     True       3006  \n",
       "352     here they are - all sixty-one mass shootings i...     True       1585  \n",
       "361528  just heard about the terrorist attack, my hear...     True       1330  \n",
       "418277  chanting &amp; applause in paris as huge crowd...     True       1242  \n",
       "256112  in 1962, the us government planned terrorist a...     True       1218  "
      ]
     },
     "execution_count": 23,
     "metadata": {},
     "output_type": "execute_result"
    }
   ],
   "source": [
    "tweets.sort_values(by=\"frequency\", ascending=False).head()"
   ]
  },
  {
   "cell_type": "code",
   "execution_count": 24,
   "metadata": {},
   "outputs": [
    {
     "data": {
      "text/html": [
       "<div>\n",
       "<style>\n",
       "    .dataframe thead tr:only-child th {\n",
       "        text-align: right;\n",
       "    }\n",
       "\n",
       "    .dataframe thead th {\n",
       "        text-align: left;\n",
       "    }\n",
       "\n",
       "    .dataframe tbody tr th {\n",
       "        vertical-align: top;\n",
       "    }\n",
       "</style>\n",
       "<table border=\"1\" class=\"dataframe\">\n",
       "  <thead>\n",
       "    <tr style=\"text-align: right;\">\n",
       "      <th></th>\n",
       "      <th>lan</th>\n",
       "      <th>date</th>\n",
       "      <th>content</th>\n",
       "      <th>retweet</th>\n",
       "      <th>frequency</th>\n",
       "    </tr>\n",
       "  </thead>\n",
       "  <tbody>\n",
       "    <tr>\n",
       "      <th>254900</th>\n",
       "      <td>en</td>\n",
       "      <td>2013-09-24 13:40:38</td>\n",
       "      <td>coming up. like bomb shelters here at home in ...</td>\n",
       "      <td>False</td>\n",
       "      <td>1</td>\n",
       "    </tr>\n",
       "    <tr>\n",
       "      <th>327762</th>\n",
       "      <td>en</td>\n",
       "      <td>2014-05-06 09:22:31</td>\n",
       "      <td>people should go home for failing to prevent t...</td>\n",
       "      <td>False</td>\n",
       "      <td>1</td>\n",
       "    </tr>\n",
       "    <tr>\n",
       "      <th>327763</th>\n",
       "      <td>en</td>\n",
       "      <td>2014-05-06 09:51:24</td>\n",
       "      <td>.@nikkiyanofsky, @un reports over 399 #priceta...</td>\n",
       "      <td>False</td>\n",
       "      <td>1</td>\n",
       "    </tr>\n",
       "    <tr>\n",
       "      <th>327764</th>\n",
       "      <td>en</td>\n",
       "      <td>2014-05-06 11:03:08</td>\n",
       "      <td>@gasam101 would have called for the help of co...</td>\n",
       "      <td>True</td>\n",
       "      <td>1</td>\n",
       "    </tr>\n",
       "    <tr>\n",
       "      <th>327765</th>\n",
       "      <td>en</td>\n",
       "      <td>2014-05-06 12:07:02</td>\n",
       "      <td>bombs planted near vaishali's polling station ...</td>\n",
       "      <td>False</td>\n",
       "      <td>1</td>\n",
       "    </tr>\n",
       "  </tbody>\n",
       "</table>\n",
       "</div>"
      ],
      "text/plain": [
       "       lan                date  \\\n",
       "254900  en 2013-09-24 13:40:38   \n",
       "327762  en 2014-05-06 09:22:31   \n",
       "327763  en 2014-05-06 09:51:24   \n",
       "327764  en 2014-05-06 11:03:08   \n",
       "327765  en 2014-05-06 12:07:02   \n",
       "\n",
       "                                                  content  retweet  frequency  \n",
       "254900  coming up. like bomb shelters here at home in ...    False          1  \n",
       "327762  people should go home for failing to prevent t...    False          1  \n",
       "327763  .@nikkiyanofsky, @un reports over 399 #priceta...    False          1  \n",
       "327764  @gasam101 would have called for the help of co...     True          1  \n",
       "327765  bombs planted near vaishali's polling station ...    False          1  "
      ]
     },
     "execution_count": 24,
     "metadata": {},
     "output_type": "execute_result"
    }
   ],
   "source": [
    "#Here are the single tweets\n",
    "tweets.sort_values(by=\"frequency\", ascending=True).head()"
   ]
  },
  {
   "cell_type": "markdown",
   "metadata": {},
   "source": [
    "We see below that the ratio of retweet is consequent. \n",
    "Indeed, roughly 1/3 of our filtered tweets have been retweeted."
   ]
  },
  {
   "cell_type": "code",
   "execution_count": 25,
   "metadata": {},
   "outputs": [
    {
     "data": {
      "text/plain": [
       "0.30587482267211957"
      ]
     },
     "execution_count": 25,
     "metadata": {},
     "output_type": "execute_result"
    }
   ],
   "source": [
    "tweets[\"retweet\"].sum()/len(tweets.retweet)"
   ]
  },
  {
   "cell_type": "code",
   "execution_count": 26,
   "metadata": {
    "collapsed": true
   },
   "outputs": [],
   "source": [
    "grp_tweet = tweets.groupby(\"lan\")"
   ]
  },
  {
   "cell_type": "code",
   "execution_count": 27,
   "metadata": {},
   "outputs": [
    {
     "data": {
      "text/plain": [
       "lan\n",
       "de      1017\n",
       "en    319924\n",
       "es      1032\n",
       "fr       693\n",
       "it       842\n",
       "nl      1455\n",
       "Name: content, dtype: int64"
      ]
     },
     "execution_count": 27,
     "metadata": {},
     "output_type": "execute_result"
    }
   ],
   "source": [
    "grp_tweet[\"content\"].count()"
   ]
  },
  {
   "cell_type": "markdown",
   "metadata": {},
   "source": [
    "We see that, not surprisingly, we have more english tweets than the other languages. Indeed english is the most common widespread language and spanish the second one."
   ]
  },
  {
   "cell_type": "code",
   "execution_count": 28,
   "metadata": {
    "collapsed": true
   },
   "outputs": [],
   "source": [
    "tweets = tweets.drop(axis= 1, labels=  [\"lan\"])\n",
    "tweets.to_csv(\"dataframe_terror.csv\", index=False)"
   ]
  },
  {
   "cell_type": "markdown",
   "metadata": {},
   "source": [
    "## 2. Data from Wikipedia"
   ]
  },
  {
   "cell_type": "markdown",
   "metadata": {},
   "source": [
    "In this part we scrape data from Wikipedia. We want to access the tables that register the terror attacks that happened at some point in the past. There are some Wikipedia articles (such as https://en.wikipedia.org/wiki/List_of_terrorist_incidents_in_January-June_2011) that do exactly that. The data is presented as tables, and all the articles that we need present data in this form."
   ]
  },
  {
   "cell_type": "code",
   "execution_count": 31,
   "metadata": {
    "collapsed": true
   },
   "outputs": [],
   "source": [
    "# Simple map of month name to its number\n",
    "month_to_int = {\n",
    "    'January': 1,\n",
    "    'February': 2,\n",
    "    'March': 3,\n",
    "    'April': 4,\n",
    "    'May': 5,\n",
    "    'June': 6,\n",
    "    'July': 7,\n",
    "    'August': 8,\n",
    "    'September': 9,\n",
    "    'October': 10,\n",
    "    'November': 11,\n",
    "    'December': 12\n",
    "}\n",
    "\n",
    "# Reversed map\n",
    "int_to_month = {i: m for m, i in month_to_int.items()}"
   ]
  },
  {
   "cell_type": "code",
   "execution_count": 32,
   "metadata": {
    "collapsed": true
   },
   "outputs": [],
   "source": [
    "# The wikipedia URL that every article has in common\n",
    "base_url = 'https://en.wikipedia.org/wiki/List_of_terrorist_incidents_in_'"
   ]
  },
  {
   "cell_type": "markdown",
   "metadata": {},
   "source": [
    "We show all the articles that we are going to use to find the data"
   ]
  },
  {
   "cell_type": "code",
   "execution_count": null,
   "metadata": {},
   "outputs": [],
   "source": [
    "# All specific end of the wikipedia URL, along with the corresponding month numbers of the article\n",
    "times = {}\n",
    "\n",
    "for year in range(2011, 2015):\n",
    "    # For years 2011 to 2014, the articles appear biyearly\n",
    "    times.update({'January-June_' + str(year): list(range(1, 7))})\n",
    "    times.update({'July-December_' + str(year): list(range(7, 13))})\n",
    "    \n",
    "for year in range(2015, 2018):\n",
    "    # For years 2015 to 2017, the articles appear monthly\n",
    "    for month, int_ in month_to_int.items():\n",
    "        times.update({month + '_' + str(year): [int_]})\n",
    "        \n",
    "list(times.keys())\n"
   ]
  },
  {
   "cell_type": "code",
   "execution_count": 34,
   "metadata": {
    "collapsed": true
   },
   "outputs": [],
   "source": [
    "def to_int(s):\n",
    "    '''Returns the first integer found in s'''\n",
    "    i = re.findall('\\d+', s)\n",
    "    return int(i[0]) if len(i) > 0 else float('NaN')"
   ]
  },
  {
   "cell_type": "code",
   "execution_count": 35,
   "metadata": {
    "collapsed": true
   },
   "outputs": [],
   "source": [
    "def to_date(s, year):\n",
    "    '''Returns a date from the datetime library from a string like \\'January 1\\''''\n",
    "    l = s.split(' ')\n",
    "    return date(to_int(year), month_to_int[l[0]], to_int(l[1]))"
   ]
  },
  {
   "cell_type": "code",
   "execution_count": 36,
   "metadata": {
    "collapsed": true
   },
   "outputs": [],
   "source": [
    "def wiki_table_to_df(end_url, month_range, base_url=base_url):\n",
    "    '''Creates a dataframe from the tables available in the wikipedia page'''\n",
    "    print('Scraping for', end_url)\n",
    "    r = requests.get(base_url + end_url) # Get request\n",
    "    soup = BeautifulSoup(r.text, 'lxml') # Parse HTML\n",
    "    wiki_tables = soup.findAll('table', {'class': 'wikitable sortable'}) # Get tables from the wikipedia page\n",
    "\n",
    "    table = []\n",
    "\n",
    "    for month_int, wiki_table in zip(month_range, wiki_tables):\n",
    "        for row in wiki_table.findAll('tr'):\n",
    "            elems = row.findAll('td') \n",
    "            if len(elems) != 0:\n",
    "                interesting = [elem.text for elem in elems[:5]]\n",
    "                 # First element is the day of the month, but we add the name of the month as well in front of it\n",
    "                interesting[0] = int_to_month[month_int] + ' ' + interesting[0]\n",
    "                table.append(interesting)\n",
    "                \n",
    "    df = pd.DataFrame(table, columns=['date', 'type', 'deaths', 'injuries', 'location'])\n",
    "    df.date = df.date.apply(lambda s: to_date(s, end_url[-4:])) # Translate the date with the year defined by the end_url arg\n",
    "    df.deaths = df.deaths.apply(to_int) # Map death number to int\n",
    "    df.injuries = df.injuries.apply(to_int) # Map injuries number to int\n",
    "    \n",
    "    return df"
   ]
  },
  {
   "cell_type": "code",
   "execution_count": null,
   "metadata": {},
   "outputs": [],
   "source": [
    "dfs = []\n",
    "\n",
    "# Get a DataFrame for every article from 2011 to 2017\n",
    "for time, month_range in times.items():\n",
    "    dfs.append(wiki_table_to_df(time, month_range))\n",
    "    \n",
    "df = pd.concat(dfs)\n",
    "print('We have {} registered attacks from January 1st, 2011 up to today (November 28th, 2017)'.format(df.shape[0]))"
   ]
  },
  {
   "cell_type": "markdown",
   "metadata": {},
   "source": [
    "Here is what some of the entries of the final result look like"
   ]
  },
  {
   "cell_type": "code",
   "execution_count": 38,
   "metadata": {},
   "outputs": [
    {
     "data": {
      "text/html": [
       "<div>\n",
       "<style>\n",
       "    .dataframe thead tr:only-child th {\n",
       "        text-align: right;\n",
       "    }\n",
       "\n",
       "    .dataframe thead th {\n",
       "        text-align: left;\n",
       "    }\n",
       "\n",
       "    .dataframe tbody tr th {\n",
       "        vertical-align: top;\n",
       "    }\n",
       "</style>\n",
       "<table border=\"1\" class=\"dataframe\">\n",
       "  <thead>\n",
       "    <tr style=\"text-align: right;\">\n",
       "      <th></th>\n",
       "      <th>date</th>\n",
       "      <th>type</th>\n",
       "      <th>deaths</th>\n",
       "      <th>injuries</th>\n",
       "      <th>location</th>\n",
       "    </tr>\n",
       "  </thead>\n",
       "  <tbody>\n",
       "    <tr>\n",
       "      <th>0</th>\n",
       "      <td>2011-01-01</td>\n",
       "      <td>Suicide bombing</td>\n",
       "      <td>21.0</td>\n",
       "      <td>97.0</td>\n",
       "      <td>Alexandria, Egypt</td>\n",
       "    </tr>\n",
       "    <tr>\n",
       "      <th>56</th>\n",
       "      <td>2011-02-13</td>\n",
       "      <td>Raid</td>\n",
       "      <td>7.0</td>\n",
       "      <td>5.0</td>\n",
       "      <td>Zamboanga, Philippines</td>\n",
       "    </tr>\n",
       "    <tr>\n",
       "      <th>37</th>\n",
       "      <td>2014-11-18</td>\n",
       "      <td>Shooting, Melee attack</td>\n",
       "      <td>5.0</td>\n",
       "      <td>7.0</td>\n",
       "      <td>Jerusalem, Israel</td>\n",
       "    </tr>\n",
       "    <tr>\n",
       "      <th>48</th>\n",
       "      <td>2017-12-17</td>\n",
       "      <td>Suicide bombing</td>\n",
       "      <td>1.0</td>\n",
       "      <td>5.0</td>\n",
       "      <td>Kandahar province, Afghanistan</td>\n",
       "    </tr>\n",
       "  </tbody>\n",
       "</table>\n",
       "</div>"
      ],
      "text/plain": [
       "          date                    type  deaths  injuries  \\\n",
       "0   2011-01-01         Suicide bombing    21.0      97.0   \n",
       "56  2011-02-13                    Raid     7.0       5.0   \n",
       "37  2014-11-18  Shooting, Melee attack     5.0       7.0   \n",
       "48  2017-12-17         Suicide bombing     1.0       5.0   \n",
       "\n",
       "                          location  \n",
       "0                Alexandria, Egypt  \n",
       "56          Zamboanga, Philippines  \n",
       "37               Jerusalem, Israel  \n",
       "48  Kandahar province, Afghanistan  "
      ]
     },
     "execution_count": 38,
     "metadata": {},
     "output_type": "execute_result"
    }
   ],
   "source": [
    "df.iloc[[0, 56, 1033, -1]]"
   ]
  },
  {
   "cell_type": "markdown",
   "metadata": {},
   "source": [
    "Finally, we want to separate the location into a city, and a country, if applicable. This separation will be very useful for the matching of the attacks with our tweet dataset. To do so, we define some helper function :"
   ]
  },
  {
   "cell_type": "code",
   "execution_count": null,
   "metadata": {
    "collapsed": true
   },
   "outputs": [],
   "source": [
    "# Words that we should not keep when parsing city names\n",
    "useless_words_cities = [\n",
    "    'near',\n",
    "    'far',\n",
    "    'across', \n",
    "    'outskirts of',\n",
    "    'south of',\n",
    "    'north of'\n",
    "    'south',\n",
    "    'north',\n",
    "    'east',\n",
    "    'west', \n",
    "    'various places in',\n",
    "    'border crossing',\n",
    "    'industrial zone',\n",
    "    'region',\n",
    "    'province',\n",
    "    'district'\n",
    "]\n",
    "\n",
    "# Words that we should not keep when parsing country names\n",
    "useless_words_countries = [\n",
    "    ' and ',\n",
    "    'northern',\n",
    "    'southern',\n",
    "    'eastern',\n",
    "    'northwestern',\n",
    "    'east',\n",
    "    'across',\n",
    "    'central',\n",
    "    'northwest',\n",
    "    'border region',\n",
    "    'prospective'\n",
    "]\n",
    "\n",
    "def remove_useless(s):\n",
    "    '''Removes useless words and list of names'''\n",
    "    s = s.lower()\n",
    "    for uw in useless_words_cities:\n",
    "        s = s.replace(uw + ' ', '')\n",
    "        s = s.replace(uw, '')\n",
    "            \n",
    "    if ' and ' in s:\n",
    "        s = s.split(' and ')[0]\n",
    "        \n",
    "    if '/' in s:\n",
    "        s = s.split('/')[0]\n",
    "            \n",
    "    return s.title()\n",
    "\n",
    "def clean_country(country):\n",
    "    '''Sets the country name to a norm'''\n",
    "    if 'Nigeria' in country:\n",
    "        country = 'Nigeria'                \n",
    "    if 'Jerusalem' in country:\n",
    "        country = 'Israel'        \n",
    "    if 'West Bank' in country:\n",
    "        country = 'Palestine'        \n",
    "    if 'Congo' in country:\n",
    "        country = 'Congo'        \n",
    "    if 'Dagestan' in country:\n",
    "        country = 'Russia'        \n",
    "    if 'Abkhazia' in country:\n",
    "        country = 'Russia'        \n",
    "    if 'Balochistan' in country:\n",
    "        country = 'Pakistan'        \n",
    "    if 'Hebron' in country:\n",
    "        country = 'Palestine'        \n",
    "    if 'Burma' in country:\n",
    "        country = 'Myanmar'        \n",
    "    if 'Northern Ireland' in country:\n",
    "        country = 'United Kingdom'\n",
    "    \n",
    "    country = clean_extremities(country)\n",
    "        \n",
    "    return country\n",
    "\n",
    "def clean_extremities(s):\n",
    "    '''Cleans both ends of a string by removing commas, points, etc.'''\n",
    "    while len(s) > 0 and not s[0].isalpha():\n",
    "        s = s[1:]\n",
    "        \n",
    "    while len(s) > 0 and not s[-1].isalpha():\n",
    "        s = s[:-1]\n",
    "        \n",
    "    return s\n",
    "\n",
    "def special_cases(location):\n",
    "    '''Handles locations that do not have a comma in them'''\n",
    "    location = location.lower()\n",
    "    \n",
    "    for uw in useless_words_countries:\n",
    "        if uw + ' ' in location:\n",
    "            location = location.replace(uw + ' ', '')\n",
    "        if uw in location:\n",
    "            location = location.replace(uw, '')\n",
    "            \n",
    "    if 'jerusalem' in location:\n",
    "        location = 'Israel'\n",
    "        \n",
    "    if 'west bank' in location:\n",
    "        location = 'Palestine'\n",
    "            \n",
    "    return 'Unknown', location.title()\n",
    "\n",
    "def city_country_from_location(location):\n",
    "    '''Gets the city and country name from a string that is looking like \\'Paris, France\\''''\n",
    "    location = clean_extremities(location)\n",
    "    \n",
    "    # Really special cases that we have to treat by hand\n",
    "    really_special = {\n",
    "        'Zliten Libya': ('Zliten', 'Libya'),\n",
    "        'Alau.Nigeria': ('Alau', 'Nigeria'),\n",
    "        'Damascus Syria': ('Damascus', 'Syria'),\n",
    "        'Kibirizi Democratic Republic of Congo': ('Kibirizi', 'Congo'),\n",
    "        'Belfast Northern Ireland': ('Belfast', 'United Kingdom'),\n",
    "        'Oberhausen Germany': ('Oberhausen', 'Germany'),\n",
    "        'Lahj Governorate Yemen': ('Unknown', 'Yemen'),\n",
    "        'El-Baraf Somalia': ('Unknown', 'Somalia'),\n",
    "        'Baghdad Iraq': ('Baghdad', 'Iraq'),\n",
    "        'Luqa Malta': ('Luqa', 'Malta'),\n",
    "        'Muradiye Turkey': ('Muradiye', 'Turkey'),\n",
    "        'Concepción Paraguay': ('Concepción', 'Paraguay'),\n",
    "        'Deir Ez-Zor Syria': ('Deir Ez-Zor', 'Syria'),\n",
    "        'Deir ez-Zor Syria': ('Deir Ez-Zor', 'Syria'),\n",
    "        'Indian Ocean': ('Unknown', 'Indian Ocean'),\n",
    "        'Qamishli Syria': ('Qamishli', 'Syria'),\n",
    "        'Oignies, Pas-de-Calais': ('Oignies', 'France'),\n",
    "        'Khost Province': ('Unknown', 'Afghanistan'),\n",
    "        'Ratchaprasong Intersection, Bangkok': ('Bangkok', 'Thailand'),\n",
    "        'Beit Hanun, Gaza Strip': ('Beit Hanun', 'Palestine'),\n",
    "        'Crimea': ('Unknown', 'Russia'),\n",
    "        'Moyen-Cavally, Côte d\\'Ivoire': ('Moyen-Cavally', 'Ivory Coast'),\n",
    "        'Lawdar, Lahij Yemen': ('Lawdar', 'Yemen'),\n",
    "        'Atizapán de Zaragoza, México': ('Atizapán de Zaragoza', 'Mexico'),\n",
    "        'Queens, New York': ('New York City', 'United States'),\n",
    "        'Jonglei, Southern Sudan': ('Jonglei', 'South Sudan'),\n",
    "        'Austin, Texas': ('Austin', 'United States'),\n",
    "        'Karabudakhkent, Dagestan, Russian Federation': ('Karabudakhkent', 'Russia')\n",
    "    }\n",
    "    \n",
    "    if location in really_special.keys():\n",
    "        return really_special[location]\n",
    "    \n",
    "    if ',' in location:\n",
    "        city = location.split(',')[0]\n",
    "        country = location.split(',')[-1]\n",
    "        \n",
    "        city = clean_extremities(remove_useless(city))\n",
    "        country = clean_country(country)\n",
    "        \n",
    "        if len(city) == 0:\n",
    "            city = 'Unknown'\n",
    "        \n",
    "        return city, country\n",
    "    else:\n",
    "        return special_cases(location)"
   ]
  },
  {
   "cell_type": "code",
   "execution_count": null,
   "metadata": {
    "collapsed": true
   },
   "outputs": [],
   "source": [
    "cities_countries = df.location.map(city_country_from_location).apply(pd.Series)\n",
    "# Applying the city names and country names in the dataframe\n",
    "df['city'] = cities_countries[0]\n",
    "df['country'] = cities_countries[1]\n",
    "\n",
    "# Getting rid off the dataframe\n",
    "df = df.drop('location', axis=1)"
   ]
  },
  {
   "cell_type": "markdown",
   "metadata": {},
   "source": [
    "We now have a useful and clean dataset of all terrorist attacks listed on wikipedia. The next step will be to analyze this data first on its own, and then coupled with the twitter dataset that we defined before."
   ]
  },
  {
   "cell_type": "markdown",
   "metadata": {},
   "source": [
    "## 3. Making sense of the Data"
   ]
  },
  {
   "cell_type": "markdown",
   "metadata": {},
   "source": [
    "In this section, we will detail our analysis in an attempt to answer to the fundamental questions of our project : which part of the world is more hit by terrorist events, and how can we compare the real impacts (deaths, injured) of such attacks with the reaction on the social media sphere (number of tweets, relevance on attacks).\n",
    "\n",
    "As explained a few cells below next to the corresponding code, we will **focus on a time period between January 2011 and January 2016** (which is the timestamps of the oldest and most recent tweets in the database) for the rest of our analysis. The results, displays and analysis will therefore be related to this specific time period of **five years**. This period is according to us long enough to advance certain hypothesis, and it has also been marked by the rise and fall of many different terrorist groups that shaped a big part of the geopolitics of today.\n",
    "\n"
   ]
  },
  {
   "cell_type": "markdown",
   "metadata": {},
   "source": [
    "### 3.1 Create new DataFrame with Tweets and Wiki data\n",
    "\n",
    "The main task of this section is to make the link between a tweet and the terrorist attack it is related to."
   ]
  },
  {
   "cell_type": "code",
   "execution_count": 6,
   "metadata": {
    "collapsed": true
   },
   "outputs": [],
   "source": [
    "# Import the df, if we don't have them stocked in the buffer\n",
    "tweets = pd.read_csv(\"dataframe_terror.csv\", parse_dates=[0])\n",
    "terror = pd.read_csv('attacks.csv', parse_dates=[0], encoding=\"utf-8\")\n",
    "terror[\"type\"] = terror[\"type\"].fillna(\"UnkownType\")"
   ]
  },
  {
   "cell_type": "code",
   "execution_count": 463,
   "metadata": {},
   "outputs": [
    {
     "name": "stdout",
     "output_type": "stream",
     "text": [
      "Number of tweets that we have (without counting duplicates): 319682\n"
     ]
    },
    {
     "data": {
      "text/html": [
       "<div>\n",
       "<style>\n",
       "    .dataframe thead tr:only-child th {\n",
       "        text-align: right;\n",
       "    }\n",
       "\n",
       "    .dataframe thead th {\n",
       "        text-align: left;\n",
       "    }\n",
       "\n",
       "    .dataframe tbody tr th {\n",
       "        vertical-align: top;\n",
       "    }\n",
       "</style>\n",
       "<table border=\"1\" class=\"dataframe\">\n",
       "  <thead>\n",
       "    <tr style=\"text-align: right;\">\n",
       "      <th></th>\n",
       "      <th>date</th>\n",
       "      <th>content</th>\n",
       "      <th>retweet</th>\n",
       "      <th>frequency</th>\n",
       "    </tr>\n",
       "  </thead>\n",
       "  <tbody>\n",
       "    <tr>\n",
       "      <th>0</th>\n",
       "      <td>2013-06-15 18:07:17</td>\n",
       "      <td>unbelievable.... @thinkprogress: in the 6 mont...</td>\n",
       "      <td>True</td>\n",
       "      <td>2</td>\n",
       "    </tr>\n",
       "    <tr>\n",
       "      <th>1</th>\n",
       "      <td>2013-06-15 18:17:35</td>\n",
       "      <td>i cum faster than the fbi during a terrorist a...</td>\n",
       "      <td>True</td>\n",
       "      <td>1</td>\n",
       "    </tr>\n",
       "    <tr>\n",
       "      <th>2</th>\n",
       "      <td>2013-06-15 18:19:07</td>\n",
       "      <td>@asma_rehman02 even your feeder usa is agreed ...</td>\n",
       "      <td>False</td>\n",
       "      <td>1</td>\n",
       "    </tr>\n",
       "    <tr>\n",
       "      <th>3</th>\n",
       "      <td>2013-06-15 18:24:06</td>\n",
       "      <td>quetta carnage: 23 killed in terrorist attacks...</td>\n",
       "      <td>False</td>\n",
       "      <td>1</td>\n",
       "    </tr>\n",
       "    <tr>\n",
       "      <th>4</th>\n",
       "      <td>2013-06-15 18:36:29</td>\n",
       "      <td>quetta carnage: 23 killed in terrorist attacks</td>\n",
       "      <td>False</td>\n",
       "      <td>2</td>\n",
       "    </tr>\n",
       "  </tbody>\n",
       "</table>\n",
       "</div>"
      ],
      "text/plain": [
       "                 date                                            content  \\\n",
       "0 2013-06-15 18:07:17  unbelievable.... @thinkprogress: in the 6 mont...   \n",
       "1 2013-06-15 18:17:35  i cum faster than the fbi during a terrorist a...   \n",
       "2 2013-06-15 18:19:07  @asma_rehman02 even your feeder usa is agreed ...   \n",
       "3 2013-06-15 18:24:06  quetta carnage: 23 killed in terrorist attacks...   \n",
       "4 2013-06-15 18:36:29     quetta carnage: 23 killed in terrorist attacks   \n",
       "\n",
       "   retweet  frequency  \n",
       "0     True          2  \n",
       "1     True          1  \n",
       "2    False          1  \n",
       "3    False          1  \n",
       "4    False          2  "
      ]
     },
     "execution_count": 463,
     "metadata": {},
     "output_type": "execute_result"
    }
   ],
   "source": [
    "print(\"Number of tweets that we have (without counting duplicates): \"+str(len(tweets)))\n",
    "tweets.head()"
   ]
  },
  {
   "cell_type": "code",
   "execution_count": 8,
   "metadata": {},
   "outputs": [
    {
     "name": "stdout",
     "output_type": "stream",
     "text": [
      "4703\n"
     ]
    },
    {
     "data": {
      "text/html": [
       "<div>\n",
       "<style>\n",
       "    .dataframe thead tr:only-child th {\n",
       "        text-align: right;\n",
       "    }\n",
       "\n",
       "    .dataframe thead th {\n",
       "        text-align: left;\n",
       "    }\n",
       "\n",
       "    .dataframe tbody tr th {\n",
       "        vertical-align: top;\n",
       "    }\n",
       "</style>\n",
       "<table border=\"1\" class=\"dataframe\">\n",
       "  <thead>\n",
       "    <tr style=\"text-align: right;\">\n",
       "      <th></th>\n",
       "      <th>date</th>\n",
       "      <th>type</th>\n",
       "      <th>deaths</th>\n",
       "      <th>injuries</th>\n",
       "      <th>location</th>\n",
       "      <th>city</th>\n",
       "      <th>country</th>\n",
       "    </tr>\n",
       "  </thead>\n",
       "  <tbody>\n",
       "    <tr>\n",
       "      <th>0</th>\n",
       "      <td>2011-01-01</td>\n",
       "      <td>Suicide bombing</td>\n",
       "      <td>21.0</td>\n",
       "      <td>97.0</td>\n",
       "      <td>Alexandria, Egypt</td>\n",
       "      <td>Alexandria</td>\n",
       "      <td>Egypt</td>\n",
       "    </tr>\n",
       "    <tr>\n",
       "      <th>1</th>\n",
       "      <td>2011-01-04</td>\n",
       "      <td>Assassination</td>\n",
       "      <td>1.0</td>\n",
       "      <td>0.0</td>\n",
       "      <td>Islamabad, Pakistan</td>\n",
       "      <td>Islamabad</td>\n",
       "      <td>Pakistan</td>\n",
       "    </tr>\n",
       "    <tr>\n",
       "      <th>2</th>\n",
       "      <td>2011-01-04</td>\n",
       "      <td>Bombing</td>\n",
       "      <td>4.0</td>\n",
       "      <td>26.0</td>\n",
       "      <td>Abuja, Nigeria</td>\n",
       "      <td>Abuja</td>\n",
       "      <td>Nigeria</td>\n",
       "    </tr>\n",
       "    <tr>\n",
       "      <th>3</th>\n",
       "      <td>2011-01-07</td>\n",
       "      <td>Kidnapping</td>\n",
       "      <td>9.0</td>\n",
       "      <td>NaN</td>\n",
       "      <td>Niger</td>\n",
       "      <td>Unknown</td>\n",
       "      <td>Niger</td>\n",
       "    </tr>\n",
       "    <tr>\n",
       "      <th>4</th>\n",
       "      <td>2011-01-07</td>\n",
       "      <td>Suicide bombing</td>\n",
       "      <td>17.0</td>\n",
       "      <td>23.0</td>\n",
       "      <td>Spin Boldak, Afghanistan</td>\n",
       "      <td>Spin Boldak</td>\n",
       "      <td>Afghanistan</td>\n",
       "    </tr>\n",
       "  </tbody>\n",
       "</table>\n",
       "</div>"
      ],
      "text/plain": [
       "        date             type  deaths  injuries                  location  \\\n",
       "0 2011-01-01  Suicide bombing    21.0      97.0         Alexandria, Egypt   \n",
       "1 2011-01-04    Assassination     1.0       0.0       Islamabad, Pakistan   \n",
       "2 2011-01-04          Bombing     4.0      26.0            Abuja, Nigeria   \n",
       "3 2011-01-07       Kidnapping     9.0       NaN                     Niger   \n",
       "4 2011-01-07  Suicide bombing    17.0      23.0  Spin Boldak, Afghanistan   \n",
       "\n",
       "          city      country  \n",
       "0   Alexandria        Egypt  \n",
       "1    Islamabad     Pakistan  \n",
       "2        Abuja      Nigeria  \n",
       "3      Unknown        Niger  \n",
       "4  Spin Boldak  Afghanistan  "
      ]
     },
     "execution_count": 8,
     "metadata": {},
     "output_type": "execute_result"
    }
   ],
   "source": [
    "print(len(terror))\n",
    "terror.head()"
   ]
  },
  {
   "cell_type": "markdown",
   "metadata": {},
   "source": [
    "In order to save computationnal ressources and to prevent missmatch, we start by filtering the the date. Indeed we will discard the tweets that happen before our first terrorist attck and all the attacks that happen after our last tweet."
   ]
  },
  {
   "cell_type": "code",
   "execution_count": 10,
   "metadata": {},
   "outputs": [
    {
     "name": "stdout",
     "output_type": "stream",
     "text": [
      "tweets len = 319682\n",
      "tweets len = 1579\n"
     ]
    }
   ],
   "source": [
    "min_date = max(tweets.date.min(), terror.date.min())\n",
    "max_date = min(tweets.date.max(), terror.date.max())\n",
    "\n",
    "tweets = tweets[(tweets[\"date\"]>min_date) & (tweets[\"date\"]<max_date )]\n",
    "terror = terror[(terror[\"date\"]>min_date) & (terror[\"date\"]<max_date )]\n",
    "\n",
    "print(\"tweets len = \"+str(len(tweets)))\n",
    "print(\"tweets len = \"+str(len(terror)))"
   ]
  },
  {
   "cell_type": "markdown",
   "metadata": {},
   "source": [
    "This part is the main part of our project, it covers the filter that we use to match a tweet with a terror attack."
   ]
  },
  {
   "cell_type": "code",
   "execution_count": 328,
   "metadata": {
    "collapsed": true
   },
   "outputs": [],
   "source": [
    "\n",
    "def date_score(dtweet, dattack):\n",
    "    \"\"\"\n",
    "    takes the data of the tweet and the attack and return \n",
    "    the score accordingly to how far they are to each other.\n",
    "    \"\"\"\n",
    "    diff = (dtweet - dattack).days\n",
    "    \n",
    "    alpha = 0.55\n",
    "    \n",
    "    if diff < 0 :\n",
    "        return -np.Inf\n",
    "    \n",
    "    else :\n",
    "        if 0 <= diff and diff < 4:\n",
    "            return 0.79\n",
    "            \n",
    "        return 0.79 / (alpha *(diff-4) + 1)\n",
    "\n",
    "    \n",
    "def match_filter(t, terror):\n",
    "    \"\"\"\n",
    "    The matched filter takes one tweet the whole terrorist attack dataframe\n",
    "    and return the most probable index of the attack that has a link with the tweet\n",
    "    \"\"\"\n",
    "    \n",
    "    \n",
    "    overall_score = 0\n",
    "    overall_index = -1\n",
    "    \n",
    "    # The sliding time widow (STW)\n",
    "    stw = timedelta(30)\n",
    "    \n",
    "    # We won't worry the case where the attack date is greater than the date of the tweet and apply the STW\n",
    "    sub_terror = terror[(terror[\"date\"]<t[\"date\"]) & (terror[\"date\"]>t[\"date\"]-stw) ]\n",
    "    \n",
    "    content = t[\"content\"].split()\n",
    "    \n",
    "    # List related to death:\n",
    "    death_sem = [\"die\", \"death\", \"dead\", \"kill\"]\n",
    "                       \n",
    "    # List related to injured\n",
    "    injured_sem = [\"injure\", \"hurt\", \"wound\", \"harm\", \"damage\"]\n",
    "    \n",
    "    # List of attacks that can easily be missclassified from \n",
    "    # a terrorist attack (reduce the type score see bellow)\n",
    "    common_attack = [\"attack\", \"attacks\", \"shooting\", \"bombing\", \"bombs\", \"shootings\", \"bomb\" ]\n",
    "    \n",
    "    \n",
    "    # List of malus words that doesn't fit in the context of a terrorist attack\n",
    "    malus_word = [\"great\", \" happy\", \" friend\"]\n",
    "    \n",
    "    # Check here if the tweet contains a penalty word\n",
    "    malus = False\n",
    "    # Malus word \n",
    "    for w in malus_word:\n",
    "        if w in t[\"content\"]:\n",
    "            \n",
    "            malus = True\n",
    "            break\n",
    "    \n",
    "    #For ecach event we will compute the hypothetic score matching relating to a particular attack\n",
    "    for index, attack in zip(sub_terror.index,sub_terror.get_values()):\n",
    "\n",
    "\n",
    "        # extracting the attack parameters\n",
    "        dattack, type_attack, death, injured, _ ,city, country = attack\n",
    "        \n",
    "        #\n",
    "        score = date_score(t[\"date\"], dattack )\n",
    "        sda = score\n",
    "                       \n",
    "        #If the tweet countains the exact number of death we already consider as acceptable\n",
    "        if(not np.isnan(death)):\n",
    "            if(str(int(death)) in content) or (str(int(death-1)) in content): #We also consider death - 1 in case the killer killed himself wikipedia count every killed whereas the tweets basically don't count it        \n",
    "                #print(\"Yo\")\n",
    "                for w in death_sem:\n",
    "                    #print(w)\n",
    "                    if w in t[\"content\"]:\n",
    "                        \n",
    "                        sde=0.24 * len(str(int(death-1)))\n",
    "                        \n",
    "                        #It's very easy to match number with one digit, less with 2 ... ect so:\n",
    "                        score +=0.24 * len(str(int(death)))\n",
    "    \n",
    "\n",
    "        #If the tweet countains the exact number of injured we already consider as acceptable\n",
    "        if(not np.isnan(injured)):\n",
    "            if((str(int(injured)) in content)):\n",
    "                \n",
    "                for w in injured_sem:\n",
    "                    if w in t[\"content\"]:\n",
    "                        \n",
    "                        si=0.24 * len(str(int(injured))) \n",
    "                        score +=0.24 * len(str(int(injured))) \n",
    "                        #print(\"injured score = \"+str(0.45 * len(str(int(injured)))))\n",
    "\n",
    "        #If the tweet countains the city of the attack we already consider as acceptable\n",
    "\n",
    "        if(city.lower() in t[\"content\"]):\n",
    "            score += 0.8\n",
    "            sci = 0.8\n",
    "            #print(\"city score = \"+str(0.7))\n",
    "            \n",
    "        #If the tweet countains the country of the attack we don't consider as acceptable,\n",
    "        #but we increase the score\n",
    "        if(country.lower() in t[\"content\"]):\n",
    "            score += 0.6\n",
    "            sco = 0.6\n",
    "            #print(\"country score = \"+str(0.5))\n",
    "\n",
    "        \n",
    "        if(type_attack.lower() in t[\"content\"] ):\n",
    "            \n",
    "            in_ = False\n",
    "            \n",
    "            for w in common_attack:\n",
    "                \n",
    "                if (type_attack.lower() in w):\n",
    "                    in_ = True\n",
    "                    st += 0.1\n",
    "                    score += 0.1\n",
    "                    #print(\"attack score = \"+str(0.1))\n",
    "                    break\n",
    "            \n",
    "            if(not in_):\n",
    "                st += 0.5\n",
    "                score += 0.5\n",
    "\n",
    "                \n",
    "        # Handling the malus word here \n",
    "        # It could be done before entering in the attack loop but shouldn't take that much time here\n",
    "        if(malus):\n",
    "            score -=0.3\n",
    "        \n",
    "        \n",
    "        # Now we check if the previous best score is lower than the current one\n",
    "        if(overall_score < score):\n",
    "            overall_score = score\n",
    "            overall_index = index\n",
    "    \n",
    "    # Check if we have to reject the tweet\n",
    "    if(overall_score <1 ):\n",
    "        return -1\n",
    "    \n",
    "    else:\n",
    "        return overall_index"
   ]
  },
  {
   "cell_type": "code",
   "execution_count": 468,
   "metadata": {
    "collapsed": true
   },
   "outputs": [],
   "source": [
    "def compare_(nb_tweet, nb_terr):\n",
    "\n",
    "    print(\"Content :\"+ tweets.loc[nb_tweet][\"content\"])\n",
    "    print(\"-------------------Tweet metadata--------------------\")\n",
    "    print(tweets.loc[nb_tweet])\n",
    "    print(\"-------------------Attack metadata--------------------\")\n",
    "    print(terror.loc[nb_terr])\n"
   ]
  },
  {
   "cell_type": "code",
   "execution_count": 329,
   "metadata": {},
   "outputs": [
    {
     "name": "stdout",
     "output_type": "stream",
     "text": [
      "CPU times: user 27min 35s, sys: 12.1 s, total: 27min 47s\n",
      "Wall time: 28min 5s\n"
     ]
    }
   ],
   "source": [
    "tu = tweets.copy()\n",
    "%time tu[\"related_attack\"] = tu.apply(lambda t: match_filter(t, terror) , axis = 1)"
   ]
  },
  {
   "cell_type": "markdown",
   "metadata": {},
   "source": [
    "Investingating the improvement of the sliding time window (Parameter stw in `def match_filter`) "
   ]
  },
  {
   "cell_type": "code",
   "execution_count": 470,
   "metadata": {},
   "outputs": [
    {
     "name": "stdout",
     "output_type": "stream",
     "text": [
      "Sliding time window: 5 days ->  0.7691154422788605% of drop on 2000 Tweeets in 4.89 s\n",
      "Sliding time window: 15 days -> 0.7391304347826086% of drop on 2000 Tweeets in 6.07 s\n",
      "Sliding time window: 30 days -> 0.7336331834082959% of drop on 2000 Tweeets in 8.56 s\n",
      "Sliding time window: 60 days -> 0.7206396801599201% of drop on 2000 Tweeets in 13.8 s s\n",
      "Sliding time window: 90 days -> 0.7141429285357321% of drop on 2000 Tweeets in 17.8 s\n",
      "Sliding time window: 120 days-> 0.7116441779110445% of drop on 2000 Tweeets in 22.9 s\n",
      "Sliding time window: 400 days-> 0.6966516741629185% of drop on 2000 Tweeets in 70 s\n"
     ]
    }
   ],
   "source": [
    "print(\"Sliding time window: 5 days ->  0.7691154422788605% of drop on 2000 Tweeets in 4.89 s\")\n",
    "print(\"Sliding time window: 15 days -> 0.7391304347826086% of drop on 2000 Tweeets in 6.07 s\")\n",
    "print(\"Sliding time window: 30 days -> 0.7336331834082959% of drop on 2000 Tweeets in 8.56 s\")\n",
    "print(\"Sliding time window: 60 days -> 0.7206396801599201% of drop on 2000 Tweeets in 13.8 s s\")\n",
    "print(\"Sliding time window: 90 days -> 0.7141429285357321% of drop on 2000 Tweeets in 17.8 s\")\n",
    "print(\"Sliding time window: 120 days-> 0.7116441779110445% of drop on 2000 Tweeets in 22.9 s\")\n",
    "print(\"Sliding time window: 400 days-> 0.6966516741629185% of drop on 2000 Tweeets in 70 s\")"
   ]
  },
  {
   "cell_type": "markdown",
   "metadata": {},
   "source": [
    "Bellow are some selected tweets with the new field `related_attack`"
   ]
  },
  {
   "cell_type": "code",
   "execution_count": 504,
   "metadata": {},
   "outputs": [
    {
     "data": {
      "text/html": [
       "<div>\n",
       "<style>\n",
       "    .dataframe thead tr:only-child th {\n",
       "        text-align: right;\n",
       "    }\n",
       "\n",
       "    .dataframe thead th {\n",
       "        text-align: left;\n",
       "    }\n",
       "\n",
       "    .dataframe tbody tr th {\n",
       "        vertical-align: top;\n",
       "    }\n",
       "</style>\n",
       "<table border=\"1\" class=\"dataframe\">\n",
       "  <thead>\n",
       "    <tr style=\"text-align: right;\">\n",
       "      <th></th>\n",
       "      <th>date</th>\n",
       "      <th>content</th>\n",
       "      <th>retweet</th>\n",
       "      <th>frequency</th>\n",
       "      <th>related_attack</th>\n",
       "    </tr>\n",
       "  </thead>\n",
       "  <tbody>\n",
       "    <tr>\n",
       "      <th>2</th>\n",
       "      <td>2013-06-15 18:19:07</td>\n",
       "      <td>@asma_rehman02 even your feeder usa is agreed ...</td>\n",
       "      <td>False</td>\n",
       "      <td>1</td>\n",
       "      <td>-1</td>\n",
       "    </tr>\n",
       "    <tr>\n",
       "      <th>305690</th>\n",
       "      <td>2015-11-20 16:14:17</td>\n",
       "      <td>.@lennykravitz has spoken of the city he calls...</td>\n",
       "      <td>True</td>\n",
       "      <td>1</td>\n",
       "      <td>1390</td>\n",
       "    </tr>\n",
       "    <tr>\n",
       "      <th>45433</th>\n",
       "      <td>2012-08-12 23:20:23</td>\n",
       "      <td>congratulations to those who successfully pred...</td>\n",
       "      <td>False</td>\n",
       "      <td>1</td>\n",
       "      <td>-1</td>\n",
       "    </tr>\n",
       "    <tr>\n",
       "      <th>210933</th>\n",
       "      <td>2014-06-28 07:00:02</td>\n",
       "      <td>suicide bomber kills security officer, wounds ...</td>\n",
       "      <td>False</td>\n",
       "      <td>1</td>\n",
       "      <td>993</td>\n",
       "    </tr>\n",
       "    <tr>\n",
       "      <th>130000</th>\n",
       "      <td>2011-03-14 08:34:09</td>\n",
       "      <td>suicide bomber kills 10 soldiers at iraq army ...</td>\n",
       "      <td>False</td>\n",
       "      <td>8</td>\n",
       "      <td>108</td>\n",
       "    </tr>\n",
       "    <tr>\n",
       "      <th>300013</th>\n",
       "      <td>2015-11-14 19:13:22</td>\n",
       "      <td>why hasn't anyone mentioned that other terrori...</td>\n",
       "      <td>True</td>\n",
       "      <td>1</td>\n",
       "      <td>-1</td>\n",
       "    </tr>\n",
       "  </tbody>\n",
       "</table>\n",
       "</div>"
      ],
      "text/plain": [
       "                      date                                            content  \\\n",
       "2      2013-06-15 18:19:07  @asma_rehman02 even your feeder usa is agreed ...   \n",
       "305690 2015-11-20 16:14:17  .@lennykravitz has spoken of the city he calls...   \n",
       "45433  2012-08-12 23:20:23  congratulations to those who successfully pred...   \n",
       "210933 2014-06-28 07:00:02  suicide bomber kills security officer, wounds ...   \n",
       "130000 2011-03-14 08:34:09  suicide bomber kills 10 soldiers at iraq army ...   \n",
       "300013 2015-11-14 19:13:22  why hasn't anyone mentioned that other terrori...   \n",
       "\n",
       "        retweet  frequency  related_attack  \n",
       "2         False          1              -1  \n",
       "305690     True          1            1390  \n",
       "45433     False          1              -1  \n",
       "210933    False          1             993  \n",
       "130000    False          8             108  \n",
       "300013     True          1              -1  "
      ]
     },
     "execution_count": 504,
     "metadata": {},
     "output_type": "execute_result"
    }
   ],
   "source": [
    "tu.loc[[2,305690, 45433,210933,130000, 300013]]"
   ]
  },
  {
   "cell_type": "markdown",
   "metadata": {},
   "source": [
    "We can see bellow that for this particular tweet, it has indeed match the related terror attack correctfully."
   ]
  },
  {
   "cell_type": "code",
   "execution_count": 503,
   "metadata": {},
   "outputs": [
    {
     "name": "stdout",
     "output_type": "stream",
     "text": [
      "Content :.@lennykravitz has spoken of the city he calls home, paris, and the recent terrorist attacks that occurred there:\n",
      "-------------------Tweet metadata--------------------\n",
      "date                                       2015-11-20 16:14:17\n",
      "content      .@lennykravitz has spoken of the city he calls...\n",
      "retweet                                                   True\n",
      "frequency                                                    1\n",
      "Name: 305690, dtype: object\n",
      "-------------------Attack metadata--------------------\n",
      "date        2015-11-13 00:00:00\n",
      "type                     Attack\n",
      "deaths                      130\n",
      "injuries                    368\n",
      "location          Paris, France\n",
      "city                      Paris\n",
      "country                  France\n",
      "Name: 1390, dtype: object\n"
     ]
    }
   ],
   "source": [
    "compare_(305690, 1390)"
   ]
  },
  {
   "cell_type": "markdown",
   "metadata": {},
   "source": [
    "And for this one correctfully didn't match to any terror attack"
   ]
  },
  {
   "cell_type": "code",
   "execution_count": 506,
   "metadata": {},
   "outputs": [
    {
     "data": {
      "text/plain": [
       "'congratulations to those who successfully predicted some sort of terrorist attack. nostradamus would be proud.'"
      ]
     },
     "execution_count": 506,
     "metadata": {},
     "output_type": "execute_result"
    }
   ],
   "source": [
    "tu.loc[45433][\"content\"]"
   ]
  },
  {
   "cell_type": "code",
   "execution_count": 473,
   "metadata": {},
   "outputs": [
    {
     "name": "stdout",
     "output_type": "stream",
     "text": [
      "Percentage of the tweets drop by our matched filter: 0.6710355916191716%\n"
     ]
    }
   ],
   "source": [
    "print(\"Percentage of the tweets drop by our matched filter: \"+str(len(tu[tu['related_attack']==-1])/len(tu))+\"%\")"
   ]
  },
  {
   "cell_type": "code",
   "execution_count": 582,
   "metadata": {
    "collapsed": true
   },
   "outputs": [],
   "source": [
    "def expand_with_attacks(terror, index):\n",
    "    \"\"\"\n",
    "    This function is used to expand the tweets df according to the related attack field.\n",
    "    \"\"\"\n",
    "    \n",
    "    attack = terror.loc[index]\n",
    "    \n",
    "    return attack[\"city\"], attack[\"country\"], attack[\"deaths\"], attack[\"injuries\"] , attack[\"type\"]\n",
    "    \n",
    "\n",
    "\n",
    "tweet_terr = tu.copy()\n",
    "\n",
    "# cleanning the ones which isn't related to one particular attack\n",
    "tweet_terr = tweet_terr[tweet_terr[\"related_attack\"]!= -1]\n",
    "\n",
    "#performing the map on the related_attack field to expand\n",
    "terr_features = tweet_terr[\"related_attack\"].map(lambda index : expand_with_attacks(terror, index) ).apply(pd.Series)\n",
    "\n",
    "\n",
    "# Extracting the information on the df\n",
    "tweet_terr['city'] = terr_features[0]\n",
    "tweet_terr['country'] = terr_features[1]\n",
    "tweet_terr['deaths'] = terr_features[2]\n",
    "tweet_terr['injuries'] = terr_features[3]\n",
    "tweet_terr['type'] = terr_features[4]"
   ]
  },
  {
   "cell_type": "markdown",
   "metadata": {},
   "source": [
    "Here is what we finally have the final dataset which contains all the information that can countain a matched tweet with an attack."
   ]
  },
  {
   "cell_type": "code",
   "execution_count": 508,
   "metadata": {},
   "outputs": [
    {
     "data": {
      "text/html": [
       "<div>\n",
       "<style>\n",
       "    .dataframe thead tr:only-child th {\n",
       "        text-align: right;\n",
       "    }\n",
       "\n",
       "    .dataframe thead th {\n",
       "        text-align: left;\n",
       "    }\n",
       "\n",
       "    .dataframe tbody tr th {\n",
       "        vertical-align: top;\n",
       "    }\n",
       "</style>\n",
       "<table border=\"1\" class=\"dataframe\">\n",
       "  <thead>\n",
       "    <tr style=\"text-align: right;\">\n",
       "      <th></th>\n",
       "      <th>date</th>\n",
       "      <th>content</th>\n",
       "      <th>retweet</th>\n",
       "      <th>frequency</th>\n",
       "      <th>related_attack</th>\n",
       "      <th>city</th>\n",
       "      <th>country</th>\n",
       "      <th>deaths</th>\n",
       "      <th>injuries</th>\n",
       "      <th>type</th>\n",
       "    </tr>\n",
       "  </thead>\n",
       "  <tbody>\n",
       "    <tr>\n",
       "      <th>7</th>\n",
       "      <td>2013-06-15 18:41:28</td>\n",
       "      <td>there was a huge terror attack in pakistan tod...</td>\n",
       "      <td>True</td>\n",
       "      <td>1</td>\n",
       "      <td>680</td>\n",
       "      <td>Unknown</td>\n",
       "      <td>Pakistan</td>\n",
       "      <td>27.0</td>\n",
       "      <td>21.0</td>\n",
       "      <td>Bombings, shootings</td>\n",
       "    </tr>\n",
       "    <tr>\n",
       "      <th>9</th>\n",
       "      <td>2013-06-15 18:44:41</td>\n",
       "      <td>a few days ago afghanistan had terror attacks ...</td>\n",
       "      <td>False</td>\n",
       "      <td>1</td>\n",
       "      <td>676</td>\n",
       "      <td>Kabul</td>\n",
       "      <td>Afghanistan</td>\n",
       "      <td>17.0</td>\n",
       "      <td>40.0</td>\n",
       "      <td>Suicide car bombings</td>\n",
       "    </tr>\n",
       "    <tr>\n",
       "      <th>12</th>\n",
       "      <td>2013-06-15 18:59:54</td>\n",
       "      <td>slave: \\nsuicide bombers how are you fighting ...</td>\n",
       "      <td>False</td>\n",
       "      <td>2</td>\n",
       "      <td>673</td>\n",
       "      <td>Ah</td>\n",
       "      <td>Afghanistan</td>\n",
       "      <td>1.0</td>\n",
       "      <td>3.0</td>\n",
       "      <td>Bombing</td>\n",
       "    </tr>\n",
       "    <tr>\n",
       "      <th>22</th>\n",
       "      <td>2012-10-13 23:27:58</td>\n",
       "      <td>#baghdad suicide bomber kills at least 7 in ba...</td>\n",
       "      <td>False</td>\n",
       "      <td>1</td>\n",
       "      <td>520</td>\n",
       "      <td>Baghdad</td>\n",
       "      <td>Iraq</td>\n",
       "      <td>8.0</td>\n",
       "      <td>31.0</td>\n",
       "      <td>Suicide bombing</td>\n",
       "    </tr>\n",
       "    <tr>\n",
       "      <th>43</th>\n",
       "      <td>2012-05-21 22:42:51</td>\n",
       "      <td>suicide bombing kills scores of western-backed...</td>\n",
       "      <td>False</td>\n",
       "      <td>1</td>\n",
       "      <td>440</td>\n",
       "      <td>Sana'A</td>\n",
       "      <td>Yemen</td>\n",
       "      <td>120.0</td>\n",
       "      <td>350.0</td>\n",
       "      <td>Suicide bombing</td>\n",
       "    </tr>\n",
       "  </tbody>\n",
       "</table>\n",
       "</div>"
      ],
      "text/plain": [
       "                  date                                            content  \\\n",
       "7  2013-06-15 18:41:28  there was a huge terror attack in pakistan tod...   \n",
       "9  2013-06-15 18:44:41  a few days ago afghanistan had terror attacks ...   \n",
       "12 2013-06-15 18:59:54  slave: \\nsuicide bombers how are you fighting ...   \n",
       "22 2012-10-13 23:27:58  #baghdad suicide bomber kills at least 7 in ba...   \n",
       "43 2012-05-21 22:42:51  suicide bombing kills scores of western-backed...   \n",
       "\n",
       "    retweet  frequency  related_attack     city      country  deaths  \\\n",
       "7      True          1             680  Unknown     Pakistan    27.0   \n",
       "9     False          1             676    Kabul  Afghanistan    17.0   \n",
       "12    False          2             673       Ah  Afghanistan     1.0   \n",
       "22    False          1             520  Baghdad         Iraq     8.0   \n",
       "43    False          1             440   Sana'A        Yemen   120.0   \n",
       "\n",
       "    injuries                  type  \n",
       "7       21.0   Bombings, shootings  \n",
       "9       40.0  Suicide car bombings  \n",
       "12       3.0               Bombing  \n",
       "22      31.0       Suicide bombing  \n",
       "43     350.0       Suicide bombing  "
      ]
     },
     "execution_count": 508,
     "metadata": {},
     "output_type": "execute_result"
    }
   ],
   "source": [
    "tweet_terr.head()"
   ]
  },
  {
   "cell_type": "code",
   "execution_count": 509,
   "metadata": {},
   "outputs": [
    {
     "name": "stdout",
     "output_type": "stream",
     "text": [
      "Content :suicide bombing kills scores of western-backed yemeni soldiers dylan stableford, the lookout/y!news #al-qaida #sabe\n",
      "-------------------Tweet metadata--------------------\n",
      "date                                       2012-05-21 22:42:51\n",
      "content      suicide bombing kills scores of western-backed...\n",
      "retweet                                                  False\n",
      "frequency                                                    1\n",
      "Name: 43, dtype: object\n",
      "-------------------Attack metadata--------------------\n",
      "date        2012-05-21 00:00:00\n",
      "type            Suicide bombing\n",
      "deaths                      120\n",
      "injuries                    350\n",
      "location          Sana'a, Yemen\n",
      "city                     Sana'A\n",
      "country                   Yemen\n",
      "Name: 440, dtype: object\n"
     ]
    }
   ],
   "source": [
    "# What we have for tweet #43 for example\n",
    "compare_(43, 440)"
   ]
  },
  {
   "cell_type": "markdown",
   "metadata": {},
   "source": [
    "### 3.1.2 Visual results using the matched dataframe"
   ]
  },
  {
   "cell_type": "code",
   "execution_count": 518,
   "metadata": {
    "collapsed": true
   },
   "outputs": [],
   "source": [
    "# saving the dataframe in .csv in order to not reload it\n",
    "tweet_terr.to_csv(\"matched_df.csv\", encoding=\"utf-8\", index=False)"
   ]
  },
  {
   "cell_type": "markdown",
   "metadata": {},
   "source": [
    "Bellow, we compute the tweets per death ratio in a particular country."
   ]
  },
  {
   "cell_type": "code",
   "execution_count": 588,
   "metadata": {
    "collapsed": true
   },
   "outputs": [],
   "source": [
    "nb_tweet_country = tweet_terr.groupby(\"country\").sum(skipna = True)[\"frequency\"].sort_values(ascending = False)\n",
    "nb_death_county =   terror.groupby(\"country\").sum(skipna = True)[\"deaths\"].sort_values(ascending = False)"
   ]
  },
  {
   "cell_type": "code",
   "execution_count": 599,
   "metadata": {},
   "outputs": [
    {
     "data": {
      "text/plain": [
       "country\n",
       "Denmark           1427.000000\n",
       "Australia          682.666667\n",
       "United States      428.024390\n",
       "United Kingdom     385.000000\n",
       "France             290.805195\n",
       "Bulgaria           217.000000\n",
       "Indonesia           81.714286\n",
       "Israel              80.395833\n",
       "dtype: float64"
      ]
     },
     "execution_count": 599,
     "metadata": {},
     "output_type": "execute_result"
    }
   ],
   "source": [
    "ratio = nb_tweet_country / nb_death_county\n",
    "ratio = ratio[(ratio != np.inf)]\n",
    "ratio = ratio.dropna()\n",
    "top_ratio = ratio.sort_values(ascending=False)[:8]\n",
    "top_ratio"
   ]
  },
  {
   "cell_type": "code",
   "execution_count": 600,
   "metadata": {},
   "outputs": [
    {
     "name": "stdout",
     "output_type": "stream",
     "text": [
      "290.805194805\n",
      "2.53943925234\n"
     ]
    }
   ],
   "source": [
    "print(ratio.loc[\"France\"] )\n",
    "print(ratio.loc[\"Nigeria\"])\n",
    "\n",
    "top_ratio = top_ratio.to_frame()\n",
    "top_ratio.columns = ['ratio']"
   ]
  },
  {
   "cell_type": "markdown",
   "metadata": {},
   "source": [
    "France has an average of 290 tweets for one dead whereas Nigeria has only 2.5 tweets per dead"
   ]
  },
  {
   "cell_type": "code",
   "execution_count": 601,
   "metadata": {},
   "outputs": [
    {
     "data": {
      "image/png": "[encoded data removed]",
      "text/plain": [
       "<matplotlib.figure.Figure at 0x11bae6198>"
      ]
     },
     "metadata": {},
     "output_type": "display_data"
    }
   ],
   "source": [
    "bar_plot(top_ratio, \"Ratio of Tweets per deaths\",\"ratio\",rotation=90, sort=True, ascending=False)"
   ]
  },
  {
   "cell_type": "code",
   "execution_count": 448,
   "metadata": {
    "collapsed": true
   },
   "outputs": [],
   "source": [
    "top10_t = nb_tweet_city[:10]\n",
    "\n",
    "m = pd.merge(top10_t.to_frame().reset_index(), nb_death_city.to_frame().reset_index(), on=\"city\")\n",
    "top10_d = m[\"deaths\"][:10]\n"
   ]
  },
  {
   "cell_type": "code",
   "execution_count": 449,
   "metadata": {
    "collapsed": true
   },
   "outputs": [],
   "source": [
    "sns.barplot?"
   ]
  },
  {
   "cell_type": "code",
   "execution_count": 451,
   "metadata": {
    "scrolled": false
   },
   "outputs": [
    {
     "data": {
      "text/plain": [
       "[]"
      ]
     },
     "execution_count": 451,
     "metadata": {},
     "output_type": "execute_result"
    },
    {
     "data": {
      "image/png": "[encoded data removed]",
      "text/plain": [
       "<matplotlib.figure.Figure at 0x11cb8feb8>"
      ]
     },
     "metadata": {},
     "output_type": "display_data"
    }
   ],
   "source": [
    "import matplotlib.pyplot as plt\n",
    "import seaborn as sns\n",
    "\n",
    "m[\"frequency of tweets divided by 10\"] = m[\"frequency\"].map(lambda x: x/10)\n",
    "\n",
    "x = range(10)\n",
    " \n",
    "#fig, ax = plt.subplots(figsize = (15,8))\n",
    "#sns.barplot(x=m.city, y=m.frequency, ax=ax, color='#00aced', alpha = 0.5, label = \"tweets\")\n",
    "#ax2 = ax.twinx()\n",
    "#sns.barplot(x=m.city, y=m.deaths, ax=ax2, color='#ff0000', alpha =0.5)\n",
    "#ax.bar(x, -top10_d, width=1, color='r')\n",
    "\n",
    "m.plot.barh(x='city', y=[\"frequency of tweets divided by 10\",'deaths'], figsize=(10,10))\n",
    "plt.plot()"
   ]
  },
  {
   "cell_type": "markdown",
   "metadata": {},
   "source": [
    "From the graph above, we clearly see the unbalanced ratio between the reaction and the real impact over cities. "
   ]
  },
  {
   "cell_type": "markdown",
   "metadata": {},
   "source": [
    "### 3.2 Plot the attacks in a map"
   ]
  },
  {
   "cell_type": "code",
   "execution_count": 11,
   "metadata": {
    "collapsed": true
   },
   "outputs": [],
   "source": [
    "# Mapping the names we had from Wikipedia to the name in the .geojson file\n",
    "map_ = {\n",
    "    'Bahamas': 'Bahamas, The',\n",
    "    'Congo': 'Congo, Dem. Rep.',\n",
    "    'Egypt': 'Egypt, Arab Rep.',\n",
    "    'Iran': 'Iran, Islamic Rep.',\n",
    "    'Ivory Coast': 'Côte d\\'Ivoire',\n",
    "    'Kyrgyzstan': 'Kyrgyz Republic',\n",
    "    'Laos': 'Lao PDR',\n",
    "    'Palestine': 'Palestine (West Bank and Gaza)',\n",
    "    'Republic of Ireland': 'Ireland',\n",
    "    'Republic of Macedonia': 'Macedonia, FYR',\n",
    "    'Russia': 'Russian Federation',\n",
    "    'South Korea': 'Korea, Rep.',\n",
    "    'Syria': 'Syrian Arab Republic',\n",
    "    'United States': 'United States of America',\n",
    "    'Venezuela': 'Venezuela, RB',\n",
    "    'Yemen': 'Yemen, Rep.',\n",
    "    'Indian Ocean': 'Indian Ocean Territories'\n",
    "}"
   ]
  },
  {
   "cell_type": "code",
   "execution_count": 12,
   "metadata": {
    "collapsed": true
   },
   "outputs": [],
   "source": [
    "# WARNING: both are not used anymore since we draw circles\n",
    "\n",
    "def map_number_color(number):\n",
    "    '''Maps the number we are interested in to a color'''\n",
    "    number = np.sqrt(number)\n",
    "    max_ = np.sqrt(attacks_per_country.number.max())\n",
    "    min_ = np.sqrt(attacks_per_country.number.min())\n",
    "    c = int(202 - (number - min_) / (max_ - min_) * 202)\n",
    "    s = hex(c)[-2:]\n",
    "    if c < 16:\n",
    "        s = str(0) + hex(c)[-1]\n",
    "    return '#' + hex(236)[-2:] + s + '00'\n",
    "\n",
    "def color(name):\n",
    "    '''Gets the color for a country'''\n",
    "    if name in list(attacks_per_country.country):\n",
    "        return map_number_color(attacks_per_country[attacks_per_country.country == name]['number'].values[0])\n",
    "    else:\n",
    "        return '#aeae9e' "
   ]
  },
  {
   "cell_type": "code",
   "execution_count": 13,
   "metadata": {
    "collapsed": true
   },
   "outputs": [],
   "source": [
    "# folium.GeoJson(\n",
    "#     geojson_world,\n",
    "#     style_function=lambda feature: {\n",
    "#             'fillColor': color(feature['properties']['name_sort']),\n",
    "#             'color': '#151515',\n",
    "#             'fillOpacity': 0.5,\n",
    "#             'weight': 1\n",
    "#     }\n",
    "# ).add_to(world)"
   ]
  },
  {
   "cell_type": "code",
   "execution_count": 14,
   "metadata": {
    "collapsed": true
   },
   "outputs": [],
   "source": [
    "def radius(data, country):\n",
    "    '''Gets the radius of the circle for a country'''\n",
    "    max_ = np.sqrt(data.number.max())\n",
    "    v = data[data.country == country].number.values\n",
    "    if len(v) == 0:\n",
    "        return 0\n",
    "    return int(1000000 * int(np.sqrt(v[0])) / max_)"
   ]
  },
  {
   "cell_type": "code",
   "execution_count": 15,
   "metadata": {
    "collapsed": true
   },
   "outputs": [],
   "source": [
    "def number(data, country, measure):\n",
    "    '''Gets the number we are interested in for a country'''\n",
    "    v = data[data.country == country].number.values\n",
    "    if len(v) == 0:\n",
    "        return str(0)\n",
    "    if ('\\'' in country):\n",
    "        country = country.replace('\\'', '')\n",
    "    return country + ': ' + str(int(v[0])) + ' ' + measure "
   ]
  },
  {
   "cell_type": "code",
   "execution_count": 16,
   "metadata": {
    "collapsed": true
   },
   "outputs": [],
   "source": [
    "def build_map(data, measure, color):\n",
    "    '''Builds a map from the data. The data is expected to have a \\'country\\' column and a \\'number\\' column'''\n",
    "    geojson_world = json.load(open('custom.geo.json', encoding='utf-8')) # JSON file containing the border\n",
    "    lat_lon_json = json.load(open('clean.json')) # JSON file containing the latitude and longitude of each country\n",
    "    \n",
    "    # Creating the map\n",
    "    world = folium.Map([30, 5], tiles='cartodbpositron', zoom_start=2)\n",
    "    \n",
    "    # Adding a circle for each country. The circle is clickable to see the number\n",
    "    for country in lat_lon_json:\n",
    "        folium.Circle(\n",
    "            location=[float(country['lat']), float(country['lon'])],\n",
    "            radius=radius(data, country['name']), # The size depends on the number\n",
    "            fill=True,\n",
    "            fill_color=color,\n",
    "          # fill_color=my_color_function(country['name']),\n",
    "            fill_opacity=0.2,\n",
    "            opacity=0,\n",
    "            popup=folium.Popup(number(data, country['name'], measure)), # The texts also depends on the number\n",
    "            control=False\n",
    "        ).add_to(world)\n",
    "        \n",
    "    return world"
   ]
  },
  {
   "cell_type": "code",
   "execution_count": 18,
   "metadata": {
    "collapsed": true
   },
   "outputs": [],
   "source": [
    "# Getting the mixed data\n",
    "matched = pd.read_csv('matched_df.csv', encoding='utf-8')\n",
    "\n",
    "# The reaction is the sum of tweets and retweets for each country\n",
    "reaction_per_country = matched.groupby(by='country', as_index=False).sum()[['country', 'frequency']]\n",
    "reaction_per_country = reaction_per_country.rename(columns={'frequency':'number'})\n",
    "\n",
    "reaction_per_country.country = reaction_per_country.country.map(lambda c: map_[c] if c in map_.keys() else c)"
   ]
  },
  {
   "cell_type": "code",
   "execution_count": 19,
   "metadata": {},
   "outputs": [
    {
     "name": "stdout",
     "output_type": "stream",
     "text": [
      "We have 1574 registered attacks from January 1st, 2011 to January 31st, 2016\n"
     ]
    }
   ],
   "source": [
    "# Getting the wiki data\n",
    "df = pd.read_csv('attacks.csv', encoding='utf-8', parse_dates=[0])\n",
    "print('We have {} registered attacks from January 1st, 2011 to January 31st, 2016'.format(df[df.date < date(2016, 1, 31)].shape[0]))\n",
    "\n",
    "# Grouping by country, summing for the number of deaths\n",
    "attacks_per_country = df[df.date < date(2016, 1, 31)].groupby(by=['country'], as_index=False).count()[['country', 'date']]\n",
    "attacks_per_country = pd.DataFrame(attacks_per_country.sort_values(by=['country'])).rename(columns={'date': 'number'})\n",
    "\n",
    "# Changing the names to what we want\n",
    "attacks_per_country.country = attacks_per_country.country.map(lambda c: map_[c] if c in map_.keys() else c)"
   ]
  },
  {
   "cell_type": "code",
   "execution_count": 22,
   "metadata": {
    "collapsed": true
   },
   "outputs": [],
   "source": [
    "attacks = build_map(attacks_per_country, 'attacks', '#ff0000')"
   ]
  },
  {
   "cell_type": "code",
   "execution_count": 23,
   "metadata": {},
   "outputs": [
    {
     "data": {
      "text/html": [
       "<div style=\"width:100%;\"><div style=\"position:relative;width:100%;height:0;padding-bottom:60%;\"><iframe src=\"data:text/html;charset=utf-8;base64,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\" style=\"position:absolute;width:100%;height:100%;left:0;top:0;border:none !important;\" allowfullscreen webkitallowfullscreen mozallowfullscreen></iframe></div></div>"
      ],
      "text/plain": [
       "<folium.folium.Map at 0x258890dff98>"
      ]
     },
     "execution_count": 23,
     "metadata": {},
     "output_type": "execute_result"
    }
   ],
   "source": [
    "attacks"
   ]
  },
  {
   "cell_type": "code",
   "execution_count": 24,
   "metadata": {
    "collapsed": true
   },
   "outputs": [],
   "source": [
    "attacks.save('attacks_2011_2016.html')"
   ]
  },
  {
   "cell_type": "code",
   "execution_count": 25,
   "metadata": {},
   "outputs": [
    {
     "data": {
      "text/html": [
       "<div style=\"width:100%;\"><div style=\"position:relative;width:100%;height:0;padding-bottom:60%;\"><iframe src=\"data:text/html;charset=utf-8;base64,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\" style=\"position:absolute;width:100%;height:100%;left:0;top:0;border:none !important;\" allowfullscreen webkitallowfullscreen mozallowfullscreen></iframe></div></div>"
      ],
      "text/plain": [
       "<folium.folium.Map at 0x258848ed240>"
      ]
     },
     "execution_count": 25,
     "metadata": {},
     "output_type": "execute_result"
    }
   ],
   "source": [
    "reaction = build_map(reaction_per_country, 'tweets', '#00aced')\n",
    "reaction"
   ]
  },
  {
   "cell_type": "code",
   "execution_count": 26,
   "metadata": {
    "collapsed": true
   },
   "outputs": [],
   "source": [
    "reaction.save('reaction_2011_2016.html')"
   ]
  },
  {
   "cell_type": "markdown",
   "metadata": {},
   "source": [
    "### 3.3 Other graphs/info"
   ]
  },
  {
   "cell_type": "markdown",
   "metadata": {},
   "source": [
    "#### 3.3.2 Safety ranking"
   ]
  },
  {
   "cell_type": "code",
   "execution_count": 566,
   "metadata": {
    "collapsed": true
   },
   "outputs": [],
   "source": [
    "import matplotlib.pyplot as plt\n",
    "import seaborn as sns\n",
    "    \n",
    "def bar_plot(data, title, y, x='', rotation=0, sort=False, ascending=True):\n",
    "    '''Just to do a simple barplot'''\n",
    "    fig, ax = plt.subplots()\n",
    "    ax.set_title(title, fontsize=15, fontweight='bold')\n",
    "    if sort:\n",
    "        ax = sns.barplot(data.sort_values([y], ascending=ascending)[y].keys(), data.sort_values([y], ascending=ascending)[y], ax=ax)\n",
    "    else:\n",
    "        ax = sns.barplot(data[y].keys(), data[y], ax=ax)\n",
    "    locs, labels = plt.xticks()\n",
    "    ax.set(xlabel=x, ylabel=y)\n",
    "    plt.setp(labels, rotation=rotation)\n",
    "    plt.show()"
   ]
  },
  {
   "cell_type": "markdown",
   "metadata": {},
   "source": [
    "We will now perform a ranking of the most unsafe cities and countries. By doing so, we hope to highlight the parts of the world where terrorism can be an everyday worry."
   ]
  },
  {
   "cell_type": "markdown",
   "metadata": {},
   "source": [
    "**We will now classify every city according to their number of terror attacks, and casualties :**\n",
    "\n",
    "To do so, we will create a DataFrame containing cities and their respective rankings by number of events, and casualties."
   ]
  },
  {
   "cell_type": "code",
   "execution_count": 72,
   "metadata": {},
   "outputs": [
    {
     "data": {
      "text/html": [
       "<div>\n",
       "<style>\n",
       "    .dataframe thead tr:only-child th {\n",
       "        text-align: right;\n",
       "    }\n",
       "\n",
       "    .dataframe thead th {\n",
       "        text-align: left;\n",
       "    }\n",
       "\n",
       "    .dataframe tbody tr th {\n",
       "        vertical-align: top;\n",
       "    }\n",
       "</style>\n",
       "<table border=\"1\" class=\"dataframe\">\n",
       "  <thead>\n",
       "    <tr style=\"text-align: right;\">\n",
       "      <th></th>\n",
       "      <th>events</th>\n",
       "      <th>rank_event</th>\n",
       "      <th>casualties</th>\n",
       "      <th>rank_casualties</th>\n",
       "    </tr>\n",
       "    <tr>\n",
       "      <th>city</th>\n",
       "      <th></th>\n",
       "      <th></th>\n",
       "      <th></th>\n",
       "      <th></th>\n",
       "    </tr>\n",
       "  </thead>\n",
       "  <tbody>\n",
       "    <tr>\n",
       "      <th>Baghdad</th>\n",
       "      <td>100</td>\n",
       "      <td>1</td>\n",
       "      <td>1613.0</td>\n",
       "      <td>3</td>\n",
       "    </tr>\n",
       "    <tr>\n",
       "      <th>Kabul</th>\n",
       "      <td>48</td>\n",
       "      <td>3</td>\n",
       "      <td>406.0</td>\n",
       "      <td>10</td>\n",
       "    </tr>\n",
       "    <tr>\n",
       "      <th>Peshawar</th>\n",
       "      <td>38</td>\n",
       "      <td>4</td>\n",
       "      <td>860.0</td>\n",
       "      <td>4</td>\n",
       "    </tr>\n",
       "    <tr>\n",
       "      <th>Mogadishu</th>\n",
       "      <td>38</td>\n",
       "      <td>5</td>\n",
       "      <td>417.0</td>\n",
       "      <td>9</td>\n",
       "    </tr>\n",
       "    <tr>\n",
       "      <th>Maiduguri</th>\n",
       "      <td>25</td>\n",
       "      <td>6</td>\n",
       "      <td>789.0</td>\n",
       "      <td>5</td>\n",
       "    </tr>\n",
       "    <tr>\n",
       "      <th>Karachi</th>\n",
       "      <td>20</td>\n",
       "      <td>7</td>\n",
       "      <td>322.0</td>\n",
       "      <td>13</td>\n",
       "    </tr>\n",
       "    <tr>\n",
       "      <th>Damascus</th>\n",
       "      <td>18</td>\n",
       "      <td>8</td>\n",
       "      <td>429.0</td>\n",
       "      <td>8</td>\n",
       "    </tr>\n",
       "    <tr>\n",
       "      <th>Quetta</th>\n",
       "      <td>17</td>\n",
       "      <td>9</td>\n",
       "      <td>341.0</td>\n",
       "      <td>11</td>\n",
       "    </tr>\n",
       "    <tr>\n",
       "      <th>North Waziristan</th>\n",
       "      <td>15</td>\n",
       "      <td>10</td>\n",
       "      <td>153.0</td>\n",
       "      <td>27</td>\n",
       "    </tr>\n",
       "    <tr>\n",
       "      <th>Sana'a</th>\n",
       "      <td>14</td>\n",
       "      <td>11</td>\n",
       "      <td>502.0</td>\n",
       "      <td>7</td>\n",
       "    </tr>\n",
       "    <tr>\n",
       "      <th>Cairo</th>\n",
       "      <td>13</td>\n",
       "      <td>12</td>\n",
       "      <td>20.0</td>\n",
       "      <td>226</td>\n",
       "    </tr>\n",
       "    <tr>\n",
       "      <th>Jalalabad</th>\n",
       "      <td>12</td>\n",
       "      <td>13</td>\n",
       "      <td>166.0</td>\n",
       "      <td>25</td>\n",
       "    </tr>\n",
       "    <tr>\n",
       "      <th>Jerusalem</th>\n",
       "      <td>12</td>\n",
       "      <td>14</td>\n",
       "      <td>12.0</td>\n",
       "      <td>339</td>\n",
       "    </tr>\n",
       "    <tr>\n",
       "      <th>Kandahar</th>\n",
       "      <td>11</td>\n",
       "      <td>15</td>\n",
       "      <td>154.0</td>\n",
       "      <td>26</td>\n",
       "    </tr>\n",
       "    <tr>\n",
       "      <th>Aden</th>\n",
       "      <td>11</td>\n",
       "      <td>16</td>\n",
       "      <td>73.0</td>\n",
       "      <td>65</td>\n",
       "    </tr>\n",
       "    <tr>\n",
       "      <th>Hangu</th>\n",
       "      <td>10</td>\n",
       "      <td>17</td>\n",
       "      <td>118.0</td>\n",
       "      <td>36</td>\n",
       "    </tr>\n",
       "    <tr>\n",
       "      <th>Mosul</th>\n",
       "      <td>9</td>\n",
       "      <td>18</td>\n",
       "      <td>83.0</td>\n",
       "      <td>55</td>\n",
       "    </tr>\n",
       "    <tr>\n",
       "      <th>Beirut</th>\n",
       "      <td>9</td>\n",
       "      <td>19</td>\n",
       "      <td>96.0</td>\n",
       "      <td>45</td>\n",
       "    </tr>\n",
       "    <tr>\n",
       "      <th>Tikrit</th>\n",
       "      <td>9</td>\n",
       "      <td>20</td>\n",
       "      <td>247.0</td>\n",
       "      <td>17</td>\n",
       "    </tr>\n",
       "  </tbody>\n",
       "</table>\n",
       "</div>"
      ],
      "text/plain": [
       "                  events  rank_event  casualties  rank_casualties\n",
       "city                                                             \n",
       "Baghdad              100           1      1613.0                3\n",
       "Kabul                 48           3       406.0               10\n",
       "Peshawar              38           4       860.0                4\n",
       "Mogadishu             38           5       417.0                9\n",
       "Maiduguri             25           6       789.0                5\n",
       "Karachi               20           7       322.0               13\n",
       "Damascus              18           8       429.0                8\n",
       "Quetta                17           9       341.0               11\n",
       "North Waziristan      15          10       153.0               27\n",
       "Sana'a                14          11       502.0                7\n",
       "Cairo                 13          12        20.0              226\n",
       "Jalalabad             12          13       166.0               25\n",
       "Jerusalem             12          14        12.0              339\n",
       "Kandahar              11          15       154.0               26\n",
       "Aden                  11          16        73.0               65\n",
       "Hangu                 10          17       118.0               36\n",
       "Mosul                  9          18        83.0               55\n",
       "Beirut                 9          19        96.0               45\n",
       "Tikrit                 9          20       247.0               17"
      ]
     },
     "execution_count": 72,
     "metadata": {},
     "output_type": "execute_result"
    }
   ],
   "source": [
    "most_dangerous_cities = terror.groupby('city')['city'].count().sort_values(ascending=False)\n",
    "most_dangerous_cities2 = terror.groupby('city').sum()['deaths'].dropna().sort_values(ascending=False)\n",
    "\n",
    "cities = most_dangerous_cities.to_frame()\n",
    "cities.columns = ['events']\n",
    "cities['rank_event'] = range(1,len(cities.index)+1)\n",
    "cities = cities.reset_index()\n",
    "cities2 = most_dangerous_cities2.to_frame()\n",
    "cities2.columns = ['casualties']\n",
    "cities2['rank_casualties'] = range(1,len(cities2.index)+1)\n",
    "cities2 = cities2.reset_index()\n",
    "mg = cities.merge(cities2, on='city').iloc[:20] # We select the cities that are the most affected\n",
    "mg = mg.set_index('city')\n",
    "mg = mg.drop('Unknown') # drop the events with no city in the wikipedia database\n",
    "mg\n",
    "\n",
    "# attention iraq != across iraq"
   ]
  },
  {
   "cell_type": "markdown",
   "metadata": {},
   "source": [
    "As a result, **Baghdad** the most dangerous place on earth in terms of number of terror attacks, and second in terms of casualties. With 100 attacks during the studied period, it is more than three times more than the second most hit city, Kabul.\n",
    "\n",
    "Our study period goes from January 2011 to January 2016, which makes it around **one attack every two weeks**.\n",
    "\n",
    "Even though Baghdad has been covered by the Western Media during the Iraqi war with the intervention of the USA, one might be surprised by the other members of the most hit cities, such as Maiduguri, Quetta, Peshawar."
   ]
  },
  {
   "cell_type": "code",
   "execution_count": 73,
   "metadata": {},
   "outputs": [
    {
     "data": {
      "image/png": "[encoded data removed]",
      "text/plain": [
       "<matplotlib.figure.Figure at 0x12f12da90>"
      ]
     },
     "metadata": {},
     "output_type": "display_data"
    }
   ],
   "source": [
    "bar_plot(mg,'Most dangerous cities by number of events', 'events', rotation=90, sort=True, ascending=False)"
   ]
  },
  {
   "cell_type": "markdown",
   "metadata": {},
   "source": [
    "**The number of events is for sure significant, but to complete our viewpoint, we will plot the same ranking by number of casualties :**"
   ]
  },
  {
   "cell_type": "code",
   "execution_count": 74,
   "metadata": {},
   "outputs": [
    {
     "data": {
      "image/png": "[encoded data removed]",
      "text/plain": [
       "<matplotlib.figure.Figure at 0x130220080>"
      ]
     },
     "metadata": {},
     "output_type": "display_data"
    }
   ],
   "source": [
    "bar_plot(mg,'Most dangerous cities by casualties', 'casualties', rotation=90, sort=True, ascending=False)"
   ]
  },
  {
   "cell_type": "markdown",
   "metadata": {},
   "source": [
    "Baghdad registered 100 events, for a death toll of 1613 : an attack makes on average more than 16 victims, a sad finding of the every-day reality that happens far-away from our safe houses !"
   ]
  },
  {
   "cell_type": "code",
   "execution_count": 75,
   "metadata": {
    "collapsed": true
   },
   "outputs": [],
   "source": [
    "most_dangerous_countries = terror.groupby('country')['country'].count().sort_values(ascending=False)\n",
    "most_dangerous_countries2 = terror.groupby('country').sum()['deaths'].dropna().sort_values(ascending=False)\n",
    "\n",
    "countries = most_dangerous_countries.to_frame()\n",
    "countries.columns = ['events']\n",
    "countries['rank_event'] = range(1,len(countries.index)+1)\n",
    "countries = countries.reset_index()\n",
    "countries2 = most_dangerous_countries2.to_frame()\n",
    "countries2.columns = ['casualties']\n",
    "countries2['rank_casualties'] = range(1,len(countries2.index)+1)\n",
    "countries2 = countries2.reset_index()\n",
    "mgc = countries.merge(countries2, on='country') # We select the cities that are the most affected\n",
    "mgc = mgc.set_index('country')"
   ]
  },
  {
   "cell_type": "markdown",
   "metadata": {},
   "source": [
    "Iraq tops the list, and to illustrate the gap between the first few countries and the others, we will now introduce our final plot for this section, the rank by percentage of casualties :"
   ]
  },
  {
   "cell_type": "code",
   "execution_count": 76,
   "metadata": {},
   "outputs": [
    {
     "data": {
      "image/png": "[encoded data removed]",
      "text/plain": [
       "<matplotlib.figure.Figure at 0x12f12d2e8>"
      ]
     },
     "metadata": {},
     "output_type": "display_data"
    }
   ],
   "source": [
    "total_cas = mgc['casualties'].sum()\n",
    "mgc['per_casualties']=mgc['casualties'].map(lambda x: 100*x/total_cas)\n",
    "\n",
    "s = mgc.iloc[:6]['per_casualties'].sum()\n",
    "others = 100-s\n",
    "percentage = mgc['per_casualties'].iloc[:6].append(pd.Series({'Rest of the world':others}))\n",
    "percentage.rename(\"\").plot.pie(figsize=(8,8), title='Percentage of victims of terrorism by country')\n",
    "plt.show()"
   ]
  },
  {
   "cell_type": "markdown",
   "metadata": {},
   "source": [
    "In this astonishing ranking, we can highlight two important facts :\n",
    "\n",
    "- The first **6 countries** of the list gather **more than *80%** of all deaths by terror attacks, and the other 30% are shared between all the other (around 200) countries.  \n",
    "- The first European country in the list is France in 33th position. We can already imagine, before analyzing the social impact of those attacks, that this country has seen a much bigger social impact on the reactions to attacks, than most of the first 30 most hit countries."
   ]
  },
  {
   "cell_type": "markdown",
   "metadata": {},
   "source": [
    "### 3.3.2 Distribution of major groups"
   ]
  },
  {
   "cell_type": "markdown",
   "metadata": {},
   "source": [
    "Lastly, we detail the most important active terrorist groups, but this time during the period of January 2011 to  December 2017. Indeed, there has unfortunately been a lot of activities of groups like ISIS during this larger timespan."
   ]
  },
  {
   "cell_type": "code",
   "execution_count": 15,
   "metadata": {
    "collapsed": true
   },
   "outputs": [],
   "source": [
    "list_of_interest_groups = ['Islamic State','Boko Haram', 'Al Shabaab', 'Al Quaeda', 'ISIL', ]"
   ]
  },
  {
   "cell_type": "code",
   "execution_count": 16,
   "metadata": {
    "collapsed": true
   },
   "outputs": [],
   "source": [
    "import re\n",
    "\n",
    "def norm_interest(w):\n",
    "    \n",
    "    w = str(w).lower()\n",
    "    w = re.sub(r'-', ' ', w)  \n",
    "    w = re.sub(r'\\sin\\s(.*)','',w)\n",
    "    \n",
    "    #special case\n",
    "    w = re.sub(r'shabab', 'shabaab', w)  \n",
    "\n",
    "\n",
    "    \n",
    "    for l in list_of_interest_groups:\n",
    "        if l.lower() in w:\n",
    "            return l\n",
    "    \n",
    "    return w"
   ]
  },
  {
   "cell_type": "code",
   "execution_count": 27,
   "metadata": {},
   "outputs": [
    {
     "data": {
      "text/html": [
       "<div>\n",
       "<style scoped>\n",
       "    .dataframe tbody tr th:only-of-type {\n",
       "        vertical-align: middle;\n",
       "    }\n",
       "\n",
       "    .dataframe tbody tr th {\n",
       "        vertical-align: top;\n",
       "    }\n",
       "\n",
       "    .dataframe thead th {\n",
       "        text-align: right;\n",
       "    }\n",
       "</style>\n",
       "<table border=\"1\" class=\"dataframe\">\n",
       "  <thead>\n",
       "    <tr style=\"text-align: right;\">\n",
       "      <th></th>\n",
       "      <th>date</th>\n",
       "      <th>type</th>\n",
       "      <th>deaths</th>\n",
       "      <th>injuries</th>\n",
       "      <th>location</th>\n",
       "      <th>perpetrator</th>\n",
       "    </tr>\n",
       "  </thead>\n",
       "  <tbody>\n",
       "    <tr>\n",
       "      <th>0</th>\n",
       "      <td>2016-02-01</td>\n",
       "      <td>Suicide bombing</td>\n",
       "      <td>20.0</td>\n",
       "      <td>29.0</td>\n",
       "      <td>Kabul, Afghanistan</td>\n",
       "      <td>taliban</td>\n",
       "    </tr>\n",
       "    <tr>\n",
       "      <th>1</th>\n",
       "      <td>2016-02-01</td>\n",
       "      <td>Bombing</td>\n",
       "      <td>7.0</td>\n",
       "      <td>5.0</td>\n",
       "      <td>Hīt, Iraq</td>\n",
       "      <td>Islamic State</td>\n",
       "    </tr>\n",
       "    <tr>\n",
       "      <th>2</th>\n",
       "      <td>2016-02-01</td>\n",
       "      <td>beheading</td>\n",
       "      <td>3.0</td>\n",
       "      <td>0.0</td>\n",
       "      <td>Manbij, Syria</td>\n",
       "      <td>Islamic State</td>\n",
       "    </tr>\n",
       "  </tbody>\n",
       "</table>\n",
       "</div>"
      ],
      "text/plain": [
       "         date             type  deaths  injuries            location  \\\n",
       "0  2016-02-01  Suicide bombing    20.0      29.0  Kabul, Afghanistan   \n",
       "1  2016-02-01          Bombing     7.0       5.0           Hīt, Iraq   \n",
       "2  2016-02-01        beheading     3.0       0.0       Manbij, Syria   \n",
       "\n",
       "     perpetrator  \n",
       "0        taliban  \n",
       "1  Islamic State  \n",
       "2  Islamic State  "
      ]
     },
     "execution_count": 27,
     "metadata": {},
     "output_type": "execute_result"
    }
   ],
   "source": [
    "terror_perp = df_perp.copy()\n",
    "terror_perp['perpetrator'] = terror_perp['perpetrator'].map(norm_interest)\n",
    "terror_perp.head(3)"
   ]
  },
  {
   "cell_type": "code",
   "execution_count": 47,
   "metadata": {},
   "outputs": [
    {
     "data": {
      "image/png": "[encoded data removed]",
      "text/plain": [
       "<matplotlib.figure.Figure at 0x10a395518>"
      ]
     },
     "metadata": {},
     "output_type": "display_data"
    }
   ],
   "source": [
    "a = terror_perp.groupby('perpetrator')['deaths'].sum().drop('unknown').drop('').sort_values(ascending=False)\n",
    "a.iloc[:10].plot.bar(figsize=(8,8), title='10 most active terrorist groups, by number of deaths')\n",
    "plt.show()"
   ]
  },
  {
   "cell_type": "markdown",
   "metadata": {},
   "source": [
    "With this graph, we can discover the dramatic impact of the activities of the Islamic State during the time period. On a more brighter note, the group is today on the verge of defeat, and we can just hope that no other terrorist group or other entity will ever inflict such pain to thousand of innocent victims !"
   ]
  }
 ],
 "metadata": {
  "kernelspec": {
   "display_name": "Python [default]",
   "language": "python",
   "name": "python3"
  },
  "language_info": {
   "codemirror_mode": {
    "name": "ipython",
    "version": 3
   },
   "file_extension": ".py",
   "mimetype": "text/x-python",
   "name": "python",
   "nbconvert_exporter": "python",
   "pygments_lexer": "ipython3",
   "version": "3.5.4"
  }
 },
 "nbformat": 4,
 "nbformat_minor": 2
}
