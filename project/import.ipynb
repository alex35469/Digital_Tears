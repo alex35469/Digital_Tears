{
 "cells": [
  {
   "cell_type": "code",
   "execution_count": 3,
   "metadata": {},
   "outputs": [],
   "source": [
    "import json\n",
    "import re\n",
    "from pyspark.sql import *\n",
    "from pyspark import SparkContext, SQLContext"
   ]
  },
  {
   "cell_type": "code",
   "execution_count": 5,
   "metadata": {},
   "outputs": [],
   "source": [
    "\n",
    "sc = SparkContext()\n",
    "#hdfs:///datasets/tweets-leon\n",
    "text_file = sc.textFile(\"hdfs:///datasets/tweets-leon\")\n",
    "\n"
   ]
  },
  {
   "cell_type": "code",
   "execution_count": 6,
   "metadata": {
    "collapsed": true
   },
   "outputs": [],
   "source": [
    "sample = text_file.take(10)"
   ]
  },
  {
   "cell_type": "code",
   "execution_count": 9,
   "metadata": {},
   "outputs": [
    {
     "data": {
      "text/plain": [
       "['en\\t345963923251539968\\tSat Jun 15 18:00:01 +0000 2013\\tLetataleta\\tRT @silsilfani: the world is not a wish-granting machine. dont be surprised when everything always end up disappointing.',\n",
       " \"en\\t345963923297673217\\tSat Jun 15 18:00:01 +0000 2013\\tJamesonN7\\tRT @WhosThisHoe: I'd rather sleep with a nice guy because they always finish last\",\n",
       " \"en\\t345963923259924480\\tSat Jun 15 18:00:01 +0000 2013\\tLauraEllynJones\\tCan't stand people who lie then blame it on someone else #boreoff\",\n",
       " 'it\\t345963923276697601\\tSat Jun 15 18:00:01 +0000 2013\\tChialettaFClub\\t@ChialettaFClub: #rt seguimi ti seguo ti voto il profilo\\\\nX9\\\\nOBBIETTIVO:300',\n",
       " 'fr\\t345963923255730176\\tSat Jun 15 18:00:01 +0000 2013\\t_irem61_\\tRT @DHC_Music: Terrorism ... #FreePalestina http://t.co/OLWnVlW682',\n",
       " 'en\\t345963923247345664\\tSat Jun 15 18:00:01 +0000 2013\\tdannamaee\\t@JennnnyDo better than Starbucks??',\n",
       " 'en\\t345963923272511489\\tSat Jun 15 18:00:01 +0000 2013\\tmalenpalmeyro1\\tRT @arthurmeyer13: Thank you for the Frog Lawn Mower @justinbieber!!! I am officially a true Belieber! #froglawnmower',\n",
       " 'en\\t345963923247345667\\tSat Jun 15 18:00:01 +0000 2013\\tNaughtyBert\\tI posted a new photo to Facebook http://t.co/ja6xWwQnaO',\n",
       " 'en\\t345963923289288704\\tSat Jun 15 18:00:01 +0000 2013\\tAquafloater\\tNew post: \"Pontoon reflection\" http://t.co/UY8PBYATth #FTM #FloatTheMoat #Water',\n",
       " 'en\\t345963923264131072\\tSat Jun 15 18:00:01 +0000 2013\\tSabyJones15\\tSaby:)&lt;3 http://t.co/geBjEEmm2s']"
      ]
     },
     "execution_count": 9,
     "metadata": {},
     "output_type": "execute_result"
    }
   ],
   "source": [
    "sample"
   ]
  },
  {
   "cell_type": "code",
   "execution_count": null,
   "metadata": {
    "collapsed": true
   },
   "outputs": [],
   "source": []
  }
 ],
 "metadata": {
  "kernelspec": {
   "display_name": "Python [conda env:ada]",
   "language": "python",
   "name": "conda-env-ada-py"
  },
  "language_info": {
   "codemirror_mode": {
    "name": "ipython",
    "version": 3
   },
   "file_extension": ".py",
   "mimetype": "text/x-python",
   "name": "python",
   "nbconvert_exporter": "python",
   "pygments_lexer": "ipython3",
   "version": "3.5.4"
  }
 },
 "nbformat": 4,
 "nbformat_minor": 2
}
