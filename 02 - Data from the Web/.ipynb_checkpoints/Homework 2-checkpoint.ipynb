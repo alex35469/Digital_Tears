{
 "cells": [
  {
   "cell_type": "markdown",
   "metadata": {},
   "source": [
    "# ADA Homework 2"
   ]
  },
  {
   "cell_type": "code",
   "execution_count": 1,
   "metadata": {
    "collapsed": true
   },
   "outputs": [],
   "source": [
    "# Import libraries\n",
    "import requests\n",
    "import pandas as pd\n",
    "from bs4 import BeautifulSoup"
   ]
  },
  {
   "cell_type": "code",
   "execution_count": 2,
   "metadata": {
    "collapsed": true
   },
   "outputs": [],
   "source": [
    "tu_base_URL = 'https://www.topuniversities.com'\n",
    "the_base_URL = 'http://www.timeshighereducation.com'"
   ]
  },
  {
   "cell_type": "code",
   "execution_count": 3,
   "metadata": {
    "collapsed": true
   },
   "outputs": [],
   "source": [
    "tu_false_URL = '/university-rankings/world-university-rankings/2018'\n",
    "tu_rank_URL = '/sites/default/files/qs-rankings-data/357051.txt'\n",
    "the_rank_URL = '/sites/default/files/the_data_rankings/world_university_rankings_2018_limit0_369a9045a203e176392b9fb8f8c1cb2a.json'"
   ]
  },
  {
   "cell_type": "markdown",
   "metadata": {},
   "source": [
    "-----------------------"
   ]
  },
  {
   "cell_type": "markdown",
   "metadata": {},
   "source": [
    "This part shows how we first tried to treat the data but realised that the data was not retrievable from the `false_url`"
   ]
  },
  {
   "cell_type": "code",
   "execution_count": 4,
   "metadata": {
    "collapsed": true
   },
   "outputs": [],
   "source": [
    "# Make the request\n",
    "r = requests.get(tu_base_URL + tu_false_URL)\n",
    "body = r.text"
   ]
  },
  {
   "cell_type": "code",
   "execution_count": 5,
   "metadata": {},
   "outputs": [
    {
     "data": {
      "text/plain": [
       "<h1>World University Rankings<sup>®</sup> 2018</h1>"
      ]
     },
     "execution_count": 5,
     "metadata": {},
     "output_type": "execute_result"
    }
   ],
   "source": [
    "# Extract the header and check it is the page we want\n",
    "soup = BeautifulSoup(body, 'html.parser')\n",
    "soup.h1"
   ]
  },
  {
   "cell_type": "code",
   "execution_count": 6,
   "metadata": {
    "collapsed": true
   },
   "outputs": [],
   "source": [
    "# Get all the links to later retrieve the links that go to a university page\n",
    "links = soup.find_all('a')\n",
    "interesting_links = []"
   ]
  },
  {
   "cell_type": "markdown",
   "metadata": {},
   "source": [
    "If we look on the webpage of [ranking](https://www.topuniversities.com/university-rankings/world-university-rankings/2018), we see that there is supposed to be links of the type '/universities/ecole-polytechnique-fédérale-de-lausanne-epfl'. Let's try to get the data..."
   ]
  },
  {
   "cell_type": "code",
   "execution_count": 7,
   "metadata": {},
   "outputs": [
    {
     "data": {
      "text/plain": [
       "[<a class=\"disabled\" href=\"/universities\">Discover</a>,\n",
       " <a href=\"/universities\">University search</a>,\n",
       " <a class=\"disabled\" href=\"/universities\">Apply</a>,\n",
       " <a href=\"/universities\">University profiles</a>,\n",
       " <a class=\"university-search\" href=\"/universities\"> University Search </a>,\n",
       " <a class=\"menu-title\" href=\"/universities\">Discover<span class=\"caret\"></span></a>,\n",
       " <a href=\"/universities\">University search</a>,\n",
       " <a class=\"menu-title\" href=\"/universities\">Apply<span class=\"caret\"></span></a>,\n",
       " <a href=\"/universities\">University profiles</a>,\n",
       " <a class=\"mmenu-mm-list \" href=\"/universities\"><i class=\"icon-list2\"></i><span class=\"mmenu-block-title\">Discover</span></a>,\n",
       " <a class=\"mmenu-mm-list \" href=\"/universities\"><i class=\"icon-list2\"></i><span class=\"mmenu-block-title\">University search</span></a>,\n",
       " <a class=\"mmenu-mm-list \" href=\"/universities\"><i class=\"icon-list2\"></i><span class=\"mmenu-block-title\">Apply</span></a>,\n",
       " <a class=\"mmenu-mm-list \" href=\"/universities\"><i class=\"icon-list2\"></i><span class=\"mmenu-block-title\">University profiles</span></a>]"
      ]
     },
     "execution_count": 7,
     "metadata": {},
     "output_type": "execute_result"
    }
   ],
   "source": [
    "for link in links:\n",
    "    if (not link.get('href') is None and link.get('href').startswith('/universities')):\n",
    "        interesting_links.append(link)\n",
    "\n",
    "interesting_links"
   ]
  },
  {
   "cell_type": "markdown",
   "metadata": {
    "scrolled": true
   },
   "source": [
    "We see that it is not the case in what we get from the request. We used Postman to see what was the response of the request. The basic html structure of the ranking is well defined but we see that every div for each university is defined automatically from this structure, but the information lies in another file which we can find at the `rank_URL` ([link](https://www.topuniversities.com/sites/default/files/qs-rankings-data/357051.txt))"
   ]
  },
  {
   "cell_type": "code",
   "execution_count": 8,
   "metadata": {
    "collapsed": true
   },
   "outputs": [],
   "source": [
    "tu_r = requests.get(tu_base_URL + tu_rank_URL)"
   ]
  },
  {
   "cell_type": "code",
   "execution_count": 9,
   "metadata": {},
   "outputs": [
    {
     "data": {
      "text/plain": [
       "dict"
      ]
     },
     "execution_count": 9,
     "metadata": {},
     "output_type": "execute_result"
    }
   ],
   "source": [
    "type(tu_r.json())"
   ]
  },
  {
   "cell_type": "code",
   "execution_count": 10,
   "metadata": {
    "collapsed": true
   },
   "outputs": [],
   "source": [
    "tu_json = tu_r.json()\n",
    "tu_data = tu_json['data'][:200]"
   ]
  },
  {
   "cell_type": "markdown",
   "metadata": {},
   "source": [
    "Here is a look at what one entry of the data looks like"
   ]
  },
  {
   "cell_type": "code",
   "execution_count": 11,
   "metadata": {},
   "outputs": [
    {
     "data": {
      "text/plain": [
       "{'cc': 'US',\n",
       " 'core_id': '410',\n",
       " 'country': 'United States',\n",
       " 'guide': '<a href=\"/where-to-study/north-america/united-states/guide\" class=\"guide-link\" target=\"_blank\">United States</a>',\n",
       " 'logo': '<img src=\"https://www.topuniversities.com/sites/default/files/massachusetts-institute-of-technology-mit_410_small_0.jpg\" alt=\"Massachusetts Institute of Technology (MIT)  Logo\">',\n",
       " 'nid': '294850',\n",
       " 'rank_display': '1',\n",
       " 'region': 'North America',\n",
       " 'score': '100',\n",
       " 'stars': '6',\n",
       " 'title': 'Massachusetts Institute of Technology (MIT)',\n",
       " 'url': '/universities/massachusetts-institute-technology-mit'}"
      ]
     },
     "execution_count": 11,
     "metadata": {},
     "output_type": "execute_result"
    }
   ],
   "source": [
    "tu_data[0]"
   ]
  },
  {
   "cell_type": "markdown",
   "metadata": {},
   "source": [
    "Now we get the information we need for each university in the list, i.e. the name, country, region, rank and its url (in order to get the stats later)"
   ]
  },
  {
   "cell_type": "code",
   "execution_count": 12,
   "metadata": {
    "collapsed": true
   },
   "outputs": [],
   "source": [
    "tu_useful_data = []\n",
    "for uni in tu_data:\n",
    "    # We get the info we needed from the big json data file. We keep the name, country, region rank and url of each university\n",
    "    tu_useful_data.append({'name': uni['title'], 'country': uni['country'], 'region': uni['region'],'rank': uni['rank_display'], 'url': uni['url']})"
   ]
  },
  {
   "cell_type": "markdown",
   "metadata": {},
   "source": [
    "Now one entry looks like this"
   ]
  },
  {
   "cell_type": "code",
   "execution_count": 13,
   "metadata": {
    "scrolled": true
   },
   "outputs": [
    {
     "data": {
      "text/plain": [
       "{'country': 'United States',\n",
       " 'name': 'Massachusetts Institute of Technology (MIT)',\n",
       " 'rank': '1',\n",
       " 'region': 'North America',\n",
       " 'url': '/universities/massachusetts-institute-technology-mit'}"
      ]
     },
     "execution_count": 13,
     "metadata": {},
     "output_type": "execute_result"
    }
   ],
   "source": [
    "tu_useful_data[0]"
   ]
  },
  {
   "cell_type": "markdown",
   "metadata": {},
   "source": [
    "Here are some helper functions to treat the stats we can get on the individual university pages"
   ]
  },
  {
   "cell_type": "code",
   "execution_count": 14,
   "metadata": {
    "collapsed": true
   },
   "outputs": [],
   "source": [
    "def parse_int(s):\n",
    "    '''Parses an int from a string that may contain commas or any letter. It retains the concatenation of all digits in the string'''\n",
    "    return int(''.join(c for c in s if c.isdigit()))"
   ]
  },
  {
   "cell_type": "code",
   "execution_count": 15,
   "metadata": {
    "collapsed": true
   },
   "outputs": [],
   "source": [
    "def to_number(div):\n",
    "    '''Returns what number is contained in a div (NaN if the object is None)'''\n",
    "    if div is None:\n",
    "        # This is a special case where the numbers are not on the page (for the NYU)\n",
    "        return float('NaN')\n",
    "    else:\n",
    "        return parse_int(div.text)"
   ]
  },
  {
   "cell_type": "markdown",
   "metadata": {},
   "source": [
    "In the next function we see that we use some div classes that correspond to statistics we want. These classes have been recovered with a Google Chrome plugin named SelectorGadget which lets you see the class for a given element in a webpage"
   ]
  },
  {
   "cell_type": "code",
   "execution_count": 16,
   "metadata": {
    "collapsed": true
   },
   "outputs": [],
   "source": [
    "def get_numbers_tu(url):\n",
    "    req = requests.get(tu_base_URL + url)\n",
    "    body = req.text\n",
    "    soup = BeautifulSoup(body, 'html.parser')\n",
    "\n",
    "    # The names that we want in our DataFrame\n",
    "    names = ['staff_tot', 'staff_int', 'student_tot', 'student_int']\n",
    "    # The div classes for each statistic we want\n",
    "    div_classes = ['.total .text .number', '.inter .text .number', '.student .number', '.inter .progress-bar-info .number']\n",
    "    numbers = {}\n",
    "    \n",
    "    for i in range(len(div_classes)):\n",
    "        numbers[names[i]] = to_number(soup.select_one(div_classes[i]))\n",
    "        \n",
    "    return numbers"
   ]
  },
  {
   "cell_type": "markdown",
   "metadata": {},
   "source": [
    "We will show how we operate on the first university in the ranking"
   ]
  },
  {
   "cell_type": "code",
   "execution_count": 17,
   "metadata": {
    "collapsed": true
   },
   "outputs": [],
   "source": [
    "cop = tu_useful_data.copy()"
   ]
  },
  {
   "cell_type": "code",
   "execution_count": 18,
   "metadata": {},
   "outputs": [
    {
     "data": {
      "text/plain": [
       "{'country': 'United States',\n",
       " 'name': 'Massachusetts Institute of Technology (MIT)',\n",
       " 'rank': '1',\n",
       " 'region': 'North America',\n",
       " 'url': '/universities/massachusetts-institute-technology-mit'}"
      ]
     },
     "execution_count": 18,
     "metadata": {},
     "output_type": "execute_result"
    }
   ],
   "source": [
    "cop[0]"
   ]
  },
  {
   "cell_type": "code",
   "execution_count": 19,
   "metadata": {},
   "outputs": [
    {
     "data": {
      "text/plain": [
       "{'staff_int': 1679,\n",
       " 'staff_tot': 2982,\n",
       " 'student_int': 3717,\n",
       " 'student_tot': 11067}"
      ]
     },
     "execution_count": 19,
     "metadata": {},
     "output_type": "execute_result"
    }
   ],
   "source": [
    "get_numbers_tu(cop[0]['url'])"
   ]
  },
  {
   "cell_type": "markdown",
   "metadata": {},
   "source": [
    "We can put everything in the current line of the `cop` with the method `update`"
   ]
  },
  {
   "cell_type": "code",
   "execution_count": 20,
   "metadata": {},
   "outputs": [
    {
     "data": {
      "text/plain": [
       "{'country': 'United States',\n",
       " 'name': 'Massachusetts Institute of Technology (MIT)',\n",
       " 'rank': '1',\n",
       " 'region': 'North America',\n",
       " 'staff_int': 1679,\n",
       " 'staff_tot': 2982,\n",
       " 'student_int': 3717,\n",
       " 'student_tot': 11067,\n",
       " 'url': '/universities/massachusetts-institute-technology-mit'}"
      ]
     },
     "execution_count": 20,
     "metadata": {},
     "output_type": "execute_result"
    }
   ],
   "source": [
    "cop[0].update(get_numbers_tu(cop[0]['url']))\n",
    "cop[0]"
   ]
  },
  {
   "cell_type": "markdown",
   "metadata": {},
   "source": [
    "__Warning__ the next step takes quite some time as it opens 200 requests"
   ]
  },
  {
   "cell_type": "markdown",
   "metadata": {},
   "source": [
    "Now we do this for every university in our data"
   ]
  },
  {
   "cell_type": "code",
   "execution_count": 22,
   "metadata": {},
   "outputs": [],
   "source": [
    "for i in range(len(tu_useful_data)):\n",
    "    tu_useful_data[i].update(get_numbers_tu(tu_useful_data[i]['url']))"
   ]
  },
  {
   "cell_type": "markdown",
   "metadata": {},
   "source": [
    "We get rid off the url and we transform the data into a `DataFrame`"
   ]
  },
  {
   "cell_type": "code",
   "execution_count": 23,
   "metadata": {},
   "outputs": [
    {
     "data": {
      "text/html": [
       "<div>\n",
       "<style>\n",
       "    .dataframe thead tr:only-child th {\n",
       "        text-align: right;\n",
       "    }\n",
       "\n",
       "    .dataframe thead th {\n",
       "        text-align: left;\n",
       "    }\n",
       "\n",
       "    .dataframe tbody tr th {\n",
       "        vertical-align: top;\n",
       "    }\n",
       "</style>\n",
       "<table border=\"1\" class=\"dataframe\">\n",
       "  <thead>\n",
       "    <tr style=\"text-align: right;\">\n",
       "      <th></th>\n",
       "      <th>country</th>\n",
       "      <th>name</th>\n",
       "      <th>rank</th>\n",
       "      <th>region</th>\n",
       "      <th>staff_int</th>\n",
       "      <th>staff_tot</th>\n",
       "      <th>student_int</th>\n",
       "      <th>student_tot</th>\n",
       "    </tr>\n",
       "  </thead>\n",
       "  <tbody>\n",
       "    <tr>\n",
       "      <th>0</th>\n",
       "      <td>United States</td>\n",
       "      <td>Massachusetts Institute of Technology (MIT)</td>\n",
       "      <td>1</td>\n",
       "      <td>North America</td>\n",
       "      <td>1679.0</td>\n",
       "      <td>2982.0</td>\n",
       "      <td>3717.0</td>\n",
       "      <td>11067.0</td>\n",
       "    </tr>\n",
       "    <tr>\n",
       "      <th>1</th>\n",
       "      <td>United States</td>\n",
       "      <td>Stanford University</td>\n",
       "      <td>2</td>\n",
       "      <td>North America</td>\n",
       "      <td>2042.0</td>\n",
       "      <td>4285.0</td>\n",
       "      <td>3611.0</td>\n",
       "      <td>15878.0</td>\n",
       "    </tr>\n",
       "    <tr>\n",
       "      <th>2</th>\n",
       "      <td>United States</td>\n",
       "      <td>Harvard University</td>\n",
       "      <td>3</td>\n",
       "      <td>North America</td>\n",
       "      <td>1311.0</td>\n",
       "      <td>4350.0</td>\n",
       "      <td>5266.0</td>\n",
       "      <td>22429.0</td>\n",
       "    </tr>\n",
       "    <tr>\n",
       "      <th>3</th>\n",
       "      <td>United States</td>\n",
       "      <td>California Institute of Technology (Caltech)</td>\n",
       "      <td>4</td>\n",
       "      <td>North America</td>\n",
       "      <td>350.0</td>\n",
       "      <td>953.0</td>\n",
       "      <td>647.0</td>\n",
       "      <td>2255.0</td>\n",
       "    </tr>\n",
       "    <tr>\n",
       "      <th>4</th>\n",
       "      <td>United Kingdom</td>\n",
       "      <td>University of Cambridge</td>\n",
       "      <td>5</td>\n",
       "      <td>Europe</td>\n",
       "      <td>2278.0</td>\n",
       "      <td>5490.0</td>\n",
       "      <td>6699.0</td>\n",
       "      <td>18770.0</td>\n",
       "    </tr>\n",
       "    <tr>\n",
       "      <th>5</th>\n",
       "      <td>United Kingdom</td>\n",
       "      <td>University of Oxford</td>\n",
       "      <td>6</td>\n",
       "      <td>Europe</td>\n",
       "      <td>2964.0</td>\n",
       "      <td>6750.0</td>\n",
       "      <td>7353.0</td>\n",
       "      <td>19720.0</td>\n",
       "    </tr>\n",
       "    <tr>\n",
       "      <th>6</th>\n",
       "      <td>United Kingdom</td>\n",
       "      <td>UCL (University College London)</td>\n",
       "      <td>7</td>\n",
       "      <td>Europe</td>\n",
       "      <td>2554.0</td>\n",
       "      <td>6345.0</td>\n",
       "      <td>14854.0</td>\n",
       "      <td>31080.0</td>\n",
       "    </tr>\n",
       "    <tr>\n",
       "      <th>7</th>\n",
       "      <td>United Kingdom</td>\n",
       "      <td>Imperial College London</td>\n",
       "      <td>8</td>\n",
       "      <td>Europe</td>\n",
       "      <td>2071.0</td>\n",
       "      <td>3930.0</td>\n",
       "      <td>8746.0</td>\n",
       "      <td>16090.0</td>\n",
       "    </tr>\n",
       "    <tr>\n",
       "      <th>8</th>\n",
       "      <td>United States</td>\n",
       "      <td>University of Chicago</td>\n",
       "      <td>9</td>\n",
       "      <td>North America</td>\n",
       "      <td>635.0</td>\n",
       "      <td>2449.0</td>\n",
       "      <td>3379.0</td>\n",
       "      <td>13557.0</td>\n",
       "    </tr>\n",
       "    <tr>\n",
       "      <th>9</th>\n",
       "      <td>Switzerland</td>\n",
       "      <td>ETH Zurich - Swiss Federal Institute of Techno...</td>\n",
       "      <td>10</td>\n",
       "      <td>Europe</td>\n",
       "      <td>1886.0</td>\n",
       "      <td>2477.0</td>\n",
       "      <td>7563.0</td>\n",
       "      <td>19815.0</td>\n",
       "    </tr>\n",
       "    <tr>\n",
       "      <th>10</th>\n",
       "      <td>Singapore</td>\n",
       "      <td>Nanyang Technological University, Singapore (NTU)</td>\n",
       "      <td>11</td>\n",
       "      <td>Asia</td>\n",
       "      <td>2993.0</td>\n",
       "      <td>4338.0</td>\n",
       "      <td>7251.0</td>\n",
       "      <td>25738.0</td>\n",
       "    </tr>\n",
       "    <tr>\n",
       "      <th>11</th>\n",
       "      <td>Switzerland</td>\n",
       "      <td>Ecole Polytechnique Fédérale de Lausanne (EPFL)</td>\n",
       "      <td>12</td>\n",
       "      <td>Europe</td>\n",
       "      <td>1300.0</td>\n",
       "      <td>1695.0</td>\n",
       "      <td>5896.0</td>\n",
       "      <td>10343.0</td>\n",
       "    </tr>\n",
       "  </tbody>\n",
       "</table>\n",
       "</div>"
      ],
      "text/plain": [
       "           country                                               name rank  \\\n",
       "0    United States        Massachusetts Institute of Technology (MIT)    1   \n",
       "1    United States                                Stanford University    2   \n",
       "2    United States                                 Harvard University    3   \n",
       "3    United States       California Institute of Technology (Caltech)    4   \n",
       "4   United Kingdom                            University of Cambridge    5   \n",
       "5   United Kingdom                               University of Oxford    6   \n",
       "6   United Kingdom                    UCL (University College London)    7   \n",
       "7   United Kingdom                            Imperial College London    8   \n",
       "8    United States                              University of Chicago    9   \n",
       "9      Switzerland  ETH Zurich - Swiss Federal Institute of Techno...   10   \n",
       "10       Singapore  Nanyang Technological University, Singapore (NTU)   11   \n",
       "11     Switzerland    Ecole Polytechnique Fédérale de Lausanne (EPFL)   12   \n",
       "\n",
       "           region  staff_int  staff_tot  student_int  student_tot  \n",
       "0   North America     1679.0     2982.0       3717.0      11067.0  \n",
       "1   North America     2042.0     4285.0       3611.0      15878.0  \n",
       "2   North America     1311.0     4350.0       5266.0      22429.0  \n",
       "3   North America      350.0      953.0        647.0       2255.0  \n",
       "4          Europe     2278.0     5490.0       6699.0      18770.0  \n",
       "5          Europe     2964.0     6750.0       7353.0      19720.0  \n",
       "6          Europe     2554.0     6345.0      14854.0      31080.0  \n",
       "7          Europe     2071.0     3930.0       8746.0      16090.0  \n",
       "8   North America      635.0     2449.0       3379.0      13557.0  \n",
       "9          Europe     1886.0     2477.0       7563.0      19815.0  \n",
       "10           Asia     2993.0     4338.0       7251.0      25738.0  \n",
       "11         Europe     1300.0     1695.0       5896.0      10343.0  "
      ]
     },
     "execution_count": 23,
     "metadata": {},
     "output_type": "execute_result"
    }
   ],
   "source": [
    "ranking_tu = pd.DataFrame(tu_useful_data).drop('url', axis=1)\n",
    "ranking_tu.head(12)"
   ]
  },
  {
   "cell_type": "markdown",
   "metadata": {},
   "source": [
    "Saving for later use without having to recompute everything"
   ]
  },
  {
   "cell_type": "code",
   "execution_count": 24,
   "metadata": {
    "collapsed": true
   },
   "outputs": [],
   "source": [
    "ranking_tu.to_csv('topuniversities.csv', encoding='utf-8', index=False)"
   ]
  },
  {
   "cell_type": "code",
   "execution_count": 25,
   "metadata": {
    "collapsed": true
   },
   "outputs": [],
   "source": [
    "ranking_tu = pd.read_csv('topuniversities.csv');"
   ]
  },
  {
   "cell_type": "markdown",
   "metadata": {},
   "source": [
    "Transforming the rank into an `int` (which means getting rid of the = when ties occured but this works as well without it)"
   ]
  },
  {
   "cell_type": "code",
   "execution_count": 26,
   "metadata": {
    "collapsed": true
   },
   "outputs": [],
   "source": [
    "ranking_tu['rank'] = ranking_tu['rank'].map(parse_int)"
   ]
  },
  {
   "cell_type": "markdown",
   "metadata": {},
   "source": [
    "Computing the required stats"
   ]
  },
  {
   "cell_type": "code",
   "execution_count": 27,
   "metadata": {},
   "outputs": [],
   "source": [
    "ranking_tu['student_rat'] = ranking_tu['student_int'] / ranking_tu['student_tot']\n",
    "ranking_tu['student_staff_rat'] = ranking_tu['student_tot'] / ranking_tu['staff_tot']"
   ]
  },
  {
   "cell_type": "markdown",
   "metadata": {},
   "source": [
    "Sorting the `DataFrame` to show the best university in terms of the ratio of international to total number of students"
   ]
  },
  {
   "cell_type": "code",
   "execution_count": 28,
   "metadata": {
    "scrolled": true
   },
   "outputs": [
    {
     "data": {
      "text/html": [
       "<div>\n",
       "<style>\n",
       "    .dataframe thead tr:only-child th {\n",
       "        text-align: right;\n",
       "    }\n",
       "\n",
       "    .dataframe thead th {\n",
       "        text-align: left;\n",
       "    }\n",
       "\n",
       "    .dataframe tbody tr th {\n",
       "        vertical-align: top;\n",
       "    }\n",
       "</style>\n",
       "<table border=\"1\" class=\"dataframe\">\n",
       "  <thead>\n",
       "    <tr style=\"text-align: right;\">\n",
       "      <th></th>\n",
       "      <th>country</th>\n",
       "      <th>name</th>\n",
       "      <th>rank</th>\n",
       "      <th>region</th>\n",
       "      <th>staff_int</th>\n",
       "      <th>staff_tot</th>\n",
       "      <th>student_int</th>\n",
       "      <th>student_tot</th>\n",
       "      <th>student_rat</th>\n",
       "      <th>student_staff_rat</th>\n",
       "    </tr>\n",
       "  </thead>\n",
       "  <tbody>\n",
       "    <tr>\n",
       "      <th>34</th>\n",
       "      <td>United Kingdom</td>\n",
       "      <td>London School of Economics and Political Scien...</td>\n",
       "      <td>35</td>\n",
       "      <td>Europe</td>\n",
       "      <td>687.0</td>\n",
       "      <td>1088.0</td>\n",
       "      <td>6748.0</td>\n",
       "      <td>9760.0</td>\n",
       "      <td>0.691393</td>\n",
       "      <td>8.970588</td>\n",
       "    </tr>\n",
       "    <tr>\n",
       "      <th>11</th>\n",
       "      <td>Switzerland</td>\n",
       "      <td>Ecole Polytechnique Fédérale de Lausanne (EPFL)</td>\n",
       "      <td>12</td>\n",
       "      <td>Europe</td>\n",
       "      <td>1300.0</td>\n",
       "      <td>1695.0</td>\n",
       "      <td>5896.0</td>\n",
       "      <td>10343.0</td>\n",
       "      <td>0.570047</td>\n",
       "      <td>6.102065</td>\n",
       "    </tr>\n",
       "    <tr>\n",
       "      <th>7</th>\n",
       "      <td>United Kingdom</td>\n",
       "      <td>Imperial College London</td>\n",
       "      <td>8</td>\n",
       "      <td>Europe</td>\n",
       "      <td>2071.0</td>\n",
       "      <td>3930.0</td>\n",
       "      <td>8746.0</td>\n",
       "      <td>16090.0</td>\n",
       "      <td>0.543567</td>\n",
       "      <td>4.094148</td>\n",
       "    </tr>\n",
       "  </tbody>\n",
       "</table>\n",
       "</div>"
      ],
      "text/plain": [
       "           country                                               name  rank  \\\n",
       "34  United Kingdom  London School of Economics and Political Scien...    35   \n",
       "11     Switzerland    Ecole Polytechnique Fédérale de Lausanne (EPFL)    12   \n",
       "7   United Kingdom                            Imperial College London     8   \n",
       "\n",
       "    region  staff_int  staff_tot  student_int  student_tot  student_rat  \\\n",
       "34  Europe      687.0     1088.0       6748.0       9760.0     0.691393   \n",
       "11  Europe     1300.0     1695.0       5896.0      10343.0     0.570047   \n",
       "7   Europe     2071.0     3930.0       8746.0      16090.0     0.543567   \n",
       "\n",
       "    student_staff_rat  \n",
       "34           8.970588  \n",
       "11           6.102065  \n",
       "7            4.094148  "
      ]
     },
     "execution_count": 28,
     "metadata": {},
     "output_type": "execute_result"
    }
   ],
   "source": [
    "ranking_tu.sort_values(['student_rat'], ascending=False).head(3)"
   ]
  },
  {
   "cell_type": "markdown",
   "metadata": {},
   "source": [
    "Sorting the `DataFrame` to show the best university in terms of the ratio of number of students to number of staff"
   ]
  },
  {
   "cell_type": "code",
   "execution_count": 29,
   "metadata": {},
   "outputs": [
    {
     "data": {
      "text/html": [
       "<div>\n",
       "<style>\n",
       "    .dataframe thead tr:only-child th {\n",
       "        text-align: right;\n",
       "    }\n",
       "\n",
       "    .dataframe thead th {\n",
       "        text-align: left;\n",
       "    }\n",
       "\n",
       "    .dataframe tbody tr th {\n",
       "        vertical-align: top;\n",
       "    }\n",
       "</style>\n",
       "<table border=\"1\" class=\"dataframe\">\n",
       "  <thead>\n",
       "    <tr style=\"text-align: right;\">\n",
       "      <th></th>\n",
       "      <th>country</th>\n",
       "      <th>name</th>\n",
       "      <th>rank</th>\n",
       "      <th>region</th>\n",
       "      <th>staff_int</th>\n",
       "      <th>staff_tot</th>\n",
       "      <th>student_int</th>\n",
       "      <th>student_tot</th>\n",
       "      <th>student_rat</th>\n",
       "      <th>student_staff_rat</th>\n",
       "    </tr>\n",
       "  </thead>\n",
       "  <tbody>\n",
       "    <tr>\n",
       "      <th>3</th>\n",
       "      <td>United States</td>\n",
       "      <td>California Institute of Technology (Caltech)</td>\n",
       "      <td>4</td>\n",
       "      <td>North America</td>\n",
       "      <td>350.0</td>\n",
       "      <td>953.0</td>\n",
       "      <td>647.0</td>\n",
       "      <td>2255.0</td>\n",
       "      <td>0.286918</td>\n",
       "      <td>2.366212</td>\n",
       "    </tr>\n",
       "    <tr>\n",
       "      <th>15</th>\n",
       "      <td>United States</td>\n",
       "      <td>Yale University</td>\n",
       "      <td>16</td>\n",
       "      <td>North America</td>\n",
       "      <td>1708.0</td>\n",
       "      <td>4940.0</td>\n",
       "      <td>2469.0</td>\n",
       "      <td>12402.0</td>\n",
       "      <td>0.199081</td>\n",
       "      <td>2.510526</td>\n",
       "    </tr>\n",
       "    <tr>\n",
       "      <th>5</th>\n",
       "      <td>United Kingdom</td>\n",
       "      <td>University of Oxford</td>\n",
       "      <td>6</td>\n",
       "      <td>Europe</td>\n",
       "      <td>2964.0</td>\n",
       "      <td>6750.0</td>\n",
       "      <td>7353.0</td>\n",
       "      <td>19720.0</td>\n",
       "      <td>0.372870</td>\n",
       "      <td>2.921481</td>\n",
       "    </tr>\n",
       "  </tbody>\n",
       "</table>\n",
       "</div>"
      ],
      "text/plain": [
       "           country                                          name  rank  \\\n",
       "3    United States  California Institute of Technology (Caltech)     4   \n",
       "15   United States                               Yale University    16   \n",
       "5   United Kingdom                          University of Oxford     6   \n",
       "\n",
       "           region  staff_int  staff_tot  student_int  student_tot  \\\n",
       "3   North America      350.0      953.0        647.0       2255.0   \n",
       "15  North America     1708.0     4940.0       2469.0      12402.0   \n",
       "5          Europe     2964.0     6750.0       7353.0      19720.0   \n",
       "\n",
       "    student_rat  student_staff_rat  \n",
       "3      0.286918           2.366212  \n",
       "15     0.199081           2.510526  \n",
       "5      0.372870           2.921481  "
      ]
     },
     "execution_count": 29,
     "metadata": {},
     "output_type": "execute_result"
    }
   ],
   "source": [
    "ranking_tu.sort_values(['student_staff_rat']).head(3)"
   ]
  },
  {
   "cell_type": "code",
   "execution_count": 30,
   "metadata": {
    "collapsed": true
   },
   "outputs": [],
   "source": [
    "ranking_by_region = ranking_tu.groupby(['region']).mean()\n",
    "ranking_by_country = ranking_tu.groupby(['country']).mean()"
   ]
  },
  {
   "cell_type": "code",
   "execution_count": 31,
   "metadata": {
    "collapsed": true
   },
   "outputs": [],
   "source": [
    "import seaborn as sns\n",
    "import matplotlib.pyplot as plt"
   ]
  },
  {
   "cell_type": "markdown",
   "metadata": {},
   "source": [
    "Helper function to plot a given column (`y`) of a given `DataFrame` (`data`)"
   ]
  },
  {
   "cell_type": "code",
   "execution_count": 32,
   "metadata": {
    "collapsed": true
   },
   "outputs": [],
   "source": [
    "def bar_plot(data, title, y, x='', rotation=0, sort=False, ascending=True):\n",
    "    fig, ax = plt.subplots()\n",
    "    ax.set_title(title, fontsize=15, fontweight='bold')\n",
    "    if sort:\n",
    "        ax = sns.barplot(data.sort_values([y], ascending=ascending)[y].keys(), data.sort_values([y], ascending=ascending)[y], ax=ax)\n",
    "    else:\n",
    "        ax = sns.barplot(data[y].keys(), data[y], ax=ax)\n",
    "    locs, labels = plt.xticks()\n",
    "    ax.set(xlabel=x, ylabel=y)\n",
    "    plt.setp(labels, rotation=rotation)\n",
    "    plt.show()"
   ]
  },
  {
   "cell_type": "code",
   "execution_count": 33,
   "metadata": {},
   "outputs": [
    {
     "data": {
      "image/png": "[encoded data removed]",
      "text/plain": [
       "<matplotlib.figure.Figure at 0x2009de05828>"
      ]
     },
     "metadata": {},
     "output_type": "display_data"
    }
   ],
   "source": [
    "bar_plot(ranking_by_country, 'Ratio of international to total students per country', 'student_rat', rotation=90)"
   ]
  },
  {
   "cell_type": "code",
   "execution_count": 34,
   "metadata": {},
   "outputs": [
    {
     "data": {
      "image/png": "[encoded data removed]",
      "text/plain": [
       "<matplotlib.figure.Figure at 0x2009de05860>"
      ]
     },
     "metadata": {},
     "output_type": "display_data"
    }
   ],
   "source": [
    "bar_plot(ranking_by_region, 'Students to staff ratio per region', 'student_staff_rat')"
   ]
  },
  {
   "cell_type": "markdown",
   "metadata": {
    "collapsed": true
   },
   "source": [
    "---------------------"
   ]
  },
  {
   "cell_type": "markdown",
   "metadata": {},
   "source": [
    "We will restart what we have done for the other ranking"
   ]
  },
  {
   "cell_type": "code",
   "execution_count": 35,
   "metadata": {
    "collapsed": true
   },
   "outputs": [],
   "source": [
    "the_r = requests.get(the_base_URL + the_rank_URL)"
   ]
  },
  {
   "cell_type": "code",
   "execution_count": 36,
   "metadata": {},
   "outputs": [
    {
     "data": {
      "text/plain": [
       "dict"
      ]
     },
     "execution_count": 36,
     "metadata": {},
     "output_type": "execute_result"
    }
   ],
   "source": [
    "type(the_r.json())"
   ]
  },
  {
   "cell_type": "code",
   "execution_count": 37,
   "metadata": {
    "collapsed": true
   },
   "outputs": [],
   "source": [
    "the_json = the_r.json()\n",
    "the_data = the_json['data'][:200]"
   ]
  },
  {
   "cell_type": "markdown",
   "metadata": {},
   "source": [
    "Taking a peek at what the data looks like for each university. Here we can see that we already get the stats we want"
   ]
  },
  {
   "cell_type": "code",
   "execution_count": 38,
   "metadata": {},
   "outputs": [
    {
     "data": {
      "text/plain": [
       "{'aliases': 'University of Oxford',\n",
       " 'location': 'United Kingdom',\n",
       " 'member_level': '0',\n",
       " 'name': 'University of Oxford',\n",
       " 'nid': 468,\n",
       " 'rank': '1',\n",
       " 'rank_order': '10',\n",
       " 'record_type': 'master_account',\n",
       " 'scores_citations': '99.1',\n",
       " 'scores_citations_rank': '15',\n",
       " 'scores_industry_income': '63.7',\n",
       " 'scores_industry_income_rank': '169',\n",
       " 'scores_international_outlook': '95.0',\n",
       " 'scores_international_outlook_rank': '24',\n",
       " 'scores_overall': '94.3',\n",
       " 'scores_overall_rank': '10',\n",
       " 'scores_research': '99.5',\n",
       " 'scores_research_rank': '1',\n",
       " 'scores_teaching': '86.7',\n",
       " 'scores_teaching_rank': '5',\n",
       " 'stats_female_male_ratio': '46 : 54',\n",
       " 'stats_number_students': '20,409',\n",
       " 'stats_pc_intl_students': '38%',\n",
       " 'stats_student_staff_ratio': '11.2',\n",
       " 'subjects_offered': 'Archaeology,Art, Performing Arts & Design,Biological Sciences,Business & Management,Chemical Engineering,Chemistry,Civil Engineering,Computer Science,Economics & Econometrics,Electrical & Electronic Engineering,General Engineering,Geography,Geology, Environmental, Earth & Marine Sciences,History, Philosophy & Theology,Languages, Literatures and Linguistics,Law,Mathematics & Statistics,Mechanical & Aerospace Engineering,Medicine & Dentistry,Physics & Astronomy,Psychology',\n",
       " 'url': '/world-university-rankings/university-oxford'}"
      ]
     },
     "execution_count": 38,
     "metadata": {},
     "output_type": "execute_result"
    }
   ],
   "source": [
    "the_data[0]"
   ]
  },
  {
   "cell_type": "markdown",
   "metadata": {},
   "source": [
    "Keeping the data we need just as before, but we can get the stats directly now, so we no longer need the url"
   ]
  },
  {
   "cell_type": "code",
   "execution_count": 39,
   "metadata": {
    "collapsed": true
   },
   "outputs": [],
   "source": [
    "the_useful_data = []\n",
    "for uni in the_data:\n",
    "    the_useful_data.append({'name': uni['name'], 'rank': uni['rank'], 'country': uni['location'], 'student_tot': uni['stats_number_students'], 'student_staff_rat': uni['stats_student_staff_ratio'], 'student_rat': parse_int(uni['stats_pc_intl_students']) / 100})"
   ]
  },
  {
   "cell_type": "markdown",
   "metadata": {},
   "source": [
    "Transforming the data into a nice `DataFrame`"
   ]
  },
  {
   "cell_type": "code",
   "execution_count": 40,
   "metadata": {},
   "outputs": [
    {
     "data": {
      "text/html": [
       "<div>\n",
       "<style>\n",
       "    .dataframe thead tr:only-child th {\n",
       "        text-align: right;\n",
       "    }\n",
       "\n",
       "    .dataframe thead th {\n",
       "        text-align: left;\n",
       "    }\n",
       "\n",
       "    .dataframe tbody tr th {\n",
       "        vertical-align: top;\n",
       "    }\n",
       "</style>\n",
       "<table border=\"1\" class=\"dataframe\">\n",
       "  <thead>\n",
       "    <tr style=\"text-align: right;\">\n",
       "      <th></th>\n",
       "      <th>country</th>\n",
       "      <th>name</th>\n",
       "      <th>rank</th>\n",
       "      <th>student_rat</th>\n",
       "      <th>student_staff_rat</th>\n",
       "      <th>student_tot</th>\n",
       "    </tr>\n",
       "  </thead>\n",
       "  <tbody>\n",
       "    <tr>\n",
       "      <th>0</th>\n",
       "      <td>United Kingdom</td>\n",
       "      <td>University of Oxford</td>\n",
       "      <td>1</td>\n",
       "      <td>0.38</td>\n",
       "      <td>11.2</td>\n",
       "      <td>20,409</td>\n",
       "    </tr>\n",
       "    <tr>\n",
       "      <th>1</th>\n",
       "      <td>United Kingdom</td>\n",
       "      <td>University of Cambridge</td>\n",
       "      <td>2</td>\n",
       "      <td>0.35</td>\n",
       "      <td>10.9</td>\n",
       "      <td>18,389</td>\n",
       "    </tr>\n",
       "    <tr>\n",
       "      <th>2</th>\n",
       "      <td>United States</td>\n",
       "      <td>California Institute of Technology</td>\n",
       "      <td>3</td>\n",
       "      <td>0.27</td>\n",
       "      <td>6.5</td>\n",
       "      <td>2,209</td>\n",
       "    </tr>\n",
       "    <tr>\n",
       "      <th>3</th>\n",
       "      <td>United States</td>\n",
       "      <td>Stanford University</td>\n",
       "      <td>3</td>\n",
       "      <td>0.22</td>\n",
       "      <td>7.5</td>\n",
       "      <td>15,845</td>\n",
       "    </tr>\n",
       "    <tr>\n",
       "      <th>4</th>\n",
       "      <td>United States</td>\n",
       "      <td>Massachusetts Institute of Technology</td>\n",
       "      <td>5</td>\n",
       "      <td>0.34</td>\n",
       "      <td>8.7</td>\n",
       "      <td>11,177</td>\n",
       "    </tr>\n",
       "  </tbody>\n",
       "</table>\n",
       "</div>"
      ],
      "text/plain": [
       "          country                                   name  rank  student_rat  \\\n",
       "0  United Kingdom                   University of Oxford     1         0.38   \n",
       "1  United Kingdom                University of Cambridge     2         0.35   \n",
       "2   United States     California Institute of Technology     3         0.27   \n",
       "3   United States                    Stanford University     3         0.22   \n",
       "4   United States  Massachusetts Institute of Technology     5         0.34   \n",
       "\n",
       "  student_staff_rat student_tot  \n",
       "0              11.2      20,409  \n",
       "1              10.9      18,389  \n",
       "2               6.5       2,209  \n",
       "3               7.5      15,845  \n",
       "4               8.7      11,177  "
      ]
     },
     "execution_count": 40,
     "metadata": {},
     "output_type": "execute_result"
    }
   ],
   "source": [
    "ranking_the = pd.DataFrame(the_useful_data)\n",
    "ranking_the['rank'] = ranking_the['rank'].map(parse_int)\n",
    "ranking_the.head()"
   ]
  },
  {
   "cell_type": "markdown",
   "metadata": {},
   "source": [
    "Saving the `DataFrame` for later use"
   ]
  },
  {
   "cell_type": "code",
   "execution_count": 41,
   "metadata": {
    "collapsed": true
   },
   "outputs": [],
   "source": [
    "ranking_the.to_csv('timeshighereducation.csv', encoding='utf-8', index=False)"
   ]
  },
  {
   "cell_type": "markdown",
   "metadata": {},
   "source": [
    "# TODO stat plots for time higher education"
   ]
  },
  {
   "cell_type": "markdown",
   "metadata": {},
   "source": [
    "----------------------"
   ]
  },
  {
   "cell_type": "code",
   "execution_count": 143,
   "metadata": {},
   "outputs": [
    {
     "data": {
      "text/plain": [
       "'ecolepolytéchnique'"
      ]
     },
     "execution_count": 143,
     "metadata": {},
     "output_type": "execute_result"
    }
   ],
   "source": [
    "import re\n",
    "\n",
    "def keep_letters(s):\n",
    "    return ''.join(c for c in s if c.isalpha())\n",
    "\n",
    "def treat_special_cases(name):\n",
    "    equiv = {\n",
    "        'vrijeuniversiteitbrussel': 'universitélibredebruxelles',\n",
    "        'universitédemontréal': 'universityofmontreal',\n",
    "        'ecolepolytechnique': 'écolepolytechnique',\n",
    "        'universitépierreetmariecurie': 'pierreandmariecurieuniversity',\n",
    "        'ludwigmaximiliansuniversitätmünchen': 'lmumunich',\n",
    "        'kitkarlsruheinstituteoftechnology': 'karlsruheinstituteoftechnology',\n",
    "        'humboldtuniversitätzuberlin': 'humboldtuniversityofberlin',\n",
    "        'freieuniversitaetberlin': 'freeuniversityofberlin',\n",
    "        'technischeuniversitätberlin': 'technicaluniversityofberlin',\n",
    "        'eberhardkarlsuniversitättübingen': 'universityoftübingen',\n",
    "        'albertludwigsuniversitaetfreiburg': 'universityoffreiburg',\n",
    "        'trinitycollegedublinuniversityofdublin': 'trinitycollegedublin',\n",
    "        'scuolasuperioresantannapisadistudiuniversitariediperfezionamento': 'scuolasuperioresantanna',\n",
    "        'wageningenuniversity': 'wageningenuniversityresearch',\n",
    "        'kaistkoreaadvancedinstituteofsciencetechnology': 'koreaadvancedinstituteofscienceandtechnology',\n",
    "        'universitatautònomadebarcelona': 'autonomousuniversityofbarcelona',\n",
    "        'ethzurichswissfederalinstituteoftechnology': 'ethzurichswissfederalinstituteoftechnologyzurich',\n",
    "        'ecolepolytechniquefédéraledelausanne': 'écolepolytechniquefédéraledelausanne',\n",
    "        'ucl': 'universitycollegelondon',\n",
    "        'universityofnorthcarolinachapelhill': 'universityofnorthcarolinaatchapelhill'\n",
    "    }\n",
    "    try:\n",
    "        return equiv[name]\n",
    "    except:\n",
    "        return name\n",
    "\n",
    "def norm_name(name):\n",
    "    '''Sets the name to a standard for an easier matching'''\n",
    "    name = name.lower() # Lowercase\n",
    "    name = re.sub('(\\().*?(\\))', '', name) # Gets rid of things in brackets\n",
    "    name = keep_letters(name) # Only keep alphas in string\n",
    "    name = re.sub('the', '', name) # Deletes 'the' from the name \n",
    "    name = treat_special_cases(name) # Special cases we had to find by hand\n",
    "    return name\n",
    "    \n",
    "norm_name('The Ecole - Polytéchnique (EPFL)')\n"
   ]
  },
  {
   "cell_type": "code",
   "execution_count": 100,
   "metadata": {},
   "outputs": [],
   "source": [
    "ranking_tu['norm name'] = ranking_tu.name.map(norm_name)"
   ]
  },
  {
   "cell_type": "code",
   "execution_count": 101,
   "metadata": {},
   "outputs": [
    {
     "data": {
      "text/html": [
       "<div>\n",
       "<style>\n",
       "    .dataframe thead tr:only-child th {\n",
       "        text-align: right;\n",
       "    }\n",
       "\n",
       "    .dataframe thead th {\n",
       "        text-align: left;\n",
       "    }\n",
       "\n",
       "    .dataframe tbody tr th {\n",
       "        vertical-align: top;\n",
       "    }\n",
       "</style>\n",
       "<table border=\"1\" class=\"dataframe\">\n",
       "  <thead>\n",
       "    <tr style=\"text-align: right;\">\n",
       "      <th></th>\n",
       "      <th>country</th>\n",
       "      <th>name</th>\n",
       "      <th>rank</th>\n",
       "      <th>region</th>\n",
       "      <th>staff_int</th>\n",
       "      <th>staff_tot</th>\n",
       "      <th>student_int</th>\n",
       "      <th>student_tot</th>\n",
       "      <th>student_rat</th>\n",
       "      <th>student_staff_rat</th>\n",
       "      <th>norm name</th>\n",
       "    </tr>\n",
       "  </thead>\n",
       "  <tbody>\n",
       "    <tr>\n",
       "      <th>0</th>\n",
       "      <td>United States</td>\n",
       "      <td>Massachusetts Institute of Technology (MIT)</td>\n",
       "      <td>1</td>\n",
       "      <td>North America</td>\n",
       "      <td>1679.0</td>\n",
       "      <td>2982.0</td>\n",
       "      <td>3717.0</td>\n",
       "      <td>11067.0</td>\n",
       "      <td>0.335863</td>\n",
       "      <td>3.711268</td>\n",
       "      <td>massachusettsinstituteoftechnology</td>\n",
       "    </tr>\n",
       "    <tr>\n",
       "      <th>1</th>\n",
       "      <td>United States</td>\n",
       "      <td>Stanford University</td>\n",
       "      <td>2</td>\n",
       "      <td>North America</td>\n",
       "      <td>2042.0</td>\n",
       "      <td>4285.0</td>\n",
       "      <td>3611.0</td>\n",
       "      <td>15878.0</td>\n",
       "      <td>0.227422</td>\n",
       "      <td>3.705484</td>\n",
       "      <td>stanforduniversity</td>\n",
       "    </tr>\n",
       "    <tr>\n",
       "      <th>2</th>\n",
       "      <td>United States</td>\n",
       "      <td>Harvard University</td>\n",
       "      <td>3</td>\n",
       "      <td>North America</td>\n",
       "      <td>1311.0</td>\n",
       "      <td>4350.0</td>\n",
       "      <td>5266.0</td>\n",
       "      <td>22429.0</td>\n",
       "      <td>0.234785</td>\n",
       "      <td>5.156092</td>\n",
       "      <td>harvarduniversity</td>\n",
       "    </tr>\n",
       "    <tr>\n",
       "      <th>3</th>\n",
       "      <td>United States</td>\n",
       "      <td>California Institute of Technology (Caltech)</td>\n",
       "      <td>4</td>\n",
       "      <td>North America</td>\n",
       "      <td>350.0</td>\n",
       "      <td>953.0</td>\n",
       "      <td>647.0</td>\n",
       "      <td>2255.0</td>\n",
       "      <td>0.286918</td>\n",
       "      <td>2.366212</td>\n",
       "      <td>californiainstituteoftechnology</td>\n",
       "    </tr>\n",
       "    <tr>\n",
       "      <th>4</th>\n",
       "      <td>United Kingdom</td>\n",
       "      <td>University of Cambridge</td>\n",
       "      <td>5</td>\n",
       "      <td>Europe</td>\n",
       "      <td>2278.0</td>\n",
       "      <td>5490.0</td>\n",
       "      <td>6699.0</td>\n",
       "      <td>18770.0</td>\n",
       "      <td>0.356899</td>\n",
       "      <td>3.418944</td>\n",
       "      <td>universityofcambridge</td>\n",
       "    </tr>\n",
       "  </tbody>\n",
       "</table>\n",
       "</div>"
      ],
      "text/plain": [
       "          country                                          name  rank  \\\n",
       "0   United States   Massachusetts Institute of Technology (MIT)     1   \n",
       "1   United States                           Stanford University     2   \n",
       "2   United States                            Harvard University     3   \n",
       "3   United States  California Institute of Technology (Caltech)     4   \n",
       "4  United Kingdom                       University of Cambridge     5   \n",
       "\n",
       "          region  staff_int  staff_tot  student_int  student_tot  student_rat  \\\n",
       "0  North America     1679.0     2982.0       3717.0      11067.0     0.335863   \n",
       "1  North America     2042.0     4285.0       3611.0      15878.0     0.227422   \n",
       "2  North America     1311.0     4350.0       5266.0      22429.0     0.234785   \n",
       "3  North America      350.0      953.0        647.0       2255.0     0.286918   \n",
       "4         Europe     2278.0     5490.0       6699.0      18770.0     0.356899   \n",
       "\n",
       "   student_staff_rat                           norm name  \n",
       "0           3.711268  massachusettsinstituteoftechnology  \n",
       "1           3.705484                  stanforduniversity  \n",
       "2           5.156092                   harvarduniversity  \n",
       "3           2.366212     californiainstituteoftechnology  \n",
       "4           3.418944               universityofcambridge  "
      ]
     },
     "execution_count": 101,
     "metadata": {},
     "output_type": "execute_result"
    }
   ],
   "source": [
    "ranking_tu.head()"
   ]
  },
  {
   "cell_type": "code",
   "execution_count": 102,
   "metadata": {
    "collapsed": true
   },
   "outputs": [],
   "source": [
    "ranking_the['norm name'] = ranking_the.name.map(norm_name)"
   ]
  },
  {
   "cell_type": "code",
   "execution_count": 103,
   "metadata": {},
   "outputs": [
    {
     "data": {
      "text/html": [
       "<div>\n",
       "<style>\n",
       "    .dataframe thead tr:only-child th {\n",
       "        text-align: right;\n",
       "    }\n",
       "\n",
       "    .dataframe thead th {\n",
       "        text-align: left;\n",
       "    }\n",
       "\n",
       "    .dataframe tbody tr th {\n",
       "        vertical-align: top;\n",
       "    }\n",
       "</style>\n",
       "<table border=\"1\" class=\"dataframe\">\n",
       "  <thead>\n",
       "    <tr style=\"text-align: right;\">\n",
       "      <th></th>\n",
       "      <th>country</th>\n",
       "      <th>name</th>\n",
       "      <th>rank</th>\n",
       "      <th>student_rat</th>\n",
       "      <th>student_staff_rat</th>\n",
       "      <th>student_tot</th>\n",
       "      <th>norm name</th>\n",
       "    </tr>\n",
       "  </thead>\n",
       "  <tbody>\n",
       "    <tr>\n",
       "      <th>0</th>\n",
       "      <td>United Kingdom</td>\n",
       "      <td>University of Oxford</td>\n",
       "      <td>1</td>\n",
       "      <td>0.38</td>\n",
       "      <td>11.2</td>\n",
       "      <td>20,409</td>\n",
       "      <td>universityofoxford</td>\n",
       "    </tr>\n",
       "    <tr>\n",
       "      <th>1</th>\n",
       "      <td>United Kingdom</td>\n",
       "      <td>University of Cambridge</td>\n",
       "      <td>2</td>\n",
       "      <td>0.35</td>\n",
       "      <td>10.9</td>\n",
       "      <td>18,389</td>\n",
       "      <td>universityofcambridge</td>\n",
       "    </tr>\n",
       "    <tr>\n",
       "      <th>2</th>\n",
       "      <td>United States</td>\n",
       "      <td>California Institute of Technology</td>\n",
       "      <td>3</td>\n",
       "      <td>0.27</td>\n",
       "      <td>6.5</td>\n",
       "      <td>2,209</td>\n",
       "      <td>californiainstituteoftechnology</td>\n",
       "    </tr>\n",
       "    <tr>\n",
       "      <th>3</th>\n",
       "      <td>United States</td>\n",
       "      <td>Stanford University</td>\n",
       "      <td>3</td>\n",
       "      <td>0.22</td>\n",
       "      <td>7.5</td>\n",
       "      <td>15,845</td>\n",
       "      <td>stanforduniversity</td>\n",
       "    </tr>\n",
       "    <tr>\n",
       "      <th>4</th>\n",
       "      <td>United States</td>\n",
       "      <td>Massachusetts Institute of Technology</td>\n",
       "      <td>5</td>\n",
       "      <td>0.34</td>\n",
       "      <td>8.7</td>\n",
       "      <td>11,177</td>\n",
       "      <td>massachusettsinstituteoftechnology</td>\n",
       "    </tr>\n",
       "  </tbody>\n",
       "</table>\n",
       "</div>"
      ],
      "text/plain": [
       "          country                                   name  rank  student_rat  \\\n",
       "0  United Kingdom                   University of Oxford     1         0.38   \n",
       "1  United Kingdom                University of Cambridge     2         0.35   \n",
       "2   United States     California Institute of Technology     3         0.27   \n",
       "3   United States                    Stanford University     3         0.22   \n",
       "4   United States  Massachusetts Institute of Technology     5         0.34   \n",
       "\n",
       "  student_staff_rat student_tot                           norm name  \n",
       "0              11.2      20,409                  universityofoxford  \n",
       "1              10.9      18,389               universityofcambridge  \n",
       "2               6.5       2,209     californiainstituteoftechnology  \n",
       "3               7.5      15,845                  stanforduniversity  \n",
       "4               8.7      11,177  massachusettsinstituteoftechnology  "
      ]
     },
     "execution_count": 103,
     "metadata": {},
     "output_type": "execute_result"
    }
   ],
   "source": [
    "ranking_the.head()"
   ]
  },
  {
   "cell_type": "code",
   "execution_count": 107,
   "metadata": {},
   "outputs": [],
   "source": [
    "ranking_merge_outer = pd.merge(ranking_tu, ranking_the, how='outer', on='norm name', suffixes=('_tu', '_the'))[['country_tu', 'name_tu', 'norm name', 'country_the', 'name_the']]"
   ]
  },
  {
   "cell_type": "code",
   "execution_count": 144,
   "metadata": {},
   "outputs": [],
   "source": [
    "# Universtities that could not find any match\n",
    "still_null = ranking_merge_outer[ranking_merge_outer.isnull().any(axis=1)]\n",
    "\n",
    "still_null = still_null.sort_values(['country_tu', 'country_the'])\n",
    "# still_null.to_excel('null.xls')"
   ]
  },
  {
   "cell_type": "code",
   "execution_count": 150,
   "metadata": {},
   "outputs": [
    {
     "name": "stdout",
     "output_type": "stream",
     "text": [
      "Number of schools that were not in both tables: 80\n"
     ]
    }
   ],
   "source": [
    "print('Number of schools that were not in both tables: {s}'.format(s=still_null.shape[0]))"
   ]
  },
  {
   "cell_type": "code",
   "execution_count": 140,
   "metadata": {},
   "outputs": [],
   "source": [
    "ranking_merge = pd.merge(\n",
    "    ranking_tu,\n",
    "    ranking_the,\n",
    "    how='outer',\n",
    "    on=['norm name', 'country'],\n",
    "    suffixes=('_tu', '_the')\n",
    ")[['norm name', 'country', 'region', 'rank_tu', 'rank_the']]"
   ]
  },
  {
   "cell_type": "code",
   "execution_count": 142,
   "metadata": {},
   "outputs": [
    {
     "data": {
      "text/html": [
       "<div>\n",
       "<style>\n",
       "    .dataframe thead tr:only-child th {\n",
       "        text-align: right;\n",
       "    }\n",
       "\n",
       "    .dataframe thead th {\n",
       "        text-align: left;\n",
       "    }\n",
       "\n",
       "    .dataframe tbody tr th {\n",
       "        vertical-align: top;\n",
       "    }\n",
       "</style>\n",
       "<table border=\"1\" class=\"dataframe\">\n",
       "  <thead>\n",
       "    <tr style=\"text-align: right;\">\n",
       "      <th></th>\n",
       "      <th>norm name</th>\n",
       "      <th>country</th>\n",
       "      <th>region</th>\n",
       "      <th>rank_tu</th>\n",
       "      <th>rank_the</th>\n",
       "      <th>rank_mean</th>\n",
       "    </tr>\n",
       "  </thead>\n",
       "  <tbody>\n",
       "    <tr>\n",
       "      <th>1</th>\n",
       "      <td>stanforduniversity</td>\n",
       "      <td>United States</td>\n",
       "      <td>North America</td>\n",
       "      <td>2.0</td>\n",
       "      <td>3.0</td>\n",
       "      <td>2.5</td>\n",
       "    </tr>\n",
       "    <tr>\n",
       "      <th>0</th>\n",
       "      <td>massachusettsinstituteoftechnology</td>\n",
       "      <td>United States</td>\n",
       "      <td>North America</td>\n",
       "      <td>1.0</td>\n",
       "      <td>5.0</td>\n",
       "      <td>3.0</td>\n",
       "    </tr>\n",
       "    <tr>\n",
       "      <th>3</th>\n",
       "      <td>californiainstituteoftechnology</td>\n",
       "      <td>United States</td>\n",
       "      <td>North America</td>\n",
       "      <td>4.0</td>\n",
       "      <td>3.0</td>\n",
       "      <td>3.5</td>\n",
       "    </tr>\n",
       "    <tr>\n",
       "      <th>4</th>\n",
       "      <td>universityofcambridge</td>\n",
       "      <td>United Kingdom</td>\n",
       "      <td>Europe</td>\n",
       "      <td>5.0</td>\n",
       "      <td>2.0</td>\n",
       "      <td>3.5</td>\n",
       "    </tr>\n",
       "    <tr>\n",
       "      <th>5</th>\n",
       "      <td>universityofoxford</td>\n",
       "      <td>United Kingdom</td>\n",
       "      <td>Europe</td>\n",
       "      <td>6.0</td>\n",
       "      <td>1.0</td>\n",
       "      <td>3.5</td>\n",
       "    </tr>\n",
       "    <tr>\n",
       "      <th>2</th>\n",
       "      <td>harvarduniversity</td>\n",
       "      <td>United States</td>\n",
       "      <td>North America</td>\n",
       "      <td>3.0</td>\n",
       "      <td>6.0</td>\n",
       "      <td>4.5</td>\n",
       "    </tr>\n",
       "    <tr>\n",
       "      <th>7</th>\n",
       "      <td>imperialcollegelondon</td>\n",
       "      <td>United Kingdom</td>\n",
       "      <td>Europe</td>\n",
       "      <td>8.0</td>\n",
       "      <td>8.0</td>\n",
       "      <td>8.0</td>\n",
       "    </tr>\n",
       "    <tr>\n",
       "      <th>8</th>\n",
       "      <td>universityofchicago</td>\n",
       "      <td>United States</td>\n",
       "      <td>North America</td>\n",
       "      <td>9.0</td>\n",
       "      <td>9.0</td>\n",
       "      <td>9.0</td>\n",
       "    </tr>\n",
       "    <tr>\n",
       "      <th>9</th>\n",
       "      <td>ethzurichswissfederalinstituteoftechnologyzurich</td>\n",
       "      <td>Switzerland</td>\n",
       "      <td>Europe</td>\n",
       "      <td>10.0</td>\n",
       "      <td>10.0</td>\n",
       "      <td>10.0</td>\n",
       "    </tr>\n",
       "    <tr>\n",
       "      <th>12</th>\n",
       "      <td>princetonuniversity</td>\n",
       "      <td>United States</td>\n",
       "      <td>North America</td>\n",
       "      <td>13.0</td>\n",
       "      <td>7.0</td>\n",
       "      <td>10.0</td>\n",
       "    </tr>\n",
       "    <tr>\n",
       "      <th>6</th>\n",
       "      <td>universitycollegelondon</td>\n",
       "      <td>United Kingdom</td>\n",
       "      <td>Europe</td>\n",
       "      <td>7.0</td>\n",
       "      <td>16.0</td>\n",
       "      <td>11.5</td>\n",
       "    </tr>\n",
       "    <tr>\n",
       "      <th>15</th>\n",
       "      <td>yaleuniversity</td>\n",
       "      <td>United States</td>\n",
       "      <td>North America</td>\n",
       "      <td>16.0</td>\n",
       "      <td>12.0</td>\n",
       "      <td>14.0</td>\n",
       "    </tr>\n",
       "    <tr>\n",
       "      <th>18</th>\n",
       "      <td>universityofpennsylvania</td>\n",
       "      <td>United States</td>\n",
       "      <td>North America</td>\n",
       "      <td>19.0</td>\n",
       "      <td>10.0</td>\n",
       "      <td>14.5</td>\n",
       "    </tr>\n",
       "    <tr>\n",
       "      <th>16</th>\n",
       "      <td>johnshopkinsuniversity</td>\n",
       "      <td>United States</td>\n",
       "      <td>North America</td>\n",
       "      <td>17.0</td>\n",
       "      <td>13.0</td>\n",
       "      <td>15.0</td>\n",
       "    </tr>\n",
       "    <tr>\n",
       "      <th>17</th>\n",
       "      <td>columbiauniversity</td>\n",
       "      <td>United States</td>\n",
       "      <td>North America</td>\n",
       "      <td>18.0</td>\n",
       "      <td>14.0</td>\n",
       "      <td>16.0</td>\n",
       "    </tr>\n",
       "    <tr>\n",
       "      <th>13</th>\n",
       "      <td>cornelluniversity</td>\n",
       "      <td>United States</td>\n",
       "      <td>North America</td>\n",
       "      <td>14.0</td>\n",
       "      <td>19.0</td>\n",
       "      <td>16.5</td>\n",
       "    </tr>\n",
       "    <tr>\n",
       "      <th>14</th>\n",
       "      <td>nationaluniversityofsingapore</td>\n",
       "      <td>Singapore</td>\n",
       "      <td>Asia</td>\n",
       "      <td>15.0</td>\n",
       "      <td>22.0</td>\n",
       "      <td>18.5</td>\n",
       "    </tr>\n",
       "    <tr>\n",
       "      <th>21</th>\n",
       "      <td>dukeuniversity</td>\n",
       "      <td>United States</td>\n",
       "      <td>North America</td>\n",
       "      <td>21.0</td>\n",
       "      <td>17.0</td>\n",
       "      <td>19.0</td>\n",
       "    </tr>\n",
       "    <tr>\n",
       "      <th>20</th>\n",
       "      <td>universityofmichigan</td>\n",
       "      <td>United States</td>\n",
       "      <td>North America</td>\n",
       "      <td>21.0</td>\n",
       "      <td>21.0</td>\n",
       "      <td>21.0</td>\n",
       "    </tr>\n",
       "    <tr>\n",
       "      <th>26</th>\n",
       "      <td>universityofcaliforniaberkeley</td>\n",
       "      <td>United States</td>\n",
       "      <td>North America</td>\n",
       "      <td>27.0</td>\n",
       "      <td>18.0</td>\n",
       "      <td>22.5</td>\n",
       "    </tr>\n",
       "    <tr>\n",
       "      <th>28</th>\n",
       "      <td>northwesternuniversity</td>\n",
       "      <td>United States</td>\n",
       "      <td>North America</td>\n",
       "      <td>28.0</td>\n",
       "      <td>20.0</td>\n",
       "      <td>24.0</td>\n",
       "    </tr>\n",
       "    <tr>\n",
       "      <th>32</th>\n",
       "      <td>universityofcalifornialosangeles</td>\n",
       "      <td>United States</td>\n",
       "      <td>North America</td>\n",
       "      <td>33.0</td>\n",
       "      <td>15.0</td>\n",
       "      <td>24.0</td>\n",
       "    </tr>\n",
       "    <tr>\n",
       "      <th>11</th>\n",
       "      <td>écolepolytechniquefédéraledelausanne</td>\n",
       "      <td>Switzerland</td>\n",
       "      <td>Europe</td>\n",
       "      <td>12.0</td>\n",
       "      <td>38.0</td>\n",
       "      <td>25.0</td>\n",
       "    </tr>\n",
       "    <tr>\n",
       "      <th>22</th>\n",
       "      <td>universityofedinburgh</td>\n",
       "      <td>United Kingdom</td>\n",
       "      <td>Europe</td>\n",
       "      <td>23.0</td>\n",
       "      <td>27.0</td>\n",
       "      <td>25.0</td>\n",
       "    </tr>\n",
       "    <tr>\n",
       "      <th>30</th>\n",
       "      <td>universityoftoronto</td>\n",
       "      <td>Canada</td>\n",
       "      <td>North America</td>\n",
       "      <td>31.0</td>\n",
       "      <td>22.0</td>\n",
       "      <td>26.5</td>\n",
       "    </tr>\n",
       "    <tr>\n",
       "      <th>24</th>\n",
       "      <td>tsinghuauniversity</td>\n",
       "      <td>China</td>\n",
       "      <td>Asia</td>\n",
       "      <td>25.0</td>\n",
       "      <td>30.0</td>\n",
       "      <td>27.5</td>\n",
       "    </tr>\n",
       "    <tr>\n",
       "      <th>23</th>\n",
       "      <td>kingscollegelondon</td>\n",
       "      <td>United Kingdom</td>\n",
       "      <td>Europe</td>\n",
       "      <td>23.0</td>\n",
       "      <td>36.0</td>\n",
       "      <td>29.5</td>\n",
       "    </tr>\n",
       "    <tr>\n",
       "      <th>34</th>\n",
       "      <td>londonschoolofeconomicsandpoliticalscience</td>\n",
       "      <td>United Kingdom</td>\n",
       "      <td>Europe</td>\n",
       "      <td>35.0</td>\n",
       "      <td>25.0</td>\n",
       "      <td>30.0</td>\n",
       "    </tr>\n",
       "    <tr>\n",
       "      <th>10</th>\n",
       "      <td>nanyangtechnologicaluniversitysingapore</td>\n",
       "      <td>Singapore</td>\n",
       "      <td>Asia</td>\n",
       "      <td>11.0</td>\n",
       "      <td>52.0</td>\n",
       "      <td>31.5</td>\n",
       "    </tr>\n",
       "    <tr>\n",
       "      <th>37</th>\n",
       "      <td>pekinguniversity</td>\n",
       "      <td>China</td>\n",
       "      <td>Asia</td>\n",
       "      <td>38.0</td>\n",
       "      <td>27.0</td>\n",
       "      <td>32.5</td>\n",
       "    </tr>\n",
       "    <tr>\n",
       "      <th>...</th>\n",
       "      <td>...</td>\n",
       "      <td>...</td>\n",
       "      <td>...</td>\n",
       "      <td>...</td>\n",
       "      <td>...</td>\n",
       "      <td>...</td>\n",
       "    </tr>\n",
       "    <tr>\n",
       "      <th>175</th>\n",
       "      <td>universityoftechnologysydney</td>\n",
       "      <td>Australia</td>\n",
       "      <td>Oceania</td>\n",
       "      <td>176.0</td>\n",
       "      <td>NaN</td>\n",
       "      <td>176.0</td>\n",
       "    </tr>\n",
       "    <tr>\n",
       "      <th>176</th>\n",
       "      <td>centralesupélec</td>\n",
       "      <td>France</td>\n",
       "      <td>Europe</td>\n",
       "      <td>177.0</td>\n",
       "      <td>NaN</td>\n",
       "      <td>177.0</td>\n",
       "    </tr>\n",
       "    <tr>\n",
       "      <th>196</th>\n",
       "      <td>texasamuniversity</td>\n",
       "      <td>United States</td>\n",
       "      <td>North America</td>\n",
       "      <td>195.0</td>\n",
       "      <td>159.0</td>\n",
       "      <td>177.0</td>\n",
       "    </tr>\n",
       "    <tr>\n",
       "      <th>181</th>\n",
       "      <td>universitélibredebruxelles</td>\n",
       "      <td>Belgium</td>\n",
       "      <td>Europe</td>\n",
       "      <td>182.0</td>\n",
       "      <td>175.0</td>\n",
       "      <td>178.5</td>\n",
       "    </tr>\n",
       "    <tr>\n",
       "      <th>179</th>\n",
       "      <td>universityoftwente</td>\n",
       "      <td>Netherlands</td>\n",
       "      <td>Europe</td>\n",
       "      <td>179.0</td>\n",
       "      <td>179.0</td>\n",
       "      <td>179.0</td>\n",
       "    </tr>\n",
       "    <tr>\n",
       "      <th>178</th>\n",
       "      <td>indianinstituteoftechnologybombay</td>\n",
       "      <td>India</td>\n",
       "      <td>Asia</td>\n",
       "      <td>179.0</td>\n",
       "      <td>NaN</td>\n",
       "      <td>179.0</td>\n",
       "    </tr>\n",
       "    <tr>\n",
       "      <th>228</th>\n",
       "      <td>universityofluxembourg</td>\n",
       "      <td>Luxembourg</td>\n",
       "      <td>NaN</td>\n",
       "      <td>NaN</td>\n",
       "      <td>179.0</td>\n",
       "      <td>179.0</td>\n",
       "    </tr>\n",
       "    <tr>\n",
       "      <th>229</th>\n",
       "      <td>parissuduniversity</td>\n",
       "      <td>France</td>\n",
       "      <td>NaN</td>\n",
       "      <td>NaN</td>\n",
       "      <td>181.0</td>\n",
       "      <td>181.0</td>\n",
       "    </tr>\n",
       "    <tr>\n",
       "      <th>190</th>\n",
       "      <td>universityofcapetown</td>\n",
       "      <td>South Africa</td>\n",
       "      <td>Africa</td>\n",
       "      <td>191.0</td>\n",
       "      <td>171.0</td>\n",
       "      <td>181.0</td>\n",
       "    </tr>\n",
       "    <tr>\n",
       "      <th>184</th>\n",
       "      <td>viennauniversityoftechnology</td>\n",
       "      <td>Austria</td>\n",
       "      <td>Europe</td>\n",
       "      <td>182.0</td>\n",
       "      <td>NaN</td>\n",
       "      <td>182.0</td>\n",
       "    </tr>\n",
       "    <tr>\n",
       "      <th>182</th>\n",
       "      <td>universidadeestadualdecampinas</td>\n",
       "      <td>Brazil</td>\n",
       "      <td>Latin America</td>\n",
       "      <td>182.0</td>\n",
       "      <td>NaN</td>\n",
       "      <td>182.0</td>\n",
       "    </tr>\n",
       "    <tr>\n",
       "      <th>230</th>\n",
       "      <td>universityofmiami</td>\n",
       "      <td>United States</td>\n",
       "      <td>NaN</td>\n",
       "      <td>NaN</td>\n",
       "      <td>186.0</td>\n",
       "      <td>186.0</td>\n",
       "    </tr>\n",
       "    <tr>\n",
       "      <th>231</th>\n",
       "      <td>universityofdundee</td>\n",
       "      <td>United Kingdom</td>\n",
       "      <td>NaN</td>\n",
       "      <td>NaN</td>\n",
       "      <td>187.0</td>\n",
       "      <td>187.0</td>\n",
       "    </tr>\n",
       "    <tr>\n",
       "      <th>186</th>\n",
       "      <td>universidadautónomademadrid</td>\n",
       "      <td>Spain</td>\n",
       "      <td>Europe</td>\n",
       "      <td>187.0</td>\n",
       "      <td>NaN</td>\n",
       "      <td>187.0</td>\n",
       "    </tr>\n",
       "    <tr>\n",
       "      <th>232</th>\n",
       "      <td>universityofeastanglia</td>\n",
       "      <td>United Kingdom</td>\n",
       "      <td>NaN</td>\n",
       "      <td>NaN</td>\n",
       "      <td>188.0</td>\n",
       "      <td>188.0</td>\n",
       "    </tr>\n",
       "    <tr>\n",
       "      <th>191</th>\n",
       "      <td>scuolanormalesuperioredipisa</td>\n",
       "      <td>Italy</td>\n",
       "      <td>Europe</td>\n",
       "      <td>192.0</td>\n",
       "      <td>184.0</td>\n",
       "      <td>188.0</td>\n",
       "    </tr>\n",
       "    <tr>\n",
       "      <th>188</th>\n",
       "      <td>universityofreading</td>\n",
       "      <td>United Kingdom</td>\n",
       "      <td>Europe</td>\n",
       "      <td>188.0</td>\n",
       "      <td>NaN</td>\n",
       "      <td>188.0</td>\n",
       "    </tr>\n",
       "    <tr>\n",
       "      <th>187</th>\n",
       "      <td>almamaterstudiorumuniversityofbologna</td>\n",
       "      <td>Italy</td>\n",
       "      <td>Europe</td>\n",
       "      <td>188.0</td>\n",
       "      <td>NaN</td>\n",
       "      <td>188.0</td>\n",
       "    </tr>\n",
       "    <tr>\n",
       "      <th>189</th>\n",
       "      <td>indianinstituteofsciencebangalore</td>\n",
       "      <td>India</td>\n",
       "      <td>Asia</td>\n",
       "      <td>190.0</td>\n",
       "      <td>NaN</td>\n",
       "      <td>190.0</td>\n",
       "    </tr>\n",
       "    <tr>\n",
       "      <th>233</th>\n",
       "      <td>universityofmassachusetts</td>\n",
       "      <td>United States</td>\n",
       "      <td>NaN</td>\n",
       "      <td>NaN</td>\n",
       "      <td>191.0</td>\n",
       "      <td>191.0</td>\n",
       "    </tr>\n",
       "    <tr>\n",
       "      <th>193</th>\n",
       "      <td>keiouniversitycemsmim</td>\n",
       "      <td>Japan</td>\n",
       "      <td>Asia</td>\n",
       "      <td>192.0</td>\n",
       "      <td>NaN</td>\n",
       "      <td>192.0</td>\n",
       "    </tr>\n",
       "    <tr>\n",
       "      <th>234</th>\n",
       "      <td>norasternuniversity</td>\n",
       "      <td>United States</td>\n",
       "      <td>NaN</td>\n",
       "      <td>NaN</td>\n",
       "      <td>193.0</td>\n",
       "      <td>193.0</td>\n",
       "    </tr>\n",
       "    <tr>\n",
       "      <th>235</th>\n",
       "      <td>lomonosovmoscowstateuniversity</td>\n",
       "      <td>Russian Federation</td>\n",
       "      <td>NaN</td>\n",
       "      <td>NaN</td>\n",
       "      <td>194.0</td>\n",
       "      <td>194.0</td>\n",
       "    </tr>\n",
       "    <tr>\n",
       "      <th>236</th>\n",
       "      <td>tilburguniversity</td>\n",
       "      <td>Netherlands</td>\n",
       "      <td>NaN</td>\n",
       "      <td>NaN</td>\n",
       "      <td>195.0</td>\n",
       "      <td>195.0</td>\n",
       "    </tr>\n",
       "    <tr>\n",
       "      <th>237</th>\n",
       "      <td>parissorbonneuniversityparis</td>\n",
       "      <td>France</td>\n",
       "      <td>NaN</td>\n",
       "      <td>NaN</td>\n",
       "      <td>196.0</td>\n",
       "      <td>196.0</td>\n",
       "    </tr>\n",
       "    <tr>\n",
       "      <th>238</th>\n",
       "      <td>royalhollowayuniversityoflondon</td>\n",
       "      <td>United Kingdom</td>\n",
       "      <td>NaN</td>\n",
       "      <td>NaN</td>\n",
       "      <td>197.0</td>\n",
       "      <td>197.0</td>\n",
       "    </tr>\n",
       "    <tr>\n",
       "      <th>240</th>\n",
       "      <td>universityofgonburg</td>\n",
       "      <td>Sweden</td>\n",
       "      <td>NaN</td>\n",
       "      <td>NaN</td>\n",
       "      <td>198.0</td>\n",
       "      <td>198.0</td>\n",
       "    </tr>\n",
       "    <tr>\n",
       "      <th>239</th>\n",
       "      <td>universityofcaliforniariverside</td>\n",
       "      <td>United States</td>\n",
       "      <td>NaN</td>\n",
       "      <td>NaN</td>\n",
       "      <td>198.0</td>\n",
       "      <td>198.0</td>\n",
       "    </tr>\n",
       "    <tr>\n",
       "      <th>197</th>\n",
       "      <td>institutotecnológicoydeestudiossuperioresdemon...</td>\n",
       "      <td>Mexico</td>\n",
       "      <td>Latin America</td>\n",
       "      <td>199.0</td>\n",
       "      <td>NaN</td>\n",
       "      <td>199.0</td>\n",
       "    </tr>\n",
       "    <tr>\n",
       "      <th>199</th>\n",
       "      <td>universidaddechile</td>\n",
       "      <td>Chile</td>\n",
       "      <td>Latin America</td>\n",
       "      <td>201.0</td>\n",
       "      <td>NaN</td>\n",
       "      <td>201.0</td>\n",
       "    </tr>\n",
       "  </tbody>\n",
       "</table>\n",
       "<p>241 rows × 6 columns</p>\n",
       "</div>"
      ],
      "text/plain": [
       "                                             norm name             country  \\\n",
       "1                                   stanforduniversity       United States   \n",
       "0                   massachusettsinstituteoftechnology       United States   \n",
       "3                      californiainstituteoftechnology       United States   \n",
       "4                                universityofcambridge      United Kingdom   \n",
       "5                                   universityofoxford      United Kingdom   \n",
       "2                                    harvarduniversity       United States   \n",
       "7                                imperialcollegelondon      United Kingdom   \n",
       "8                                  universityofchicago       United States   \n",
       "9     ethzurichswissfederalinstituteoftechnologyzurich         Switzerland   \n",
       "12                                 princetonuniversity       United States   \n",
       "6                              universitycollegelondon      United Kingdom   \n",
       "15                                      yaleuniversity       United States   \n",
       "18                            universityofpennsylvania       United States   \n",
       "16                              johnshopkinsuniversity       United States   \n",
       "17                                  columbiauniversity       United States   \n",
       "13                                   cornelluniversity       United States   \n",
       "14                       nationaluniversityofsingapore           Singapore   \n",
       "21                                      dukeuniversity       United States   \n",
       "20                                universityofmichigan       United States   \n",
       "26                      universityofcaliforniaberkeley       United States   \n",
       "28                              northwesternuniversity       United States   \n",
       "32                    universityofcalifornialosangeles       United States   \n",
       "11                écolepolytechniquefédéraledelausanne         Switzerland   \n",
       "22                               universityofedinburgh      United Kingdom   \n",
       "30                                 universityoftoronto              Canada   \n",
       "24                                  tsinghuauniversity               China   \n",
       "23                                  kingscollegelondon      United Kingdom   \n",
       "34          londonschoolofeconomicsandpoliticalscience      United Kingdom   \n",
       "10             nanyangtechnologicaluniversitysingapore           Singapore   \n",
       "37                                    pekinguniversity               China   \n",
       "..                                                 ...                 ...   \n",
       "175                       universityoftechnologysydney           Australia   \n",
       "176                                    centralesupélec              France   \n",
       "196                                  texasamuniversity       United States   \n",
       "181                         universitélibredebruxelles             Belgium   \n",
       "179                                 universityoftwente         Netherlands   \n",
       "178                  indianinstituteoftechnologybombay               India   \n",
       "228                             universityofluxembourg          Luxembourg   \n",
       "229                                 parissuduniversity              France   \n",
       "190                               universityofcapetown        South Africa   \n",
       "184                       viennauniversityoftechnology             Austria   \n",
       "182                     universidadeestadualdecampinas              Brazil   \n",
       "230                                  universityofmiami       United States   \n",
       "231                                 universityofdundee      United Kingdom   \n",
       "186                        universidadautónomademadrid               Spain   \n",
       "232                             universityofeastanglia      United Kingdom   \n",
       "191                       scuolanormalesuperioredipisa               Italy   \n",
       "188                                universityofreading      United Kingdom   \n",
       "187              almamaterstudiorumuniversityofbologna               Italy   \n",
       "189                  indianinstituteofsciencebangalore               India   \n",
       "233                          universityofmassachusetts       United States   \n",
       "193                              keiouniversitycemsmim               Japan   \n",
       "234                                norasternuniversity       United States   \n",
       "235                     lomonosovmoscowstateuniversity  Russian Federation   \n",
       "236                                  tilburguniversity         Netherlands   \n",
       "237                       parissorbonneuniversityparis              France   \n",
       "238                    royalhollowayuniversityoflondon      United Kingdom   \n",
       "240                                universityofgonburg              Sweden   \n",
       "239                    universityofcaliforniariverside       United States   \n",
       "197  institutotecnológicoydeestudiossuperioresdemon...              Mexico   \n",
       "199                                 universidaddechile               Chile   \n",
       "\n",
       "            region  rank_tu  rank_the  rank_mean  \n",
       "1    North America      2.0       3.0        2.5  \n",
       "0    North America      1.0       5.0        3.0  \n",
       "3    North America      4.0       3.0        3.5  \n",
       "4           Europe      5.0       2.0        3.5  \n",
       "5           Europe      6.0       1.0        3.5  \n",
       "2    North America      3.0       6.0        4.5  \n",
       "7           Europe      8.0       8.0        8.0  \n",
       "8    North America      9.0       9.0        9.0  \n",
       "9           Europe     10.0      10.0       10.0  \n",
       "12   North America     13.0       7.0       10.0  \n",
       "6           Europe      7.0      16.0       11.5  \n",
       "15   North America     16.0      12.0       14.0  \n",
       "18   North America     19.0      10.0       14.5  \n",
       "16   North America     17.0      13.0       15.0  \n",
       "17   North America     18.0      14.0       16.0  \n",
       "13   North America     14.0      19.0       16.5  \n",
       "14            Asia     15.0      22.0       18.5  \n",
       "21   North America     21.0      17.0       19.0  \n",
       "20   North America     21.0      21.0       21.0  \n",
       "26   North America     27.0      18.0       22.5  \n",
       "28   North America     28.0      20.0       24.0  \n",
       "32   North America     33.0      15.0       24.0  \n",
       "11          Europe     12.0      38.0       25.0  \n",
       "22          Europe     23.0      27.0       25.0  \n",
       "30   North America     31.0      22.0       26.5  \n",
       "24            Asia     25.0      30.0       27.5  \n",
       "23          Europe     23.0      36.0       29.5  \n",
       "34          Europe     35.0      25.0       30.0  \n",
       "10            Asia     11.0      52.0       31.5  \n",
       "37            Asia     38.0      27.0       32.5  \n",
       "..             ...      ...       ...        ...  \n",
       "175        Oceania    176.0       NaN      176.0  \n",
       "176         Europe    177.0       NaN      177.0  \n",
       "196  North America    195.0     159.0      177.0  \n",
       "181         Europe    182.0     175.0      178.5  \n",
       "179         Europe    179.0     179.0      179.0  \n",
       "178           Asia    179.0       NaN      179.0  \n",
       "228            NaN      NaN     179.0      179.0  \n",
       "229            NaN      NaN     181.0      181.0  \n",
       "190         Africa    191.0     171.0      181.0  \n",
       "184         Europe    182.0       NaN      182.0  \n",
       "182  Latin America    182.0       NaN      182.0  \n",
       "230            NaN      NaN     186.0      186.0  \n",
       "231            NaN      NaN     187.0      187.0  \n",
       "186         Europe    187.0       NaN      187.0  \n",
       "232            NaN      NaN     188.0      188.0  \n",
       "191         Europe    192.0     184.0      188.0  \n",
       "188         Europe    188.0       NaN      188.0  \n",
       "187         Europe    188.0       NaN      188.0  \n",
       "189           Asia    190.0       NaN      190.0  \n",
       "233            NaN      NaN     191.0      191.0  \n",
       "193           Asia    192.0       NaN      192.0  \n",
       "234            NaN      NaN     193.0      193.0  \n",
       "235            NaN      NaN     194.0      194.0  \n",
       "236            NaN      NaN     195.0      195.0  \n",
       "237            NaN      NaN     196.0      196.0  \n",
       "238            NaN      NaN     197.0      197.0  \n",
       "240            NaN      NaN     198.0      198.0  \n",
       "239            NaN      NaN     198.0      198.0  \n",
       "197  Latin America    199.0       NaN      199.0  \n",
       "199  Latin America    201.0       NaN      201.0  \n",
       "\n",
       "[241 rows x 6 columns]"
      ]
     },
     "execution_count": 142,
     "metadata": {},
     "output_type": "execute_result"
    }
   ],
   "source": [
    "ranking_merge['rank_mean'] = ranking_merge[['rank_tu', 'rank_the']].mean(axis=1)\n",
    "ranking_merge.sort_values('rank_mean')"
   ]
  },
  {
   "cell_type": "code",
   "execution_count": null,
   "metadata": {
    "collapsed": true
   },
   "outputs": [],
   "source": []
  }
 ],
 "metadata": {
  "kernelspec": {
   "display_name": "Python 3",
   "language": "python",
   "name": "python3"
  },
  "language_info": {
   "codemirror_mode": {
    "name": "ipython",
    "version": 3
   },
   "file_extension": ".py",
   "mimetype": "text/x-python",
   "name": "python",
   "nbconvert_exporter": "python",
   "pygments_lexer": "ipython3",
   "version": "3.6.1"
  }
 },
 "nbformat": 4,
 "nbformat_minor": 2
}
