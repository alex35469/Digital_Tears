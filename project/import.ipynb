{
 "cells": [
  {
   "cell_type": "markdown",
   "metadata": {},
   "source": [
    "# ADA Project : Milestone 2 Notebook"
   ]
  },
  {
   "cell_type": "markdown",
   "metadata": {},
   "source": [
    "In this notebook, we will introduce you to the dataset that we chose by locally importing a part of in, and store it in a dataframe. Hence, we will be able to have an insight on the work that we will perform on the full dataset, once everything is set."
   ]
  },
  {
   "cell_type": "code",
   "execution_count": 1,
   "metadata": {
    "collapsed": true
   },
   "outputs": [],
   "source": [
    "import json\n",
    "import re\n",
    "from pyspark.sql import *\n",
    "from pyspark import SparkContext, SQLContext"
   ]
  },
  {
   "cell_type": "markdown",
   "metadata": {},
   "source": [
    "## 1. Twitter dataset data collection, from cluster to dataframe\n",
    "\n",
    "In this section, we will make some operation with the help of Spark, to access, filter and export the useful tweets from the cluster to our computer."
   ]
  },
  {
   "cell_type": "markdown",
   "metadata": {},
   "source": [
    "### A few words about what we noticed for our dataset \n",
    "\n",
    "First, the twitter dataset starts from year 2012.\n",
    "In the date section, the hour has been scaled, so that the tweet time is always relative to GMT+00. This will be of use when we will relate tweet dates and times with the Wikipedia dataframe."
   ]
  },
  {
   "cell_type": "markdown",
   "metadata": {},
   "source": [
    "### i) filtering the useful tweets\n",
    "\n",
    "We start by declaring the Spark Context in order to make the link with the cluster. With Spark installed locally, we are able to query the cluster directly in the notebook."
   ]
  },
  {
   "cell_type": "code",
   "execution_count": 2,
   "metadata": {
    "collapsed": true
   },
   "outputs": [],
   "source": [
    "sc = SparkContext()"
   ]
  },
  {
   "cell_type": "code",
   "execution_count": 3,
   "metadata": {
    "collapsed": true
   },
   "outputs": [],
   "source": [
    "text_file = sc.textFile(\"hdfs:///datasets/tweets-leon\")"
   ]
  },
  {
   "cell_type": "markdown",
   "metadata": {},
   "source": [
    "The idea of our filter is that we want to work with data that is already highly focused on our subject : terrorist  attacks. Moreover, to avoid some bias that could appear from the selection of a subset of the entire Twitter database, we will consider all the most common languages, and select the interesting tweets independently of the language.\n",
    "Indeed, the filter is composed of lists of words of different weight, for each language. When a tweet is passed through the filter, we will compute the tweet score depending on it's content and, if the score is high enough, select the tweet to be part of our dataframe. Since all selected words are translated, this should harmonize the selection of our data."
   ]
  },
  {
   "cell_type": "markdown",
   "metadata": {},
   "source": [
    "**We define below a few helper functions that will be used for our inition filter :** \n",
    "\n"
   ]
  },
  {
   "cell_type": "code",
   "execution_count": 4,
   "metadata": {
    "collapsed": true
   },
   "outputs": [],
   "source": [
    "from googletrans import Translator"
   ]
  },
  {
   "cell_type": "markdown",
   "metadata": {},
   "source": [
    "The first helper function is used to translate a word of interest in every selected language :"
   ]
  },
  {
   "cell_type": "code",
   "execution_count": 5,
   "metadata": {
    "collapsed": true
   },
   "outputs": [],
   "source": [
    "def translate_word(w,languages):\n",
    "    \n",
    "    translator = Translator()\n",
    "\n",
    "\n",
    "    w_dict = {}\n",
    "    \n",
    "    for l in languages:\n",
    "        t = translator.translate(w,dest=l)\n",
    "        w_dict[l]=t.text\n",
    "        \n",
    "    \n",
    "    \n",
    "    return w_dict\n",
    "    \n"
   ]
  },
  {
   "cell_type": "markdown",
   "metadata": {},
   "source": [
    "This function is the heart of the filter. Languages and words are selected and inputed directly into three different lists of different weight. They are translated and put into three dicts, the keys being the language and the values being all words of the selected language, from the selected \"importance list\".\n",
    "The function outputs the three dicts, one for each importance."
   ]
  },
  {
   "cell_type": "code",
   "execution_count": 10,
   "metadata": {
    "collapsed": true
   },
   "outputs": [],
   "source": [
    "def words_to_match():\n",
    "    \n",
    "\n",
    "    language = 'en'\n",
    "    \n",
    "    t1 = ['terror attack', 'terrorist attack','suicide bombing','mass shooting']\n",
    "\n",
    "\n",
    "\n",
    "    t2 = ['suicide bomber','car bombing','drone bombing','mass execution','improvised explosive device','truck bomb','grenade attack','train bombing']\n",
    "\n",
    "\n",
    "    t3 = [' ied', 'hijacking','genocide','bomb attack','vehicule attack','assasination','terrorism','weapon','knife','assault rifle','dead','deaths','died','injured','kill','plant','drive-by shooting','hostage','execution']\n",
    "\n",
    "\n",
    "    hashtag = ['#prayfor','#terrorism','#terrorists','#terrorattack']\n",
    "\n",
    "    malus_list = ['years ago','year ago', 'months ago','month ago','anniversary']\n",
    "    \n",
    "    l = [t1,t2,t3,hashtag,malus_list]\n",
    "    \n",
    "    return l"
   ]
  },
  {
   "cell_type": "markdown",
   "metadata": {},
   "source": [
    "The below function computes the importance of a tweet by assigning specific weights to every tweet. The assignment is done by iterating on all interesting words, looking whether they occur in the tweet content. According to the word's affiliation to one of the three dicts, different weight is incremented. If the total weight of the tweet reaches the threshold value (here 1.0), the filter returns True."
   ]
  },
  {
   "cell_type": "code",
   "execution_count": 12,
   "metadata": {
    "collapsed": true
   },
   "outputs": [],
   "source": [
    "def is_interesting(content,l):\n",
    "    \n",
    "    content = content.lower()\n",
    "    \n",
    "    lang = content[:2]\n",
    "    \n",
    "    \n",
    "    weight=0.0\n",
    "    \n",
    "    \n",
    "    \n",
    "    for w in l[0]:\n",
    "        if w in content:\n",
    "            weight+=1.0\n",
    "\n",
    "    for w in l[1]:\n",
    "        if w in content:\n",
    "            weight+=0.9\n",
    "\n",
    "    for w in l[2]:\n",
    "        if w in content:\n",
    "            weight+=0.1\n",
    "             \n",
    "    for w in l[3]:\n",
    "        if w in content:\n",
    "            weight+=0.7\n",
    "            \n",
    "            \n",
    "    for w in l[3]:\n",
    "        if w in content:\n",
    "            weight-=0.5\n",
    "    \n",
    "    return (weight >= 1)\n",
    "    "
   ]
  },
  {
   "cell_type": "markdown",
   "metadata": {},
   "source": [
    "We declare the variable `bds` to be the three filtering dictionnaries. It will serve as an input of our filtering function."
   ]
  },
  {
   "cell_type": "code",
   "execution_count": 13,
   "metadata": {},
   "outputs": [],
   "source": [
    "bds = words_to_match()"
   ]
  },
  {
   "cell_type": "markdown",
   "metadata": {},
   "source": [
    "Next, we actually call spark by filtering the data in the cluster with our filter, to then take a subset of defined size. We proceed to write it to a text file for later use."
   ]
  },
  {
   "cell_type": "code",
   "execution_count": 14,
   "metadata": {},
   "outputs": [],
   "source": [
    "terrorism = text_file.filter(lambda t: is_interesting(t,bds)).take(30)"
   ]
  },
  {
   "cell_type": "code",
   "execution_count": 30,
   "metadata": {
    "collapsed": true
   },
   "outputs": [],
   "source": [
    "file_t = open('terr.txt','w')\n",
    "for item in terrorism:\n",
    "    file_t.write(\"%s\\n\" % item)"
   ]
  },
  {
   "cell_type": "code",
   "execution_count": 15,
   "metadata": {},
   "outputs": [
    {
     "data": {
      "text/plain": [
       "['en\\t345965752198762497\\tSat Jun 15 18:07:17 +0000 2013\\tSangyeH\\tRT @AnnieSage: Unbelievable.... @thinkprogress: In the 6 months since Newtown, there have been FOURTEEN mass shootings http://t.co/yfClLGdx…',\n",
       " 'en\\t345965794213117952\\tSat Jun 15 18:07:27 +0000 2013\\tSR_Brant\\tRT @AnnieSage: Unbelievable.... @thinkprogress: In the 6 months since Newtown, there have been FOURTEEN mass shootings http://t.co/yfClLGdx…',\n",
       " 'en\\t345968344391884800\\tSat Jun 15 18:17:35 +0000 2013\\tkiraababee\\tRT @SweaterGawd: I cum faster than the fbi during a terrorist attack - 😳 shoulda kept that to yourself homie',\n",
       " 'en\\t345968730020384768\\tSat Jun 15 18:19:07 +0000 2013\\tdrgauravn85\\t@asma_rehman02 even your feeder USA is agreed your role in terrorist attacks',\n",
       " 'en\\t345969984171823104\\tSat Jun 15 18:24:06 +0000 2013\\tWatchTVChannels\\tQuetta Carnage: 23 killed in terrorist attacks http://t.co/CZm3wp7kki http://t.co/FLreqkpteK',\n",
       " 'en\\t345973100472594432\\tSat Jun 15 18:36:29 +0000 2013\\tgeoworld_live\\tQuetta Carnage: 23 killed in terrorist attacks http://t.co/0yxPFh4jiW',\n",
       " 'en\\t345973318660268033\\tSat Jun 15 18:37:21 +0000 2013\\tQuddoosMirwani\\tRT @geonews_english: Quetta Carnage: 23 killed in terrorist attacks http://t.co/KmnWI6d9V8',\n",
       " \"en\\t345973415141847040\\tSat Jun 15 18:37:44 +0000 2013\\tfaisalzahoor6\\tToday i  am very sad due to terrorist attack on our beloved Quaid's residence.\",\n",
       " \"en\\t345974144908800000\\tSat Jun 15 18:40:38 +0000 2013\\thellosharma\\tRT @TeaPartyCat: Since Newtown, there have been 14 mass shootings, which is why it's good we have the NRA or people might want to DO SOMETH…\",\n",
       " 'en\\t345974354569465857\\tSat Jun 15 18:41:28 +0000 2013\\tMobisher\\tRT @cestmoiM: there was a HUGE TERROR ATTACK IN PAKISTAN TODAY yet nobody wants 2 label it as that! y?! our lives r no less than westerners…',\n",
       " 'en\\t345975000488083456\\tSat Jun 15 18:44:02 +0000 2013\\tlayladylayy\\tRT @MetPoIiceUK: 63 Somalis killed in Bradford this morning after a bunk bed collapsed:\\\\nWe believe it was not a terrorist attack, but the w…',\n",
       " 'en\\t345975164116279297\\tSat Jun 15 18:44:41 +0000 2013\\tmalikakissxkhan\\tA few days ago Afghanistan had terror attacks in kabul And other areas in Afghanistan.',\n",
       " 'en\\t345975503993335808\\tSat Jun 15 18:46:02 +0000 2013\\tstevens1\\tNew poll finds few Massachusetts residents worried about future terror attacks http://t.co/Y9Yjs2yF4U via @sciencedaily',\n",
       " 'en\\t345976963619504128\\tSat Jun 15 18:51:50 +0000 2013\\tDavidMaly1\\tRT @TylerBorchers: There have been 14 mass shootings in the six months since Newtown. Interactive map: http://t.co/lI7cTnhoxH http://t.co/o…',\n",
       " 'en\\t345978993675214848\\tSat Jun 15 18:59:54 +0000 2013\\tcave2u\\tSlave: \\\\nSuicide bombers how are you fighting for God cause by killing yourselves, when Allah clearly said: Fight your enemy with the Koran.',\n",
       " 'en\\t319374196008435712\\tWed Apr 03 09:01:56 +0000 2013\\t7our\\tUnconfirmed. Aaron Yoon, third possible Canadian suspect in #Algeria terror attack. http://t.co/dtl3uwWGtE',\n",
       " 'en\\t319375232207028224\\tWed Apr 03 09:06:03 +0000 2013\\tRT3Algeria\\tRT @7our: \"School yearbook photos reveal young faces of Canadians linked to deadly #Algeria terror attack.\" http://t.co/g6YuAc23ME',\n",
       " 'en\\t319376653874786304\\tWed Apr 03 09:11:42 +0000 2013\\tOmarShabbi\\tSchool yearbook photos reveal young faces of Canadians linked to deadly Algeria terror attack http://t.co/C2LYx40MQy via @nationalpost',\n",
       " 'en\\t319379464041672704\\tWed Apr 03 09:22:52 +0000 2013\\tfrozenliberty\\tEvery mass shooting over last 20 years has one thing in common… and it’s not guns -... http://t.co/uE2trGSjsM',\n",
       " 'en\\t319381011836325888\\tWed Apr 03 09:29:01 +0000 2013\\tDeafRanger\\tRT @gerfingerpoken: @michaeljohns (IBD) Obama Shamefully Denies Ft. Hood Victims Of Jihadist Terror Attack Purple Hearts...',\n",
       " 'en\\t319382811117228032\\tWed Apr 03 09:36:10 +0000 2013\\tJerimiahLandry\\tNorth Koreas False-Flag Bio-Terror Attack Plan Revealed http://t.co/geL1lCtNDr',\n",
       " 'en\\t319388347581743104\\tWed Apr 03 09:58:10 +0000 2013\\tmorning_dance\\t#clueless Obama Administration Won’t Call Fort Hood Terrorist Attack, Denies Victims Purple Heart #waronterror http://t.co/CduDbIlAwi',\n",
       " 'en\\t257255052287295488\\tSat Oct 13 23:02:38 +0000 2012\\tUKNCOM\\t17 dead in Pakistan car bombing (CBS News): Share With Friends:  |  | Top News - World News News, RSS and RSS Fe... http://t.co/Vd49BMHt',\n",
       " 'en\\t257260307754393600\\tSat Oct 13 23:23:31 +0000 2012\\tMrBlog1\\t@VotingFemale Team Obama Pulled Security Teams Out Of Benghazi 4 Weeks Prior to Terrorist Attack (via @CBSNews) http://t.co/1P2XmV4X #masen',\n",
       " 'en\\t257261427545501696\\tSat Oct 13 23:27:58 +0000 2012\\tbaghdadinformer\\t#Baghdad Suicide bomber kills at least 7 in Baghdad: Suicide bomber kills at least 7 in Baghdad BAGHDAD – A suic... http://t.co/w59kEpTt',\n",
       " 'en\\t257262601904484352\\tSat Oct 13 23:32:38 +0000 2012\\theffe67\\tMASS SHOOTINGS? – Secrets of the Fed http://t.co/U9fBJ5OR',\n",
       " \"en\\t257263059477868544\\tSat Oct 13 23:34:27 +0000 2012\\tcattinks\\tRT @BOFailed: On day 1 Americans knew #Benghazi was a terrorist attack. On day 16 the State Department admitted it. It's day 32 and #Oba ...\",\n",
       " 'en\\t257263562408472576\\tSat Oct 13 23:36:27 +0000 2012\\tKolHaolam\\tGAZA: Two terrorists who planned to carry out a terrorist attack during Sukkos were killed today during 2 Israeli Air Force strikes in Gaza.',\n",
       " 'en\\t241713453138599936\\tSat Sep 01 01:45:52 +0000 2012\\taronsonniles\\tRT @kr3at: FLASHBACK - Top Clinton Official: Only A Terror Attack Can Save Obama http://t.co/t1d1iHbe\\\\n via @kr3at headlines',\n",
       " 'en\\t241715080662745088\\tSat Sep 01 01:52:20 +0000 2012\\tStarkRP\\t@Morgan_Ember I was dreaming of my terrorist attack... {sits up with a shaky breath}']"
      ]
     },
     "execution_count": 15,
     "metadata": {},
     "output_type": "execute_result"
    }
   ],
   "source": [
    "terrorism"
   ]
  },
  {
   "cell_type": "markdown",
   "metadata": {},
   "source": [
    "As an important part of our analysis, we want to have a feel on the percentage of the tweets that we filter. According to our filter's characteristics, the ratio of tweets of interest over all tweets is of 1/3000. Taking a total tweet count of around 18 billion, the total tweets that are interesting for us is of 6 million."
   ]
  },
  {
   "cell_type": "code",
   "execution_count": 20,
   "metadata": {},
   "outputs": [
    {
     "data": {
      "text/plain": [
       "99"
      ]
     },
     "execution_count": 20,
     "metadata": {},
     "output_type": "execute_result"
    }
   ],
   "source": [
    "terr = text_file.take(300000)\n",
    "\n",
    "count=0\n",
    "for t in terr:\n",
    "    if is_interesting(t,bds):\n",
    "        count+=1\n",
    "count"
   ]
  },
  {
   "cell_type": "markdown",
   "metadata": {},
   "source": [
    "We can see above that we get almost 100 matches for a subset of 300'000 tweets, illustrating the ratio of 1/3000."
   ]
  },
  {
   "cell_type": "code",
   "execution_count": 21,
   "metadata": {},
   "outputs": [
    {
     "data": {
      "text/plain": [
       "['fr\\t345963978092072960\\tSat Jun 15 18:00:14 +0000 2013\\tKazdaliMaaradj\\tPakistan: un double-attentat à la bombe à Quetta (sud-ouest) fait au moins 23 morts (nouveau bilan des autorités locales)',\n",
       " 'en\\t345964011382259712\\tSat Jun 15 18:00:22 +0000 2013\\tSumairaALi4\\t#BLA needs to be targetted in INDIA and UK. ISI should get in motion as were in 80s #JudicialTerrorism',\n",
       " 'en\\t345964045007978497\\tSat Jun 15 18:00:30 +0000 2013\\tMonotheist_\\tUnrest in Baluchistan. BLA terrorism there. Baluch demand justice. Foreign and local intelligence are involved. No one dares to anyone',\n",
       " 'es\\t345964057632837632\\tSat Jun 15 18:00:33 +0000 2013\\texodo3013\\t@akatsuky1000 quien ayudo a librar al pueblo de Libia del terrorista #1 en el mundo Omar K  que masacraba a su pueblo con aviones de guerra',\n",
       " 'es\\t345964070274482176\\tSat Jun 15 18:00:36 +0000 2013\\tCesar_Soto_16\\tCon Los Terroristas - Alianza Metal 1°H: http://t.co/SDT9qzSVHz vía @YouTube']"
      ]
     },
     "execution_count": 21,
     "metadata": {},
     "output_type": "execute_result"
    }
   ],
   "source": [
    "terrorism[:5]"
   ]
  },
  {
   "cell_type": "code",
   "execution_count": null,
   "metadata": {
    "collapsed": true
   },
   "outputs": [],
   "source": []
  }
 ],
 "metadata": {
  "kernelspec": {
   "display_name": "Python [conda env:ada]",
   "language": "python",
   "name": "conda-env-ada-py"
  },
  "language_info": {
   "codemirror_mode": {
    "name": "ipython",
    "version": 3
   },
   "file_extension": ".py",
   "mimetype": "text/x-python",
   "name": "python",
   "nbconvert_exporter": "python",
   "pygments_lexer": "ipython3",
   "version": "3.5.4"
  }
 },
 "nbformat": 4,
 "nbformat_minor": 2
}
