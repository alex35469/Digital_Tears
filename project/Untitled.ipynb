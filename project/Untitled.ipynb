{
 "cells": [
  {
   "cell_type": "code",
   "execution_count": 1,
   "metadata": {
    "collapsed": true
   },
   "outputs": [],
   "source": [
    "import pandas as pd\n",
    "import json\n",
    "import folium\n",
    "import numpy as np\n",
    "import datetime"
   ]
  },
  {
   "cell_type": "code",
   "execution_count": 2,
   "metadata": {
    "collapsed": true
   },
   "outputs": [],
   "source": [
    "import requests\n",
    "from bs4 import BeautifulSoup\n",
    "%matplotlib inline"
   ]
  },
  {
   "cell_type": "code",
   "execution_count": 3,
   "metadata": {
    "collapsed": true
   },
   "outputs": [],
   "source": [
    "from datetime import date\n",
    "import re"
   ]
  },
  {
   "cell_type": "code",
   "execution_count": 4,
   "metadata": {
    "collapsed": true
   },
   "outputs": [],
   "source": [
    "# Simple map of month name to its number\n",
    "month_to_int = {\n",
    "    'January': 1,\n",
    "    'February': 2,\n",
    "    'March': 3,\n",
    "    'April': 4,\n",
    "    'May': 5,\n",
    "    'June': 6,\n",
    "    'July': 7,\n",
    "    'August': 8,\n",
    "    'September': 9,\n",
    "    'October': 10,\n",
    "    'November': 11,\n",
    "    'December': 12\n",
    "}\n",
    "\n",
    "# Reversed map\n",
    "int_to_month = {i: m for m, i in month_to_int.items()}"
   ]
  },
  {
   "cell_type": "code",
   "execution_count": 5,
   "metadata": {
    "collapsed": true
   },
   "outputs": [],
   "source": [
    "# The wikipedia URL that every article has in common\n",
    "base_url = 'https://en.wikipedia.org/wiki/List_of_terrorist_incidents_in_'"
   ]
  },
  {
   "cell_type": "code",
   "execution_count": 6,
   "metadata": {
    "collapsed": true,
    "scrolled": false
   },
   "outputs": [],
   "source": [
    "# All specific end of the wikipedia URL, along with the corresponding month numbers of the article\n",
    "times = {}\n",
    "\n",
    "for year in range(2011, 2015):\n",
    "    # For years 2011 to 2014, the articles appear biyearly\n",
    "    times.update({'January-June_' + str(year): list(range(1, 7))})\n",
    "    times.update({'July-December_' + str(year): list(range(7, 13))})\n",
    "    \n",
    "for year in range(2015, 2018):\n",
    "    # For years 2015 to 2017, the articles appear monthly\n",
    "    for month, int_ in month_to_int.items():\n",
    "        times.update({month + '_' + str(year): [int_]})\n"
   ]
  },
  {
   "cell_type": "code",
   "execution_count": 7,
   "metadata": {
    "collapsed": true
   },
   "outputs": [],
   "source": [
    "def to_int(s):\n",
    "    '''Returns the first integer found in s'''\n",
    "    i = re.findall('\\d+', s)\n",
    "    return int(i[0]) if len(i) > 0 else float('NaN')"
   ]
  },
  {
   "cell_type": "code",
   "execution_count": 8,
   "metadata": {
    "collapsed": true
   },
   "outputs": [],
   "source": [
    "def to_date(s, year):\n",
    "    '''Returns a date from the datetime library from a string like \\'January 1\\''''\n",
    "    l = s.split(' ')\n",
    "    return date(to_int(year), month_to_int[l[0]], to_int(l[1]))"
   ]
  },
  {
   "cell_type": "code",
   "execution_count": 9,
   "metadata": {
    "collapsed": true
   },
   "outputs": [],
   "source": [
    "def wiki_table_to_df(end_url, month_range, base_url=base_url):\n",
    "    '''Creates a dataframe from the tables available in the wikipedia page'''\n",
    "    print('Scraping for', end_url)\n",
    "    r = requests.get(base_url + end_url) # Get request\n",
    "    soup = BeautifulSoup(r.text, 'lxml') # Parse HTML\n",
    "    wiki_tables = soup.findAll('table', {'class': 'wikitable sortable'}) # Get tables from the wikipedia page\n",
    "\n",
    "    table = []\n",
    "\n",
    "    for month_int, wiki_table in zip(month_range, wiki_tables):\n",
    "        for row in wiki_table.findAll('tr'):\n",
    "            elems = row.findAll('td') \n",
    "            if len(elems) != 0:\n",
    "                interesting = [elem.text for elem in elems[:5]]\n",
    "                 # First element is the day of the month, but we add the name of the month as well in front of it\n",
    "                interesting[0] = int_to_month[month_int] + ' ' + interesting[0]\n",
    "                table.append(interesting)\n",
    "                \n",
    "    df = pd.DataFrame(table, columns=['date', 'type', 'deaths', 'injuries', 'location'])\n",
    "    df.date = df.date.apply(lambda s: to_date(s, end_url[-4:])) # Translate the date with the year defined by the end_url arg\n",
    "    df.deaths = df.deaths.apply(to_int) # Map death number to int\n",
    "    df.injuries = df.injuries.apply(to_int) # Map injuries number to int\n",
    "    \n",
    "    return df"
   ]
  },
  {
   "cell_type": "code",
   "execution_count": 39,
   "metadata": {
    "scrolled": false
   },
   "outputs": [
    {
     "name": "stdout",
     "output_type": "stream",
     "text": [
      "Scraping for January-June_2011\n",
      "Scraping for July-December_2011\n",
      "Scraping for January-June_2012\n",
      "Scraping for July-December_2012\n",
      "Scraping for January-June_2013\n",
      "Scraping for July-December_2013\n",
      "Scraping for January-June_2014\n",
      "Scraping for July-December_2014\n",
      "Scraping for January_2015\n",
      "Scraping for February_2015\n",
      "Scraping for March_2015\n",
      "Scraping for April_2015\n",
      "Scraping for May_2015\n",
      "Scraping for June_2015\n",
      "Scraping for July_2015\n",
      "Scraping for August_2015\n",
      "Scraping for September_2015\n",
      "Scraping for October_2015\n",
      "Scraping for November_2015\n",
      "Scraping for December_2015\n",
      "Scraping for January_2016\n",
      "Scraping for February_2016\n",
      "Scraping for March_2016\n",
      "Scraping for April_2016\n",
      "Scraping for May_2016\n",
      "Scraping for June_2016\n",
      "Scraping for July_2016\n",
      "Scraping for August_2016\n",
      "Scraping for September_2016\n",
      "Scraping for October_2016\n",
      "Scraping for November_2016\n",
      "Scraping for December_2016\n",
      "Scraping for January_2017\n",
      "Scraping for February_2017\n",
      "Scraping for March_2017\n",
      "Scraping for April_2017\n",
      "Scraping for May_2017\n",
      "Scraping for June_2017\n",
      "Scraping for July_2017\n",
      "Scraping for August_2017\n",
      "Scraping for September_2017\n",
      "Scraping for October_2017\n",
      "Scraping for November_2017\n",
      "Scraping for December_2017\n",
      "We have 4703 registered attacks from 1-1-2011 up to today (19-12-2017)\n"
     ]
    }
   ],
   "source": [
    "dfs = []\n",
    "\n",
    "# Get a DataFrame for every article from 2011 to 2017\n",
    "for time, month_range in times.items():\n",
    "    dfs.append(wiki_table_to_df(time, month_range))\n",
    "    \n",
    "df = pd.concat(dfs)\n",
    "print('We have {} registered attacks from 1-1-2011 up to today ({}-{}-{})'.format(df.shape[0], date.today().day, date.today().month, date.today().year))"
   ]
  },
  {
   "cell_type": "code",
   "execution_count": 11,
   "metadata": {
    "collapsed": true
   },
   "outputs": [],
   "source": [
    "useless_words_cities = [\n",
    "    'near',\n",
    "    'far',\n",
    "    'across', \n",
    "    'outskirts of',\n",
    "    'south of',\n",
    "    'north of'\n",
    "    'south',\n",
    "    'north',\n",
    "    'east',\n",
    "    'west', \n",
    "    'various places in',\n",
    "    'border crossing',\n",
    "    'industrial zone',\n",
    "    'region',\n",
    "    'province',\n",
    "    'district'\n",
    "]\n",
    "\n",
    "useless_words_countries = [\n",
    "    ' and ',\n",
    "    'northern',\n",
    "    'southern',\n",
    "    'eastern',\n",
    "    'northwestern',\n",
    "    'east',\n",
    "    'across',\n",
    "    'central',\n",
    "    'northwest',\n",
    "    'border region',\n",
    "    'prospective'\n",
    "]\n",
    "\n",
    "def remove_useless(s):\n",
    "    s = s.lower()\n",
    "    for uw in useless_words_cities:\n",
    "        s = s.replace(uw + ' ', '')\n",
    "        s = s.replace(uw, '')\n",
    "            \n",
    "    if ' and ' in s:\n",
    "        s = s.split(' and ')[0]\n",
    "        \n",
    "    if '/' in s:\n",
    "        s = s.split('/')[0]\n",
    "            \n",
    "    return s.title()\n",
    "\n",
    "def clean_country(country):\n",
    "    if 'Nigeria' in country:\n",
    "        country = 'Nigeria'        \n",
    "        \n",
    "    if 'Jerusalem' in country:\n",
    "        country = 'Israel'\n",
    "        \n",
    "    if 'West Bank' in country:\n",
    "        country = 'Palestine'\n",
    "        \n",
    "    if 'Congo' in country:\n",
    "        country = 'Congo'\n",
    "        \n",
    "    if 'Dagestan' in country:\n",
    "        country = 'Russia'\n",
    "        \n",
    "    if 'Abkhazia' in country:\n",
    "        country = 'Russia'\n",
    "        \n",
    "    if 'Balochistan' in country:\n",
    "        country = 'Pakistan'\n",
    "        \n",
    "    if 'Hebron' in country:\n",
    "        country = 'Palestine'\n",
    "        \n",
    "    if 'Burma' in country:\n",
    "        country = 'Myanmar'\n",
    "        \n",
    "    if 'Northern Ireland' in country:\n",
    "        country = 'United Kingdom'\n",
    "    \n",
    "    country = clean_extremities(country)\n",
    "        \n",
    "    return country\n",
    "\n",
    "def clean_extremities(s):\n",
    "    while len(s) > 0 and not s[0].isalpha():\n",
    "        s = s[1:]\n",
    "        \n",
    "    while len(s) > 0 and not s[-1].isalpha():\n",
    "        s = s[:-1]\n",
    "        \n",
    "    return s\n",
    "\n",
    "def special_cases(location):\n",
    "    location = location.lower()\n",
    "    \n",
    "    for uw in useless_words_countries:\n",
    "        if uw + ' ' in location:\n",
    "            location = location.replace(uw + ' ', '')\n",
    "        if uw in location:\n",
    "            location = location.replace(uw, '')\n",
    "            \n",
    "    if 'jerusalem' in location:\n",
    "        location = 'Israel'\n",
    "        \n",
    "    if 'west bank' in location:\n",
    "        location = 'Palestine'\n",
    "            \n",
    "    return 'Unknown', location.title()\n",
    "\n",
    "def city_country_from_location(location):\n",
    "    location = clean_extremities(location)\n",
    "            \n",
    "    really_special = {\n",
    "        'Zliten Libya': ('Zliten', 'Libya'),\n",
    "        'Alau.Nigeria': ('Alau', 'Nigeria'),\n",
    "        'Damascus Syria': ('Damascus', 'Syria'),\n",
    "        'Kibirizi Democratic Republic of Congo': ('Kibirizi', 'Congo'),\n",
    "        'Belfast Northern Ireland': ('Belfast', 'United Kingdom'),\n",
    "        'Oberhausen Germany': ('Oberhausen', 'Germany'),\n",
    "        'Lahj Governorate Yemen': ('Unknown', 'Yemen'),\n",
    "        'El-Baraf Somalia': ('Unknown', 'Somalia'),\n",
    "        'Baghdad Iraq': ('Baghdad', 'Iraq'),\n",
    "        'Luqa Malta': ('Luqa', 'Malta'),\n",
    "        'Muradiye Turkey': ('Muradiye', 'Turkey'),\n",
    "        'Concepción Paraguay': ('Concepción', 'Paraguay'),\n",
    "        'Deir Ez-Zor Syria': ('Deir Ez-Zor', 'Syria'),\n",
    "        'Deir ez-Zor Syria': ('Deir Ez-Zor', 'Syria'),\n",
    "        'Indian Ocean': ('Unknown', 'Indian Ocean'),\n",
    "        'Qamishli Syria': ('Qamishli', 'Syria'),\n",
    "        'Oignies, Pas-de-Calais': ('Oignies', 'France'),\n",
    "        'Khost Province': ('Unknown', 'Afghanistan'),\n",
    "        'Ratchaprasong Intersection, Bangkok': ('Bangkok', 'Thailand'),\n",
    "        'Beit Hanun, Gaza Strip': ('Beit Hanun', 'Palestine'),\n",
    "        'Crimea': ('Unknown', 'Russia'),\n",
    "        'Moyen-Cavally, Côte d\\'Ivoire': ('Moyen-Cavally', 'Ivory Coast'),\n",
    "        'Lawdar, Lahij Yemen': ('Lawdar', 'Yemen'),\n",
    "        'Atizapán de Zaragoza, México': ('Atizapán de Zaragoza', 'Mexico'),\n",
    "        'Queens, New York': ('New York City', 'United States'),\n",
    "        'Jonglei, Southern Sudan': ('Jonglei', 'South Sudan'),\n",
    "        'Austin, Texas': ('Austin', 'United States'),\n",
    "        'Karabudakhkent, Dagestan, Russian Federation': ('Karabudakhkent', 'Russia')\n",
    "    }\n",
    "    \n",
    "    if location in really_special.keys():\n",
    "        return really_special[location]\n",
    "    \n",
    "    if ',' in location:\n",
    "        city = location.split(',')[0]\n",
    "        country = location.split(',')[-1]\n",
    "        \n",
    "        city = clean_extremities(remove_useless(city))\n",
    "        country = clean_country(country)\n",
    "        \n",
    "        if len(city) == 0:\n",
    "            city = 'Unknown'\n",
    "        \n",
    "        return city, country\n",
    "    else:\n",
    "        return special_cases(location)"
   ]
  },
  {
   "cell_type": "code",
   "execution_count": 12,
   "metadata": {},
   "outputs": [],
   "source": [
    "cities_countries = df.location.map(city_country_from_location).apply(pd.Series)\n",
    "df['city'] = cities_countries[0]\n",
    "df['country'] = cities_countries[1]"
   ]
  },
  {
   "cell_type": "code",
   "execution_count": 13,
   "metadata": {},
   "outputs": [],
   "source": [
    "# df = df.drop('location', axis=1)"
   ]
  },
  {
   "cell_type": "code",
   "execution_count": 14,
   "metadata": {
    "collapsed": true
   },
   "outputs": [],
   "source": [
    "df.to_csv('attacks.csv', index=False, encoding='utf-8')"
   ]
  },
  {
   "cell_type": "markdown",
   "metadata": {},
   "source": [
    "-----------------------"
   ]
  },
  {
   "cell_type": "code",
   "execution_count": 15,
   "metadata": {
    "collapsed": true
   },
   "outputs": [],
   "source": [
    "attacks_per_country = df.groupby(by=['country'], as_index=False).count()[['country', 'date']]\n",
    "attacks_per_country = pd.DataFrame(attacks_per_country.sort_values(by=['country'])).rename(columns={'date': 'number'})"
   ]
  },
  {
   "cell_type": "code",
   "execution_count": 16,
   "metadata": {
    "collapsed": true
   },
   "outputs": [],
   "source": [
    "geojson_world = json.load(open('custom.geo.json', encoding='utf-8'))"
   ]
  },
  {
   "cell_type": "code",
   "execution_count": 17,
   "metadata": {
    "collapsed": true
   },
   "outputs": [],
   "source": [
    "world_countries = []\n",
    "\n",
    "for i in range( len(geojson_world['features'])):\n",
    "    world_countries.append(geojson_world['features'][i]['properties']['name_sort'])"
   ]
  },
  {
   "cell_type": "code",
   "execution_count": 18,
   "metadata": {
    "collapsed": true
   },
   "outputs": [],
   "source": [
    "map_ = {\n",
    "    'Bahamas': 'Bahamas, The',\n",
    "    'Congo': 'Congo, Dem. Rep.',\n",
    "    'Egypt': 'Egypt, Arab Rep.',\n",
    "    'Iran': 'Iran, Islamic Rep.',\n",
    "    'Ivory Coast': 'Côte d\\'Ivoire',\n",
    "    'Kyrgyzstan': 'Kyrgyz Republic',\n",
    "    'Laos': 'Lao PDR',\n",
    "    'Palestine': 'Palestine (West Bank and Gaza)',\n",
    "    'Republic of Ireland': 'Ireland',\n",
    "    'Republic of Macedonia': 'Macedonia, FYR',\n",
    "    'Russia': 'Russian Federation',\n",
    "    'South Korea': 'Korea, Rep.',\n",
    "    'Syria': 'Syrian Arab Republic',\n",
    "    'United States': 'United States of America',\n",
    "    'Venezuela': 'Venezuela, RB',\n",
    "    'Yemen': 'Yemen, Rep.',\n",
    "    'Indian Ocean': 'Indian Ocean Territories'\n",
    "}"
   ]
  },
  {
   "cell_type": "code",
   "execution_count": 19,
   "metadata": {
    "collapsed": true
   },
   "outputs": [],
   "source": [
    "attacks_per_country.country = attacks_per_country.country.map(lambda c: map_[c] if c in map_.keys() else c)"
   ]
  },
  {
   "cell_type": "code",
   "execution_count": 20,
   "metadata": {
    "scrolled": true
   },
   "outputs": [],
   "source": [
    "for c in attacks_per_country.country:\n",
    "    if not c in world_countries:\n",
    "        print('NO ', c)"
   ]
  },
  {
   "cell_type": "code",
   "execution_count": 21,
   "metadata": {
    "collapsed": true
   },
   "outputs": [],
   "source": [
    "def map_number_color(number):\n",
    "    number = np.sqrt(number)\n",
    "    min_ = np.sqrt(1071)\n",
    "    c = int(202 - (number - 1) / (min_ - 1) * 202)\n",
    "    s = hex(c)[-2:]\n",
    "    if c < 16:\n",
    "        s = str(0) + hex(c)[-1]\n",
    "    return '#' + hex(236)[-2:] + s + '00'"
   ]
  },
  {
   "cell_type": "code",
   "execution_count": 22,
   "metadata": {
    "collapsed": true
   },
   "outputs": [],
   "source": [
    "def color(name):\n",
    "    if name in list(attacks_per_country.country):\n",
    "        return map_number_color(attacks_per_country[attacks_per_country.country == name]['number'].values[0])\n",
    "    else:\n",
    "        return '#aeae9e'    "
   ]
  },
  {
   "cell_type": "code",
   "execution_count": 23,
   "metadata": {
    "collapsed": true
   },
   "outputs": [],
   "source": [
    "world = folium.Map([30, 5], tiles='cartodbpositron', zoom_start=2)"
   ]
  },
  {
   "cell_type": "code",
   "execution_count": 24,
   "metadata": {},
   "outputs": [],
   "source": [
    "# folium.GeoJson(\n",
    "#     geojson_world,\n",
    "#     style_function=lambda feature: {\n",
    "#             'fillColor': color(feature['properties']['name_sort']),\n",
    "#             'color': '#151515',\n",
    "#             'fillOpacity': 0.5,\n",
    "#             'weight': 1\n",
    "#     }\n",
    "# ).add_to(world)"
   ]
  },
  {
   "cell_type": "code",
   "execution_count": 25,
   "metadata": {
    "collapsed": true
   },
   "outputs": [],
   "source": [
    "from folium.plugins import MarkerCluster"
   ]
  },
  {
   "cell_type": "code",
   "execution_count": 26,
   "metadata": {},
   "outputs": [],
   "source": [
    "def radius(country):\n",
    "    v = attacks_per_country[attacks_per_country.country == country].number.values\n",
    "    return 30000 * int(np.sqrt(v[0]))"
   ]
  },
  {
   "cell_type": "code",
   "execution_count": 27,
   "metadata": {
    "collapsed": true
   },
   "outputs": [],
   "source": [
    "clean = json.load(open('clean.json'))"
   ]
  },
  {
   "cell_type": "code",
   "execution_count": 28,
   "metadata": {},
   "outputs": [],
   "source": [
    "def add_markers(map_):\n",
    "    #marker_cluster = MarkerCluster().add_to(map_)\n",
    "    for country in clean:\n",
    "        folium.Circle(\n",
    "            location=[float(country['lat']), float(country['lon'])],\n",
    "            radius=radius(country['name']),\n",
    "            fill=True,\n",
    "            fill_color='#ff0000',#my_color_function(country['name']),\n",
    "            fill_opacity=0.2,\n",
    "            opacity=0\n",
    "        ).add_to(map_)"
   ]
  },
  {
   "cell_type": "code",
   "execution_count": 29,
   "metadata": {},
   "outputs": [],
   "source": [
    "add_markers(world)"
   ]
  },
  {
   "cell_type": "code",
   "execution_count": 30,
   "metadata": {
    "collapsed": true
   },
   "outputs": [],
   "source": [
    "world.save('test.html')"
   ]
  }
 ],
 "metadata": {
  "kernelspec": {
   "display_name": "Python 3",
   "language": "python",
   "name": "python3"
  },
  "language_info": {
   "codemirror_mode": {
    "name": "ipython",
    "version": 3
   },
   "file_extension": ".py",
   "mimetype": "text/x-python",
   "name": "python",
   "nbconvert_exporter": "python",
   "pygments_lexer": "ipython3",
   "version": "3.6.1"
  }
 },
 "nbformat": 4,
 "nbformat_minor": 2
}
