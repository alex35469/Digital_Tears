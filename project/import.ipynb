{
 "cells": [
  {
   "cell_type": "markdown",
   "metadata": {},
   "source": [
    "# ADA Project : Milestone 2 Notebook"
   ]
  },
  {
   "cell_type": "markdown",
   "metadata": {},
   "source": [
    "In this notebook, we will introduce you to the dataset that we chose by locally importing a part of in, and store it in a dataframe. Hence, we will be able to have an insight on the work that we will perform on the full dataset, once everything is set."
   ]
  },
  {
   "cell_type": "code",
   "execution_count": 1,
   "metadata": {
    "collapsed": true
   },
   "outputs": [],
   "source": [
    "import json\n",
    "import re\n",
    "from pyspark.sql import *\n",
    "from pyspark import SparkContext, SQLContext"
   ]
  },
  {
   "cell_type": "markdown",
   "metadata": {},
   "source": [
    "Starting by declaring the Spark Context in order to make the link with the cluster. With Spark installed locally, we are able to query the cluster directly in the notebook."
   ]
  },
  {
   "cell_type": "code",
   "execution_count": 2,
   "metadata": {
    "collapsed": true
   },
   "outputs": [],
   "source": [
    "sc = SparkContext()"
   ]
  },
  {
   "cell_type": "markdown",
   "metadata": {},
   "source": [
    "blabla"
   ]
  },
  {
   "cell_type": "code",
   "execution_count": 3,
   "metadata": {
    "collapsed": true
   },
   "outputs": [],
   "source": [
    "text_file = sc.textFile(\"hdfs:///datasets/tweets-leon\")\n",
    "sample = text_file.take(100)"
   ]
  },
  {
   "cell_type": "code",
   "execution_count": 4,
   "metadata": {},
   "outputs": [
    {
     "data": {
      "text/plain": [
       "['en\\t345963923251539968\\tSat Jun 15 18:00:01 +0000 2013\\tLetataleta\\tRT @silsilfani: the world is not a wish-granting machine. dont be surprised when everything always end up disappointing.',\n",
       " \"en\\t345963923297673217\\tSat Jun 15 18:00:01 +0000 2013\\tJamesonN7\\tRT @WhosThisHoe: I'd rather sleep with a nice guy because they always finish last\",\n",
       " \"en\\t345963923259924480\\tSat Jun 15 18:00:01 +0000 2013\\tLauraEllynJones\\tCan't stand people who lie then blame it on someone else #boreoff\",\n",
       " 'it\\t345963923276697601\\tSat Jun 15 18:00:01 +0000 2013\\tChialettaFClub\\t@ChialettaFClub: #rt seguimi ti seguo ti voto il profilo\\\\nX9\\\\nOBBIETTIVO:300',\n",
       " 'fr\\t345963923255730176\\tSat Jun 15 18:00:01 +0000 2013\\t_irem61_\\tRT @DHC_Music: Terrorism ... #FreePalestina http://t.co/OLWnVlW682',\n",
       " 'en\\t345963923247345664\\tSat Jun 15 18:00:01 +0000 2013\\tdannamaee\\t@JennnnyDo better than Starbucks??',\n",
       " 'en\\t345963923272511489\\tSat Jun 15 18:00:01 +0000 2013\\tmalenpalmeyro1\\tRT @arthurmeyer13: Thank you for the Frog Lawn Mower @justinbieber!!! I am officially a true Belieber! #froglawnmower',\n",
       " 'en\\t345963923247345667\\tSat Jun 15 18:00:01 +0000 2013\\tNaughtyBert\\tI posted a new photo to Facebook http://t.co/ja6xWwQnaO',\n",
       " 'en\\t345963923289288704\\tSat Jun 15 18:00:01 +0000 2013\\tAquafloater\\tNew post: \"Pontoon reflection\" http://t.co/UY8PBYATth #FTM #FloatTheMoat #Water',\n",
       " 'en\\t345963923264131072\\tSat Jun 15 18:00:01 +0000 2013\\tSabyJones15\\tSaby:)&lt;3 http://t.co/geBjEEmm2s',\n",
       " 'en\\t345963923243139072\\tSat Jun 15 18:00:01 +0000 2013\\thigays_\\tRT @TinafromMars: @higays_ ODDIO GRAZIEEEE MDJDJDJ NON POSSO ANCORA CREDERCI DNXNNDJ',\n",
       " 'en\\t345963923327033346\\tSat Jun 15 18:00:01 +0000 2013\\tKristin_Briggs\\tRT @_Dadey: Lets get blackout drunk tonight.',\n",
       " 'es\\t345963923285086208\\tSat Jun 15 18:00:01 +0000 2013\\tBernardoFalco14\\tSale Futbol en el colegio',\n",
       " 'en\\t345963923297693697\\tSat Jun 15 18:00:01 +0000 2013\\tronwagn\\tHow to Keep Your Communications Private http://t.co/CtWSkWJf6f',\n",
       " 'en\\t345963923251531776\\tSat Jun 15 18:00:01 +0000 2013\\tFunPamela_x\\tI find it ironic that the colors red, white, and blue represent freedom until they are flashing behind you.',\n",
       " 'es\\t345963923322855424\\tSat Jun 15 18:00:01 +0000 2013\\tNahiCarla\\tMi hermano le dijo tarada a mi mamá! Y despues dijo la carla jajajajaja maricon',\n",
       " 'es\\t345963923272499200\\tSat Jun 15 18:00:01 +0000 2013\\tKPOPMundial\\t►ESPECIAL SOLISTAS◄\\\\n\\\\n¿Te gusta Rain? ¿Cuál es tu canción favorita? \\\\n\\\\nV.S http://t.co/4faobm2rfk',\n",
       " 'es\\t345963923293487104\\tSat Jun 15 18:00:01 +0000 2013\\tyokairyfigueroa\\tRT @Guiissii: @yokairyfigueroa tu hija tuvo un accidente T.T',\n",
       " 'it\\t345963923255738368\\tSat Jun 15 18:00:01 +0000 2013\\tReally_iinsane\\t@wassupxCaramel i gotta try it',\n",
       " 'en\\t345963923310260224\\tSat Jun 15 18:00:01 +0000 2013\\tiellx_\\tRT @AnisPritchard: \"I\\'ll never let go, Jack. I promise.\" *kisses his hand, letting go of Jack\\'s hand and watch him sink* :\\'(',\n",
       " \"en\\t345963923272515584\\tSat Jun 15 18:00:01 +0000 2013\\tMalikMyMiracle\\tRT @MeanGirlsText: It's amazing how you can fall in love with a person you didn't even notice the first time you meet them.\",\n",
       " 'es\\t345963923293470722\\tSat Jun 15 18:00:01 +0000 2013\\timeodio\\tRT @Soytuvicio_: Contigo no hace falta escribirle a más nadie.',\n",
       " 'en\\t345963923381551105\\tSat Jun 15 18:00:01 +0000 2013\\tcritchieee\\tRT @Ry_Davies: It must be national \"everyone do nothing on the weekend\" day. So bored wah',\n",
       " 'en\\t345963923276722176\\tSat Jun 15 18:00:01 +0000 2013\\tjoylapoyce\\tSpinning around..',\n",
       " 'en\\t345963923280904192\\tSat Jun 15 18:00:01 +0000 2013\\tcouplef33m39\\tRT @elifparlakx: http://t.co/eGSlmTkX',\n",
       " 'en\\t345963923348013056\\tSat Jun 15 18:00:01 +0000 2013\\tcourtneyshepxx\\tRT @SoftballerSwag_: Steps to getting new softball equipment: \\\\n1) Go to a tournament far away \\\\n2) \"Forget\" something 😏',\n",
       " 'en\\t345963923280887808\\tSat Jun 15 18:00:01 +0000 2013\\tVZWSupport\\t@shaunfather Thanks! Sometimes software does not restore properly after an update. Hard Reset the device http://t.co/LRPwzmjd20 .^PF',\n",
       " 'en\\t345963923373178881\\tSat Jun 15 18:00:01 +0000 2013\\tscunnyweather\\tWind 6 mph SW. Barometer 1000.21 mb, Rising slowly. Temperature 16.0 °C. Rain today 0.2 mm. Humidity 57%',\n",
       " 'en\\t345963923293491200\\tSat Jun 15 18:00:01 +0000 2013\\tayeeitscc\\tWhen people say that god hates gays. Bitch do you know him personally?',\n",
       " 'en\\t345963923306070017\\tSat Jun 15 18:00:01 +0000 2013\\tkevin_georgieff\\tRT @justinbieber: Surprised the crowd at my bro @CodySimpson show tonight. Proud of him. He killed it! Great job Cody',\n",
       " 'nl\\t345963923297681410\\tSat Jun 15 18:00:01 +0000 2013\\tMarissaW2013\\tIf I Dont get food in my system',\n",
       " 'en\\t345963923314458624\\tSat Jun 15 18:00:01 +0000 2013\\tKelseyComer27\\tEverything is deleted and I feel pretty good about it. 😄👌',\n",
       " 'en\\t345963923364794368\\tSat Jun 15 18:00:01 +0000 2013\\tAbiLopez97\\t\"@niKE_jetski: I\\'m not going to lie i kinda miss talking to you\"',\n",
       " 'es\\t345963923327045633\\tSat Jun 15 18:00:01 +0000 2013\\tcarolus45\\t¡He reunido 15,042 monedas de oro! ¿A ver quien es capaz de ganarme?http://t.co/dERzzE4IMQ #android, #androidgames, #gameinsight',\n",
       " 'nl\\t345963923368984577\\tSat Jun 15 18:00:01 +0000 2013\\tJul13t4S44v3dr4\\tRT @MartinaSavedraa: @Jul13t4S44v3dr4 150 pe al toke jajajajajaja',\n",
       " 'es\\t345963923352211457\\tSat Jun 15 18:00:01 +0000 2013\\tPlugsForZombies\\t¿Te da miedo viajar en avión? — para nada http://t.co/yvh4KmpupN',\n",
       " 'en\\t345963923364773888\\tSat Jun 15 18:00:01 +0000 2013\\tImNot4rmAfrica\\tRT @ComedyPosts: me playing mario kart  \\\\n\\\\nare you kidding me \\\\nwho the fuck threw that red shell \\\\ni will fuck you up',\n",
       " \"en\\t345963923381567488\\tSat Jun 15 18:00:01 +0000 2013\\tHungryNab\\tHey Nabbel!how old r u?U ASIAN?omg!me too!im Fillipino! — Sickkk! I'm 14 http://t.co/LlRh7UqbB9\",\n",
       " 'es\\t345963923339636736\\tSat Jun 15 18:00:01 +0000 2013\\tmarievazquez193\\tefra siempre me pregunta por joshua.',\n",
       " 'en\\t345963923314470912\\tSat Jun 15 18:00:01 +0000 2013\\tgmvergaraa\\tXD',\n",
       " 'en\\t345963923331227649\\tSat Jun 15 18:00:01 +0000 2013\\tspotlightsemi\\tpll pll',\n",
       " 'en\\t345963923335417856\\tSat Jun 15 18:00:01 +0000 2013\\tkianaakimiko\\tRT @Drakee_YMCMB: I wish we could go back to how we use to be, I miss that.',\n",
       " 'es\\t345963923352207360\\tSat Jun 15 18:00:01 +0000 2013\\tUrielAnce12\\tPor irme a Quilmes con el santy :p ah. (?',\n",
       " 'es\\t345963923272519680\\tSat Jun 15 18:00:01 +0000 2013\\tSoleblablabla\\tTodo Se Hace Trizas Cuando Un Amor se va ♪',\n",
       " 'es\\t345963923314446336\\tSat Jun 15 18:00:01 +0000 2013\\tomarsanchez200\\tRT @hammervilla: Hay 5 niveles de miedo:\\\\n1. El pánico.\\\\n2. El terror. \\\\n3. 25 llamadas perdidas de mamá.\\\\n4. Tenemos que hablar.\\\\n5. Contraseña…',\n",
       " \"en\\t345963923297689600\\tSat Jun 15 18:00:01 +0000 2013\\tOsheaHill21\\tDon't feel like gettin out of bed today..\",\n",
       " 'en\\t345963923410911233\\tSat Jun 15 18:00:01 +0000 2013\\tIam_Lowkeyy\\tThats Why I Made One To Stay Away From Yall lOl',\n",
       " 'en\\t345963923377373186\\tSat Jun 15 18:00:01 +0000 2013\\tSharitaCarll\\t13985 http://t.co/NUHQFayM2N',\n",
       " 'en\\t345963923348017152\\tSat Jun 15 18:00:01 +0000 2013\\tpugthings\\tHow fast does your PUG EAT?? http://t.co/x3KyMBmZYO',\n",
       " 'es\\t345963923385757696\\tSat Jun 15 18:00:01 +0000 2013\\tAntonioCriado11\\tEres demasiado bella para llorar.',\n",
       " 'es\\t345963923335426048\\tSat Jun 15 18:00:01 +0000 2013\\tmilagrosnatali_\\tRT @YVosEstas: Estan pasando tu tema favorito en la radio, empieza a hablar el locutor y vos estas http://t.co/hrSSYhgFqP',\n",
       " 'es\\t345963923272499202\\tSat Jun 15 18:00:01 +0000 2013\\tMauroSkater98\\t@OrianaSuarez_ Si con el ojo hinchado la oreja cortada y la jeta hinchada',\n",
       " 'en\\t345963923322851328\\tSat Jun 15 18:00:01 +0000 2013\\tEmmersss_\\tThe inner Honey Boo Boo child just came out in Kendall.',\n",
       " 'en\\t345963923276718081\\tSat Jun 15 18:00:01 +0000 2013\\tSunnySmileLJ\\tHappy Fathers Day\\\\n#FathersDay http://t.co/kq6fgoJ3sK',\n",
       " 'es\\t345963923398328321\\tSat Jun 15 18:00:01 +0000 2013\\tMiicaCammarata\\tRT @MacaBenedetich: Mica !! Vir quiere hablar con vos, conectate a fb',\n",
       " 'es\\t345963923377373184\\tSat Jun 15 18:00:01 +0000 2013\\tMariaAyllon07\\tRT @PaulaMora08: Espero que me dejen ir.',\n",
       " 'en\\t345963923402526721\\tSat Jun 15 18:00:01 +0000 2013\\tRavishingGlow\\tNo me copies.',\n",
       " 'fr\\t345963923335413761\\tSat Jun 15 18:00:01 +0000 2013\\tHairCutGroup\\tHair by Unihair-boutique\\\\nhttp://t.co/fRGYMrRcQe http://t.co/7sXXzn1x34',\n",
       " 'fr\\t345963923465441280\\tSat Jun 15 18:00:01 +0000 2013\\tChajopico\\tRT @KimberleyNoe: \" J\\'ai rencontré un autre. On a passé des moments formidables. C\\'était bien mais ce n\\'était pas toi. \"',\n",
       " 'es\\t345963923440279552\\tSat Jun 15 18:00:01 +0000 2013\\tamandas82348977\\tRT @adriana01488028: Sudades de voce suua linda :3\\\\n@marjorysalles98 \\\\n*-----*\\\\n#Suachata una :p',\n",
       " 'de\\t345963923310272512\\tSat Jun 15 18:00:01 +0000 2013\\tMylesRivss\\t@jakesprat21 @kylebroncosfan absolutely',\n",
       " 'en\\t345963923377356800\\tSat Jun 15 18:00:01 +0000 2013\\tTustinAugwell\\tRT @ComedyAndTruth: please http://t.co/q8q77qlOxN',\n",
       " 'en\\t345963923352211458\\tSat Jun 15 18:00:01 +0000 2013\\tChristyn_Laine\\tGetting some sun at Horn Island #islandlife #costie',\n",
       " 'en\\t345963923289284608\\tSat Jun 15 18:00:01 +0000 2013\\tkellkellll43\\tScrew you and your perfect relationship 😭😭',\n",
       " 'es\\t345963923394142209\\tSat Jun 15 18:00:01 +0000 2013\\tMufaldinho\\tRT @Maggnate: #NombresParaLaAv11deSeptiembre \\\\n\\\\nLibertador Pinochet',\n",
       " 'en\\t345963923398352896\\tSat Jun 15 18:00:01 +0000 2013\\tketne_\\tEstoy on fire!',\n",
       " \"en\\t345963923457052672\\tSat Jun 15 18:00:01 +0000 2013\\tMIKEY_1900\\tRT @SwagItsAylaa: I don't want a job,                                      I just want money.\",\n",
       " \"de\\t345963923377364992\\tSat Jun 15 18:00:01 +0000 2013\\tBRAD_UK2K\\tRT @GarynChristin: @BRAD_UK2K you're welcome!\",\n",
       " 'es\\t345963923394162689\\tSat Jun 15 18:00:01 +0000 2013\\tCamiTroman\\tajajajaajjaja terrrrrrrible ayer',\n",
       " 'es\\t345963923327049729\\tSat Jun 15 18:00:01 +0000 2013\\tjavorostegui\\tNo por que no lo tenga... sino porque no estoy ni cerca de llegar aun',\n",
       " 'en\\t345963923381567489\\tSat Jun 15 18:00:01 +0000 2013\\tPetlandOhio\\tI posted a new photo to Facebook http://t.co/jI5imnJsb4',\n",
       " 'en\\t345963923348004865\\tSat Jun 15 18:00:01 +0000 2013\\tpurplixes\\tPurple&lt;3 Such a sexy colour&lt;3&lt;3',\n",
       " 'es\\t345963923381571585\\tSat Jun 15 18:00:01 +0000 2013\\tJOVARQ\\tCurso de Vray Rendering el 22 y 23 de Junio en la ciudad de México. Aprovecha la promoción de pago temprano. ¡Cupo... http://t.co/lqUJg0B12D',\n",
       " 'en\\t345963923280900096\\tSat Jun 15 18:00:01 +0000 2013\\tWhats_Up_B\\tSergio just tapped in for a 10 on the 15th! That a boy!',\n",
       " 'es\\t345963923306082305\\tSat Jun 15 18:00:01 +0000 2013\\tElculicagado\\t¿Y el ola ke ase?',\n",
       " 'it\\t345963923398348801\\tSat Jun 15 18:00:01 +0000 2013\\txfreehugstommo_\\t#ItalianMTVAwards #onedirection  rt seguimi e ti seguo x142',\n",
       " 'en\\t345963923293470720\\tSat Jun 15 18:00:01 +0000 2013\\tninushee\\t“@Valon_Shabani: @ninushee i thought it was Valon.. 😔😥” Valon is a nice name but I like Besnik a little more sowwy :(',\n",
       " 'en\\t345963923327045632\\tSat Jun 15 18:00:01 +0000 2013\\tinkaddictsonia\\tI have a gift , my energy is ridiculous I tell you ridiculous !!!',\n",
       " 'en\\t345963923322843136\\tSat Jun 15 18:00:01 +0000 2013\\tHoran989\\tSE NON MI SEGUI TI SPEZZO QUEL BRACCINO DI MERDA.RICORDATELO.POTREI ESSERE DIETRO DI TE. #RT SEGUIMI E TI SEGUO X6',\n",
       " 'es\\t345963923356401665\\tSat Jun 15 18:00:01 +0000 2013\\tGerard_velas\\tPor esa persona especial que te hace feliz con tan solo verla',\n",
       " 'es\\t345963923364802561\\tSat Jun 15 18:00:01 +0000 2013\\tLessloved\\tExtraño las pijamadas.',\n",
       " \"en\\t345963923268313088\\tSat Jun 15 18:00:01 +0000 2013\\tTIFFANYTIPPS\\tIt's always good going to sleep content, cus I wake up in the best mood 😌\",\n",
       " 'es\\t345963923373178880\\tSat Jun 15 18:00:01 +0000 2013\\ttomi_castroruiz\\tGanamos 2 a 1 vamos bien, ya van 3 partidos seguidos que nos llevamos los 3 puntos !',\n",
       " 'es\\t345963923360591872\\tSat Jun 15 18:00:01 +0000 2013\\tMaariiaRuiizz\\tSiempre toda espera tiene su reconpensa.',\n",
       " 'en\\t345963923368972288\\tSat Jun 15 18:00:01 +0000 2013\\tharrysweer\\tWind 5,8 m/s W. Barometer 1010,70 hPa, Steady. Temperature 16,0 °C. Rain today 3,3 mm. Humidity 63%',\n",
       " 'en\\t345963923465437185\\tSat Jun 15 18:00:01 +0000 2013\\tHeryBandidoz\\tRT @IDP_Keci: the #show #ffb2013 .. #dance #music #stage #modern #traditional #liveperformance #idp #explore #indonesia http://t.co/FR1fAqq…',\n",
       " \"en\\t345963923457052674\\tSat Jun 15 18:00:01 +0000 2013\\tURKMEZ\\tRT @BreakingNews: Turkish police enter Istanbul's Gezi Park after PM Erdogan's warning that protesters would be evicted - @Reuters\",\n",
       " 'en\\t345963923461271553\\tSat Jun 15 18:00:01 +0000 2013\\tYLRHype\\tJoin the Yes Lord HYPE Family on Facebook! ==&gt; http://t.co/DHLV7qAJj0 #IListenToYLR',\n",
       " 'fr\\t345963923360604161\\tSat Jun 15 18:00:01 +0000 2013\\tyousinceforever\\tDu coup sa ma blaser de tourner en rond la!',\n",
       " \"en\\t345963923503194113\\tSat Jun 15 18:00:01 +0000 2013\\tadropoflovato\\tRT @DDL_Inspiresme1: Demi should write an actual book, not one that's released over the internet and no where else. She should write one ab…\",\n",
       " 'en\\t345963923264110593\\tSat Jun 15 18:00:01 +0000 2013\\tEs_H_Aye_E\\tLol RT @BlkSportsOnline BSO: Cowboys VP Stephen Jones: We Can Compete For A Championship http://t.co/0RIQV7JL8R @thacover2',\n",
       " 'en\\t345963923494825984\\tSat Jun 15 18:00:01 +0000 2013\\tKyRi_Santeee\\tBasic assholes .',\n",
       " 'en\\t345963923343826944\\tSat Jun 15 18:00:01 +0000 2013\\tOmarInTheOF\\t@anabelramirez74 she was straight chillin with them on until she found out they were ALL on! Lol #iLoveMyDaughter',\n",
       " 'en\\t345963923360579584\\tSat Jun 15 18:00:01 +0000 2013\\tsydneyisaturtl\\tADIPOSE ARE THE MOST ADORABLE THINGS EVER',\n",
       " 'en\\t345963923327033345\\tSat Jun 15 18:00:01 +0000 2013\\tOREIR9TANQUE\\tAMIG@S POR FAVOR REGALENME UN LIKE Y PASEN LA VOZ http://t.co/VOaqo9bEEP \\\\nUN SALUDO!',\n",
       " 'es\\t345963923431890945\\tSat Jun 15 18:00:01 +0000 2013\\testefy_pinto\\tNo le entiendo a las indirectas...',\n",
       " 'en\\t345963923423518722\\tSat Jun 15 18:00:01 +0000 2013\\tSalimMoh2\\tGuys pls fllw I promise I will fllw u back.',\n",
       " 'en\\t345963923293499392\\tSat Jun 15 18:00:01 +0000 2013\\tKenzie_Manning\\tI just wanna be on the lake. Is that too much to ask?',\n",
       " 'en\\t345963923264114688\\tSat Jun 15 18:00:01 +0000 2013\\tComfortOnt\\tThe Cheers- L.A Wine, Spirits, Beer, &amp; Food Festival is taking place next Saturday, June 22, 2013 at Fairplex! So... http://t.co/IYAy5ty5Mm',\n",
       " 'es\\t345963923259920384\\tSat Jun 15 18:00:01 +0000 2013\\tVerdeGrupo\\tImpresionante y bellísima imagen de Tenerife, Canarias - Bea http://t.co/WXqyOj9ZuA']"
      ]
     },
     "execution_count": 4,
     "metadata": {},
     "output_type": "execute_result"
    }
   ],
   "source": [
    "sample"
   ]
  },
  {
   "cell_type": "code",
   "execution_count": 5,
   "metadata": {
    "collapsed": true
   },
   "outputs": [],
   "source": [
    "def no_whitespace(s):\n",
    "    return re.sub(r\"(?m)\\s+\", \"\", s)"
   ]
  },
  {
   "cell_type": "code",
   "execution_count": 6,
   "metadata": {},
   "outputs": [
    {
     "data": {
      "text/plain": [
       "'hellopelo'"
      ]
     },
     "execution_count": 6,
     "metadata": {},
     "output_type": "execute_result"
    }
   ],
   "source": [
    "test = 'hello pelo'\n",
    "no_whitespace(test)"
   ]
  },
  {
   "cell_type": "code",
   "execution_count": 7,
   "metadata": {
    "collapsed": true
   },
   "outputs": [],
   "source": [
    "def is_interesting(content):\n",
    "    \n",
    "    content = no_whitespace(content.lower())\n",
    "    \n",
    "    list_most_interesting_words = ['terrorism', 'attentat', 'terrorattack']\n",
    "    #list_interesting_words = ['isis', 'bomb','dead','deaths','died','injured','kill','mort','#prayfor','isis']\n",
    "    \n",
    "    count=0\n",
    "    \n",
    "    for w in list_most_interesting_words:\n",
    "        if w in content:\n",
    "            return True\n",
    "    \n",
    "    \"\"\"for w in list_interesting_words:\n",
    "        \n",
    "        if count>=2:\n",
    "            return True \n",
    "    \n",
    "        if w in content:\n",
    "            count+=1\"\"\"\n",
    "    "
   ]
  },
  {
   "cell_type": "code",
   "execution_count": 8,
   "metadata": {
    "collapsed": true
   },
   "outputs": [],
   "source": [
    "def pray_for(content):\n",
    "    \n",
    "    content= no_whitespace(content)\n",
    "    \n",
    "    if '#prayfor' in content:\n",
    "        return True"
   ]
  },
  {
   "cell_type": "code",
   "execution_count": 13,
   "metadata": {},
   "outputs": [],
   "source": [
    "terrorism = text_file.filter(is_interesting).take(3000)"
   ]
  },
  {
   "cell_type": "code",
   "execution_count": 12,
   "metadata": {},
   "outputs": [],
   "source": [
    "#pray_for = text_file.filter(pray_for).take(10)"
   ]
  },
  {
   "cell_type": "markdown",
   "metadata": {},
   "source": [
    "### Plan\n",
    "\n",
    "\n",
    "\n",
    "1) Preprocess data \n",
    "    - make a robust filter on interesting tweets\n",
    "    - import wikipedia data\n",
    "    \n",
    "2) Store in dataframe\n",
    "    - choose necessary attributes\n",
    "    \n",
    "\n",
    "3) joujou\n",
    "    \n"
   ]
  },
  {
   "cell_type": "code",
   "execution_count": 14,
   "metadata": {},
   "outputs": [
    {
     "ename": "TypeError",
     "evalue": "write() argument must be str, not list",
     "output_type": "error",
     "traceback": [
      "\u001b[0;31m---------------------------------------------------------------------------\u001b[0m",
      "\u001b[0;31mTypeError\u001b[0m                                 Traceback (most recent call last)",
      "\u001b[0;32m<ipython-input-14-656592bb2c50>\u001b[0m in \u001b[0;36m<module>\u001b[0;34m()\u001b[0m\n\u001b[1;32m      1\u001b[0m \u001b[0mfile_t\u001b[0m \u001b[0;34m=\u001b[0m \u001b[0mopen\u001b[0m\u001b[0;34m(\u001b[0m\u001b[0;34m'tweets_terror.txt'\u001b[0m\u001b[0;34m,\u001b[0m\u001b[0;34m'w'\u001b[0m\u001b[0;34m)\u001b[0m\u001b[0;34m\u001b[0m\u001b[0m\n\u001b[0;32m----> 2\u001b[0;31m \u001b[0mfile_t\u001b[0m\u001b[0;34m.\u001b[0m\u001b[0mwrite\u001b[0m\u001b[0;34m(\u001b[0m\u001b[0mterrorism\u001b[0m\u001b[0;34m)\u001b[0m\u001b[0;34m\u001b[0m\u001b[0m\n\u001b[0m",
      "\u001b[0;31mTypeError\u001b[0m: write() argument must be str, not list"
     ]
    }
   ],
   "source": [
    "file_t = open('tweets_terror.txt','w')\n",
    "file_t.write(terrorism)"
   ]
  },
  {
   "cell_type": "code",
   "execution_count": null,
   "metadata": {
    "collapsed": true
   },
   "outputs": [],
   "source": []
  }
 ],
 "metadata": {
  "kernelspec": {
   "display_name": "Python [conda env:ada]",
   "language": "python",
   "name": "conda-env-ada-py"
  },
  "language_info": {
   "codemirror_mode": {
    "name": "ipython",
    "version": 3
   },
   "file_extension": ".py",
   "mimetype": "text/x-python",
   "name": "python",
   "nbconvert_exporter": "python",
   "pygments_lexer": "ipython3",
   "version": "3.5.4"
  }
 },
 "nbformat": 4,
 "nbformat_minor": 2
}
