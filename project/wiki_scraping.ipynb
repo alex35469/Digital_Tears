{
 "cells": [
  {
   "cell_type": "code",
   "execution_count": 1,
   "metadata": {
    "collapsed": true
   },
   "outputs": [],
   "source": [
    "import pandas as pd\n",
    "import json\n",
    "import folium\n",
    "import numpy as np\n",
    "import datetime\n",
    "import requests\n",
    "from bs4 import BeautifulSoup\n",
    "from datetime import date\n",
    "import re"
   ]
  },
  {
   "cell_type": "code",
   "execution_count": null,
   "metadata": {
    "collapsed": true
   },
   "outputs": [],
   "source": [
    "# Simple map of month name to its number\n",
    "month_to_int = {\n",
    "    'January': 1,\n",
    "    'February': 2,\n",
    "    'March': 3,\n",
    "    'April': 4,\n",
    "    'May': 5,\n",
    "    'June': 6,\n",
    "    'July': 7,\n",
    "    'August': 8,\n",
    "    'September': 9,\n",
    "    'October': 10,\n",
    "    'November': 11,\n",
    "    'December': 12\n",
    "}\n",
    "\n",
    "# Reversed map\n",
    "int_to_month = {i: m for m, i in month_to_int.items()}"
   ]
  },
  {
   "cell_type": "code",
   "execution_count": null,
   "metadata": {
    "collapsed": true
   },
   "outputs": [],
   "source": [
    "# The wikipedia URL that every article has in common\n",
    "base_url = 'https://en.wikipedia.org/wiki/List_of_terrorist_incidents_in_'"
   ]
  },
  {
   "cell_type": "code",
   "execution_count": null,
   "metadata": {
    "collapsed": true,
    "scrolled": false
   },
   "outputs": [],
   "source": [
    "# All specific end of the wikipedia URL, along with the corresponding month numbers of the article\n",
    "times = {}\n",
    "\n",
    "for year in range(2011, 2015):\n",
    "    # For years 2011 to 2014, the articles appear biyearly\n",
    "    times.update({'January-June_' + str(year): list(range(1, 7))})\n",
    "    times.update({'July-December_' + str(year): list(range(7, 13))})\n",
    "    \n",
    "for year in range(2015, 2018):\n",
    "    # For years 2015 to 2017, the articles appear monthly\n",
    "    for month, int_ in month_to_int.items():\n",
    "        times.update({month + '_' + str(year): [int_]})\n"
   ]
  },
  {
   "cell_type": "code",
   "execution_count": null,
   "metadata": {
    "collapsed": true
   },
   "outputs": [],
   "source": [
    "def to_int(s):\n",
    "    '''Returns the first integer found in s'''\n",
    "    i = re.findall('\\d+', s)\n",
    "    return int(i[0]) if len(i) > 0 else float('NaN')"
   ]
  },
  {
   "cell_type": "code",
   "execution_count": null,
   "metadata": {
    "collapsed": true
   },
   "outputs": [],
   "source": [
    "def to_date(s, year):\n",
    "    '''Returns a date from the datetime library from a string like \\'January 1\\''''\n",
    "    l = s.split(' ')\n",
    "    return date(to_int(year), month_to_int[l[0]], to_int(l[1]))"
   ]
  },
  {
   "cell_type": "code",
   "execution_count": null,
   "metadata": {
    "collapsed": true
   },
   "outputs": [],
   "source": [
    "def wiki_table_to_df(end_url, month_range, base_url=base_url):\n",
    "    '''Creates a dataframe from the tables available in the wikipedia page'''\n",
    "    print('Scraping for', end_url)\n",
    "    r = requests.get(base_url + end_url) # Get request\n",
    "    soup = BeautifulSoup(r.text, 'lxml') # Parse HTML\n",
    "    wiki_tables = soup.findAll('table', {'class': 'wikitable sortable'}) # Get tables from the wikipedia page\n",
    "\n",
    "    table = []\n",
    "\n",
    "    for month_int, wiki_table in zip(month_range, wiki_tables):\n",
    "        for row in wiki_table.findAll('tr'):\n",
    "            elems = row.findAll('td') \n",
    "            if len(elems) != 0:\n",
    "                interesting = [elem.text for elem in elems[:5]]\n",
    "                 # First element is the day of the month, but we add the name of the month as well in front of it\n",
    "                interesting[0] = int_to_month[month_int] + ' ' + interesting[0]\n",
    "                table.append(interesting)\n",
    "                \n",
    "    df = pd.DataFrame(table, columns=['date', 'type', 'deaths', 'injuries', 'location'])\n",
    "    df.date = df.date.apply(lambda s: to_date(s, end_url[-4:])) # Translate the date with the year defined by the end_url arg\n",
    "    df.deaths = df.deaths.apply(to_int) # Map death number to int\n",
    "    df.injuries = df.injuries.apply(to_int) # Map injuries number to int\n",
    "    \n",
    "    return df"
   ]
  },
  {
   "cell_type": "code",
   "execution_count": null,
   "metadata": {
    "collapsed": true,
    "scrolled": false
   },
   "outputs": [],
   "source": [
    "dfs = []\n",
    "\n",
    "# Get a DataFrame for every article from 2011 to 2017\n",
    "for time, month_range in times.items():\n",
    "    dfs.append(wiki_table_to_df(time, month_range))\n",
    "    \n",
    "df = pd.concat(dfs)\n",
    "print('We have {} registered attacks from 1-1-2011 up to today ({}-{}-{})'.format(df.shape[0], date.today().day, date.today().month, date.today().year))"
   ]
  },
  {
   "cell_type": "code",
   "execution_count": null,
   "metadata": {
    "collapsed": true
   },
   "outputs": [],
   "source": [
    "# Words that we should not keep when parsing city names\n",
    "useless_words_cities = [\n",
    "    'near',\n",
    "    'far',\n",
    "    'across', \n",
    "    'outskirts of',\n",
    "    'south of',\n",
    "    'north of'\n",
    "    'south',\n",
    "    'north',\n",
    "    'east',\n",
    "    'west', \n",
    "    'various places in',\n",
    "    'border crossing',\n",
    "    'industrial zone',\n",
    "    'region',\n",
    "    'province',\n",
    "    'district'\n",
    "]\n",
    "\n",
    "# Words that we should not keep when parsing country names\n",
    "useless_words_countries = [\n",
    "    ' and ',\n",
    "    'northern',\n",
    "    'southern',\n",
    "    'eastern',\n",
    "    'northwestern',\n",
    "    'east',\n",
    "    'across',\n",
    "    'central',\n",
    "    'northwest',\n",
    "    'border region',\n",
    "    'prospective'\n",
    "]\n",
    "\n",
    "def remove_useless(s):\n",
    "    '''Removes useless words and list of names'''\n",
    "    s = s.lower()\n",
    "    for uw in useless_words_cities:\n",
    "        s = s.replace(uw + ' ', '')\n",
    "        s = s.replace(uw, '')\n",
    "            \n",
    "    if ' and ' in s:\n",
    "        s = s.split(' and ')[0]\n",
    "        \n",
    "    if '/' in s:\n",
    "        s = s.split('/')[0]\n",
    "            \n",
    "    return s.title()\n",
    "\n",
    "def clean_country(country):\n",
    "    '''Sets the country name to a norm'''\n",
    "    if 'Nigeria' in country:\n",
    "        country = 'Nigeria'                \n",
    "    if 'Jerusalem' in country:\n",
    "        country = 'Israel'        \n",
    "    if 'West Bank' in country:\n",
    "        country = 'Palestine'        \n",
    "    if 'Congo' in country:\n",
    "        country = 'Congo'        \n",
    "    if 'Dagestan' in country:\n",
    "        country = 'Russia'        \n",
    "    if 'Abkhazia' in country:\n",
    "        country = 'Russia'        \n",
    "    if 'Balochistan' in country:\n",
    "        country = 'Pakistan'        \n",
    "    if 'Hebron' in country:\n",
    "        country = 'Palestine'        \n",
    "    if 'Burma' in country:\n",
    "        country = 'Myanmar'        \n",
    "    if 'Northern Ireland' in country:\n",
    "        country = 'United Kingdom'\n",
    "    \n",
    "    country = clean_extremities(country)\n",
    "        \n",
    "    return country\n",
    "\n",
    "def clean_extremities(s):\n",
    "    '''Cleans both ends of a string by removing commas, points, etc.'''\n",
    "    while len(s) > 0 and not s[0].isalpha():\n",
    "        s = s[1:]\n",
    "        \n",
    "    while len(s) > 0 and not s[-1].isalpha():\n",
    "        s = s[:-1]\n",
    "        \n",
    "    return s\n",
    "\n",
    "def special_cases(location):\n",
    "    '''Handles locations that do not have a comma in them'''\n",
    "    location = location.lower()\n",
    "    \n",
    "    for uw in useless_words_countries:\n",
    "        if uw + ' ' in location:\n",
    "            location = location.replace(uw + ' ', '')\n",
    "        if uw in location:\n",
    "            location = location.replace(uw, '')\n",
    "            \n",
    "    if 'jerusalem' in location:\n",
    "        location = 'Israel'\n",
    "        \n",
    "    if 'west bank' in location:\n",
    "        location = 'Palestine'\n",
    "            \n",
    "    return 'Unknown', location.title()\n",
    "\n",
    "def city_country_from_location(location):\n",
    "    '''Gets the city and country name from a string that is looking like \\'Paris, France\\''''\n",
    "    location = clean_extremities(location)\n",
    "    \n",
    "    # Really special cases that we have to treat by hand\n",
    "    really_special = {\n",
    "        'Zliten Libya': ('Zliten', 'Libya'),\n",
    "        'Alau.Nigeria': ('Alau', 'Nigeria'),\n",
    "        'Damascus Syria': ('Damascus', 'Syria'),\n",
    "        'Kibirizi Democratic Republic of Congo': ('Kibirizi', 'Congo'),\n",
    "        'Belfast Northern Ireland': ('Belfast', 'United Kingdom'),\n",
    "        'Oberhausen Germany': ('Oberhausen', 'Germany'),\n",
    "        'Lahj Governorate Yemen': ('Unknown', 'Yemen'),\n",
    "        'El-Baraf Somalia': ('Unknown', 'Somalia'),\n",
    "        'Baghdad Iraq': ('Baghdad', 'Iraq'),\n",
    "        'Luqa Malta': ('Luqa', 'Malta'),\n",
    "        'Muradiye Turkey': ('Muradiye', 'Turkey'),\n",
    "        'Concepción Paraguay': ('Concepción', 'Paraguay'),\n",
    "        'Deir Ez-Zor Syria': ('Deir Ez-Zor', 'Syria'),\n",
    "        'Deir ez-Zor Syria': ('Deir Ez-Zor', 'Syria'),\n",
    "        'Indian Ocean': ('Unknown', 'Indian Ocean'),\n",
    "        'Qamishli Syria': ('Qamishli', 'Syria'),\n",
    "        'Oignies, Pas-de-Calais': ('Oignies', 'France'),\n",
    "        'Khost Province': ('Unknown', 'Afghanistan'),\n",
    "        'Ratchaprasong Intersection, Bangkok': ('Bangkok', 'Thailand'),\n",
    "        'Beit Hanun, Gaza Strip': ('Beit Hanun', 'Palestine'),\n",
    "        'Crimea': ('Unknown', 'Russia'),\n",
    "        'Moyen-Cavally, Côte d\\'Ivoire': ('Moyen-Cavally', 'Ivory Coast'),\n",
    "        'Lawdar, Lahij Yemen': ('Lawdar', 'Yemen'),\n",
    "        'Atizapán de Zaragoza, México': ('Atizapán de Zaragoza', 'Mexico'),\n",
    "        'Queens, New York': ('New York City', 'United States'),\n",
    "        'Jonglei, Southern Sudan': ('Jonglei', 'South Sudan'),\n",
    "        'Austin, Texas': ('Austin', 'United States'),\n",
    "        'Karabudakhkent, Dagestan, Russian Federation': ('Karabudakhkent', 'Russia')\n",
    "    }\n",
    "    \n",
    "    if location in really_special.keys():\n",
    "        return really_special[location]\n",
    "    \n",
    "    if ',' in location:\n",
    "        city = location.split(',')[0]\n",
    "        country = location.split(',')[-1]\n",
    "        \n",
    "        city = clean_extremities(remove_useless(city))\n",
    "        country = clean_country(country)\n",
    "        \n",
    "        if len(city) == 0:\n",
    "            city = 'Unknown'\n",
    "        \n",
    "        return city, country\n",
    "    else:\n",
    "        return special_cases(location)"
   ]
  },
  {
   "cell_type": "code",
   "execution_count": null,
   "metadata": {
    "collapsed": true
   },
   "outputs": [],
   "source": [
    "cities_countries = df.location.map(city_country_from_location).apply(pd.Series)\n",
    "# Applying the city names and country names in the dataframe\n",
    "df['city'] = cities_countries[0]\n",
    "df['country'] = cities_countries[1]"
   ]
  },
  {
   "cell_type": "code",
   "execution_count": null,
   "metadata": {
    "collapsed": true
   },
   "outputs": [],
   "source": [
    "# Getting rid off the dataframe\n",
    "df = df.drop('location', axis=1)"
   ]
  },
  {
   "cell_type": "code",
   "execution_count": null,
   "metadata": {
    "collapsed": true
   },
   "outputs": [],
   "source": [
    "# Saving to a nice csv\n",
    "df.to_csv('attacks.csv', index=False, encoding='utf-8')"
   ]
  },
  {
   "cell_type": "markdown",
   "metadata": {},
   "source": [
    "-----------------------"
   ]
  },
  {
   "cell_type": "code",
   "execution_count": 2,
   "metadata": {
    "collapsed": true
   },
   "outputs": [],
   "source": [
    "# Mapping the names we had from Wikipedia to the name in the .geojson file\n",
    "map_ = {\n",
    "    'Bahamas': 'Bahamas, The',\n",
    "    'Congo': 'Congo, Dem. Rep.',\n",
    "    'Egypt': 'Egypt, Arab Rep.',\n",
    "    'Iran': 'Iran, Islamic Rep.',\n",
    "    'Ivory Coast': 'Côte d\\'Ivoire',\n",
    "    'Kyrgyzstan': 'Kyrgyz Republic',\n",
    "    'Laos': 'Lao PDR',\n",
    "    'Palestine': 'Palestine (West Bank and Gaza)',\n",
    "    'Republic of Ireland': 'Ireland',\n",
    "    'Republic of Macedonia': 'Macedonia, FYR',\n",
    "    'Russia': 'Russian Federation',\n",
    "    'South Korea': 'Korea, Rep.',\n",
    "    'Syria': 'Syrian Arab Republic',\n",
    "    'United States': 'United States of America',\n",
    "    'Venezuela': 'Venezuela, RB',\n",
    "    'Yemen': 'Yemen, Rep.',\n",
    "    'Indian Ocean': 'Indian Ocean Territories'\n",
    "}"
   ]
  },
  {
   "cell_type": "code",
   "execution_count": 3,
   "metadata": {
    "collapsed": true
   },
   "outputs": [],
   "source": [
    "# WARNING: both are not used anymore since we draw circles\n",
    "\n",
    "def map_number_color(number):\n",
    "    '''Maps the number we are interested in to a color'''\n",
    "    number = np.sqrt(number)\n",
    "    max_ = np.sqrt(attacks_per_country.number.max())\n",
    "    min_ = np.sqrt(attacks_per_country.number.min())\n",
    "    c = int(202 - (number - min_) / (max_ - min_) * 202)\n",
    "    s = hex(c)[-2:]\n",
    "    if c < 16:\n",
    "        s = str(0) + hex(c)[-1]\n",
    "    return '#' + hex(236)[-2:] + s + '00'\n",
    "\n",
    "def color(name):\n",
    "    '''Gets the color for a country'''\n",
    "    if name in list(attacks_per_country.country):\n",
    "        return map_number_color(attacks_per_country[attacks_per_country.country == name]['number'].values[0])\n",
    "    else:\n",
    "        return '#aeae9e' "
   ]
  },
  {
   "cell_type": "code",
   "execution_count": 4,
   "metadata": {
    "collapsed": true
   },
   "outputs": [],
   "source": [
    "# folium.GeoJson(\n",
    "#     geojson_world,\n",
    "#     style_function=lambda feature: {\n",
    "#             'fillColor': color(feature['properties']['name_sort']),\n",
    "#             'color': '#151515',\n",
    "#             'fillOpacity': 0.5,\n",
    "#             'weight': 1\n",
    "#     }\n",
    "# ).add_to(world)"
   ]
  },
  {
   "cell_type": "code",
   "execution_count": 5,
   "metadata": {
    "collapsed": true
   },
   "outputs": [],
   "source": [
    "def radius(data, country):\n",
    "    '''Gets the radius of the circle for a country'''\n",
    "    max_ = np.sqrt(data.number.max())\n",
    "    v = data[data.country == country].number.values\n",
    "    if len(v) == 0:\n",
    "        return 0\n",
    "    return int(1000000 * int(np.sqrt(v[0])) / max_)"
   ]
  },
  {
   "cell_type": "code",
   "execution_count": 6,
   "metadata": {},
   "outputs": [],
   "source": [
    "def number(data, country, measure):\n",
    "    '''Gets the number we are interested in for a country'''\n",
    "    v = data[data.country == country].number.values\n",
    "    if len(v) == 0:\n",
    "        return str(0)\n",
    "    if ('\\'' in country):\n",
    "        country = country.replace('\\'', '')\n",
    "    return country + ': ' + str(int(v[0])) + ' ' + measure "
   ]
  },
  {
   "cell_type": "code",
   "execution_count": 7,
   "metadata": {
    "collapsed": true
   },
   "outputs": [],
   "source": [
    "def build_map(data, measure, color):\n",
    "    '''Builds a map from the data. The data is expected to have a \\'country\\' column and a \\'number\\' column'''\n",
    "    geojson_world = json.load(open('custom.geo.json', encoding='utf-8')) # JSON file containing the border\n",
    "    lat_lon_json = json.load(open('clean.json')) # JSON file containing the latitude and longitude of each country\n",
    "    \n",
    "    # Creating the map\n",
    "    world = folium.Map([30, 5], tiles='cartodbpositron', zoom_start=2)\n",
    "    \n",
    "    # Adding a circle for each country. The circle is clickable to see the number\n",
    "    for country in lat_lon_json:\n",
    "        folium.Circle(\n",
    "            location=[float(country['lat']), float(country['lon'])],\n",
    "            radius=radius(data, country['name']), # The size depends on the number\n",
    "            fill=True,\n",
    "            fill_color=color,\n",
    "          # fill_color=my_color_function(country['name']),\n",
    "            fill_opacity=0.2,\n",
    "            opacity=0,\n",
    "            popup=folium.Popup(number(data, country['name'], measure)), # The texts also depends on the number\n",
    "            control=False\n",
    "        ).add_to(world)\n",
    "        \n",
    "    return world"
   ]
  },
  {
   "cell_type": "code",
   "execution_count": 8,
   "metadata": {
    "collapsed": true
   },
   "outputs": [],
   "source": [
    "# Getting the mixed data\n",
    "matched = pd.read_csv('matched_df.csv', encoding='utf-8')\n",
    "\n",
    "# The reaction is the sum of tweets and retweets for each country\n",
    "reaction_per_country = matched.drop('Unnamed: 0', axis=1).groupby(by='country', as_index=False).sum()[['country', 'frequency']]\n",
    "reaction_per_country = reaction_per_country.rename(columns={'frequency':'number'})\n",
    "\n",
    "reaction_per_country.country = reaction_per_country.country.map(lambda c: map_[c] if c in map_.keys() else c)"
   ]
  },
  {
   "cell_type": "code",
   "execution_count": 14,
   "metadata": {},
   "outputs": [
    {
     "name": "stdout",
     "output_type": "stream",
     "text": [
      "We have 1574 registered attacks from January 1st, 2011 to January 31st, 2016\n"
     ]
    }
   ],
   "source": [
    "# Getting the wiki data\n",
    "df = pd.read_csv('attacks.csv', encoding='utf-8', parse_dates=[0])\n",
    "print('We have {} registered attacks from January 1st, 2011 to January 31st, 2016'.format(df[df.date < date(2016, 1, 31)].shape[0]))\n",
    "\n",
    "# Grouping by country, summing for the number of deaths\n",
    "attacks_per_country = df[df.date < date(2016, 1, 31)].groupby(by=['country'], as_index=False).count()[['country', 'date']]\n",
    "attacks_per_country = pd.DataFrame(attacks_per_country.sort_values(by=['country'])).rename(columns={'date': 'number'})\n",
    "\n",
    "# Changing the names to what we want\n",
    "attacks_per_country.country = attacks_per_country.country.map(lambda c: map_[c] if c in map_.keys() else c)"
   ]
  },
  {
   "cell_type": "code",
   "execution_count": 15,
   "metadata": {},
   "outputs": [],
   "source": [
    "build_map(attacks_per_country, 'attacks', '#ff0000').save('attacks_2011_2016.html')"
   ]
  },
  {
   "cell_type": "code",
   "execution_count": 13,
   "metadata": {},
   "outputs": [],
   "source": [
    "build_map(reaction_per_country, 'tweets', '#00aced').save('reaction_2011_2016.html')"
   ]
  }
 ],
 "metadata": {
  "kernelspec": {
   "display_name": "Python 3",
   "language": "python",
   "name": "python3"
  },
  "language_info": {
   "codemirror_mode": {
    "name": "ipython",
    "version": 3
   },
   "file_extension": ".py",
   "mimetype": "text/x-python",
   "name": "python",
   "nbconvert_exporter": "python",
   "pygments_lexer": "ipython3",
   "version": "3.6.1"
  }
 },
 "nbformat": 4,
 "nbformat_minor": 2
}
