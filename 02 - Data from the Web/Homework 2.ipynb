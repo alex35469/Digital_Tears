{
 "cells": [
  {
   "cell_type": "markdown",
   "metadata": {},
   "source": [
    "# ADA Homework 2"
   ]
  },
  {
   "cell_type": "code",
   "execution_count": 60,
   "metadata": {
    "collapsed": true
   },
   "outputs": [],
   "source": [
    "# Import libraries\n",
    "import requests\n",
    "import pandas as pd\n",
    "from bs4 import BeautifulSoup"
   ]
  },
  {
   "cell_type": "code",
   "execution_count": 76,
   "metadata": {
    "collapsed": true
   },
   "outputs": [],
   "source": [
    "base_URL = 'https://www.topuniversities.com'"
   ]
  },
  {
   "cell_type": "code",
   "execution_count": 77,
   "metadata": {
    "collapsed": true
   },
   "outputs": [],
   "source": [
    "false_URL = '/university-rankings/world-university-rankings/2018'\n",
    "rank_URL = '/sites/default/files/qs-rankings-data/357051.txt'"
   ]
  },
  {
   "cell_type": "markdown",
   "metadata": {},
   "source": [
    "-----------------------"
   ]
  },
  {
   "cell_type": "markdown",
   "metadata": {},
   "source": [
    "This part shows how we first tried to treat the data but realised that the data was not retrievable from the `false_url`"
   ]
  },
  {
   "cell_type": "code",
   "execution_count": 78,
   "metadata": {
    "collapsed": true
   },
   "outputs": [],
   "source": [
    "# Make the request\n",
    "r = requests.get(base_URL + false_URL)\n",
    "body = r.text"
   ]
  },
  {
   "cell_type": "code",
   "execution_count": 64,
   "metadata": {
    "collapsed": true
   },
   "outputs": [],
   "source": [
    "# Extract the header\n",
    "soup = BeautifulSoup(body, 'html.parser')\n",
    "soup.h1"
   ]
  },
  {
   "cell_type": "code",
   "execution_count": 65,
   "metadata": {
    "collapsed": true
   },
   "outputs": [],
   "source": [
    "links = soup.find_all('a')\n",
    "interesting_links = []"
   ]
  },
  {
   "cell_type": "code",
   "execution_count": 66,
   "metadata": {},
   "outputs": [
    {
     "data": {
      "text/plain": [
       "[]"
      ]
     },
     "execution_count": 66,
     "metadata": {},
     "output_type": "execute_result"
    }
   ],
   "source": [
    "for link in links:\n",
    "    if (not link.get('href') is None and link.get('href').startswith('/universities')):\n",
    "        interesting_links.append(link)\n",
    "\n",
    "interesting_links"
   ]
  },
  {
   "cell_type": "code",
   "execution_count": 67,
   "metadata": {
    "scrolled": true
   },
   "outputs": [
    {
     "data": {
      "text/plain": [
       "[]"
      ]
     },
     "execution_count": 67,
     "metadata": {},
     "output_type": "execute_result"
    }
   ],
   "source": [
    "links"
   ]
  },
  {
   "cell_type": "markdown",
   "metadata": {},
   "source": [
    "------------"
   ]
  },
  {
   "cell_type": "code",
   "execution_count": 82,
   "metadata": {
    "collapsed": true
   },
   "outputs": [],
   "source": [
    "r = requests.get(base_URL + rank_URL)"
   ]
  },
  {
   "cell_type": "code",
   "execution_count": 83,
   "metadata": {},
   "outputs": [
    {
     "data": {
      "text/plain": [
       "dict"
      ]
     },
     "execution_count": 83,
     "metadata": {},
     "output_type": "execute_result"
    }
   ],
   "source": [
    "type(r.json())"
   ]
  },
  {
   "cell_type": "code",
   "execution_count": 88,
   "metadata": {
    "collapsed": true
   },
   "outputs": [],
   "source": [
    "json = r.json()\n",
    "data = json['data'][:200]"
   ]
  },
  {
   "cell_type": "code",
   "execution_count": 261,
   "metadata": {
    "collapsed": true
   },
   "outputs": [],
   "source": [
    "def get_info(url):\n",
    "    req = requests.get(base_URL + url)\n",
    "    body = req.text\n",
    "    soup = BeautifulSoup(body, 'html.parser')\n",
    "    return soup.findAll('div', {'class': 'number'})"
   ]
  },
  {
   "cell_type": "code",
   "execution_count": 262,
   "metadata": {
    "collapsed": true
   },
   "outputs": [],
   "source": [
    "def parse_int(s):\n",
    "    return int(''.join(c for c in s if c.isdigit()))"
   ]
  },
  {
   "cell_type": "code",
   "execution_count": 288,
   "metadata": {
    "collapsed": true
   },
   "outputs": [],
   "source": [
    "def put_names(l):\n",
    "    d = {}\n",
    "    names = ['staff total', 'staff international', 'students total', 'students international']\n",
    "    for i in range(4):\n",
    "        if i < len(l):\n",
    "            d[names[i]] = l[i]\n",
    "        else:\n",
    "            d[names[i]] = 0\n",
    "    return d"
   ]
  },
  {
   "cell_type": "code",
   "execution_count": 289,
   "metadata": {
    "collapsed": true
   },
   "outputs": [],
   "source": [
    "def treat(url):\n",
    "    numbers = [parse_int(div.text) for div in get_info(url)][:4]\n",
    "    return put_names(numbers)"
   ]
  },
  {
   "cell_type": "code",
   "execution_count": 290,
   "metadata": {
    "collapsed": true
   },
   "outputs": [],
   "source": [
    "useful_data = []\n",
    "for uni in data:\n",
    "    useful_data.append({'name': uni['title'], 'country': uni['country'], 'region': uni['region'],'rank': uni['rank_display'], 'url': uni['url']})"
   ]
  },
  {
   "cell_type": "code",
   "execution_count": 291,
   "metadata": {},
   "outputs": [
    {
     "data": {
      "text/plain": [
       "[{'country': 'United States',\n",
       "  'name': 'Massachusetts Institute of Technology (MIT)',\n",
       "  'rank': '1',\n",
       "  'region': 'North America',\n",
       "  'url': '/universities/massachusetts-institute-technology-mit'},\n",
       " {'country': 'United States',\n",
       "  'name': 'Stanford University',\n",
       "  'rank': '2',\n",
       "  'region': 'North America',\n",
       "  'url': '/universities/stanford-university'},\n",
       " {'country': 'United States',\n",
       "  'name': 'Harvard University',\n",
       "  'rank': '3',\n",
       "  'region': 'North America',\n",
       "  'url': '/universities/harvard-university'},\n",
       " {'country': 'United States',\n",
       "  'name': 'California Institute of Technology (Caltech)',\n",
       "  'rank': '4',\n",
       "  'region': 'North America',\n",
       "  'url': '/universities/california-institute-technology-caltech'},\n",
       " {'country': 'United Kingdom',\n",
       "  'name': 'University of Cambridge',\n",
       "  'rank': '5',\n",
       "  'region': 'Europe',\n",
       "  'url': '/universities/university-cambridge'}]"
      ]
     },
     "execution_count": 291,
     "metadata": {},
     "output_type": "execute_result"
    }
   ],
   "source": [
    "useful_data[:5]"
   ]
  },
  {
   "cell_type": "code",
   "execution_count": 292,
   "metadata": {
    "collapsed": true
   },
   "outputs": [],
   "source": [
    "cop = useful_data.copy()"
   ]
  },
  {
   "cell_type": "code",
   "execution_count": 293,
   "metadata": {},
   "outputs": [
    {
     "data": {
      "text/plain": [
       "{'staff international': 1679,\n",
       " 'staff total': 2982,\n",
       " 'students international': 3717,\n",
       " 'students total': 11067}"
      ]
     },
     "execution_count": 293,
     "metadata": {},
     "output_type": "execute_result"
    }
   ],
   "source": [
    "treat(cop[0]['url'])"
   ]
  },
  {
   "cell_type": "code",
   "execution_count": 294,
   "metadata": {
    "collapsed": true
   },
   "outputs": [],
   "source": [
    "cop[0].update(treat(cop[0]['url']))"
   ]
  },
  {
   "cell_type": "code",
   "execution_count": 295,
   "metadata": {},
   "outputs": [
    {
     "data": {
      "text/plain": [
       "{'country': 'United States',\n",
       " 'name': 'Massachusetts Institute of Technology (MIT)',\n",
       " 'rank': '1',\n",
       " 'region': 'North America',\n",
       " 'staff international': 1679,\n",
       " 'staff total': 2982,\n",
       " 'students international': 3717,\n",
       " 'students total': 11067,\n",
       " 'url': '/universities/massachusetts-institute-technology-mit'}"
      ]
     },
     "execution_count": 295,
     "metadata": {},
     "output_type": "execute_result"
    }
   ],
   "source": [
    "cop[0]"
   ]
  },
  {
   "cell_type": "markdown",
   "metadata": {},
   "source": [
    "__Dislaimer:__ This takes quite some time as it opens 200 connections (one for each university in the table)"
   ]
  },
  {
   "cell_type": "code",
   "execution_count": 296,
   "metadata": {
    "collapsed": true
   },
   "outputs": [],
   "source": [
    "for i in range(len(useful_data)):\n",
    "    useful_data[i].update(treat(useful_data[i]['url']))"
   ]
  },
  {
   "cell_type": "code",
   "execution_count": 297,
   "metadata": {},
   "outputs": [
    {
     "data": {
      "text/html": [
       "<div>\n",
       "<style>\n",
       "    .dataframe thead tr:only-child th {\n",
       "        text-align: right;\n",
       "    }\n",
       "\n",
       "    .dataframe thead th {\n",
       "        text-align: left;\n",
       "    }\n",
       "\n",
       "    .dataframe tbody tr th {\n",
       "        vertical-align: top;\n",
       "    }\n",
       "</style>\n",
       "<table border=\"1\" class=\"dataframe\">\n",
       "  <thead>\n",
       "    <tr style=\"text-align: right;\">\n",
       "      <th></th>\n",
       "      <th>country</th>\n",
       "      <th>name</th>\n",
       "      <th>rank</th>\n",
       "      <th>region</th>\n",
       "      <th>staff international</th>\n",
       "      <th>staff total</th>\n",
       "      <th>students international</th>\n",
       "      <th>students total</th>\n",
       "    </tr>\n",
       "  </thead>\n",
       "  <tbody>\n",
       "    <tr>\n",
       "      <th>0</th>\n",
       "      <td>United States</td>\n",
       "      <td>Massachusetts Institute of Technology (MIT)</td>\n",
       "      <td>1</td>\n",
       "      <td>North America</td>\n",
       "      <td>1679</td>\n",
       "      <td>2982</td>\n",
       "      <td>3717</td>\n",
       "      <td>11067</td>\n",
       "    </tr>\n",
       "    <tr>\n",
       "      <th>1</th>\n",
       "      <td>United States</td>\n",
       "      <td>Stanford University</td>\n",
       "      <td>2</td>\n",
       "      <td>North America</td>\n",
       "      <td>2042</td>\n",
       "      <td>4285</td>\n",
       "      <td>3611</td>\n",
       "      <td>15878</td>\n",
       "    </tr>\n",
       "    <tr>\n",
       "      <th>2</th>\n",
       "      <td>United States</td>\n",
       "      <td>Harvard University</td>\n",
       "      <td>3</td>\n",
       "      <td>North America</td>\n",
       "      <td>1311</td>\n",
       "      <td>4350</td>\n",
       "      <td>5266</td>\n",
       "      <td>22429</td>\n",
       "    </tr>\n",
       "    <tr>\n",
       "      <th>3</th>\n",
       "      <td>United States</td>\n",
       "      <td>California Institute of Technology (Caltech)</td>\n",
       "      <td>4</td>\n",
       "      <td>North America</td>\n",
       "      <td>350</td>\n",
       "      <td>953</td>\n",
       "      <td>647</td>\n",
       "      <td>2255</td>\n",
       "    </tr>\n",
       "    <tr>\n",
       "      <th>4</th>\n",
       "      <td>United Kingdom</td>\n",
       "      <td>University of Cambridge</td>\n",
       "      <td>5</td>\n",
       "      <td>Europe</td>\n",
       "      <td>2278</td>\n",
       "      <td>5490</td>\n",
       "      <td>6699</td>\n",
       "      <td>18770</td>\n",
       "    </tr>\n",
       "    <tr>\n",
       "      <th>5</th>\n",
       "      <td>United Kingdom</td>\n",
       "      <td>University of Oxford</td>\n",
       "      <td>6</td>\n",
       "      <td>Europe</td>\n",
       "      <td>2964</td>\n",
       "      <td>6750</td>\n",
       "      <td>7353</td>\n",
       "      <td>19720</td>\n",
       "    </tr>\n",
       "    <tr>\n",
       "      <th>6</th>\n",
       "      <td>United Kingdom</td>\n",
       "      <td>UCL (University College London)</td>\n",
       "      <td>7</td>\n",
       "      <td>Europe</td>\n",
       "      <td>2554</td>\n",
       "      <td>6345</td>\n",
       "      <td>14854</td>\n",
       "      <td>31080</td>\n",
       "    </tr>\n",
       "    <tr>\n",
       "      <th>7</th>\n",
       "      <td>United Kingdom</td>\n",
       "      <td>Imperial College London</td>\n",
       "      <td>8</td>\n",
       "      <td>Europe</td>\n",
       "      <td>2071</td>\n",
       "      <td>3930</td>\n",
       "      <td>8746</td>\n",
       "      <td>16090</td>\n",
       "    </tr>\n",
       "    <tr>\n",
       "      <th>8</th>\n",
       "      <td>United States</td>\n",
       "      <td>University of Chicago</td>\n",
       "      <td>9</td>\n",
       "      <td>North America</td>\n",
       "      <td>635</td>\n",
       "      <td>2449</td>\n",
       "      <td>3379</td>\n",
       "      <td>13557</td>\n",
       "    </tr>\n",
       "    <tr>\n",
       "      <th>9</th>\n",
       "      <td>Switzerland</td>\n",
       "      <td>ETH Zurich - Swiss Federal Institute of Techno...</td>\n",
       "      <td>10</td>\n",
       "      <td>Europe</td>\n",
       "      <td>1886</td>\n",
       "      <td>2477</td>\n",
       "      <td>7563</td>\n",
       "      <td>19815</td>\n",
       "    </tr>\n",
       "    <tr>\n",
       "      <th>10</th>\n",
       "      <td>Singapore</td>\n",
       "      <td>Nanyang Technological University, Singapore (NTU)</td>\n",
       "      <td>11</td>\n",
       "      <td>Asia</td>\n",
       "      <td>2993</td>\n",
       "      <td>4338</td>\n",
       "      <td>7251</td>\n",
       "      <td>25738</td>\n",
       "    </tr>\n",
       "    <tr>\n",
       "      <th>11</th>\n",
       "      <td>Switzerland</td>\n",
       "      <td>Ecole Polytechnique Fédérale de Lausanne (EPFL)</td>\n",
       "      <td>12</td>\n",
       "      <td>Europe</td>\n",
       "      <td>1300</td>\n",
       "      <td>1695</td>\n",
       "      <td>5896</td>\n",
       "      <td>10343</td>\n",
       "    </tr>\n",
       "  </tbody>\n",
       "</table>\n",
       "</div>"
      ],
      "text/plain": [
       "           country                                               name rank  \\\n",
       "0    United States        Massachusetts Institute of Technology (MIT)    1   \n",
       "1    United States                                Stanford University    2   \n",
       "2    United States                                 Harvard University    3   \n",
       "3    United States       California Institute of Technology (Caltech)    4   \n",
       "4   United Kingdom                            University of Cambridge    5   \n",
       "5   United Kingdom                               University of Oxford    6   \n",
       "6   United Kingdom                    UCL (University College London)    7   \n",
       "7   United Kingdom                            Imperial College London    8   \n",
       "8    United States                              University of Chicago    9   \n",
       "9      Switzerland  ETH Zurich - Swiss Federal Institute of Techno...   10   \n",
       "10       Singapore  Nanyang Technological University, Singapore (NTU)   11   \n",
       "11     Switzerland    Ecole Polytechnique Fédérale de Lausanne (EPFL)   12   \n",
       "\n",
       "           region  staff international  staff total  students international  \\\n",
       "0   North America                 1679         2982                    3717   \n",
       "1   North America                 2042         4285                    3611   \n",
       "2   North America                 1311         4350                    5266   \n",
       "3   North America                  350          953                     647   \n",
       "4          Europe                 2278         5490                    6699   \n",
       "5          Europe                 2964         6750                    7353   \n",
       "6          Europe                 2554         6345                   14854   \n",
       "7          Europe                 2071         3930                    8746   \n",
       "8   North America                  635         2449                    3379   \n",
       "9          Europe                 1886         2477                    7563   \n",
       "10           Asia                 2993         4338                    7251   \n",
       "11         Europe                 1300         1695                    5896   \n",
       "\n",
       "    students total  \n",
       "0            11067  \n",
       "1            15878  \n",
       "2            22429  \n",
       "3             2255  \n",
       "4            18770  \n",
       "5            19720  \n",
       "6            31080  \n",
       "7            16090  \n",
       "8            13557  \n",
       "9            19815  \n",
       "10           25738  \n",
       "11           10343  "
      ]
     },
     "execution_count": 297,
     "metadata": {},
     "output_type": "execute_result"
    }
   ],
   "source": [
    "ranking_df = pd.DataFrame(useful_data)\n",
    "ranking_df.drop('url', axis=1).head(12)"
   ]
  },
  {
   "cell_type": "code",
   "execution_count": null,
   "metadata": {
    "collapsed": true
   },
   "outputs": [],
   "source": []
  }
 ],
 "metadata": {
  "kernelspec": {
   "display_name": "Python 3",
   "language": "python",
   "name": "python3"
  },
  "language_info": {
   "codemirror_mode": {
    "name": "ipython",
    "version": 3
   },
   "file_extension": ".py",
   "mimetype": "text/x-python",
   "name": "python",
   "nbconvert_exporter": "python",
   "pygments_lexer": "ipython3",
   "version": "3.6.1"
  }
 },
 "nbformat": 4,
 "nbformat_minor": 2
}
