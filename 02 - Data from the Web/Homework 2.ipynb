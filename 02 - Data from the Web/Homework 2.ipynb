{
 "cells": [
  {
   "cell_type": "markdown",
   "metadata": {},
   "source": [
    "# ADA Homework 2"
   ]
  },
  {
   "cell_type": "code",
   "execution_count": 297,
   "metadata": {
    "collapsed": true
   },
   "outputs": [],
   "source": [
    "# Import libraries\n",
    "import requests\n",
    "import pandas as pd\n",
    "from bs4 import BeautifulSoup\n",
    "%matplotlib inline"
   ]
  },
  {
   "cell_type": "code",
   "execution_count": 298,
   "metadata": {
    "collapsed": true
   },
   "outputs": [],
   "source": [
    "#URL we used to scrap Top Unsiversities and Times Higher Eduction web sites\n",
    "tu_base_URL = 'https://www.topuniversities.com'\n",
    "the_base_URL = 'http://www.timeshighereducation.com'\n",
    "\n",
    "tu_rank_URL = '/sites/default/files/qs-rankings-data/357051.txt'\n",
    "the_rank_URL = '/sites/default/files/the_data_rankings/world_university_rankings_2018_limit0_369a9045a203e176392b9fb8f8c1cb2a.json'"
   ]
  },
  {
   "cell_type": "markdown",
   "metadata": {},
   "source": [
    "-----------------------"
   ]
  },
  {
   "cell_type": "markdown",
   "metadata": {},
   "source": [
    "## Part 1\n",
    "### Top Univerities Scraping\n",
    "Analyzing the traffic on the API of the server, we realized that most of the information that we need lies in a file which we can find at the `rank_URL` ([link](https://www.topuniversities.com/sites/default/files/qs-rankings-data/357051.txt))"
   ]
  },
  {
   "cell_type": "code",
   "execution_count": 299,
   "metadata": {
    "collapsed": true
   },
   "outputs": [],
   "source": [
    "tu_r = requests.get(tu_base_URL + tu_rank_URL)"
   ]
  },
  {
   "cell_type": "code",
   "execution_count": 301,
   "metadata": {
    "collapsed": true
   },
   "outputs": [],
   "source": [
    "tu_json = tu_r.json()\n",
    "tu_data = tu_json['data'][:200]"
   ]
  },
  {
   "cell_type": "markdown",
   "metadata": {},
   "source": [
    "Here is a look at what one entry of the data looks like"
   ]
  },
  {
   "cell_type": "code",
   "execution_count": 302,
   "metadata": {},
   "outputs": [
    {
     "data": {
      "text/plain": [
       "{'cc': 'US',\n",
       " 'core_id': '410',\n",
       " 'country': 'United States',\n",
       " 'guide': '<a href=\"/where-to-study/north-america/united-states/guide\" class=\"guide-link\" target=\"_blank\">United States</a>',\n",
       " 'logo': '<img src=\"https://www.topuniversities.com/sites/default/files/massachusetts-institute-of-technology-mit_410_small_0.jpg\" alt=\"Massachusetts Institute of Technology (MIT)  Logo\">',\n",
       " 'nid': '294850',\n",
       " 'rank_display': '1',\n",
       " 'region': 'North America',\n",
       " 'score': '100',\n",
       " 'stars': '6',\n",
       " 'title': 'Massachusetts Institute of Technology (MIT)',\n",
       " 'url': '/universities/massachusetts-institute-technology-mit'}"
      ]
     },
     "execution_count": 302,
     "metadata": {},
     "output_type": "execute_result"
    }
   ],
   "source": [
    "tu_data[0]"
   ]
  },
  {
   "cell_type": "markdown",
   "metadata": {},
   "source": [
    "Now we get the information we need for each university in the list, i.e. the name, country, region, rank and its url (in order to get the stats later)"
   ]
  },
  {
   "cell_type": "code",
   "execution_count": 303,
   "metadata": {
    "collapsed": true
   },
   "outputs": [],
   "source": [
    "tu_useful_data = []\n",
    "for uni in tu_data:\n",
    "    # We get the info we needed from the big json data file. We keep the name, country, region rank and url of each university\n",
    "    tu_useful_data.append({'name': uni['title'], 'country': uni['country'], 'region': uni['region'],'rank': uni['rank_display'], 'url': uni['url']})"
   ]
  },
  {
   "cell_type": "markdown",
   "metadata": {},
   "source": [
    "Now one entry looks like this"
   ]
  },
  {
   "cell_type": "code",
   "execution_count": 304,
   "metadata": {
    "scrolled": true
   },
   "outputs": [
    {
     "data": {
      "text/plain": [
       "{'country': 'United States',\n",
       " 'name': 'Massachusetts Institute of Technology (MIT)',\n",
       " 'rank': '1',\n",
       " 'region': 'North America',\n",
       " 'url': '/universities/massachusetts-institute-technology-mit'}"
      ]
     },
     "execution_count": 304,
     "metadata": {},
     "output_type": "execute_result"
    }
   ],
   "source": [
    "tu_useful_data[0]"
   ]
  },
  {
   "cell_type": "markdown",
   "metadata": {},
   "source": [
    "Here are some helper functions to treat the stats we can get on the individual university pages"
   ]
  },
  {
   "cell_type": "code",
   "execution_count": 305,
   "metadata": {
    "collapsed": true
   },
   "outputs": [],
   "source": [
    "def parse_int(s):\n",
    "    '''Parses an int from a string that may contain commas or any letter. It retains the concatenation of all digits in the string'''\n",
    "    return int(''.join(c for c in s if c.isdigit()))"
   ]
  },
  {
   "cell_type": "code",
   "execution_count": 306,
   "metadata": {
    "collapsed": true
   },
   "outputs": [],
   "source": [
    "def to_number(div):\n",
    "    '''Returns what number is contained in a div (NaN if the object is None)'''\n",
    "    if div is None:\n",
    "        # This is a special case where the numbers are not on the page (for the NYU)\n",
    "        return float('NaN')\n",
    "    else:\n",
    "        return parse_int(div.text)"
   ]
  },
  {
   "cell_type": "markdown",
   "metadata": {},
   "source": [
    "In the next function we see that we use some div classes that correspond to statistics we want. These classes have been recovered with a Google Chrome plugin named SelectorGadget which lets you see the class for a given element in a webpage"
   ]
  },
  {
   "cell_type": "code",
   "execution_count": 307,
   "metadata": {
    "collapsed": true
   },
   "outputs": [],
   "source": [
    "def get_numbers_tu(url):\n",
    "    req = requests.get(tu_base_URL + url)\n",
    "    body = req.text\n",
    "    soup = BeautifulSoup(body, 'html.parser')\n",
    "\n",
    "    # The names that we want in our DataFrame\n",
    "    names = ['staff_tot', 'staff_int', 'student_tot', 'student_int']\n",
    "    # The div classes for each statistic we want\n",
    "    div_classes = ['.total .text .number', '.inter .text .number', '.student .number', '.inter .progress-bar-info .number']\n",
    "    numbers = {}\n",
    "    \n",
    "    for i in range(len(div_classes)):\n",
    "        numbers[names[i]] = to_number(soup.select_one(div_classes[i]))\n",
    "        \n",
    "    return numbers"
   ]
  },
  {
   "cell_type": "markdown",
   "metadata": {},
   "source": [
    "We will show how we operate on the first university in the ranking"
   ]
  },
  {
   "cell_type": "code",
   "execution_count": 308,
   "metadata": {
    "collapsed": true
   },
   "outputs": [],
   "source": [
    "cop = tu_useful_data.copy()"
   ]
  },
  {
   "cell_type": "code",
   "execution_count": 309,
   "metadata": {},
   "outputs": [
    {
     "data": {
      "text/plain": [
       "{'country': 'United States',\n",
       " 'name': 'Massachusetts Institute of Technology (MIT)',\n",
       " 'rank': '1',\n",
       " 'region': 'North America',\n",
       " 'url': '/universities/massachusetts-institute-technology-mit'}"
      ]
     },
     "execution_count": 309,
     "metadata": {},
     "output_type": "execute_result"
    }
   ],
   "source": [
    "cop[0]"
   ]
  },
  {
   "cell_type": "code",
   "execution_count": 310,
   "metadata": {},
   "outputs": [
    {
     "data": {
      "text/plain": [
       "{'staff_int': 1679,\n",
       " 'staff_tot': 2982,\n",
       " 'student_int': 3717,\n",
       " 'student_tot': 11067}"
      ]
     },
     "execution_count": 310,
     "metadata": {},
     "output_type": "execute_result"
    }
   ],
   "source": [
    "get_numbers_tu(cop[0]['url'])"
   ]
  },
  {
   "cell_type": "markdown",
   "metadata": {},
   "source": [
    "We can put everything in the current line of the `cop` with the method `update`"
   ]
  },
  {
   "cell_type": "code",
   "execution_count": 311,
   "metadata": {},
   "outputs": [
    {
     "data": {
      "text/plain": [
       "{'country': 'United States',\n",
       " 'name': 'Massachusetts Institute of Technology (MIT)',\n",
       " 'rank': '1',\n",
       " 'region': 'North America',\n",
       " 'staff_int': 1679,\n",
       " 'staff_tot': 2982,\n",
       " 'student_int': 3717,\n",
       " 'student_tot': 11067,\n",
       " 'url': '/universities/massachusetts-institute-technology-mit'}"
      ]
     },
     "execution_count": 311,
     "metadata": {},
     "output_type": "execute_result"
    }
   ],
   "source": [
    "cop[0].update(get_numbers_tu(cop[0]['url']))\n",
    "cop[0]"
   ]
  },
  {
   "cell_type": "markdown",
   "metadata": {},
   "source": [
    "__Warning__ the next step takes quite some time as it opens 200 requests"
   ]
  },
  {
   "cell_type": "markdown",
   "metadata": {},
   "source": [
    "Now we do this for every university in our data"
   ]
  },
  {
   "cell_type": "code",
   "execution_count": 312,
   "metadata": {
    "collapsed": true
   },
   "outputs": [],
   "source": [
    "for i in range(len(tu_useful_data)):\n",
    "    tu_useful_data[i].update(get_numbers_tu(tu_useful_data[i]['url']))"
   ]
  },
  {
   "cell_type": "markdown",
   "metadata": {},
   "source": [
    "We get rid off the url and we transform the data into a `DataFrame`"
   ]
  },
  {
   "cell_type": "code",
   "execution_count": 313,
   "metadata": {},
   "outputs": [
    {
     "data": {
      "text/html": [
       "<div>\n",
       "<style>\n",
       "    .dataframe thead tr:only-child th {\n",
       "        text-align: right;\n",
       "    }\n",
       "\n",
       "    .dataframe thead th {\n",
       "        text-align: left;\n",
       "    }\n",
       "\n",
       "    .dataframe tbody tr th {\n",
       "        vertical-align: top;\n",
       "    }\n",
       "</style>\n",
       "<table border=\"1\" class=\"dataframe\">\n",
       "  <thead>\n",
       "    <tr style=\"text-align: right;\">\n",
       "      <th></th>\n",
       "      <th>country</th>\n",
       "      <th>name</th>\n",
       "      <th>rank</th>\n",
       "      <th>region</th>\n",
       "      <th>staff_int</th>\n",
       "      <th>staff_tot</th>\n",
       "      <th>student_int</th>\n",
       "      <th>student_tot</th>\n",
       "    </tr>\n",
       "  </thead>\n",
       "  <tbody>\n",
       "    <tr>\n",
       "      <th>0</th>\n",
       "      <td>United States</td>\n",
       "      <td>Massachusetts Institute of Technology (MIT)</td>\n",
       "      <td>1</td>\n",
       "      <td>North America</td>\n",
       "      <td>1679.0</td>\n",
       "      <td>2982.0</td>\n",
       "      <td>3717.0</td>\n",
       "      <td>11067.0</td>\n",
       "    </tr>\n",
       "    <tr>\n",
       "      <th>1</th>\n",
       "      <td>United States</td>\n",
       "      <td>Stanford University</td>\n",
       "      <td>2</td>\n",
       "      <td>North America</td>\n",
       "      <td>2042.0</td>\n",
       "      <td>4285.0</td>\n",
       "      <td>3611.0</td>\n",
       "      <td>15878.0</td>\n",
       "    </tr>\n",
       "    <tr>\n",
       "      <th>2</th>\n",
       "      <td>United States</td>\n",
       "      <td>Harvard University</td>\n",
       "      <td>3</td>\n",
       "      <td>North America</td>\n",
       "      <td>1311.0</td>\n",
       "      <td>4350.0</td>\n",
       "      <td>5266.0</td>\n",
       "      <td>22429.0</td>\n",
       "    </tr>\n",
       "    <tr>\n",
       "      <th>3</th>\n",
       "      <td>United States</td>\n",
       "      <td>California Institute of Technology (Caltech)</td>\n",
       "      <td>4</td>\n",
       "      <td>North America</td>\n",
       "      <td>350.0</td>\n",
       "      <td>953.0</td>\n",
       "      <td>647.0</td>\n",
       "      <td>2255.0</td>\n",
       "    </tr>\n",
       "    <tr>\n",
       "      <th>4</th>\n",
       "      <td>United Kingdom</td>\n",
       "      <td>University of Cambridge</td>\n",
       "      <td>5</td>\n",
       "      <td>Europe</td>\n",
       "      <td>2278.0</td>\n",
       "      <td>5490.0</td>\n",
       "      <td>6699.0</td>\n",
       "      <td>18770.0</td>\n",
       "    </tr>\n",
       "    <tr>\n",
       "      <th>5</th>\n",
       "      <td>United Kingdom</td>\n",
       "      <td>University of Oxford</td>\n",
       "      <td>6</td>\n",
       "      <td>Europe</td>\n",
       "      <td>2964.0</td>\n",
       "      <td>6750.0</td>\n",
       "      <td>7353.0</td>\n",
       "      <td>19720.0</td>\n",
       "    </tr>\n",
       "    <tr>\n",
       "      <th>6</th>\n",
       "      <td>United Kingdom</td>\n",
       "      <td>UCL (University College London)</td>\n",
       "      <td>7</td>\n",
       "      <td>Europe</td>\n",
       "      <td>2554.0</td>\n",
       "      <td>6345.0</td>\n",
       "      <td>14854.0</td>\n",
       "      <td>31080.0</td>\n",
       "    </tr>\n",
       "    <tr>\n",
       "      <th>7</th>\n",
       "      <td>United Kingdom</td>\n",
       "      <td>Imperial College London</td>\n",
       "      <td>8</td>\n",
       "      <td>Europe</td>\n",
       "      <td>2071.0</td>\n",
       "      <td>3930.0</td>\n",
       "      <td>8746.0</td>\n",
       "      <td>16090.0</td>\n",
       "    </tr>\n",
       "    <tr>\n",
       "      <th>8</th>\n",
       "      <td>United States</td>\n",
       "      <td>University of Chicago</td>\n",
       "      <td>9</td>\n",
       "      <td>North America</td>\n",
       "      <td>635.0</td>\n",
       "      <td>2449.0</td>\n",
       "      <td>3379.0</td>\n",
       "      <td>13557.0</td>\n",
       "    </tr>\n",
       "    <tr>\n",
       "      <th>9</th>\n",
       "      <td>Switzerland</td>\n",
       "      <td>ETH Zurich - Swiss Federal Institute of Techno...</td>\n",
       "      <td>10</td>\n",
       "      <td>Europe</td>\n",
       "      <td>1886.0</td>\n",
       "      <td>2477.0</td>\n",
       "      <td>7563.0</td>\n",
       "      <td>19815.0</td>\n",
       "    </tr>\n",
       "    <tr>\n",
       "      <th>10</th>\n",
       "      <td>Singapore</td>\n",
       "      <td>Nanyang Technological University, Singapore (NTU)</td>\n",
       "      <td>11</td>\n",
       "      <td>Asia</td>\n",
       "      <td>2993.0</td>\n",
       "      <td>4338.0</td>\n",
       "      <td>7251.0</td>\n",
       "      <td>25738.0</td>\n",
       "    </tr>\n",
       "    <tr>\n",
       "      <th>11</th>\n",
       "      <td>Switzerland</td>\n",
       "      <td>Ecole Polytechnique Fédérale de Lausanne (EPFL)</td>\n",
       "      <td>12</td>\n",
       "      <td>Europe</td>\n",
       "      <td>1300.0</td>\n",
       "      <td>1695.0</td>\n",
       "      <td>5896.0</td>\n",
       "      <td>10343.0</td>\n",
       "    </tr>\n",
       "  </tbody>\n",
       "</table>\n",
       "</div>"
      ],
      "text/plain": [
       "           country                                               name rank  \\\n",
       "0    United States        Massachusetts Institute of Technology (MIT)    1   \n",
       "1    United States                                Stanford University    2   \n",
       "2    United States                                 Harvard University    3   \n",
       "3    United States       California Institute of Technology (Caltech)    4   \n",
       "4   United Kingdom                            University of Cambridge    5   \n",
       "5   United Kingdom                               University of Oxford    6   \n",
       "6   United Kingdom                    UCL (University College London)    7   \n",
       "7   United Kingdom                            Imperial College London    8   \n",
       "8    United States                              University of Chicago    9   \n",
       "9      Switzerland  ETH Zurich - Swiss Federal Institute of Techno...   10   \n",
       "10       Singapore  Nanyang Technological University, Singapore (NTU)   11   \n",
       "11     Switzerland    Ecole Polytechnique Fédérale de Lausanne (EPFL)   12   \n",
       "\n",
       "           region  staff_int  staff_tot  student_int  student_tot  \n",
       "0   North America     1679.0     2982.0       3717.0      11067.0  \n",
       "1   North America     2042.0     4285.0       3611.0      15878.0  \n",
       "2   North America     1311.0     4350.0       5266.0      22429.0  \n",
       "3   North America      350.0      953.0        647.0       2255.0  \n",
       "4          Europe     2278.0     5490.0       6699.0      18770.0  \n",
       "5          Europe     2964.0     6750.0       7353.0      19720.0  \n",
       "6          Europe     2554.0     6345.0      14854.0      31080.0  \n",
       "7          Europe     2071.0     3930.0       8746.0      16090.0  \n",
       "8   North America      635.0     2449.0       3379.0      13557.0  \n",
       "9          Europe     1886.0     2477.0       7563.0      19815.0  \n",
       "10           Asia     2993.0     4338.0       7251.0      25738.0  \n",
       "11         Europe     1300.0     1695.0       5896.0      10343.0  "
      ]
     },
     "execution_count": 313,
     "metadata": {},
     "output_type": "execute_result"
    }
   ],
   "source": [
    "ranking_tu = pd.DataFrame(tu_useful_data).drop('url', axis=1)\n",
    "ranking_tu.head(12)"
   ]
  },
  {
   "cell_type": "markdown",
   "metadata": {},
   "source": [
    "Saving for later use without having to recompute everything"
   ]
  },
  {
   "cell_type": "code",
   "execution_count": 314,
   "metadata": {
    "collapsed": true
   },
   "outputs": [],
   "source": [
    "ranking_tu.to_csv('topuniversities.csv', encoding='utf-8', index=False)"
   ]
  },
  {
   "cell_type": "code",
   "execution_count": 315,
   "metadata": {
    "collapsed": true
   },
   "outputs": [],
   "source": [
    "ranking_tu = pd.read_csv('topuniversities.csv');"
   ]
  },
  {
   "cell_type": "markdown",
   "metadata": {},
   "source": [
    "### Top Universities Data Wrangling \n",
    "\n",
    "#### a) & b)\n",
    "\n",
    "Transforming the rank into an `int` (which means getting rid of the = when ties occured but this works as well without it)"
   ]
  },
  {
   "cell_type": "code",
   "execution_count": 316,
   "metadata": {
    "collapsed": true
   },
   "outputs": [],
   "source": [
    "ranking_tu['rank'] = ranking_tu['rank'].map(parse_int)"
   ]
  },
  {
   "cell_type": "markdown",
   "metadata": {},
   "source": [
    "Computing the required stats"
   ]
  },
  {
   "cell_type": "code",
   "execution_count": 317,
   "metadata": {
    "collapsed": true
   },
   "outputs": [],
   "source": [
    "ranking_tu['student_rat'] = ranking_tu['student_int'] / ranking_tu['student_tot']\n",
    "ranking_tu['student_staff_rat'] = ranking_tu['student_tot'] / ranking_tu['staff_tot']"
   ]
  },
  {
   "cell_type": "markdown",
   "metadata": {},
   "source": [
    "Sorting the `DataFrame` to show the best university in terms of the ratio of number of students to number of staff"
   ]
  },
  {
   "cell_type": "code",
   "execution_count": 318,
   "metadata": {},
   "outputs": [
    {
     "data": {
      "text/html": [
       "<div>\n",
       "<style>\n",
       "    .dataframe thead tr:only-child th {\n",
       "        text-align: right;\n",
       "    }\n",
       "\n",
       "    .dataframe thead th {\n",
       "        text-align: left;\n",
       "    }\n",
       "\n",
       "    .dataframe tbody tr th {\n",
       "        vertical-align: top;\n",
       "    }\n",
       "</style>\n",
       "<table border=\"1\" class=\"dataframe\">\n",
       "  <thead>\n",
       "    <tr style=\"text-align: right;\">\n",
       "      <th></th>\n",
       "      <th>country</th>\n",
       "      <th>name</th>\n",
       "      <th>rank</th>\n",
       "      <th>region</th>\n",
       "      <th>staff_int</th>\n",
       "      <th>staff_tot</th>\n",
       "      <th>student_int</th>\n",
       "      <th>student_tot</th>\n",
       "      <th>student_rat</th>\n",
       "      <th>student_staff_rat</th>\n",
       "    </tr>\n",
       "  </thead>\n",
       "  <tbody>\n",
       "    <tr>\n",
       "      <th>3</th>\n",
       "      <td>United States</td>\n",
       "      <td>California Institute of Technology (Caltech)</td>\n",
       "      <td>4</td>\n",
       "      <td>North America</td>\n",
       "      <td>350.0</td>\n",
       "      <td>953.0</td>\n",
       "      <td>647.0</td>\n",
       "      <td>2255.0</td>\n",
       "      <td>0.286918</td>\n",
       "      <td>2.366212</td>\n",
       "    </tr>\n",
       "    <tr>\n",
       "      <th>15</th>\n",
       "      <td>United States</td>\n",
       "      <td>Yale University</td>\n",
       "      <td>16</td>\n",
       "      <td>North America</td>\n",
       "      <td>1708.0</td>\n",
       "      <td>4940.0</td>\n",
       "      <td>2469.0</td>\n",
       "      <td>12402.0</td>\n",
       "      <td>0.199081</td>\n",
       "      <td>2.510526</td>\n",
       "    </tr>\n",
       "    <tr>\n",
       "      <th>5</th>\n",
       "      <td>United Kingdom</td>\n",
       "      <td>University of Oxford</td>\n",
       "      <td>6</td>\n",
       "      <td>Europe</td>\n",
       "      <td>2964.0</td>\n",
       "      <td>6750.0</td>\n",
       "      <td>7353.0</td>\n",
       "      <td>19720.0</td>\n",
       "      <td>0.372870</td>\n",
       "      <td>2.921481</td>\n",
       "    </tr>\n",
       "  </tbody>\n",
       "</table>\n",
       "</div>"
      ],
      "text/plain": [
       "           country                                          name  rank  \\\n",
       "3    United States  California Institute of Technology (Caltech)     4   \n",
       "15   United States                               Yale University    16   \n",
       "5   United Kingdom                          University of Oxford     6   \n",
       "\n",
       "           region  staff_int  staff_tot  student_int  student_tot  \\\n",
       "3   North America      350.0      953.0        647.0       2255.0   \n",
       "15  North America     1708.0     4940.0       2469.0      12402.0   \n",
       "5          Europe     2964.0     6750.0       7353.0      19720.0   \n",
       "\n",
       "    student_rat  student_staff_rat  \n",
       "3      0.286918           2.366212  \n",
       "15     0.199081           2.510526  \n",
       "5      0.372870           2.921481  "
      ]
     },
     "execution_count": 318,
     "metadata": {},
     "output_type": "execute_result"
    }
   ],
   "source": [
    "ranking_tu.sort_values(['student_staff_rat']).head(3)"
   ]
  },
  {
   "cell_type": "markdown",
   "metadata": {},
   "source": [
    "Sorting the `DataFrame` to show the best university in terms of the ratio of international to total number of students"
   ]
  },
  {
   "cell_type": "code",
   "execution_count": 319,
   "metadata": {
    "scrolled": true
   },
   "outputs": [
    {
     "data": {
      "text/html": [
       "<div>\n",
       "<style>\n",
       "    .dataframe thead tr:only-child th {\n",
       "        text-align: right;\n",
       "    }\n",
       "\n",
       "    .dataframe thead th {\n",
       "        text-align: left;\n",
       "    }\n",
       "\n",
       "    .dataframe tbody tr th {\n",
       "        vertical-align: top;\n",
       "    }\n",
       "</style>\n",
       "<table border=\"1\" class=\"dataframe\">\n",
       "  <thead>\n",
       "    <tr style=\"text-align: right;\">\n",
       "      <th></th>\n",
       "      <th>country</th>\n",
       "      <th>name</th>\n",
       "      <th>rank</th>\n",
       "      <th>region</th>\n",
       "      <th>staff_int</th>\n",
       "      <th>staff_tot</th>\n",
       "      <th>student_int</th>\n",
       "      <th>student_tot</th>\n",
       "      <th>student_rat</th>\n",
       "      <th>student_staff_rat</th>\n",
       "    </tr>\n",
       "  </thead>\n",
       "  <tbody>\n",
       "    <tr>\n",
       "      <th>34</th>\n",
       "      <td>United Kingdom</td>\n",
       "      <td>London School of Economics and Political Scien...</td>\n",
       "      <td>35</td>\n",
       "      <td>Europe</td>\n",
       "      <td>687.0</td>\n",
       "      <td>1088.0</td>\n",
       "      <td>6748.0</td>\n",
       "      <td>9760.0</td>\n",
       "      <td>0.691393</td>\n",
       "      <td>8.970588</td>\n",
       "    </tr>\n",
       "    <tr>\n",
       "      <th>11</th>\n",
       "      <td>Switzerland</td>\n",
       "      <td>Ecole Polytechnique Fédérale de Lausanne (EPFL)</td>\n",
       "      <td>12</td>\n",
       "      <td>Europe</td>\n",
       "      <td>1300.0</td>\n",
       "      <td>1695.0</td>\n",
       "      <td>5896.0</td>\n",
       "      <td>10343.0</td>\n",
       "      <td>0.570047</td>\n",
       "      <td>6.102065</td>\n",
       "    </tr>\n",
       "    <tr>\n",
       "      <th>7</th>\n",
       "      <td>United Kingdom</td>\n",
       "      <td>Imperial College London</td>\n",
       "      <td>8</td>\n",
       "      <td>Europe</td>\n",
       "      <td>2071.0</td>\n",
       "      <td>3930.0</td>\n",
       "      <td>8746.0</td>\n",
       "      <td>16090.0</td>\n",
       "      <td>0.543567</td>\n",
       "      <td>4.094148</td>\n",
       "    </tr>\n",
       "  </tbody>\n",
       "</table>\n",
       "</div>"
      ],
      "text/plain": [
       "           country                                               name  rank  \\\n",
       "34  United Kingdom  London School of Economics and Political Scien...    35   \n",
       "11     Switzerland    Ecole Polytechnique Fédérale de Lausanne (EPFL)    12   \n",
       "7   United Kingdom                            Imperial College London     8   \n",
       "\n",
       "    region  staff_int  staff_tot  student_int  student_tot  student_rat  \\\n",
       "34  Europe      687.0     1088.0       6748.0       9760.0     0.691393   \n",
       "11  Europe     1300.0     1695.0       5896.0      10343.0     0.570047   \n",
       "7   Europe     2071.0     3930.0       8746.0      16090.0     0.543567   \n",
       "\n",
       "    student_staff_rat  \n",
       "34           8.970588  \n",
       "11           6.102065  \n",
       "7            4.094148  "
      ]
     },
     "execution_count": 319,
     "metadata": {},
     "output_type": "execute_result"
    }
   ],
   "source": [
    "ranking_tu.sort_values(['student_rat'], ascending=False).head(3)"
   ]
  },
  {
   "cell_type": "markdown",
   "metadata": {},
   "source": [
    "\n",
    "#### c) & d)\n",
    "\n",
    "We process the data through a groupby over `region` and `country`. when then take the mean and select what we want from our functon `bar_plot`"
   ]
  },
  {
   "cell_type": "code",
   "execution_count": 320,
   "metadata": {
    "collapsed": true
   },
   "outputs": [],
   "source": [
    "ranking_tu_by_region = ranking_tu.groupby(['region']).mean()\n",
    "ranking_tu_by_country = ranking_tu.groupby(['country']).mean()"
   ]
  },
  {
   "cell_type": "code",
   "execution_count": 321,
   "metadata": {
    "collapsed": true
   },
   "outputs": [],
   "source": [
    "import seaborn as sns\n",
    "import matplotlib.pyplot as plt"
   ]
  },
  {
   "cell_type": "markdown",
   "metadata": {},
   "source": [
    "Helper function to plot a given column (`y`) of a given `DataFrame` (`data`)"
   ]
  },
  {
   "cell_type": "code",
   "execution_count": 322,
   "metadata": {
    "collapsed": true
   },
   "outputs": [],
   "source": [
    "def bar_plot(data, title, y, x='', rotation=0, sort=False, ascending=True):\n",
    "    fig, ax = plt.subplots()\n",
    "    ax.set_title(title, fontsize=15, fontweight='bold')\n",
    "    if sort:\n",
    "        ax = sns.barplot(data.sort_values([y], ascending=ascending)[y].keys(), data.sort_values([y], ascending=ascending)[y], ax=ax)\n",
    "    else:\n",
    "        ax = sns.barplot(data[y].keys(), data[y], ax=ax)\n",
    "    locs, labels = plt.xticks()\n",
    "    ax.set(xlabel=x, ylabel=y)\n",
    "    plt.setp(labels, rotation=rotation)\n",
    "    plt.show()"
   ]
  },
  {
   "cell_type": "code",
   "execution_count": 323,
   "metadata": {},
   "outputs": [
    {
     "data": {
      "image/png": "[encoded data removed]",
      "text/plain": [
       "<matplotlib.figure.Figure at 0x123bfbfd0>"
      ]
     },
     "metadata": {},
     "output_type": "display_data"
    }
   ],
   "source": [
    "bar_plot(ranking_tu_by_country, 'Ratio of international to total students per country', 'student_rat', rotation=90, sort = True)"
   ]
  },
  {
   "cell_type": "markdown",
   "metadata": {},
   "source": [
    "We see clearly that in India there are not a lot of international students compare to the other countries. But it's important to keep in mind that our graph only includes the top 200 universities. And for exemple in india we only juged the number of international students according to only 3 different indian universities. The average of international student in india could be bigger. Even though we don't think so since there is a correlation between number of international student and ranking of the school. see task 3 below"
   ]
  },
  {
   "cell_type": "code",
   "execution_count": 324,
   "metadata": {},
   "outputs": [
    {
     "data": {
      "image/png": "[encoded data removed]",
      "text/plain": [
       "<matplotlib.figure.Figure at 0x124c0ed30>"
      ]
     },
     "metadata": {},
     "output_type": "display_data"
    }
   ],
   "source": [
    "bar_plot(ranking_the_by_region, 'Students to staff ratio per region', 'student_staff_rat', sort= True)"
   ]
  },
  {
   "cell_type": "markdown",
   "metadata": {},
   "source": [
    "The overall results shows us that Oceania are the worst and Africa the best. But here again, it's just from the top 200 universties."
   ]
  },
  {
   "cell_type": "markdown",
   "metadata": {
    "collapsed": true
   },
   "source": [
    "---------------------"
   ]
  },
  {
   "cell_type": "markdown",
   "metadata": {},
   "source": [
    "## Part 2\n",
    "\n",
    "### Times Higher Eduction Scarping\n",
    "\n",
    "We will restart what we have done for the other ranking"
   ]
  },
  {
   "cell_type": "code",
   "execution_count": 325,
   "metadata": {
    "collapsed": true
   },
   "outputs": [],
   "source": [
    "the_r = requests.get(the_base_URL + the_rank_URL)"
   ]
  },
  {
   "cell_type": "code",
   "execution_count": 326,
   "metadata": {},
   "outputs": [
    {
     "data": {
      "text/plain": [
       "dict"
      ]
     },
     "execution_count": 326,
     "metadata": {},
     "output_type": "execute_result"
    }
   ],
   "source": [
    "type(the_r.json())"
   ]
  },
  {
   "cell_type": "code",
   "execution_count": 327,
   "metadata": {
    "collapsed": true
   },
   "outputs": [],
   "source": [
    "the_json = the_r.json()\n",
    "the_data = the_json['data'][:200]"
   ]
  },
  {
   "cell_type": "markdown",
   "metadata": {},
   "source": [
    "Taking a peek at what the data looks like for each university. Here we can see that we already get the stats we want"
   ]
  },
  {
   "cell_type": "code",
   "execution_count": 328,
   "metadata": {},
   "outputs": [
    {
     "data": {
      "text/plain": [
       "{'aliases': 'University of Oxford',\n",
       " 'location': 'United Kingdom',\n",
       " 'member_level': '0',\n",
       " 'name': 'University of Oxford',\n",
       " 'nid': 468,\n",
       " 'rank': '1',\n",
       " 'rank_order': '10',\n",
       " 'record_type': 'master_account',\n",
       " 'scores_citations': '99.1',\n",
       " 'scores_citations_rank': '15',\n",
       " 'scores_industry_income': '63.7',\n",
       " 'scores_industry_income_rank': '169',\n",
       " 'scores_international_outlook': '95.0',\n",
       " 'scores_international_outlook_rank': '24',\n",
       " 'scores_overall': '94.3',\n",
       " 'scores_overall_rank': '10',\n",
       " 'scores_research': '99.5',\n",
       " 'scores_research_rank': '1',\n",
       " 'scores_teaching': '86.7',\n",
       " 'scores_teaching_rank': '5',\n",
       " 'stats_female_male_ratio': '46 : 54',\n",
       " 'stats_number_students': '20,409',\n",
       " 'stats_pc_intl_students': '38%',\n",
       " 'stats_student_staff_ratio': '11.2',\n",
       " 'subjects_offered': 'Archaeology,Art, Performing Arts & Design,Biological Sciences,Business & Management,Chemical Engineering,Chemistry,Civil Engineering,Computer Science,Economics & Econometrics,Electrical & Electronic Engineering,General Engineering,Geography,Geology, Environmental, Earth & Marine Sciences,History, Philosophy & Theology,Languages, Literatures and Linguistics,Law,Mathematics & Statistics,Mechanical & Aerospace Engineering,Medicine & Dentistry,Physics & Astronomy,Psychology',\n",
       " 'url': '/world-university-rankings/university-oxford'}"
      ]
     },
     "execution_count": 328,
     "metadata": {},
     "output_type": "execute_result"
    }
   ],
   "source": [
    "the_data[0]"
   ]
  },
  {
   "cell_type": "markdown",
   "metadata": {},
   "source": [
    "Keeping the data we need just as before, but we can get the stats directly now, so we no longer need the url"
   ]
  },
  {
   "cell_type": "code",
   "execution_count": 329,
   "metadata": {
    "collapsed": true
   },
   "outputs": [],
   "source": [
    "the_useful_data = []\n",
    "for uni in the_data:\n",
    "    the_useful_data.append({'name': uni['name'], 'rank': uni['rank'], 'country': uni['location'], 'student_tot': uni['stats_number_students'], 'student_staff_rat': float(uni['stats_student_staff_ratio']), 'student_rat': parse_int(uni['stats_pc_intl_students']) / 100})"
   ]
  },
  {
   "cell_type": "markdown",
   "metadata": {},
   "source": [
    "Transforming the data into a nice `DataFrame`"
   ]
  },
  {
   "cell_type": "code",
   "execution_count": 330,
   "metadata": {},
   "outputs": [
    {
     "data": {
      "text/html": [
       "<div>\n",
       "<style>\n",
       "    .dataframe thead tr:only-child th {\n",
       "        text-align: right;\n",
       "    }\n",
       "\n",
       "    .dataframe thead th {\n",
       "        text-align: left;\n",
       "    }\n",
       "\n",
       "    .dataframe tbody tr th {\n",
       "        vertical-align: top;\n",
       "    }\n",
       "</style>\n",
       "<table border=\"1\" class=\"dataframe\">\n",
       "  <thead>\n",
       "    <tr style=\"text-align: right;\">\n",
       "      <th></th>\n",
       "      <th>country</th>\n",
       "      <th>name</th>\n",
       "      <th>rank</th>\n",
       "      <th>student_rat</th>\n",
       "      <th>student_staff_rat</th>\n",
       "      <th>student_tot</th>\n",
       "    </tr>\n",
       "  </thead>\n",
       "  <tbody>\n",
       "    <tr>\n",
       "      <th>0</th>\n",
       "      <td>United Kingdom</td>\n",
       "      <td>University of Oxford</td>\n",
       "      <td>1</td>\n",
       "      <td>0.38</td>\n",
       "      <td>11.2</td>\n",
       "      <td>20,409</td>\n",
       "    </tr>\n",
       "    <tr>\n",
       "      <th>1</th>\n",
       "      <td>United Kingdom</td>\n",
       "      <td>University of Cambridge</td>\n",
       "      <td>2</td>\n",
       "      <td>0.35</td>\n",
       "      <td>10.9</td>\n",
       "      <td>18,389</td>\n",
       "    </tr>\n",
       "    <tr>\n",
       "      <th>2</th>\n",
       "      <td>United States</td>\n",
       "      <td>California Institute of Technology</td>\n",
       "      <td>3</td>\n",
       "      <td>0.27</td>\n",
       "      <td>6.5</td>\n",
       "      <td>2,209</td>\n",
       "    </tr>\n",
       "    <tr>\n",
       "      <th>3</th>\n",
       "      <td>United States</td>\n",
       "      <td>Stanford University</td>\n",
       "      <td>3</td>\n",
       "      <td>0.22</td>\n",
       "      <td>7.5</td>\n",
       "      <td>15,845</td>\n",
       "    </tr>\n",
       "    <tr>\n",
       "      <th>4</th>\n",
       "      <td>United States</td>\n",
       "      <td>Massachusetts Institute of Technology</td>\n",
       "      <td>5</td>\n",
       "      <td>0.34</td>\n",
       "      <td>8.7</td>\n",
       "      <td>11,177</td>\n",
       "    </tr>\n",
       "  </tbody>\n",
       "</table>\n",
       "</div>"
      ],
      "text/plain": [
       "          country                                   name  rank  student_rat  \\\n",
       "0  United Kingdom                   University of Oxford     1         0.38   \n",
       "1  United Kingdom                University of Cambridge     2         0.35   \n",
       "2   United States     California Institute of Technology     3         0.27   \n",
       "3   United States                    Stanford University     3         0.22   \n",
       "4   United States  Massachusetts Institute of Technology     5         0.34   \n",
       "\n",
       "   student_staff_rat student_tot  \n",
       "0               11.2      20,409  \n",
       "1               10.9      18,389  \n",
       "2                6.5       2,209  \n",
       "3                7.5      15,845  \n",
       "4                8.7      11,177  "
      ]
     },
     "execution_count": 330,
     "metadata": {},
     "output_type": "execute_result"
    }
   ],
   "source": [
    "ranking_the = pd.DataFrame(the_useful_data)\n",
    "ranking_the['rank'] = ranking_the['rank'].map(parse_int)\n",
    "ranking_the.head()"
   ]
  },
  {
   "cell_type": "markdown",
   "metadata": {},
   "source": [
    "Saving the `DataFrame` for later use"
   ]
  },
  {
   "cell_type": "code",
   "execution_count": 331,
   "metadata": {
    "collapsed": true
   },
   "outputs": [],
   "source": [
    "ranking_the.to_csv('timeshighereducation.csv', encoding='utf-8', index=False)"
   ]
  },
  {
   "cell_type": "markdown",
   "metadata": {},
   "source": [
    "### Data wrangling for Times Higher Eductions\n",
    "\n",
    "Since the data region is missing in the first ranking, we proceed as follow\n",
    "From the first ranking we generate a `dict` from the country to the region that we applied to the second ranking"
   ]
  },
  {
   "cell_type": "code",
   "execution_count": 332,
   "metadata": {
    "collapsed": true
   },
   "outputs": [],
   "source": [
    "c = ranking_tu[['country','region']].drop_duplicates()\n",
    "c = c.set_index(\"country\")\n",
    "map_country_region = c.T.to_dict(orient='records')[0]\n",
    "\n",
    "#Handeling special case\n",
    "map_country_region.update({\"Luxembourg\":\"Europe\",\"Russian Federation\":\"Europe\"})\n",
    "ranking_the[\"region\"] = ranking_the[\"country\"].map(map_country_region)"
   ]
  },
  {
   "cell_type": "markdown",
   "metadata": {},
   "source": [
    "#### a) & b)\n",
    "\n",
    "Since we already have the value of student to staff ratio i.e. `student_staff_rat` , and the percentage of international student. i.e.`student_rat`. We just have to sort them to find the best one."
   ]
  },
  {
   "cell_type": "code",
   "execution_count": 333,
   "metadata": {},
   "outputs": [
    {
     "data": {
      "text/html": [
       "<div>\n",
       "<style>\n",
       "    .dataframe thead tr:only-child th {\n",
       "        text-align: right;\n",
       "    }\n",
       "\n",
       "    .dataframe thead th {\n",
       "        text-align: left;\n",
       "    }\n",
       "\n",
       "    .dataframe tbody tr th {\n",
       "        vertical-align: top;\n",
       "    }\n",
       "</style>\n",
       "<table border=\"1\" class=\"dataframe\">\n",
       "  <thead>\n",
       "    <tr style=\"text-align: right;\">\n",
       "      <th></th>\n",
       "      <th>country</th>\n",
       "      <th>name</th>\n",
       "      <th>rank</th>\n",
       "      <th>student_rat</th>\n",
       "      <th>student_staff_rat</th>\n",
       "      <th>student_tot</th>\n",
       "      <th>region</th>\n",
       "    </tr>\n",
       "  </thead>\n",
       "  <tbody>\n",
       "    <tr>\n",
       "      <th>105</th>\n",
       "      <td>United States</td>\n",
       "      <td>Vanderbilt University</td>\n",
       "      <td>105</td>\n",
       "      <td>0.13</td>\n",
       "      <td>3.3</td>\n",
       "      <td>12,011</td>\n",
       "      <td>North America</td>\n",
       "    </tr>\n",
       "    <tr>\n",
       "      <th>109</th>\n",
       "      <td>Denmark</td>\n",
       "      <td>University of Copenhagen</td>\n",
       "      <td>109</td>\n",
       "      <td>0.14</td>\n",
       "      <td>4.1</td>\n",
       "      <td>30,395</td>\n",
       "      <td>Europe</td>\n",
       "    </tr>\n",
       "    <tr>\n",
       "      <th>12</th>\n",
       "      <td>United States</td>\n",
       "      <td>Johns Hopkins University</td>\n",
       "      <td>13</td>\n",
       "      <td>0.24</td>\n",
       "      <td>4.3</td>\n",
       "      <td>15,498</td>\n",
       "      <td>North America</td>\n",
       "    </tr>\n",
       "  </tbody>\n",
       "</table>\n",
       "</div>"
      ],
      "text/plain": [
       "           country                      name  rank  student_rat  \\\n",
       "105  United States     Vanderbilt University   105         0.13   \n",
       "109        Denmark  University of Copenhagen   109         0.14   \n",
       "12   United States  Johns Hopkins University    13         0.24   \n",
       "\n",
       "     student_staff_rat student_tot         region  \n",
       "105                3.3      12,011  North America  \n",
       "109                4.1      30,395         Europe  \n",
       "12                 4.3      15,498  North America  "
      ]
     },
     "execution_count": 333,
     "metadata": {},
     "output_type": "execute_result"
    }
   ],
   "source": [
    "ranking_the.sort_values('student_staff_rat', ascending = True).head(3)"
   ]
  },
  {
   "cell_type": "markdown",
   "metadata": {},
   "source": [
    "Curiously, we notice that the worst 5 of this ranking implies just german universities (But it's ok since they are on the top 200):"
   ]
  },
  {
   "cell_type": "code",
   "execution_count": 334,
   "metadata": {},
   "outputs": [
    {
     "data": {
      "text/html": [
       "<div>\n",
       "<style>\n",
       "    .dataframe thead tr:only-child th {\n",
       "        text-align: right;\n",
       "    }\n",
       "\n",
       "    .dataframe thead th {\n",
       "        text-align: left;\n",
       "    }\n",
       "\n",
       "    .dataframe tbody tr th {\n",
       "        vertical-align: top;\n",
       "    }\n",
       "</style>\n",
       "<table border=\"1\" class=\"dataframe\">\n",
       "  <thead>\n",
       "    <tr style=\"text-align: right;\">\n",
       "      <th></th>\n",
       "      <th>country</th>\n",
       "      <th>name</th>\n",
       "      <th>rank</th>\n",
       "      <th>student_rat</th>\n",
       "      <th>student_staff_rat</th>\n",
       "      <th>student_tot</th>\n",
       "      <th>region</th>\n",
       "    </tr>\n",
       "  </thead>\n",
       "  <tbody>\n",
       "    <tr>\n",
       "      <th>99</th>\n",
       "      <td>Germany</td>\n",
       "      <td>University of Bonn</td>\n",
       "      <td>100</td>\n",
       "      <td>0.13</td>\n",
       "      <td>77.9</td>\n",
       "      <td>35,619</td>\n",
       "      <td>Europe</td>\n",
       "    </tr>\n",
       "    <tr>\n",
       "      <th>124</th>\n",
       "      <td>Germany</td>\n",
       "      <td>University of Mannheim</td>\n",
       "      <td>125</td>\n",
       "      <td>0.16</td>\n",
       "      <td>74.5</td>\n",
       "      <td>10,995</td>\n",
       "      <td>Europe</td>\n",
       "    </tr>\n",
       "    <tr>\n",
       "      <th>91</th>\n",
       "      <td>Germany</td>\n",
       "      <td>Technical University of Berlin</td>\n",
       "      <td>92</td>\n",
       "      <td>0.20</td>\n",
       "      <td>64.3</td>\n",
       "      <td>22,390</td>\n",
       "      <td>Europe</td>\n",
       "    </tr>\n",
       "    <tr>\n",
       "      <th>163</th>\n",
       "      <td>Germany</td>\n",
       "      <td>University of Erlangen-Nuremberg</td>\n",
       "      <td>162</td>\n",
       "      <td>0.12</td>\n",
       "      <td>58.5</td>\n",
       "      <td>38,730</td>\n",
       "      <td>Europe</td>\n",
       "    </tr>\n",
       "    <tr>\n",
       "      <th>78</th>\n",
       "      <td>Germany</td>\n",
       "      <td>RWTH Aachen University</td>\n",
       "      <td>79</td>\n",
       "      <td>0.18</td>\n",
       "      <td>57.7</td>\n",
       "      <td>43,721</td>\n",
       "      <td>Europe</td>\n",
       "    </tr>\n",
       "  </tbody>\n",
       "</table>\n",
       "</div>"
      ],
      "text/plain": [
       "     country                              name  rank  student_rat  \\\n",
       "99   Germany                University of Bonn   100         0.13   \n",
       "124  Germany            University of Mannheim   125         0.16   \n",
       "91   Germany    Technical University of Berlin    92         0.20   \n",
       "163  Germany  University of Erlangen-Nuremberg   162         0.12   \n",
       "78   Germany            RWTH Aachen University    79         0.18   \n",
       "\n",
       "     student_staff_rat student_tot  region  \n",
       "99                77.9      35,619  Europe  \n",
       "124               74.5      10,995  Europe  \n",
       "91                64.3      22,390  Europe  \n",
       "163               58.5      38,730  Europe  \n",
       "78                57.7      43,721  Europe  "
      ]
     },
     "execution_count": 334,
     "metadata": {},
     "output_type": "execute_result"
    }
   ],
   "source": [
    "ranking_the.sort_values('student_staff_rat', ascending = False).head()"
   ]
  },
  {
   "cell_type": "markdown",
   "metadata": {},
   "source": [
    "Now let's look at the top ranking concerning the percentage of international student"
   ]
  },
  {
   "cell_type": "code",
   "execution_count": 335,
   "metadata": {},
   "outputs": [
    {
     "data": {
      "text/html": [
       "<div>\n",
       "<style>\n",
       "    .dataframe thead tr:only-child th {\n",
       "        text-align: right;\n",
       "    }\n",
       "\n",
       "    .dataframe thead th {\n",
       "        text-align: left;\n",
       "    }\n",
       "\n",
       "    .dataframe tbody tr th {\n",
       "        vertical-align: top;\n",
       "    }\n",
       "</style>\n",
       "<table border=\"1\" class=\"dataframe\">\n",
       "  <thead>\n",
       "    <tr style=\"text-align: right;\">\n",
       "      <th></th>\n",
       "      <th>country</th>\n",
       "      <th>name</th>\n",
       "      <th>rank</th>\n",
       "      <th>student_rat</th>\n",
       "      <th>student_staff_rat</th>\n",
       "      <th>student_tot</th>\n",
       "      <th>region</th>\n",
       "    </tr>\n",
       "  </thead>\n",
       "  <tbody>\n",
       "    <tr>\n",
       "      <th>24</th>\n",
       "      <td>United Kingdom</td>\n",
       "      <td>London School of Economics and Political Science</td>\n",
       "      <td>25</td>\n",
       "      <td>0.71</td>\n",
       "      <td>12.2</td>\n",
       "      <td>10,065</td>\n",
       "      <td>Europe</td>\n",
       "    </tr>\n",
       "    <tr>\n",
       "      <th>178</th>\n",
       "      <td>Luxembourg</td>\n",
       "      <td>University of Luxembourg</td>\n",
       "      <td>179</td>\n",
       "      <td>0.57</td>\n",
       "      <td>14.6</td>\n",
       "      <td>4,969</td>\n",
       "      <td>Europe</td>\n",
       "    </tr>\n",
       "    <tr>\n",
       "      <th>37</th>\n",
       "      <td>Switzerland</td>\n",
       "      <td>École Polytechnique Fédérale de Lausanne</td>\n",
       "      <td>38</td>\n",
       "      <td>0.55</td>\n",
       "      <td>11.2</td>\n",
       "      <td>9,928</td>\n",
       "      <td>Europe</td>\n",
       "    </tr>\n",
       "  </tbody>\n",
       "</table>\n",
       "</div>"
      ],
      "text/plain": [
       "            country                                              name  rank  \\\n",
       "24   United Kingdom  London School of Economics and Political Science    25   \n",
       "178      Luxembourg                          University of Luxembourg   179   \n",
       "37      Switzerland          École Polytechnique Fédérale de Lausanne    38   \n",
       "\n",
       "     student_rat  student_staff_rat student_tot  region  \n",
       "24          0.71               12.2      10,065  Europe  \n",
       "178         0.57               14.6       4,969  Europe  \n",
       "37          0.55               11.2       9,928  Europe  "
      ]
     },
     "execution_count": 335,
     "metadata": {},
     "output_type": "execute_result"
    }
   ],
   "source": [
    "ranking_the.sort_values('student_rat', ascending = False).head(3)"
   ]
  },
  {
   "cell_type": "markdown",
   "metadata": {},
   "source": [
    "Nicely we see EPFL at the 3rd position"
   ]
  },
  {
   "cell_type": "markdown",
   "metadata": {},
   "source": [
    "#### c) & d)\n",
    "\n",
    "As before"
   ]
  },
  {
   "cell_type": "code",
   "execution_count": 336,
   "metadata": {
    "collapsed": true
   },
   "outputs": [],
   "source": [
    "ranking_the_by_region = ranking_the.groupby(['region']).mean()\n",
    "ranking_the_by_country = ranking_the.groupby(['country']).mean()"
   ]
  },
  {
   "cell_type": "code",
   "execution_count": 337,
   "metadata": {},
   "outputs": [
    {
     "data": {
      "image/png": "[encoded data removed]",
      "text/plain": [
       "<matplotlib.figure.Figure at 0x11ea04a20>"
      ]
     },
     "metadata": {},
     "output_type": "display_data"
    }
   ],
   "source": [
    "bar_plot(ranking_the_by_country, 'Ratio of international to total students per country', 'student_rat', rotation=90, sort=True)"
   ]
  },
  {
   "cell_type": "markdown",
   "metadata": {},
   "source": [
    "At first glance we could think that this graph is very different from the other. This is just due to Luxembourg that  enters in the top 200. Luxembourg is well known to be a small country and thus would be more likely to have a high ratio of international student. This rescale the student_rat axis and made the other countries relativly small and not having a big difference between them. "
   ]
  },
  {
   "cell_type": "code",
   "execution_count": 338,
   "metadata": {},
   "outputs": [
    {
     "data": {
      "image/png": "[encoded data removed]",
      "text/plain": [
       "<matplotlib.figure.Figure at 0x11ea04390>"
      ]
     },
     "metadata": {},
     "output_type": "display_data"
    }
   ],
   "source": [
    "bar_plot(ranking_the_by_region, 'Students to staff ratio per region', 'student_staff_rat')"
   ]
  },
  {
   "cell_type": "markdown",
   "metadata": {},
   "source": [
    "----------------------"
   ]
  },
  {
   "cell_type": "markdown",
   "metadata": {},
   "source": [
    "### Part 3\n",
    "\n",
    "#### Merging Top Universities and Times Higher Education\n",
    "\n",
    "Here, we declare some usefull function in order to merge the two dataframe according to the name"
   ]
  },
  {
   "cell_type": "code",
   "execution_count": 339,
   "metadata": {},
   "outputs": [
    {
     "data": {
      "text/plain": [
       "'ecolepolytéchnique'"
      ]
     },
     "execution_count": 339,
     "metadata": {},
     "output_type": "execute_result"
    }
   ],
   "source": [
    "import re\n",
    "\n",
    "def keep_letters(s):\n",
    "    return ''.join(c for c in s if c.isalpha())\n",
    "\n",
    "# Here is a map to handle the special case of our\n",
    "def treat_special_cases(name):\n",
    "    equiv = {\n",
    "        'vrijeuniversiteitbrussel': 'universitélibredebruxelles',\n",
    "        'universitédemontréal': 'universityofmontreal',\n",
    "        'ecolepolytechnique': 'écolepolytechnique',\n",
    "        'universitépierreetmariecurie': 'pierreandmariecurieuniversity',\n",
    "        'ludwigmaximiliansuniversitätmünchen': 'lmumunich',\n",
    "        'kitkarlsruheinstituteoftechnology': 'karlsruheinstituteoftechnology',\n",
    "        'humboldtuniversitätzuberlin': 'humboldtuniversityofberlin',\n",
    "        'freieuniversitaetberlin': 'freeuniversityofberlin',\n",
    "        'technischeuniversitätberlin': 'technicaluniversityofberlin',\n",
    "        'eberhardkarlsuniversitättübingen': 'universityoftübingen',\n",
    "        'albertludwigsuniversitaetfreiburg': 'universityoffreiburg',\n",
    "        'trinitycollegedublinuniversityofdublin': 'trinitycollegedublin',\n",
    "        'scuolasuperioresantannapisadistudiuniversitariediperfezionamento': 'scuolasuperioresantanna',\n",
    "        'wageningenuniversity': 'wageningenuniversityresearch',\n",
    "        'kaistkoreaadvancedinstituteofsciencetechnology': 'koreaadvancedinstituteofscienceandtechnology',\n",
    "        'universitatautònomadebarcelona': 'autonomousuniversityofbarcelona',\n",
    "        'ethzurichswissfederalinstituteoftechnology': 'ethzurichswissfederalinstituteoftechnologyzurich',\n",
    "        'ecolepolytechniquefédéraledelausanne': 'écolepolytechniquefédéraledelausanne',\n",
    "        'ucl': 'universitycollegelondon',\n",
    "        'universityofnorthcarolinachapelhill': 'universityofnorthcarolinaatchapelhill'\n",
    "    }\n",
    "    try:\n",
    "        return equiv[name]\n",
    "    except:\n",
    "        return name\n",
    "\n",
    "def norm_name(name):\n",
    "    '''Sets the name to a standard for an easier matching'''\n",
    "    name = name.lower() # Lowercase\n",
    "    name = re.sub('(\\().*?(\\))', '', name) # Gets rid of things in brackets\n",
    "    name = keep_letters(name) # Only keep alphas in string\n",
    "    name = re.sub('the', '', name) # Deletes 'the' from the name \n",
    "    name = treat_special_cases(name) # Special cases we had to find by hand\n",
    "    return name\n",
    "    \n",
    "norm_name('The Ecole - Polytéchnique (EPFL)')\n"
   ]
  },
  {
   "cell_type": "markdown",
   "metadata": {},
   "source": [
    "Normalizing and merging"
   ]
  },
  {
   "cell_type": "code",
   "execution_count": 340,
   "metadata": {
    "collapsed": true
   },
   "outputs": [],
   "source": [
    "ranking_tu['norm_name'] = ranking_tu.name.map(norm_name)\n",
    "ranking_the['norm_name'] = ranking_the.name.map(norm_name)\n",
    "ranking_merge_outer = pd.merge(ranking_tu, ranking_the, how='outer', on=['norm_name','region'], suffixes=('_tu', '_the'))[['country_tu', 'name_tu', 'norm_name', 'country_the', 'name_the']]"
   ]
  },
  {
   "cell_type": "code",
   "execution_count": 352,
   "metadata": {
    "collapsed": true
   },
   "outputs": [],
   "source": [
    "# Universtities that could not find any match\n",
    "still_null = ranking_merge_outer[ranking_merge_outer.isnull().any(axis=1)]\n",
    "\n",
    "still_null = still_null.sort_values(['country_tu', 'country_the'])"
   ]
  },
  {
   "cell_type": "code",
   "execution_count": 353,
   "metadata": {},
   "outputs": [
    {
     "name": "stdout",
     "output_type": "stream",
     "text": [
      "Number of schools that were not in both tables: 80\n"
     ]
    }
   ],
   "source": [
    "print('Number of schools that were not in both tables: {s}'.format(s=still_null.shape[0]))"
   ]
  },
  {
   "cell_type": "code",
   "execution_count": 362,
   "metadata": {
    "collapsed": true
   },
   "outputs": [],
   "source": [
    "ranking_merge = pd.merge(\n",
    "    ranking_tu,\n",
    "    ranking_the,\n",
    "    how='outer',\n",
    "    on=['norm_name', 'country', 'region'],\n",
    "    suffixes=('_tu', '_the')\n",
    ")[['norm_name',\"name_tu\", \"name_the\", 'country', 'region', 'rank_tu', 'rank_the']]"
   ]
  },
  {
   "cell_type": "markdown",
   "metadata": {},
   "source": [
    "Here we present the merged `dataframe` with a combined rank `rank_mean` in which we compute the mean of both of the rank. To be as fair as possible, when a university was not in one of the rank and thus add `nan` as the rank, we set up this `nan` at 201. "
   ]
  },
  {
   "cell_type": "code",
   "execution_count": 374,
   "metadata": {},
   "outputs": [
    {
     "data": {
      "text/html": [
       "<div>\n",
       "<style>\n",
       "    .dataframe thead tr:only-child th {\n",
       "        text-align: right;\n",
       "    }\n",
       "\n",
       "    .dataframe thead th {\n",
       "        text-align: left;\n",
       "    }\n",
       "\n",
       "    .dataframe tbody tr th {\n",
       "        vertical-align: top;\n",
       "    }\n",
       "</style>\n",
       "<table border=\"1\" class=\"dataframe\">\n",
       "  <thead>\n",
       "    <tr style=\"text-align: right;\">\n",
       "      <th></th>\n",
       "      <th>norm_name</th>\n",
       "      <th>name_tu</th>\n",
       "      <th>name_the</th>\n",
       "      <th>country</th>\n",
       "      <th>region</th>\n",
       "      <th>rank_tu</th>\n",
       "      <th>rank_the</th>\n",
       "      <th>rank_mean</th>\n",
       "    </tr>\n",
       "  </thead>\n",
       "  <tbody>\n",
       "    <tr>\n",
       "      <th>154</th>\n",
       "      <td>hanyanguniversity</td>\n",
       "      <td>Hanyang University</td>\n",
       "      <td>NaN</td>\n",
       "      <td>South Korea</td>\n",
       "      <td>Asia</td>\n",
       "      <td>155.0</td>\n",
       "      <td>201.0</td>\n",
       "      <td>178.0</td>\n",
       "    </tr>\n",
       "    <tr>\n",
       "      <th>215</th>\n",
       "      <td>tudresden</td>\n",
       "      <td>NaN</td>\n",
       "      <td>TU Dresden</td>\n",
       "      <td>Germany</td>\n",
       "      <td>Europe</td>\n",
       "      <td>201.0</td>\n",
       "      <td>155.0</td>\n",
       "      <td>178.0</td>\n",
       "    </tr>\n",
       "  </tbody>\n",
       "</table>\n",
       "</div>"
      ],
      "text/plain": [
       "             norm_name             name_tu    name_the      country  region  \\\n",
       "154  hanyanguniversity  Hanyang University         NaN  South Korea    Asia   \n",
       "215          tudresden                 NaN  TU Dresden      Germany  Europe   \n",
       "\n",
       "     rank_tu  rank_the  rank_mean  \n",
       "154    155.0     201.0      178.0  \n",
       "215    201.0     155.0      178.0  "
      ]
     },
     "execution_count": 374,
     "metadata": {},
     "output_type": "execute_result"
    }
   ],
   "source": [
    "ranking_merge['rank_tu'] = ranking_merge.rank_tu.fillna(201)\n",
    "ranking_merge['rank_the'] = ranking_merge.rank_the.fillna(201)\n",
    "\n",
    "ranking_merge['rank_mean'] = ranking_merge[['rank_tu', 'rank_the']].mean(axis=1)\n",
    "ranking_merge.sort_values('rank_mean').iloc[190:192]"
   ]
  },
  {
   "cell_type": "markdown",
   "metadata": {},
   "source": [
    "We finally create a dict to change from the attribut `norm_name` to a nice name attibut. This is done by mapping back from the `norm_name` attributes to the name that were in one of the `name_tu` or `name_the` attributes."
   ]
  },
  {
   "cell_type": "code",
   "execution_count": 368,
   "metadata": {
    "collapsed": true
   },
   "outputs": [],
   "source": [
    "name_only_the = ranking_merge[ranking_merge[\"name_tu\"].isnull()].set_index(\"norm_name\")[\"name_the\"]\n",
    "name_only_tu = ranking_merge[ranking_merge[\"name_tu\"].notnull()].set_index(\"norm_name\")[\"name_tu\"]"
   ]
  },
  {
   "cell_type": "code",
   "execution_count": 369,
   "metadata": {
    "collapsed": true
   },
   "outputs": [],
   "source": [
    "a = name_only_the.to_dict()\n",
    "a.update(name_only_tu.to_dict())"
   ]
  },
  {
   "cell_type": "code",
   "execution_count": 370,
   "metadata": {
    "collapsed": true
   },
   "outputs": [],
   "source": [
    "final_ranking = ranking_merge.copy()\n",
    "final_ranking['name'] = final_ranking[\"norm_name\"].map(a)\n",
    "final_ranking = final_ranking.drop([\"norm_name\", \"name_tu\",\"name_the\"], axis=1).sort_values(\"rank_mean\")"
   ]
  },
  {
   "cell_type": "code",
   "execution_count": 371,
   "metadata": {},
   "outputs": [
    {
     "data": {
      "text/html": [
       "<div>\n",
       "<style>\n",
       "    .dataframe thead tr:only-child th {\n",
       "        text-align: right;\n",
       "    }\n",
       "\n",
       "    .dataframe thead th {\n",
       "        text-align: left;\n",
       "    }\n",
       "\n",
       "    .dataframe tbody tr th {\n",
       "        vertical-align: top;\n",
       "    }\n",
       "</style>\n",
       "<table border=\"1\" class=\"dataframe\">\n",
       "  <thead>\n",
       "    <tr style=\"text-align: right;\">\n",
       "      <th></th>\n",
       "      <th>country</th>\n",
       "      <th>region</th>\n",
       "      <th>rank_tu</th>\n",
       "      <th>rank_the</th>\n",
       "      <th>rank_mean</th>\n",
       "    </tr>\n",
       "    <tr>\n",
       "      <th>name</th>\n",
       "      <th></th>\n",
       "      <th></th>\n",
       "      <th></th>\n",
       "      <th></th>\n",
       "      <th></th>\n",
       "    </tr>\n",
       "  </thead>\n",
       "  <tbody>\n",
       "    <tr>\n",
       "      <th>Stanford University</th>\n",
       "      <td>United States</td>\n",
       "      <td>North America</td>\n",
       "      <td>2.0</td>\n",
       "      <td>3.0</td>\n",
       "      <td>2.5</td>\n",
       "    </tr>\n",
       "    <tr>\n",
       "      <th>Massachusetts Institute of Technology (MIT)</th>\n",
       "      <td>United States</td>\n",
       "      <td>North America</td>\n",
       "      <td>1.0</td>\n",
       "      <td>5.0</td>\n",
       "      <td>3.0</td>\n",
       "    </tr>\n",
       "    <tr>\n",
       "      <th>California Institute of Technology (Caltech)</th>\n",
       "      <td>United States</td>\n",
       "      <td>North America</td>\n",
       "      <td>4.0</td>\n",
       "      <td>3.0</td>\n",
       "      <td>3.5</td>\n",
       "    </tr>\n",
       "    <tr>\n",
       "      <th>University of Cambridge</th>\n",
       "      <td>United Kingdom</td>\n",
       "      <td>Europe</td>\n",
       "      <td>5.0</td>\n",
       "      <td>2.0</td>\n",
       "      <td>3.5</td>\n",
       "    </tr>\n",
       "    <tr>\n",
       "      <th>University of Oxford</th>\n",
       "      <td>United Kingdom</td>\n",
       "      <td>Europe</td>\n",
       "      <td>6.0</td>\n",
       "      <td>1.0</td>\n",
       "      <td>3.5</td>\n",
       "    </tr>\n",
       "    <tr>\n",
       "      <th>Harvard University</th>\n",
       "      <td>United States</td>\n",
       "      <td>North America</td>\n",
       "      <td>3.0</td>\n",
       "      <td>6.0</td>\n",
       "      <td>4.5</td>\n",
       "    </tr>\n",
       "    <tr>\n",
       "      <th>Imperial College London</th>\n",
       "      <td>United Kingdom</td>\n",
       "      <td>Europe</td>\n",
       "      <td>8.0</td>\n",
       "      <td>8.0</td>\n",
       "      <td>8.0</td>\n",
       "    </tr>\n",
       "    <tr>\n",
       "      <th>University of Chicago</th>\n",
       "      <td>United States</td>\n",
       "      <td>North America</td>\n",
       "      <td>9.0</td>\n",
       "      <td>9.0</td>\n",
       "      <td>9.0</td>\n",
       "    </tr>\n",
       "    <tr>\n",
       "      <th>ETH Zurich - Swiss Federal Institute of Technology</th>\n",
       "      <td>Switzerland</td>\n",
       "      <td>Europe</td>\n",
       "      <td>10.0</td>\n",
       "      <td>10.0</td>\n",
       "      <td>10.0</td>\n",
       "    </tr>\n",
       "    <tr>\n",
       "      <th>Princeton University</th>\n",
       "      <td>United States</td>\n",
       "      <td>North America</td>\n",
       "      <td>13.0</td>\n",
       "      <td>7.0</td>\n",
       "      <td>10.0</td>\n",
       "    </tr>\n",
       "    <tr>\n",
       "      <th>UCL (University College London)</th>\n",
       "      <td>United Kingdom</td>\n",
       "      <td>Europe</td>\n",
       "      <td>7.0</td>\n",
       "      <td>16.0</td>\n",
       "      <td>11.5</td>\n",
       "    </tr>\n",
       "    <tr>\n",
       "      <th>Yale University</th>\n",
       "      <td>United States</td>\n",
       "      <td>North America</td>\n",
       "      <td>16.0</td>\n",
       "      <td>12.0</td>\n",
       "      <td>14.0</td>\n",
       "    </tr>\n",
       "    <tr>\n",
       "      <th>University of Pennsylvania</th>\n",
       "      <td>United States</td>\n",
       "      <td>North America</td>\n",
       "      <td>19.0</td>\n",
       "      <td>10.0</td>\n",
       "      <td>14.5</td>\n",
       "    </tr>\n",
       "    <tr>\n",
       "      <th>Johns Hopkins University</th>\n",
       "      <td>United States</td>\n",
       "      <td>North America</td>\n",
       "      <td>17.0</td>\n",
       "      <td>13.0</td>\n",
       "      <td>15.0</td>\n",
       "    </tr>\n",
       "    <tr>\n",
       "      <th>Columbia University</th>\n",
       "      <td>United States</td>\n",
       "      <td>North America</td>\n",
       "      <td>18.0</td>\n",
       "      <td>14.0</td>\n",
       "      <td>16.0</td>\n",
       "    </tr>\n",
       "    <tr>\n",
       "      <th>Cornell University</th>\n",
       "      <td>United States</td>\n",
       "      <td>North America</td>\n",
       "      <td>14.0</td>\n",
       "      <td>19.0</td>\n",
       "      <td>16.5</td>\n",
       "    </tr>\n",
       "    <tr>\n",
       "      <th>National University of Singapore (NUS)</th>\n",
       "      <td>Singapore</td>\n",
       "      <td>Asia</td>\n",
       "      <td>15.0</td>\n",
       "      <td>22.0</td>\n",
       "      <td>18.5</td>\n",
       "    </tr>\n",
       "    <tr>\n",
       "      <th>Duke University</th>\n",
       "      <td>United States</td>\n",
       "      <td>North America</td>\n",
       "      <td>21.0</td>\n",
       "      <td>17.0</td>\n",
       "      <td>19.0</td>\n",
       "    </tr>\n",
       "    <tr>\n",
       "      <th>University of Michigan</th>\n",
       "      <td>United States</td>\n",
       "      <td>North America</td>\n",
       "      <td>21.0</td>\n",
       "      <td>21.0</td>\n",
       "      <td>21.0</td>\n",
       "    </tr>\n",
       "    <tr>\n",
       "      <th>University of California, Berkeley (UCB)</th>\n",
       "      <td>United States</td>\n",
       "      <td>North America</td>\n",
       "      <td>27.0</td>\n",
       "      <td>18.0</td>\n",
       "      <td>22.5</td>\n",
       "    </tr>\n",
       "    <tr>\n",
       "      <th>Northwestern University</th>\n",
       "      <td>United States</td>\n",
       "      <td>North America</td>\n",
       "      <td>28.0</td>\n",
       "      <td>20.0</td>\n",
       "      <td>24.0</td>\n",
       "    </tr>\n",
       "    <tr>\n",
       "      <th>University of California, Los Angeles (UCLA)</th>\n",
       "      <td>United States</td>\n",
       "      <td>North America</td>\n",
       "      <td>33.0</td>\n",
       "      <td>15.0</td>\n",
       "      <td>24.0</td>\n",
       "    </tr>\n",
       "    <tr>\n",
       "      <th>The University of Edinburgh</th>\n",
       "      <td>United Kingdom</td>\n",
       "      <td>Europe</td>\n",
       "      <td>23.0</td>\n",
       "      <td>27.0</td>\n",
       "      <td>25.0</td>\n",
       "    </tr>\n",
       "    <tr>\n",
       "      <th>Ecole Polytechnique Fédérale de Lausanne (EPFL)</th>\n",
       "      <td>Switzerland</td>\n",
       "      <td>Europe</td>\n",
       "      <td>12.0</td>\n",
       "      <td>38.0</td>\n",
       "      <td>25.0</td>\n",
       "    </tr>\n",
       "    <tr>\n",
       "      <th>University of Toronto</th>\n",
       "      <td>Canada</td>\n",
       "      <td>North America</td>\n",
       "      <td>31.0</td>\n",
       "      <td>22.0</td>\n",
       "      <td>26.5</td>\n",
       "    </tr>\n",
       "    <tr>\n",
       "      <th>Tsinghua University</th>\n",
       "      <td>China</td>\n",
       "      <td>Asia</td>\n",
       "      <td>25.0</td>\n",
       "      <td>30.0</td>\n",
       "      <td>27.5</td>\n",
       "    </tr>\n",
       "    <tr>\n",
       "      <th>King's College London</th>\n",
       "      <td>United Kingdom</td>\n",
       "      <td>Europe</td>\n",
       "      <td>23.0</td>\n",
       "      <td>36.0</td>\n",
       "      <td>29.5</td>\n",
       "    </tr>\n",
       "    <tr>\n",
       "      <th>London School of Economics and Political Science (LSE)</th>\n",
       "      <td>United Kingdom</td>\n",
       "      <td>Europe</td>\n",
       "      <td>35.0</td>\n",
       "      <td>25.0</td>\n",
       "      <td>30.0</td>\n",
       "    </tr>\n",
       "    <tr>\n",
       "      <th>Nanyang Technological University, Singapore (NTU)</th>\n",
       "      <td>Singapore</td>\n",
       "      <td>Asia</td>\n",
       "      <td>11.0</td>\n",
       "      <td>52.0</td>\n",
       "      <td>31.5</td>\n",
       "    </tr>\n",
       "    <tr>\n",
       "      <th>Peking University</th>\n",
       "      <td>China</td>\n",
       "      <td>Asia</td>\n",
       "      <td>38.0</td>\n",
       "      <td>27.0</td>\n",
       "      <td>32.5</td>\n",
       "    </tr>\n",
       "    <tr>\n",
       "      <th>...</th>\n",
       "      <td>...</td>\n",
       "      <td>...</td>\n",
       "      <td>...</td>\n",
       "      <td>...</td>\n",
       "      <td>...</td>\n",
       "    </tr>\n",
       "    <tr>\n",
       "      <th>Indian Institute of Technology Delhi (IITD)</th>\n",
       "      <td>India</td>\n",
       "      <td>Asia</td>\n",
       "      <td>172.0</td>\n",
       "      <td>201.0</td>\n",
       "      <td>186.5</td>\n",
       "    </tr>\n",
       "    <tr>\n",
       "      <th>Rutgers, the State University of New Jersey</th>\n",
       "      <td>United States</td>\n",
       "      <td>North America</td>\n",
       "      <td>201.0</td>\n",
       "      <td>172.0</td>\n",
       "      <td>186.5</td>\n",
       "    </tr>\n",
       "    <tr>\n",
       "      <th>King Fahd University of Petroleum &amp; Minerals</th>\n",
       "      <td>Saudi Arabia</td>\n",
       "      <td>Asia</td>\n",
       "      <td>173.0</td>\n",
       "      <td>201.0</td>\n",
       "      <td>187.0</td>\n",
       "    </tr>\n",
       "    <tr>\n",
       "      <th>University of Münster</th>\n",
       "      <td>Germany</td>\n",
       "      <td>Europe</td>\n",
       "      <td>201.0</td>\n",
       "      <td>173.0</td>\n",
       "      <td>187.0</td>\n",
       "    </tr>\n",
       "    <tr>\n",
       "      <th>Scuola Normale Superiore di Pisa</th>\n",
       "      <td>Italy</td>\n",
       "      <td>Europe</td>\n",
       "      <td>192.0</td>\n",
       "      <td>184.0</td>\n",
       "      <td>188.0</td>\n",
       "    </tr>\n",
       "    <tr>\n",
       "      <th>University of Technology Sydney</th>\n",
       "      <td>Australia</td>\n",
       "      <td>Oceania</td>\n",
       "      <td>176.0</td>\n",
       "      <td>201.0</td>\n",
       "      <td>188.5</td>\n",
       "    </tr>\n",
       "    <tr>\n",
       "      <th>CentraleSupélec</th>\n",
       "      <td>France</td>\n",
       "      <td>Europe</td>\n",
       "      <td>177.0</td>\n",
       "      <td>201.0</td>\n",
       "      <td>189.0</td>\n",
       "    </tr>\n",
       "    <tr>\n",
       "      <th>Indian Institute of Technology Bombay (IITB)</th>\n",
       "      <td>India</td>\n",
       "      <td>Asia</td>\n",
       "      <td>179.0</td>\n",
       "      <td>201.0</td>\n",
       "      <td>190.0</td>\n",
       "    </tr>\n",
       "    <tr>\n",
       "      <th>University of Luxembourg</th>\n",
       "      <td>Luxembourg</td>\n",
       "      <td>Europe</td>\n",
       "      <td>201.0</td>\n",
       "      <td>179.0</td>\n",
       "      <td>190.0</td>\n",
       "    </tr>\n",
       "    <tr>\n",
       "      <th>Paris-Sud University</th>\n",
       "      <td>France</td>\n",
       "      <td>Europe</td>\n",
       "      <td>201.0</td>\n",
       "      <td>181.0</td>\n",
       "      <td>191.0</td>\n",
       "    </tr>\n",
       "    <tr>\n",
       "      <th>Vienna University of Technology</th>\n",
       "      <td>Austria</td>\n",
       "      <td>Europe</td>\n",
       "      <td>182.0</td>\n",
       "      <td>201.0</td>\n",
       "      <td>191.5</td>\n",
       "    </tr>\n",
       "    <tr>\n",
       "      <th>Universidade Estadual de Campinas (Unicamp)</th>\n",
       "      <td>Brazil</td>\n",
       "      <td>Latin America</td>\n",
       "      <td>182.0</td>\n",
       "      <td>201.0</td>\n",
       "      <td>191.5</td>\n",
       "    </tr>\n",
       "    <tr>\n",
       "      <th>University of Miami</th>\n",
       "      <td>United States</td>\n",
       "      <td>North America</td>\n",
       "      <td>201.0</td>\n",
       "      <td>186.0</td>\n",
       "      <td>193.5</td>\n",
       "    </tr>\n",
       "    <tr>\n",
       "      <th>Universidad Autónoma de Madrid</th>\n",
       "      <td>Spain</td>\n",
       "      <td>Europe</td>\n",
       "      <td>187.0</td>\n",
       "      <td>201.0</td>\n",
       "      <td>194.0</td>\n",
       "    </tr>\n",
       "    <tr>\n",
       "      <th>University of Dundee</th>\n",
       "      <td>United Kingdom</td>\n",
       "      <td>Europe</td>\n",
       "      <td>201.0</td>\n",
       "      <td>187.0</td>\n",
       "      <td>194.0</td>\n",
       "    </tr>\n",
       "    <tr>\n",
       "      <th>University of East Anglia</th>\n",
       "      <td>United Kingdom</td>\n",
       "      <td>Europe</td>\n",
       "      <td>201.0</td>\n",
       "      <td>188.0</td>\n",
       "      <td>194.5</td>\n",
       "    </tr>\n",
       "    <tr>\n",
       "      <th>Alma Mater Studiorum - University of Bologna</th>\n",
       "      <td>Italy</td>\n",
       "      <td>Europe</td>\n",
       "      <td>188.0</td>\n",
       "      <td>201.0</td>\n",
       "      <td>194.5</td>\n",
       "    </tr>\n",
       "    <tr>\n",
       "      <th>University of Reading</th>\n",
       "      <td>United Kingdom</td>\n",
       "      <td>Europe</td>\n",
       "      <td>188.0</td>\n",
       "      <td>201.0</td>\n",
       "      <td>194.5</td>\n",
       "    </tr>\n",
       "    <tr>\n",
       "      <th>Indian Institute of Science (IISc) Bangalore</th>\n",
       "      <td>India</td>\n",
       "      <td>Asia</td>\n",
       "      <td>190.0</td>\n",
       "      <td>201.0</td>\n",
       "      <td>195.5</td>\n",
       "    </tr>\n",
       "    <tr>\n",
       "      <th>University of Massachusetts</th>\n",
       "      <td>United States</td>\n",
       "      <td>North America</td>\n",
       "      <td>201.0</td>\n",
       "      <td>191.0</td>\n",
       "      <td>196.0</td>\n",
       "    </tr>\n",
       "    <tr>\n",
       "      <th>Keio University CEMS MIM</th>\n",
       "      <td>Japan</td>\n",
       "      <td>Asia</td>\n",
       "      <td>192.0</td>\n",
       "      <td>201.0</td>\n",
       "      <td>196.5</td>\n",
       "    </tr>\n",
       "    <tr>\n",
       "      <th>Northeastern University</th>\n",
       "      <td>United States</td>\n",
       "      <td>North America</td>\n",
       "      <td>201.0</td>\n",
       "      <td>193.0</td>\n",
       "      <td>197.0</td>\n",
       "    </tr>\n",
       "    <tr>\n",
       "      <th>Lomonosov Moscow State University</th>\n",
       "      <td>Russian Federation</td>\n",
       "      <td>Europe</td>\n",
       "      <td>201.0</td>\n",
       "      <td>194.0</td>\n",
       "      <td>197.5</td>\n",
       "    </tr>\n",
       "    <tr>\n",
       "      <th>Tilburg University</th>\n",
       "      <td>Netherlands</td>\n",
       "      <td>Europe</td>\n",
       "      <td>201.0</td>\n",
       "      <td>195.0</td>\n",
       "      <td>198.0</td>\n",
       "    </tr>\n",
       "    <tr>\n",
       "      <th>Paris-Sorbonne University – Paris 4</th>\n",
       "      <td>France</td>\n",
       "      <td>Europe</td>\n",
       "      <td>201.0</td>\n",
       "      <td>196.0</td>\n",
       "      <td>198.5</td>\n",
       "    </tr>\n",
       "    <tr>\n",
       "      <th>Royal Holloway, University of London</th>\n",
       "      <td>United Kingdom</td>\n",
       "      <td>Europe</td>\n",
       "      <td>201.0</td>\n",
       "      <td>197.0</td>\n",
       "      <td>199.0</td>\n",
       "    </tr>\n",
       "    <tr>\n",
       "      <th>University of California, Riverside</th>\n",
       "      <td>United States</td>\n",
       "      <td>North America</td>\n",
       "      <td>201.0</td>\n",
       "      <td>198.0</td>\n",
       "      <td>199.5</td>\n",
       "    </tr>\n",
       "    <tr>\n",
       "      <th>University of Gothenburg</th>\n",
       "      <td>Sweden</td>\n",
       "      <td>Europe</td>\n",
       "      <td>201.0</td>\n",
       "      <td>198.0</td>\n",
       "      <td>199.5</td>\n",
       "    </tr>\n",
       "    <tr>\n",
       "      <th>Instituto Tecnológico y de Estudios Superiores de Monterrey</th>\n",
       "      <td>Mexico</td>\n",
       "      <td>Latin America</td>\n",
       "      <td>199.0</td>\n",
       "      <td>201.0</td>\n",
       "      <td>200.0</td>\n",
       "    </tr>\n",
       "    <tr>\n",
       "      <th>Universidad de Chile</th>\n",
       "      <td>Chile</td>\n",
       "      <td>Latin America</td>\n",
       "      <td>201.0</td>\n",
       "      <td>201.0</td>\n",
       "      <td>201.0</td>\n",
       "    </tr>\n",
       "  </tbody>\n",
       "</table>\n",
       "<p>241 rows × 5 columns</p>\n",
       "</div>"
      ],
      "text/plain": [
       "                                                               country  \\\n",
       "name                                                                     \n",
       "Stanford University                                      United States   \n",
       "Massachusetts Institute of Technology (MIT)              United States   \n",
       "California Institute of Technology (Caltech)             United States   \n",
       "University of Cambridge                                 United Kingdom   \n",
       "University of Oxford                                    United Kingdom   \n",
       "Harvard University                                       United States   \n",
       "Imperial College London                                 United Kingdom   \n",
       "University of Chicago                                    United States   \n",
       "ETH Zurich - Swiss Federal Institute of Technology         Switzerland   \n",
       "Princeton University                                     United States   \n",
       "UCL (University College London)                         United Kingdom   \n",
       "Yale University                                          United States   \n",
       "University of Pennsylvania                               United States   \n",
       "Johns Hopkins University                                 United States   \n",
       "Columbia University                                      United States   \n",
       "Cornell University                                       United States   \n",
       "National University of Singapore (NUS)                       Singapore   \n",
       "Duke University                                          United States   \n",
       "University of Michigan                                   United States   \n",
       "University of California, Berkeley (UCB)                 United States   \n",
       "Northwestern University                                  United States   \n",
       "University of California, Los Angeles (UCLA)             United States   \n",
       "The University of Edinburgh                             United Kingdom   \n",
       "Ecole Polytechnique Fédérale de Lausanne (EPFL)            Switzerland   \n",
       "University of Toronto                                           Canada   \n",
       "Tsinghua University                                              China   \n",
       "King's College London                                   United Kingdom   \n",
       "London School of Economics and Political Scienc...      United Kingdom   \n",
       "Nanyang Technological University, Singapore (NTU)            Singapore   \n",
       "Peking University                                                China   \n",
       "...                                                                ...   \n",
       "Indian Institute of Technology Delhi (IITD)                      India   \n",
       "Rutgers, the State University of New Jersey              United States   \n",
       "King Fahd University of Petroleum & Minerals              Saudi Arabia   \n",
       "University of Münster                                          Germany   \n",
       "Scuola Normale Superiore di Pisa                                 Italy   \n",
       "University of Technology Sydney                              Australia   \n",
       "CentraleSupélec                                                 France   \n",
       "Indian Institute of Technology Bombay (IITB)                     India   \n",
       "University of Luxembourg                                    Luxembourg   \n",
       "Paris-Sud University                                            France   \n",
       "Vienna University of Technology                                Austria   \n",
       "Universidade Estadual de Campinas (Unicamp)                     Brazil   \n",
       "University of Miami                                      United States   \n",
       "Universidad Autónoma de Madrid                                   Spain   \n",
       "University of Dundee                                    United Kingdom   \n",
       "University of East Anglia                               United Kingdom   \n",
       "Alma Mater Studiorum - University of Bologna                     Italy   \n",
       "University of Reading                                   United Kingdom   \n",
       "Indian Institute of Science (IISc) Bangalore                     India   \n",
       "University of Massachusetts                              United States   \n",
       "Keio University CEMS MIM                                         Japan   \n",
       "Northeastern University                                  United States   \n",
       "Lomonosov Moscow State University                   Russian Federation   \n",
       "Tilburg University                                         Netherlands   \n",
       "Paris-Sorbonne University – Paris 4                             France   \n",
       "Royal Holloway, University of London                    United Kingdom   \n",
       "University of California, Riverside                      United States   \n",
       "University of Gothenburg                                        Sweden   \n",
       "Instituto Tecnológico y de Estudios Superiores ...              Mexico   \n",
       "Universidad de Chile                                             Chile   \n",
       "\n",
       "                                                           region  rank_tu  \\\n",
       "name                                                                         \n",
       "Stanford University                                 North America      2.0   \n",
       "Massachusetts Institute of Technology (MIT)         North America      1.0   \n",
       "California Institute of Technology (Caltech)        North America      4.0   \n",
       "University of Cambridge                                    Europe      5.0   \n",
       "University of Oxford                                       Europe      6.0   \n",
       "Harvard University                                  North America      3.0   \n",
       "Imperial College London                                    Europe      8.0   \n",
       "University of Chicago                               North America      9.0   \n",
       "ETH Zurich - Swiss Federal Institute of Technology         Europe     10.0   \n",
       "Princeton University                                North America     13.0   \n",
       "UCL (University College London)                            Europe      7.0   \n",
       "Yale University                                     North America     16.0   \n",
       "University of Pennsylvania                          North America     19.0   \n",
       "Johns Hopkins University                            North America     17.0   \n",
       "Columbia University                                 North America     18.0   \n",
       "Cornell University                                  North America     14.0   \n",
       "National University of Singapore (NUS)                       Asia     15.0   \n",
       "Duke University                                     North America     21.0   \n",
       "University of Michigan                              North America     21.0   \n",
       "University of California, Berkeley (UCB)            North America     27.0   \n",
       "Northwestern University                             North America     28.0   \n",
       "University of California, Los Angeles (UCLA)        North America     33.0   \n",
       "The University of Edinburgh                                Europe     23.0   \n",
       "Ecole Polytechnique Fédérale de Lausanne (EPFL)            Europe     12.0   \n",
       "University of Toronto                               North America     31.0   \n",
       "Tsinghua University                                          Asia     25.0   \n",
       "King's College London                                      Europe     23.0   \n",
       "London School of Economics and Political Scienc...         Europe     35.0   \n",
       "Nanyang Technological University, Singapore (NTU)            Asia     11.0   \n",
       "Peking University                                            Asia     38.0   \n",
       "...                                                           ...      ...   \n",
       "Indian Institute of Technology Delhi (IITD)                  Asia    172.0   \n",
       "Rutgers, the State University of New Jersey         North America    201.0   \n",
       "King Fahd University of Petroleum & Minerals                 Asia    173.0   \n",
       "University of Münster                                      Europe    201.0   \n",
       "Scuola Normale Superiore di Pisa                           Europe    192.0   \n",
       "University of Technology Sydney                           Oceania    176.0   \n",
       "CentraleSupélec                                            Europe    177.0   \n",
       "Indian Institute of Technology Bombay (IITB)                 Asia    179.0   \n",
       "University of Luxembourg                                   Europe    201.0   \n",
       "Paris-Sud University                                       Europe    201.0   \n",
       "Vienna University of Technology                            Europe    182.0   \n",
       "Universidade Estadual de Campinas (Unicamp)         Latin America    182.0   \n",
       "University of Miami                                 North America    201.0   \n",
       "Universidad Autónoma de Madrid                             Europe    187.0   \n",
       "University of Dundee                                       Europe    201.0   \n",
       "University of East Anglia                                  Europe    201.0   \n",
       "Alma Mater Studiorum - University of Bologna               Europe    188.0   \n",
       "University of Reading                                      Europe    188.0   \n",
       "Indian Institute of Science (IISc) Bangalore                 Asia    190.0   \n",
       "University of Massachusetts                         North America    201.0   \n",
       "Keio University CEMS MIM                                     Asia    192.0   \n",
       "Northeastern University                             North America    201.0   \n",
       "Lomonosov Moscow State University                          Europe    201.0   \n",
       "Tilburg University                                         Europe    201.0   \n",
       "Paris-Sorbonne University – Paris 4                        Europe    201.0   \n",
       "Royal Holloway, University of London                       Europe    201.0   \n",
       "University of California, Riverside                 North America    201.0   \n",
       "University of Gothenburg                                   Europe    201.0   \n",
       "Instituto Tecnológico y de Estudios Superiores ...  Latin America    199.0   \n",
       "Universidad de Chile                                Latin America    201.0   \n",
       "\n",
       "                                                    rank_the  rank_mean  \n",
       "name                                                                     \n",
       "Stanford University                                      3.0        2.5  \n",
       "Massachusetts Institute of Technology (MIT)              5.0        3.0  \n",
       "California Institute of Technology (Caltech)             3.0        3.5  \n",
       "University of Cambridge                                  2.0        3.5  \n",
       "University of Oxford                                     1.0        3.5  \n",
       "Harvard University                                       6.0        4.5  \n",
       "Imperial College London                                  8.0        8.0  \n",
       "University of Chicago                                    9.0        9.0  \n",
       "ETH Zurich - Swiss Federal Institute of Technology      10.0       10.0  \n",
       "Princeton University                                     7.0       10.0  \n",
       "UCL (University College London)                         16.0       11.5  \n",
       "Yale University                                         12.0       14.0  \n",
       "University of Pennsylvania                              10.0       14.5  \n",
       "Johns Hopkins University                                13.0       15.0  \n",
       "Columbia University                                     14.0       16.0  \n",
       "Cornell University                                      19.0       16.5  \n",
       "National University of Singapore (NUS)                  22.0       18.5  \n",
       "Duke University                                         17.0       19.0  \n",
       "University of Michigan                                  21.0       21.0  \n",
       "University of California, Berkeley (UCB)                18.0       22.5  \n",
       "Northwestern University                                 20.0       24.0  \n",
       "University of California, Los Angeles (UCLA)            15.0       24.0  \n",
       "The University of Edinburgh                             27.0       25.0  \n",
       "Ecole Polytechnique Fédérale de Lausanne (EPFL)         38.0       25.0  \n",
       "University of Toronto                                   22.0       26.5  \n",
       "Tsinghua University                                     30.0       27.5  \n",
       "King's College London                                   36.0       29.5  \n",
       "London School of Economics and Political Scienc...      25.0       30.0  \n",
       "Nanyang Technological University, Singapore (NTU)       52.0       31.5  \n",
       "Peking University                                       27.0       32.5  \n",
       "...                                                      ...        ...  \n",
       "Indian Institute of Technology Delhi (IITD)            201.0      186.5  \n",
       "Rutgers, the State University of New Jersey            172.0      186.5  \n",
       "King Fahd University of Petroleum & Minerals           201.0      187.0  \n",
       "University of Münster                                  173.0      187.0  \n",
       "Scuola Normale Superiore di Pisa                       184.0      188.0  \n",
       "University of Technology Sydney                        201.0      188.5  \n",
       "CentraleSupélec                                        201.0      189.0  \n",
       "Indian Institute of Technology Bombay (IITB)           201.0      190.0  \n",
       "University of Luxembourg                               179.0      190.0  \n",
       "Paris-Sud University                                   181.0      191.0  \n",
       "Vienna University of Technology                        201.0      191.5  \n",
       "Universidade Estadual de Campinas (Unicamp)            201.0      191.5  \n",
       "University of Miami                                    186.0      193.5  \n",
       "Universidad Autónoma de Madrid                         201.0      194.0  \n",
       "University of Dundee                                   187.0      194.0  \n",
       "University of East Anglia                              188.0      194.5  \n",
       "Alma Mater Studiorum - University of Bologna           201.0      194.5  \n",
       "University of Reading                                  201.0      194.5  \n",
       "Indian Institute of Science (IISc) Bangalore           201.0      195.5  \n",
       "University of Massachusetts                            191.0      196.0  \n",
       "Keio University CEMS MIM                               201.0      196.5  \n",
       "Northeastern University                                193.0      197.0  \n",
       "Lomonosov Moscow State University                      194.0      197.5  \n",
       "Tilburg University                                     195.0      198.0  \n",
       "Paris-Sorbonne University – Paris 4                    196.0      198.5  \n",
       "Royal Holloway, University of London                   197.0      199.0  \n",
       "University of California, Riverside                    198.0      199.5  \n",
       "University of Gothenburg                               198.0      199.5  \n",
       "Instituto Tecnológico y de Estudios Superiores ...     201.0      200.0  \n",
       "Universidad de Chile                                   201.0      201.0  \n",
       "\n",
       "[241 rows x 5 columns]"
      ]
     },
     "execution_count": 371,
     "metadata": {},
     "output_type": "execute_result"
    }
   ],
   "source": [
    "final_ranking.set_index(\"name\")"
   ]
  },
  {
   "cell_type": "markdown",
   "metadata": {},
   "source": [
    "## Part 4\n",
    "### Analysis of our data"
   ]
  },
  {
   "cell_type": "markdown",
   "metadata": {},
   "source": [
    "To start with this part, we thought that it could be interesting to look at the top 100 unis of both rankings and focus on the part that the USA and UK take."
   ]
  },
  {
   "cell_type": "code",
   "execution_count": 351,
   "metadata": {},
   "outputs": [
    {
     "data": {
      "image/png": "[encoded data removed]",
      "text/plain": [
       "<matplotlib.figure.Figure at 0x123b1e668>"
      ]
     },
     "metadata": {},
     "output_type": "display_data"
    }
   ],
   "source": [
    "country_count_the = ranking_the.iloc[:100].groupby(\"country\")['name'].count().sort_values(ascending=False).rename(\"\")\n",
    "country_count_tu = ranking_tu.iloc[:100].groupby(\"country\")['name'].count().sort_values(ascending=False).rename(\"\")\n",
    "#country_count_the.head(10).plot.pie()\n",
    "\n",
    "f, ax = plt.subplots(1,2, figsize=(16,8))\n",
    "\n",
    "country_count_tu.plot(ax=ax[0],kind='pie',title=\"Top Universities\")\n",
    "country_count_the.plot(ax=ax[1],kind='pie',title=\"Times Higher Eductation\")\n",
    "\n",
    "plt.show()"
   ]
  },
  {
   "cell_type": "markdown",
   "metadata": {},
   "source": [
    "Indeed, although it is a pretty obvious finding, the pies help us to see how both US and UK dominate the top ranks of the worldwide university rankings."
   ]
  },
  {
   "cell_type": "markdown",
   "metadata": {},
   "source": [
    "Now focusing on correlation,\n",
    "\n",
    "In order to plot multiple linear regressions and highlight the correlation, a method is created :"
   ]
  },
  {
   "cell_type": "code",
   "execution_count": 375,
   "metadata": {
    "collapsed": true
   },
   "outputs": [],
   "source": [
    "# Input : two pd.Series to compare\n",
    "# Plot a linear regression with the correlation factor\n",
    "def plot_regression(data_x, data_y, title, x_reverse=False) :\n",
    "    \n",
    "    data_x= data_x.sort_values(ascending= not x_reverse)\n",
    "    corr = ' (correlation factor: '+ str(round(data_y.corr(data_x),2)) + ')'\n",
    "    title += str(corr)\n",
    "    fig, ax = plt.subplots()\n",
    "    ax= sns.regplot(data_x,data_y)\n",
    "    ax.set_title(title, fontsize=14)\n",
    "    plt.show()\n",
    "    "
   ]
  },
  {
   "cell_type": "markdown",
   "metadata": {},
   "source": [
    "Let's compare the behaviour of the rank of universities compared to their international student ratio for the Top Universities ranking :"
   ]
  },
  {
   "cell_type": "code",
   "execution_count": 376,
   "metadata": {},
   "outputs": [
    {
     "data": {
      "image/png": "[encoded data removed]",
      "text/plain": [
       "<matplotlib.figure.Figure at 0x1249512b0>"
      ]
     },
     "metadata": {},
     "output_type": "display_data"
    }
   ],
   "source": [
    "plot_regression(ranking_tu['rank'],ranking_tu['student_rat'],'rank vs international student ratio') "
   ]
  },
  {
   "cell_type": "markdown",
   "metadata": {},
   "source": [
    "It seems that the higher the international student ratio is, the better the uni is ranked. However, the correlation is not really close to 1, which means that this hypothesis is not the most interesting one, although it highlights a light tendency.\n",
    "\n",
    "However, the relation is less clear in the second ranking THE. A really light tendency can still be seen :"
   ]
  },
  {
   "cell_type": "code",
   "execution_count": 377,
   "metadata": {},
   "outputs": [
    {
     "data": {
      "image/png": "[encoded data removed]",
      "text/plain": [
       "<matplotlib.figure.Figure at 0x11e900198>"
      ]
     },
     "metadata": {},
     "output_type": "display_data"
    }
   ],
   "source": [
    "plot_regression(ranking_the['rank'],ranking_the['student_rat'],'rank vs international student ratio') "
   ]
  },
  {
   "cell_type": "markdown",
   "metadata": {},
   "source": [
    "Now comparing student-to staff ratio versus rank, we could expect that the higher the ratio is, the better ranked the uni could be, since the students would have more resources through a greater amount of staff employees, or that the higher the ranking, the more funds the uni have and can therefore employ more staff :"
   ]
  },
  {
   "cell_type": "code",
   "execution_count": 378,
   "metadata": {},
   "outputs": [
    {
     "data": {
      "image/png": "[encoded data removed]",
      "text/plain": [
       "<matplotlib.figure.Figure at 0x124562978>"
      ]
     },
     "metadata": {},
     "output_type": "display_data"
    }
   ],
   "source": [
    "plot_regression(ranking_tu['rank'],ranking_tu['student_staff_rat'],'rank vs student/staff ratio for TU') "
   ]
  },
  {
   "cell_type": "markdown",
   "metadata": {},
   "source": [
    "Indeed it seems to be the case that better universities tend to have a lower student/staff ratio. This could be explained partly with both hypothesis stated just before. Another hypothesis could be that the TU ranking bases itself on the student/staff ratio as one of the ranking criteria.\n",
    "\n",
    "Looking at the THE ranking, the correlation is quite smaller and no real hypothesis and conclusions can be made. This could emphasize our hypothesis stated above, where opposite to TU, THE ranks according to criteria not closely related to the student/staff ratio."
   ]
  },
  {
   "cell_type": "code",
   "execution_count": 379,
   "metadata": {},
   "outputs": [
    {
     "data": {
      "image/png": "[encoded data removed]",
      "text/plain": [
       "<matplotlib.figure.Figure at 0x124acaa58>"
      ]
     },
     "metadata": {},
     "output_type": "display_data"
    }
   ],
   "source": [
    "plot_regression(ranking_the['rank'],ranking_the['student_staff_rat'],'rank vs student/staff ratio for THE') "
   ]
  },
  {
   "cell_type": "markdown",
   "metadata": {},
   "source": [
    "We can also take a look on the universities rank correlation  between the two rankings : "
   ]
  },
  {
   "cell_type": "code",
   "execution_count": 380,
   "metadata": {},
   "outputs": [
    {
     "data": {
      "text/html": [
       "<div>\n",
       "<style>\n",
       "    .dataframe thead tr:only-child th {\n",
       "        text-align: right;\n",
       "    }\n",
       "\n",
       "    .dataframe thead th {\n",
       "        text-align: left;\n",
       "    }\n",
       "\n",
       "    .dataframe tbody tr th {\n",
       "        vertical-align: top;\n",
       "    }\n",
       "</style>\n",
       "<table border=\"1\" class=\"dataframe\">\n",
       "  <thead>\n",
       "    <tr style=\"text-align: right;\">\n",
       "      <th></th>\n",
       "      <th>rank_tu</th>\n",
       "      <th>rank_the</th>\n",
       "    </tr>\n",
       "  </thead>\n",
       "  <tbody>\n",
       "    <tr>\n",
       "      <th>rank_tu</th>\n",
       "      <td>1.000000</td>\n",
       "      <td>0.673972</td>\n",
       "    </tr>\n",
       "    <tr>\n",
       "      <th>rank_the</th>\n",
       "      <td>0.673972</td>\n",
       "      <td>1.000000</td>\n",
       "    </tr>\n",
       "  </tbody>\n",
       "</table>\n",
       "</div>"
      ],
      "text/plain": [
       "           rank_tu  rank_the\n",
       "rank_tu   1.000000  0.673972\n",
       "rank_the  0.673972  1.000000"
      ]
     },
     "execution_count": 380,
     "metadata": {},
     "output_type": "execute_result"
    }
   ],
   "source": [
    "correlation_rank = final_ranking.drop('rank_mean',axis=1).corr()\n",
    "correlation_rank"
   ]
  },
  {
   "cell_type": "markdown",
   "metadata": {},
   "source": [
    "Finally, if we look at the correlation between the ranks of the two different rankings, we can see that the value is around 0,7. This value is indeed quite high, which might be reassuring on the professionalism of both ranking authorities, making at the same time the process of considering different rankings more relevant, since those rankings share a certain amount of results."
   ]
  },
  {
   "cell_type": "markdown",
   "metadata": {},
   "source": [
    "## Part 5"
   ]
  },
  {
   "cell_type": "markdown",
   "metadata": {},
   "source": [
    "As seen before with the final ranking, we decided to give the same weight to both THE and TU rankings by just inserting a column in the merged DataFrame containing the **mean rank**. There is for us no particular reason to give one ranking more importance than the other. In fact, one should look at both and compare the rankings, taking into account the different characteristics and approaches than the respective authorities took in order to produce their ranking.\n",
    "\n",
    "The final combined rank can be seen below :"
   ]
  },
  {
   "cell_type": "code",
   "execution_count": 382,
   "metadata": {},
   "outputs": [
    {
     "data": {
      "text/html": [
       "<div>\n",
       "<style>\n",
       "    .dataframe thead tr:only-child th {\n",
       "        text-align: right;\n",
       "    }\n",
       "\n",
       "    .dataframe thead th {\n",
       "        text-align: left;\n",
       "    }\n",
       "\n",
       "    .dataframe tbody tr th {\n",
       "        vertical-align: top;\n",
       "    }\n",
       "</style>\n",
       "<table border=\"1\" class=\"dataframe\">\n",
       "  <thead>\n",
       "    <tr style=\"text-align: right;\">\n",
       "      <th></th>\n",
       "      <th>name</th>\n",
       "    </tr>\n",
       "    <tr>\n",
       "      <th>combined_rank</th>\n",
       "      <th></th>\n",
       "    </tr>\n",
       "  </thead>\n",
       "  <tbody>\n",
       "    <tr>\n",
       "      <th>1</th>\n",
       "      <td>Stanford University</td>\n",
       "    </tr>\n",
       "    <tr>\n",
       "      <th>2</th>\n",
       "      <td>Massachusetts Institute of Technology (MIT)</td>\n",
       "    </tr>\n",
       "    <tr>\n",
       "      <th>3</th>\n",
       "      <td>California Institute of Technology (Caltech)</td>\n",
       "    </tr>\n",
       "    <tr>\n",
       "      <th>4</th>\n",
       "      <td>University of Cambridge</td>\n",
       "    </tr>\n",
       "    <tr>\n",
       "      <th>5</th>\n",
       "      <td>University of Oxford</td>\n",
       "    </tr>\n",
       "    <tr>\n",
       "      <th>6</th>\n",
       "      <td>Harvard University</td>\n",
       "    </tr>\n",
       "    <tr>\n",
       "      <th>7</th>\n",
       "      <td>Imperial College London</td>\n",
       "    </tr>\n",
       "    <tr>\n",
       "      <th>8</th>\n",
       "      <td>University of Chicago</td>\n",
       "    </tr>\n",
       "    <tr>\n",
       "      <th>9</th>\n",
       "      <td>ETH Zurich - Swiss Federal Institute of Techno...</td>\n",
       "    </tr>\n",
       "    <tr>\n",
       "      <th>10</th>\n",
       "      <td>Princeton University</td>\n",
       "    </tr>\n",
       "    <tr>\n",
       "      <th>11</th>\n",
       "      <td>UCL (University College London)</td>\n",
       "    </tr>\n",
       "    <tr>\n",
       "      <th>12</th>\n",
       "      <td>Yale University</td>\n",
       "    </tr>\n",
       "    <tr>\n",
       "      <th>13</th>\n",
       "      <td>University of Pennsylvania</td>\n",
       "    </tr>\n",
       "    <tr>\n",
       "      <th>14</th>\n",
       "      <td>Johns Hopkins University</td>\n",
       "    </tr>\n",
       "    <tr>\n",
       "      <th>15</th>\n",
       "      <td>Columbia University</td>\n",
       "    </tr>\n",
       "    <tr>\n",
       "      <th>16</th>\n",
       "      <td>Cornell University</td>\n",
       "    </tr>\n",
       "    <tr>\n",
       "      <th>17</th>\n",
       "      <td>National University of Singapore (NUS)</td>\n",
       "    </tr>\n",
       "    <tr>\n",
       "      <th>18</th>\n",
       "      <td>Duke University</td>\n",
       "    </tr>\n",
       "    <tr>\n",
       "      <th>19</th>\n",
       "      <td>University of Michigan</td>\n",
       "    </tr>\n",
       "    <tr>\n",
       "      <th>20</th>\n",
       "      <td>University of California, Berkeley (UCB)</td>\n",
       "    </tr>\n",
       "  </tbody>\n",
       "</table>\n",
       "</div>"
      ],
      "text/plain": [
       "                                                            name\n",
       "combined_rank                                                   \n",
       "1                                            Stanford University\n",
       "2                    Massachusetts Institute of Technology (MIT)\n",
       "3                   California Institute of Technology (Caltech)\n",
       "4                                        University of Cambridge\n",
       "5                                           University of Oxford\n",
       "6                                             Harvard University\n",
       "7                                        Imperial College London\n",
       "8                                          University of Chicago\n",
       "9              ETH Zurich - Swiss Federal Institute of Techno...\n",
       "10                                          Princeton University\n",
       "11                               UCL (University College London)\n",
       "12                                               Yale University\n",
       "13                                    University of Pennsylvania\n",
       "14                                      Johns Hopkins University\n",
       "15                                           Columbia University\n",
       "16                                            Cornell University\n",
       "17                        National University of Singapore (NUS)\n",
       "18                                               Duke University\n",
       "19                                        University of Michigan\n",
       "20                      University of California, Berkeley (UCB)"
      ]
     },
     "execution_count": 382,
     "metadata": {},
     "output_type": "execute_result"
    }
   ],
   "source": [
    "optimal_ranking = final_ranking[:200].copy()\n",
    "optimal_ranking['combined_rank'] = range(1,201)\n",
    "opt = optimal_ranking[['name']].set_index(optimal_ranking['combined_rank'])\n",
    "opt.head(20)"
   ]
  }
 ],
 "metadata": {
  "kernelspec": {
   "display_name": "Python [default]",
   "language": "python",
   "name": "python3"
  },
  "language_info": {
   "codemirror_mode": {
    "name": "ipython",
    "version": 3
   },
   "file_extension": ".py",
   "mimetype": "text/x-python",
   "name": "python",
   "nbconvert_exporter": "python",
   "pygments_lexer": "ipython3",
   "version": "3.6.1"
  }
 },
 "nbformat": 4,
 "nbformat_minor": 2
}
